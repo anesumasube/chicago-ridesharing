{
  "nbformat": 4,
  "nbformat_minor": 0,
  "metadata": {
    "colab": {
      "name": "Chicago EDA.ipynb",
      "provenance": [],
      "machine_shape": "hm",
      "authorship_tag": "ABX9TyMcHzEXrCXLVLNCe2wa361P",
      "include_colab_link": true
    },
    "kernelspec": {
      "name": "python3",
      "display_name": "Python 3"
    },
    "accelerator": "GPU"
  },
  "cells": [
    {
      "cell_type": "markdown",
      "metadata": {
        "id": "view-in-github",
        "colab_type": "text"
      },
      "source": [
        "<a href=\"https://colab.research.google.com/github/muoyo/chicago-ridesharing/blob/anesu/Chicago_EDA.ipynb\" target=\"_parent\"><img src=\"https://colab.research.google.com/assets/colab-badge.svg\" alt=\"Open In Colab\"/></a>"
      ]
    },
    {
      "cell_type": "code",
      "metadata": {
        "id": "g_eRDrPTaWTC",
        "colab_type": "code",
        "outputId": "5367f875-2ce7-460a-d7f7-61bd9e478081",
        "colab": {
          "base_uri": "https://localhost:8080/",
          "height": 170
        }
      },
      "source": [
        "!pip install sodapy"
      ],
      "execution_count": 1,
      "outputs": [
        {
          "output_type": "stream",
          "text": [
            "Collecting sodapy\n",
            "  Downloading https://files.pythonhosted.org/packages/64/06/6144b36a4b4470bef1fb17d7b98b82a202b5e918f7e0a2c123004f73ca07/sodapy-2.0.0-py2.py3-none-any.whl\n",
            "Requirement already satisfied: requests>=2.20.0 in /usr/local/lib/python3.6/dist-packages (from sodapy) (2.21.0)\n",
            "Requirement already satisfied: urllib3<1.25,>=1.21.1 in /usr/local/lib/python3.6/dist-packages (from requests>=2.20.0->sodapy) (1.24.3)\n",
            "Requirement already satisfied: idna<2.9,>=2.5 in /usr/local/lib/python3.6/dist-packages (from requests>=2.20.0->sodapy) (2.8)\n",
            "Requirement already satisfied: chardet<3.1.0,>=3.0.2 in /usr/local/lib/python3.6/dist-packages (from requests>=2.20.0->sodapy) (3.0.4)\n",
            "Requirement already satisfied: certifi>=2017.4.17 in /usr/local/lib/python3.6/dist-packages (from requests>=2.20.0->sodapy) (2019.11.28)\n",
            "Installing collected packages: sodapy\n",
            "Successfully installed sodapy-2.0.0\n"
          ],
          "name": "stdout"
        }
      ]
    },
    {
      "cell_type": "code",
      "metadata": {
        "id": "vTK53gnVZ6zr",
        "colab_type": "code",
        "colab": {}
      },
      "source": [
        "#!/usr/bin/env python\n",
        "\n",
        "# make sure to install these packages before running:\n",
        "# pip install pandas\n",
        "# pip install sodapy\n",
        "\n",
        "import pandas as pd\n",
        "from sodapy import Socrata\n",
        "\n",
        "# Unauthenticated client only works with public data sets. Note 'None'\n",
        "# in place of application token, and no username or password:\n",
        "#client = Socrata(\"data.cityofchicago.org\", None, timeout=100)\n",
        "\n",
        "#Example authenticated client (needed for non-public datasets):\n",
        "client = Socrata(\"data.cityofchicago.org\",\n",
        "                 \"N0amD6E3UkUmVTl5nFWXbIyl4\",\n",
        "                 username=\"anesumasube@gmail.com\",\n",
        "                 password=\"Marywandi11!\", timeout=1000)\n",
        "\n",
        "# First 2000 results, returned as JSON from API / converted to Python list of\n",
        "# dictionaries by sodapy.\n",
        "results = client.get(\"m6dm-c72p\",limit=1000000, select='trip_id, trip_start_timestamp, trip_end_timestamp, trip_seconds, trip_miles, pickup_community_area, dropoff_community_area, fare, tip, additional_charges, trip_total ')\n",
        "# Convert to pandas DataFrame\n",
        "results_df = pd.DataFrame.from_records(results)"
      ],
      "execution_count": 0,
      "outputs": []
    },
    {
      "cell_type": "code",
      "metadata": {
        "id": "rJw7lk_qaVym",
        "colab_type": "code",
        "outputId": "eb417324-7396-4835-d4b2-af12cfa4488b",
        "colab": {
          "base_uri": "https://localhost:8080/",
          "height": 210
        }
      },
      "source": [
        "results_df.describe()"
      ],
      "execution_count": 3,
      "outputs": [
        {
          "output_type": "execute_result",
          "data": {
            "text/html": [
              "<div>\n",
              "<style scoped>\n",
              "    .dataframe tbody tr th:only-of-type {\n",
              "        vertical-align: middle;\n",
              "    }\n",
              "\n",
              "    .dataframe tbody tr th {\n",
              "        vertical-align: top;\n",
              "    }\n",
              "\n",
              "    .dataframe thead th {\n",
              "        text-align: right;\n",
              "    }\n",
              "</style>\n",
              "<table border=\"1\" class=\"dataframe\">\n",
              "  <thead>\n",
              "    <tr style=\"text-align: right;\">\n",
              "      <th></th>\n",
              "      <th>trip_id</th>\n",
              "      <th>trip_start_timestamp</th>\n",
              "      <th>trip_end_timestamp</th>\n",
              "      <th>trip_seconds</th>\n",
              "      <th>trip_miles</th>\n",
              "      <th>pickup_community_area</th>\n",
              "      <th>dropoff_community_area</th>\n",
              "      <th>fare</th>\n",
              "      <th>tip</th>\n",
              "      <th>additional_charges</th>\n",
              "      <th>trip_total</th>\n",
              "    </tr>\n",
              "  </thead>\n",
              "  <tbody>\n",
              "    <tr>\n",
              "      <th>count</th>\n",
              "      <td>1000000</td>\n",
              "      <td>1000000</td>\n",
              "      <td>1000000</td>\n",
              "      <td>992543</td>\n",
              "      <td>999915</td>\n",
              "      <td>938493</td>\n",
              "      <td>931130</td>\n",
              "      <td>1000000</td>\n",
              "      <td>1000000</td>\n",
              "      <td>1000000</td>\n",
              "      <td>1000000</td>\n",
              "    </tr>\n",
              "    <tr>\n",
              "      <th>unique</th>\n",
              "      <td>1000000</td>\n",
              "      <td>8889</td>\n",
              "      <td>8891</td>\n",
              "      <td>4988</td>\n",
              "      <td>736722</td>\n",
              "      <td>77</td>\n",
              "      <td>77</td>\n",
              "      <td>107</td>\n",
              "      <td>48</td>\n",
              "      <td>1357</td>\n",
              "      <td>8620</td>\n",
              "    </tr>\n",
              "    <tr>\n",
              "      <th>top</th>\n",
              "      <td>cf83dfbc5115e37eb8148ceeca63d447a564c854</td>\n",
              "      <td>2019-06-28T19:15:00.000</td>\n",
              "      <td>2019-06-06T00:00:00.000</td>\n",
              "      <td>900</td>\n",
              "      <td>0</td>\n",
              "      <td>8</td>\n",
              "      <td>8</td>\n",
              "      <td>5</td>\n",
              "      <td>0</td>\n",
              "      <td>2.55</td>\n",
              "      <td>7.55</td>\n",
              "    </tr>\n",
              "    <tr>\n",
              "      <th>freq</th>\n",
              "      <td>1</td>\n",
              "      <td>279</td>\n",
              "      <td>7522</td>\n",
              "      <td>2072</td>\n",
              "      <td>187</td>\n",
              "      <td>163990</td>\n",
              "      <td>156491</td>\n",
              "      <td>212312</td>\n",
              "      <td>811587</td>\n",
              "      <td>737776</td>\n",
              "      <td>155640</td>\n",
              "    </tr>\n",
              "  </tbody>\n",
              "</table>\n",
              "</div>"
            ],
            "text/plain": [
              "                                         trip_id  ... trip_total\n",
              "count                                    1000000  ...    1000000\n",
              "unique                                   1000000  ...       8620\n",
              "top     cf83dfbc5115e37eb8148ceeca63d447a564c854  ...       7.55\n",
              "freq                                           1  ...     155640\n",
              "\n",
              "[4 rows x 11 columns]"
            ]
          },
          "metadata": {
            "tags": []
          },
          "execution_count": 3
        }
      ]
    },
    {
      "cell_type": "code",
      "metadata": {
        "id": "cz6DNbpkaEzP",
        "colab_type": "code",
        "outputId": "436d7e4c-f4ed-4e3a-c6be-643217171904",
        "colab": {
          "base_uri": "https://localhost:8080/",
          "height": 289
        }
      },
      "source": [
        "results_df.info()"
      ],
      "execution_count": 4,
      "outputs": [
        {
          "output_type": "stream",
          "text": [
            "<class 'pandas.core.frame.DataFrame'>\n",
            "RangeIndex: 1000000 entries, 0 to 999999\n",
            "Data columns (total 11 columns):\n",
            "trip_id                   1000000 non-null object\n",
            "trip_start_timestamp      1000000 non-null object\n",
            "trip_end_timestamp        1000000 non-null object\n",
            "trip_seconds              992543 non-null object\n",
            "trip_miles                999915 non-null object\n",
            "pickup_community_area     938493 non-null object\n",
            "dropoff_community_area    931130 non-null object\n",
            "fare                      1000000 non-null object\n",
            "tip                       1000000 non-null object\n",
            "additional_charges        1000000 non-null object\n",
            "trip_total                1000000 non-null object\n",
            "dtypes: object(11)\n",
            "memory usage: 83.9+ MB\n"
          ],
          "name": "stdout"
        }
      ]
    },
    {
      "cell_type": "code",
      "metadata": {
        "id": "TjaWkVxukRFR",
        "colab_type": "code",
        "colab": {}
      },
      "source": [
        "import numpy as np\n",
        "import pandas as pd\n",
        "import matplotlib.pyplot as plt\n",
        "%matplotlib inline\n",
        "import datetime "
      ],
      "execution_count": 0,
      "outputs": []
    },
    {
      "cell_type": "code",
      "metadata": {
        "id": "eYpnRbQ5fX5L",
        "colab_type": "code",
        "colab": {}
      },
      "source": [
        "results_df['trip_start_timestamp']= pd.to_datetime(results_df['trip_start_timestamp'])\n",
        "results_df['trip_end_timestamp']= pd.to_datetime(results_df['trip_end_timestamp'])\n",
        "\n",
        "\n",
        "for col in ['trip_miles','pickup_community_area','dropoff_community_area','fare','tip','additional_charges','trip_total']:\n",
        "    results_df[col]= results_df[col].astype(float)"
      ],
      "execution_count": 0,
      "outputs": []
    },
    {
      "cell_type": "code",
      "metadata": {
        "id": "Un4YXbzkhzcv",
        "colab_type": "code",
        "outputId": "02616b44-9dbd-4870-f322-a1930952661c",
        "colab": {
          "base_uri": "https://localhost:8080/",
          "height": 224
        }
      },
      "source": [
        "results_df.head()"
      ],
      "execution_count": 7,
      "outputs": [
        {
          "output_type": "execute_result",
          "data": {
            "text/html": [
              "<div>\n",
              "<style scoped>\n",
              "    .dataframe tbody tr th:only-of-type {\n",
              "        vertical-align: middle;\n",
              "    }\n",
              "\n",
              "    .dataframe tbody tr th {\n",
              "        vertical-align: top;\n",
              "    }\n",
              "\n",
              "    .dataframe thead th {\n",
              "        text-align: right;\n",
              "    }\n",
              "</style>\n",
              "<table border=\"1\" class=\"dataframe\">\n",
              "  <thead>\n",
              "    <tr style=\"text-align: right;\">\n",
              "      <th></th>\n",
              "      <th>trip_id</th>\n",
              "      <th>trip_start_timestamp</th>\n",
              "      <th>trip_end_timestamp</th>\n",
              "      <th>trip_seconds</th>\n",
              "      <th>trip_miles</th>\n",
              "      <th>pickup_community_area</th>\n",
              "      <th>dropoff_community_area</th>\n",
              "      <th>fare</th>\n",
              "      <th>tip</th>\n",
              "      <th>additional_charges</th>\n",
              "      <th>trip_total</th>\n",
              "    </tr>\n",
              "  </thead>\n",
              "  <tbody>\n",
              "    <tr>\n",
              "      <th>0</th>\n",
              "      <td>cc939acf64f21305eca5640b2b567abdc5000b90</td>\n",
              "      <td>2019-05-16 21:15:00</td>\n",
              "      <td>2019-05-16 21:30:00</td>\n",
              "      <td>912</td>\n",
              "      <td>5.604046</td>\n",
              "      <td>22.0</td>\n",
              "      <td>7.0</td>\n",
              "      <td>7.5</td>\n",
              "      <td>0.0</td>\n",
              "      <td>2.55</td>\n",
              "      <td>10.05</td>\n",
              "    </tr>\n",
              "    <tr>\n",
              "      <th>1</th>\n",
              "      <td>cc939b3127cffad4f5953f2026a9f29a6e541db3</td>\n",
              "      <td>2019-04-08 06:15:00</td>\n",
              "      <td>2019-04-08 06:45:00</td>\n",
              "      <td>1479</td>\n",
              "      <td>6.717380</td>\n",
              "      <td>24.0</td>\n",
              "      <td>25.0</td>\n",
              "      <td>20.0</td>\n",
              "      <td>0.0</td>\n",
              "      <td>2.55</td>\n",
              "      <td>22.55</td>\n",
              "    </tr>\n",
              "    <tr>\n",
              "      <th>2</th>\n",
              "      <td>cc939b5d5a22829b521cec2fdfb323ab94b499a1</td>\n",
              "      <td>2019-04-05 12:00:00</td>\n",
              "      <td>2019-04-05 12:15:00</td>\n",
              "      <td>1058</td>\n",
              "      <td>9.296296</td>\n",
              "      <td>49.0</td>\n",
              "      <td>40.0</td>\n",
              "      <td>5.0</td>\n",
              "      <td>0.0</td>\n",
              "      <td>2.55</td>\n",
              "      <td>7.55</td>\n",
              "    </tr>\n",
              "    <tr>\n",
              "      <th>3</th>\n",
              "      <td>cc939b65995b709363666c478342855bb5fa2f06</td>\n",
              "      <td>2019-04-04 07:45:00</td>\n",
              "      <td>2019-04-04 08:30:00</td>\n",
              "      <td>2404</td>\n",
              "      <td>8.352627</td>\n",
              "      <td>21.0</td>\n",
              "      <td>32.0</td>\n",
              "      <td>15.0</td>\n",
              "      <td>0.0</td>\n",
              "      <td>2.55</td>\n",
              "      <td>17.55</td>\n",
              "    </tr>\n",
              "    <tr>\n",
              "      <th>4</th>\n",
              "      <td>cc939b85f4141567e3c53d634c5a0c2388ec3347</td>\n",
              "      <td>2019-06-14 22:45:00</td>\n",
              "      <td>2019-06-14 23:00:00</td>\n",
              "      <td>486</td>\n",
              "      <td>1.451151</td>\n",
              "      <td>32.0</td>\n",
              "      <td>33.0</td>\n",
              "      <td>15.0</td>\n",
              "      <td>0.0</td>\n",
              "      <td>2.55</td>\n",
              "      <td>17.55</td>\n",
              "    </tr>\n",
              "  </tbody>\n",
              "</table>\n",
              "</div>"
            ],
            "text/plain": [
              "                                    trip_id  ... trip_total\n",
              "0  cc939acf64f21305eca5640b2b567abdc5000b90  ...      10.05\n",
              "1  cc939b3127cffad4f5953f2026a9f29a6e541db3  ...      22.55\n",
              "2  cc939b5d5a22829b521cec2fdfb323ab94b499a1  ...       7.55\n",
              "3  cc939b65995b709363666c478342855bb5fa2f06  ...      17.55\n",
              "4  cc939b85f4141567e3c53d634c5a0c2388ec3347  ...      17.55\n",
              "\n",
              "[5 rows x 11 columns]"
            ]
          },
          "metadata": {
            "tags": []
          },
          "execution_count": 7
        }
      ]
    },
    {
      "cell_type": "code",
      "metadata": {
        "id": "L1fIwtP7ku3U",
        "colab_type": "code",
        "colab": {}
      },
      "source": [
        "results_df['trip_seconds']= results_df['trip_seconds'].astype(float)"
      ],
      "execution_count": 0,
      "outputs": []
    },
    {
      "cell_type": "code",
      "metadata": {
        "id": "1nzqfTg3DoBK",
        "colab_type": "code",
        "colab": {
          "base_uri": "https://localhost:8080/",
          "height": 289
        },
        "outputId": "bb5db2d5-1062-4b5a-813b-a668f991f72f"
      },
      "source": [
        "results_df.info()"
      ],
      "execution_count": 9,
      "outputs": [
        {
          "output_type": "stream",
          "text": [
            "<class 'pandas.core.frame.DataFrame'>\n",
            "RangeIndex: 1000000 entries, 0 to 999999\n",
            "Data columns (total 11 columns):\n",
            "trip_id                   1000000 non-null object\n",
            "trip_start_timestamp      1000000 non-null datetime64[ns]\n",
            "trip_end_timestamp        1000000 non-null datetime64[ns]\n",
            "trip_seconds              992543 non-null float64\n",
            "trip_miles                999915 non-null float64\n",
            "pickup_community_area     938493 non-null float64\n",
            "dropoff_community_area    931130 non-null float64\n",
            "fare                      1000000 non-null float64\n",
            "tip                       1000000 non-null float64\n",
            "additional_charges        1000000 non-null float64\n",
            "trip_total                1000000 non-null float64\n",
            "dtypes: datetime64[ns](2), float64(8), object(1)\n",
            "memory usage: 83.9+ MB\n"
          ],
          "name": "stdout"
        }
      ]
    },
    {
      "cell_type": "code",
      "metadata": {
        "id": "B2x92v8yD02e",
        "colab_type": "code",
        "colab": {}
      },
      "source": [
        "import seaborn as sns"
      ],
      "execution_count": 0,
      "outputs": []
    },
    {
      "cell_type": "code",
      "metadata": {
        "id": "1vPxsGPYEUl6",
        "colab_type": "code",
        "colab": {}
      },
      "source": [
        "#results_df.drop(columns='trip_id')"
      ],
      "execution_count": 0,
      "outputs": []
    },
    {
      "cell_type": "code",
      "metadata": {
        "id": "lB4pnRhIH7-n",
        "colab_type": "code",
        "colab": {
          "base_uri": "https://localhost:8080/",
          "height": 224
        },
        "outputId": "ff516cf1-1e4a-4131-9358-268db34ff846"
      },
      "source": [
        "results_df.head()"
      ],
      "execution_count": 12,
      "outputs": [
        {
          "output_type": "execute_result",
          "data": {
            "text/html": [
              "<div>\n",
              "<style scoped>\n",
              "    .dataframe tbody tr th:only-of-type {\n",
              "        vertical-align: middle;\n",
              "    }\n",
              "\n",
              "    .dataframe tbody tr th {\n",
              "        vertical-align: top;\n",
              "    }\n",
              "\n",
              "    .dataframe thead th {\n",
              "        text-align: right;\n",
              "    }\n",
              "</style>\n",
              "<table border=\"1\" class=\"dataframe\">\n",
              "  <thead>\n",
              "    <tr style=\"text-align: right;\">\n",
              "      <th></th>\n",
              "      <th>trip_id</th>\n",
              "      <th>trip_start_timestamp</th>\n",
              "      <th>trip_end_timestamp</th>\n",
              "      <th>trip_seconds</th>\n",
              "      <th>trip_miles</th>\n",
              "      <th>pickup_community_area</th>\n",
              "      <th>dropoff_community_area</th>\n",
              "      <th>fare</th>\n",
              "      <th>tip</th>\n",
              "      <th>additional_charges</th>\n",
              "      <th>trip_total</th>\n",
              "    </tr>\n",
              "  </thead>\n",
              "  <tbody>\n",
              "    <tr>\n",
              "      <th>0</th>\n",
              "      <td>cc939acf64f21305eca5640b2b567abdc5000b90</td>\n",
              "      <td>2019-05-16 21:15:00</td>\n",
              "      <td>2019-05-16 21:30:00</td>\n",
              "      <td>912.0</td>\n",
              "      <td>5.604046</td>\n",
              "      <td>22.0</td>\n",
              "      <td>7.0</td>\n",
              "      <td>7.5</td>\n",
              "      <td>0.0</td>\n",
              "      <td>2.55</td>\n",
              "      <td>10.05</td>\n",
              "    </tr>\n",
              "    <tr>\n",
              "      <th>1</th>\n",
              "      <td>cc939b3127cffad4f5953f2026a9f29a6e541db3</td>\n",
              "      <td>2019-04-08 06:15:00</td>\n",
              "      <td>2019-04-08 06:45:00</td>\n",
              "      <td>1479.0</td>\n",
              "      <td>6.717380</td>\n",
              "      <td>24.0</td>\n",
              "      <td>25.0</td>\n",
              "      <td>20.0</td>\n",
              "      <td>0.0</td>\n",
              "      <td>2.55</td>\n",
              "      <td>22.55</td>\n",
              "    </tr>\n",
              "    <tr>\n",
              "      <th>2</th>\n",
              "      <td>cc939b5d5a22829b521cec2fdfb323ab94b499a1</td>\n",
              "      <td>2019-04-05 12:00:00</td>\n",
              "      <td>2019-04-05 12:15:00</td>\n",
              "      <td>1058.0</td>\n",
              "      <td>9.296296</td>\n",
              "      <td>49.0</td>\n",
              "      <td>40.0</td>\n",
              "      <td>5.0</td>\n",
              "      <td>0.0</td>\n",
              "      <td>2.55</td>\n",
              "      <td>7.55</td>\n",
              "    </tr>\n",
              "    <tr>\n",
              "      <th>3</th>\n",
              "      <td>cc939b65995b709363666c478342855bb5fa2f06</td>\n",
              "      <td>2019-04-04 07:45:00</td>\n",
              "      <td>2019-04-04 08:30:00</td>\n",
              "      <td>2404.0</td>\n",
              "      <td>8.352627</td>\n",
              "      <td>21.0</td>\n",
              "      <td>32.0</td>\n",
              "      <td>15.0</td>\n",
              "      <td>0.0</td>\n",
              "      <td>2.55</td>\n",
              "      <td>17.55</td>\n",
              "    </tr>\n",
              "    <tr>\n",
              "      <th>4</th>\n",
              "      <td>cc939b85f4141567e3c53d634c5a0c2388ec3347</td>\n",
              "      <td>2019-06-14 22:45:00</td>\n",
              "      <td>2019-06-14 23:00:00</td>\n",
              "      <td>486.0</td>\n",
              "      <td>1.451151</td>\n",
              "      <td>32.0</td>\n",
              "      <td>33.0</td>\n",
              "      <td>15.0</td>\n",
              "      <td>0.0</td>\n",
              "      <td>2.55</td>\n",
              "      <td>17.55</td>\n",
              "    </tr>\n",
              "  </tbody>\n",
              "</table>\n",
              "</div>"
            ],
            "text/plain": [
              "                                    trip_id  ... trip_total\n",
              "0  cc939acf64f21305eca5640b2b567abdc5000b90  ...      10.05\n",
              "1  cc939b3127cffad4f5953f2026a9f29a6e541db3  ...      22.55\n",
              "2  cc939b5d5a22829b521cec2fdfb323ab94b499a1  ...       7.55\n",
              "3  cc939b65995b709363666c478342855bb5fa2f06  ...      17.55\n",
              "4  cc939b85f4141567e3c53d634c5a0c2388ec3347  ...      17.55\n",
              "\n",
              "[5 rows x 11 columns]"
            ]
          },
          "metadata": {
            "tags": []
          },
          "execution_count": 12
        }
      ]
    },
    {
      "cell_type": "code",
      "metadata": {
        "id": "Q0d9nIc4Ihlx",
        "colab_type": "code",
        "colab": {}
      },
      "source": [
        "results_df.to_csv('rideshare1.csv', index=False)"
      ],
      "execution_count": 0,
      "outputs": []
    },
    {
      "cell_type": "code",
      "metadata": {
        "id": "Nw_hx3PAI0yN",
        "colab_type": "code",
        "colab": {
          "base_uri": "https://localhost:8080/",
          "height": 34
        },
        "outputId": "f3931015-f271-46f6-902a-ab855e71c336"
      },
      "source": [
        "!pwd"
      ],
      "execution_count": 14,
      "outputs": [
        {
          "output_type": "stream",
          "text": [
            "/content\n"
          ],
          "name": "stdout"
        }
      ]
    },
    {
      "cell_type": "code",
      "metadata": {
        "id": "xz2sYWndJlIy",
        "colab_type": "code",
        "colab": {
          "base_uri": "https://localhost:8080/",
          "height": 34
        },
        "outputId": "e98fc418-011c-4659-addf-9285b4c1b59d"
      },
      "source": [
        "! ~"
      ],
      "execution_count": 15,
      "outputs": [
        {
          "output_type": "stream",
          "text": [
            "/bin/bash: /root: Is a directory\n"
          ],
          "name": "stdout"
        }
      ]
    },
    {
      "cell_type": "code",
      "metadata": {
        "id": "ONEtWJUeJpHm",
        "colab_type": "code",
        "colab": {
          "base_uri": "https://localhost:8080/",
          "height": 204
        },
        "outputId": "8e66a63b-a7cd-4da1-e7f1-6bfb5834a772"
      },
      "source": [
        "ride_data = results_df.iloc[:200001,1:7]\n",
        "ride_data.info()"
      ],
      "execution_count": 16,
      "outputs": [
        {
          "output_type": "stream",
          "text": [
            "<class 'pandas.core.frame.DataFrame'>\n",
            "RangeIndex: 200001 entries, 0 to 200000\n",
            "Data columns (total 6 columns):\n",
            "trip_start_timestamp      200001 non-null datetime64[ns]\n",
            "trip_end_timestamp        200001 non-null datetime64[ns]\n",
            "trip_seconds              198580 non-null float64\n",
            "trip_miles                199976 non-null float64\n",
            "pickup_community_area     187794 non-null float64\n",
            "dropoff_community_area    186061 non-null float64\n",
            "dtypes: datetime64[ns](2), float64(4)\n",
            "memory usage: 9.2 MB\n"
          ],
          "name": "stdout"
        }
      ]
    },
    {
      "cell_type": "code",
      "metadata": {
        "id": "5uF4cxpwKITk",
        "colab_type": "code",
        "colab": {
          "base_uri": "https://localhost:8080/",
          "height": 810
        },
        "outputId": "e44f7f29-b93d-4748-d8c6-d3cbce5db607"
      },
      "source": [
        "sns.pairplot(ride_data)"
      ],
      "execution_count": 17,
      "outputs": [
        {
          "output_type": "stream",
          "text": [
            "/usr/local/lib/python3.6/dist-packages/numpy/lib/histograms.py:839: RuntimeWarning: invalid value encountered in greater_equal\n",
            "  keep = (tmp_a >= first_edge)\n",
            "/usr/local/lib/python3.6/dist-packages/numpy/lib/histograms.py:840: RuntimeWarning: invalid value encountered in less_equal\n",
            "  keep &= (tmp_a <= last_edge)\n"
          ],
          "name": "stderr"
        },
        {
          "output_type": "execute_result",
          "data": {
            "text/plain": [
              "<seaborn.axisgrid.PairGrid at 0x7efea3e46cc0>"
            ]
          },
          "metadata": {
            "tags": []
          },
          "execution_count": 17
        },
        {
          "output_type": "display_data",
          "data": {
            "image/png": "[encoded data removed]",
            "text/plain": [
              "<Figure size 720x720 with 20 Axes>"
            ]
          },
          "metadata": {
            "tags": []
          }
        }
      ]
    },
    {
      "cell_type": "code",
      "metadata": {
        "id": "-r5MUHJhKy1-",
        "colab_type": "code",
        "colab": {
          "base_uri": "https://localhost:8080/",
          "height": 173
        },
        "outputId": "d44d5358-cbc5-467b-9f6c-61277a15b240"
      },
      "source": [
        "ride_data.corr()"
      ],
      "execution_count": 18,
      "outputs": [
        {
          "output_type": "execute_result",
          "data": {
            "text/html": [
              "<div>\n",
              "<style scoped>\n",
              "    .dataframe tbody tr th:only-of-type {\n",
              "        vertical-align: middle;\n",
              "    }\n",
              "\n",
              "    .dataframe tbody tr th {\n",
              "        vertical-align: top;\n",
              "    }\n",
              "\n",
              "    .dataframe thead th {\n",
              "        text-align: right;\n",
              "    }\n",
              "</style>\n",
              "<table border=\"1\" class=\"dataframe\">\n",
              "  <thead>\n",
              "    <tr style=\"text-align: right;\">\n",
              "      <th></th>\n",
              "      <th>trip_seconds</th>\n",
              "      <th>trip_miles</th>\n",
              "      <th>pickup_community_area</th>\n",
              "      <th>dropoff_community_area</th>\n",
              "    </tr>\n",
              "  </thead>\n",
              "  <tbody>\n",
              "    <tr>\n",
              "      <th>trip_seconds</th>\n",
              "      <td>1.000000</td>\n",
              "      <td>0.81580</td>\n",
              "      <td>0.200507</td>\n",
              "      <td>0.229189</td>\n",
              "    </tr>\n",
              "    <tr>\n",
              "      <th>trip_miles</th>\n",
              "      <td>0.815800</td>\n",
              "      <td>1.00000</td>\n",
              "      <td>0.294580</td>\n",
              "      <td>0.336940</td>\n",
              "    </tr>\n",
              "    <tr>\n",
              "      <th>pickup_community_area</th>\n",
              "      <td>0.200507</td>\n",
              "      <td>0.29458</td>\n",
              "      <td>1.000000</td>\n",
              "      <td>0.288433</td>\n",
              "    </tr>\n",
              "    <tr>\n",
              "      <th>dropoff_community_area</th>\n",
              "      <td>0.229189</td>\n",
              "      <td>0.33694</td>\n",
              "      <td>0.288433</td>\n",
              "      <td>1.000000</td>\n",
              "    </tr>\n",
              "  </tbody>\n",
              "</table>\n",
              "</div>"
            ],
            "text/plain": [
              "                        trip_seconds  ...  dropoff_community_area\n",
              "trip_seconds                1.000000  ...                0.229189\n",
              "trip_miles                  0.815800  ...                0.336940\n",
              "pickup_community_area       0.200507  ...                0.288433\n",
              "dropoff_community_area      0.229189  ...                1.000000\n",
              "\n",
              "[4 rows x 4 columns]"
            ]
          },
          "metadata": {
            "tags": []
          },
          "execution_count": 18
        }
      ]
    },
    {
      "cell_type": "code",
      "metadata": {
        "id": "BIOArn2HMLkH",
        "colab_type": "code",
        "colab": {
          "base_uri": "https://localhost:8080/",
          "height": 397
        },
        "outputId": "df3e63ee-a8a7-4539-d183-17184bb5e9ef"
      },
      "source": [
        "sns.heatmap(ride_data.corr(), center=0)"
      ],
      "execution_count": 19,
      "outputs": [
        {
          "output_type": "execute_result",
          "data": {
            "text/plain": [
              "<matplotlib.axes._subplots.AxesSubplot at 0x7efe9f57fd68>"
            ]
          },
          "metadata": {
            "tags": []
          },
          "execution_count": 19
        },
        {
          "output_type": "display_data",
          "data": {
            "image/png": "[encoded data removed]",
            "text/plain": [
              "<Figure size 432x288 with 2 Axes>"
            ]
          },
          "metadata": {
            "tags": []
          }
        }
      ]
    },
    {
      "cell_type": "code",
      "metadata": {
        "id": "hceNRv39Mogy",
        "colab_type": "code",
        "colab": {}
      },
      "source": [
        "results_df['start_date'] = [d.date() for d in results_df['trip_start_timestamp']]\n",
        "results_df['start_time'] = [d.time() for d in results_df['trip_start_timestamp']]"
      ],
      "execution_count": 0,
      "outputs": []
    },
    {
      "cell_type": "code",
      "metadata": {
        "id": "A_QWINmbUxAa",
        "colab_type": "code",
        "colab": {
          "base_uri": "https://localhost:8080/",
          "height": 224
        },
        "outputId": "b5785064-0f35-4efb-a452-cbc7e305ac74"
      },
      "source": [
        "results_df.head()"
      ],
      "execution_count": 21,
      "outputs": [
        {
          "output_type": "execute_result",
          "data": {
            "text/html": [
              "<div>\n",
              "<style scoped>\n",
              "    .dataframe tbody tr th:only-of-type {\n",
              "        vertical-align: middle;\n",
              "    }\n",
              "\n",
              "    .dataframe tbody tr th {\n",
              "        vertical-align: top;\n",
              "    }\n",
              "\n",
              "    .dataframe thead th {\n",
              "        text-align: right;\n",
              "    }\n",
              "</style>\n",
              "<table border=\"1\" class=\"dataframe\">\n",
              "  <thead>\n",
              "    <tr style=\"text-align: right;\">\n",
              "      <th></th>\n",
              "      <th>trip_id</th>\n",
              "      <th>trip_start_timestamp</th>\n",
              "      <th>trip_end_timestamp</th>\n",
              "      <th>trip_seconds</th>\n",
              "      <th>trip_miles</th>\n",
              "      <th>pickup_community_area</th>\n",
              "      <th>dropoff_community_area</th>\n",
              "      <th>fare</th>\n",
              "      <th>tip</th>\n",
              "      <th>additional_charges</th>\n",
              "      <th>trip_total</th>\n",
              "      <th>start_date</th>\n",
              "      <th>start_time</th>\n",
              "    </tr>\n",
              "  </thead>\n",
              "  <tbody>\n",
              "    <tr>\n",
              "      <th>0</th>\n",
              "      <td>cc939acf64f21305eca5640b2b567abdc5000b90</td>\n",
              "      <td>2019-05-16 21:15:00</td>\n",
              "      <td>2019-05-16 21:30:00</td>\n",
              "      <td>912.0</td>\n",
              "      <td>5.604046</td>\n",
              "      <td>22.0</td>\n",
              "      <td>7.0</td>\n",
              "      <td>7.5</td>\n",
              "      <td>0.0</td>\n",
              "      <td>2.55</td>\n",
              "      <td>10.05</td>\n",
              "      <td>2019-05-16</td>\n",
              "      <td>21:15:00</td>\n",
              "    </tr>\n",
              "    <tr>\n",
              "      <th>1</th>\n",
              "      <td>cc939b3127cffad4f5953f2026a9f29a6e541db3</td>\n",
              "      <td>2019-04-08 06:15:00</td>\n",
              "      <td>2019-04-08 06:45:00</td>\n",
              "      <td>1479.0</td>\n",
              "      <td>6.717380</td>\n",
              "      <td>24.0</td>\n",
              "      <td>25.0</td>\n",
              "      <td>20.0</td>\n",
              "      <td>0.0</td>\n",
              "      <td>2.55</td>\n",
              "      <td>22.55</td>\n",
              "      <td>2019-04-08</td>\n",
              "      <td>06:15:00</td>\n",
              "    </tr>\n",
              "    <tr>\n",
              "      <th>2</th>\n",
              "      <td>cc939b5d5a22829b521cec2fdfb323ab94b499a1</td>\n",
              "      <td>2019-04-05 12:00:00</td>\n",
              "      <td>2019-04-05 12:15:00</td>\n",
              "      <td>1058.0</td>\n",
              "      <td>9.296296</td>\n",
              "      <td>49.0</td>\n",
              "      <td>40.0</td>\n",
              "      <td>5.0</td>\n",
              "      <td>0.0</td>\n",
              "      <td>2.55</td>\n",
              "      <td>7.55</td>\n",
              "      <td>2019-04-05</td>\n",
              "      <td>12:00:00</td>\n",
              "    </tr>\n",
              "    <tr>\n",
              "      <th>3</th>\n",
              "      <td>cc939b65995b709363666c478342855bb5fa2f06</td>\n",
              "      <td>2019-04-04 07:45:00</td>\n",
              "      <td>2019-04-04 08:30:00</td>\n",
              "      <td>2404.0</td>\n",
              "      <td>8.352627</td>\n",
              "      <td>21.0</td>\n",
              "      <td>32.0</td>\n",
              "      <td>15.0</td>\n",
              "      <td>0.0</td>\n",
              "      <td>2.55</td>\n",
              "      <td>17.55</td>\n",
              "      <td>2019-04-04</td>\n",
              "      <td>07:45:00</td>\n",
              "    </tr>\n",
              "    <tr>\n",
              "      <th>4</th>\n",
              "      <td>cc939b85f4141567e3c53d634c5a0c2388ec3347</td>\n",
              "      <td>2019-06-14 22:45:00</td>\n",
              "      <td>2019-06-14 23:00:00</td>\n",
              "      <td>486.0</td>\n",
              "      <td>1.451151</td>\n",
              "      <td>32.0</td>\n",
              "      <td>33.0</td>\n",
              "      <td>15.0</td>\n",
              "      <td>0.0</td>\n",
              "      <td>2.55</td>\n",
              "      <td>17.55</td>\n",
              "      <td>2019-06-14</td>\n",
              "      <td>22:45:00</td>\n",
              "    </tr>\n",
              "  </tbody>\n",
              "</table>\n",
              "</div>"
            ],
            "text/plain": [
              "                                    trip_id  ... start_time\n",
              "0  cc939acf64f21305eca5640b2b567abdc5000b90  ...   21:15:00\n",
              "1  cc939b3127cffad4f5953f2026a9f29a6e541db3  ...   06:15:00\n",
              "2  cc939b5d5a22829b521cec2fdfb323ab94b499a1  ...   12:00:00\n",
              "3  cc939b65995b709363666c478342855bb5fa2f06  ...   07:45:00\n",
              "4  cc939b85f4141567e3c53d634c5a0c2388ec3347  ...   22:45:00\n",
              "\n",
              "[5 rows x 13 columns]"
            ]
          },
          "metadata": {
            "tags": []
          },
          "execution_count": 21
        }
      ]
    },
    {
      "cell_type": "code",
      "metadata": {
        "id": "g-0v2GH-oWHX",
        "colab_type": "code",
        "colab": {}
      },
      "source": [
        "# from google.colab import drive\n",
        "# drive.mount('drive')"
      ],
      "execution_count": 0,
      "outputs": []
    },
    {
      "cell_type": "code",
      "metadata": {
        "id": "1QQo-g0QoxK3",
        "colab_type": "code",
        "colab": {}
      },
      "source": [
        "# results_df.to_csv('ridedata.csv')\n",
        "# !cp ridedata.csv \"drive/My Drive/\""
      ],
      "execution_count": 0,
      "outputs": []
    },
    {
      "cell_type": "code",
      "metadata": {
        "id": "czjSJyOVyh7H",
        "colab_type": "code",
        "colab": {}
      },
      "source": [
        "# from google.colab import drive\n",
        "# drive.mount('/content/drive')"
      ],
      "execution_count": 0,
      "outputs": []
    },
    {
      "cell_type": "code",
      "metadata": {
        "id": "8KDV8Alm0FF6",
        "colab_type": "code",
        "colab": {}
      },
      "source": [
        "# from google.colab import drive\n",
        "# drive.mount('/content/drive')"
      ],
      "execution_count": 0,
      "outputs": []
    },
    {
      "cell_type": "code",
      "metadata": {
        "id": "-E11erMQzNOf",
        "colab_type": "code",
        "colab": {}
      },
      "source": [
        "# results_df.to_csv('ridedata.csv')\n",
        "# !cp ridedata.csv \"content/drive/My Drive/\""
      ],
      "execution_count": 0,
      "outputs": []
    },
    {
      "cell_type": "code",
      "metadata": {
        "id": "bW-hXQHqU1T2",
        "colab_type": "code",
        "colab": {
          "base_uri": "https://localhost:8080/",
          "height": 309
        },
        "outputId": "9a303aad-bd45-44e7-b3ee-c7f4f3a62054"
      },
      "source": [
        "results_df['end_date'] = [d.date() for d in results_df['trip_end_timestamp']]\n",
        "results_df['end_time'] = [d.time() for d in results_df['trip_end_timestamp']]\n",
        "results_df.head()"
      ],
      "execution_count": 27,
      "outputs": [
        {
          "output_type": "execute_result",
          "data": {
            "text/html": [
              "<div>\n",
              "<style scoped>\n",
              "    .dataframe tbody tr th:only-of-type {\n",
              "        vertical-align: middle;\n",
              "    }\n",
              "\n",
              "    .dataframe tbody tr th {\n",
              "        vertical-align: top;\n",
              "    }\n",
              "\n",
              "    .dataframe thead th {\n",
              "        text-align: right;\n",
              "    }\n",
              "</style>\n",
              "<table border=\"1\" class=\"dataframe\">\n",
              "  <thead>\n",
              "    <tr style=\"text-align: right;\">\n",
              "      <th></th>\n",
              "      <th>trip_id</th>\n",
              "      <th>trip_start_timestamp</th>\n",
              "      <th>trip_end_timestamp</th>\n",
              "      <th>trip_seconds</th>\n",
              "      <th>trip_miles</th>\n",
              "      <th>pickup_community_area</th>\n",
              "      <th>dropoff_community_area</th>\n",
              "      <th>fare</th>\n",
              "      <th>tip</th>\n",
              "      <th>additional_charges</th>\n",
              "      <th>trip_total</th>\n",
              "      <th>start_date</th>\n",
              "      <th>start_time</th>\n",
              "      <th>end_date</th>\n",
              "      <th>end_time</th>\n",
              "    </tr>\n",
              "  </thead>\n",
              "  <tbody>\n",
              "    <tr>\n",
              "      <th>0</th>\n",
              "      <td>cc939acf64f21305eca5640b2b567abdc5000b90</td>\n",
              "      <td>2019-05-16 21:15:00</td>\n",
              "      <td>2019-05-16 21:30:00</td>\n",
              "      <td>912.0</td>\n",
              "      <td>5.604046</td>\n",
              "      <td>22.0</td>\n",
              "      <td>7.0</td>\n",
              "      <td>7.5</td>\n",
              "      <td>0.0</td>\n",
              "      <td>2.55</td>\n",
              "      <td>10.05</td>\n",
              "      <td>2019-05-16</td>\n",
              "      <td>21:15:00</td>\n",
              "      <td>2019-05-16</td>\n",
              "      <td>21:30:00</td>\n",
              "    </tr>\n",
              "    <tr>\n",
              "      <th>1</th>\n",
              "      <td>cc939b3127cffad4f5953f2026a9f29a6e541db3</td>\n",
              "      <td>2019-04-08 06:15:00</td>\n",
              "      <td>2019-04-08 06:45:00</td>\n",
              "      <td>1479.0</td>\n",
              "      <td>6.717380</td>\n",
              "      <td>24.0</td>\n",
              "      <td>25.0</td>\n",
              "      <td>20.0</td>\n",
              "      <td>0.0</td>\n",
              "      <td>2.55</td>\n",
              "      <td>22.55</td>\n",
              "      <td>2019-04-08</td>\n",
              "      <td>06:15:00</td>\n",
              "      <td>2019-04-08</td>\n",
              "      <td>06:45:00</td>\n",
              "    </tr>\n",
              "    <tr>\n",
              "      <th>2</th>\n",
              "      <td>cc939b5d5a22829b521cec2fdfb323ab94b499a1</td>\n",
              "      <td>2019-04-05 12:00:00</td>\n",
              "      <td>2019-04-05 12:15:00</td>\n",
              "      <td>1058.0</td>\n",
              "      <td>9.296296</td>\n",
              "      <td>49.0</td>\n",
              "      <td>40.0</td>\n",
              "      <td>5.0</td>\n",
              "      <td>0.0</td>\n",
              "      <td>2.55</td>\n",
              "      <td>7.55</td>\n",
              "      <td>2019-04-05</td>\n",
              "      <td>12:00:00</td>\n",
              "      <td>2019-04-05</td>\n",
              "      <td>12:15:00</td>\n",
              "    </tr>\n",
              "    <tr>\n",
              "      <th>3</th>\n",
              "      <td>cc939b65995b709363666c478342855bb5fa2f06</td>\n",
              "      <td>2019-04-04 07:45:00</td>\n",
              "      <td>2019-04-04 08:30:00</td>\n",
              "      <td>2404.0</td>\n",
              "      <td>8.352627</td>\n",
              "      <td>21.0</td>\n",
              "      <td>32.0</td>\n",
              "      <td>15.0</td>\n",
              "      <td>0.0</td>\n",
              "      <td>2.55</td>\n",
              "      <td>17.55</td>\n",
              "      <td>2019-04-04</td>\n",
              "      <td>07:45:00</td>\n",
              "      <td>2019-04-04</td>\n",
              "      <td>08:30:00</td>\n",
              "    </tr>\n",
              "    <tr>\n",
              "      <th>4</th>\n",
              "      <td>cc939b85f4141567e3c53d634c5a0c2388ec3347</td>\n",
              "      <td>2019-06-14 22:45:00</td>\n",
              "      <td>2019-06-14 23:00:00</td>\n",
              "      <td>486.0</td>\n",
              "      <td>1.451151</td>\n",
              "      <td>32.0</td>\n",
              "      <td>33.0</td>\n",
              "      <td>15.0</td>\n",
              "      <td>0.0</td>\n",
              "      <td>2.55</td>\n",
              "      <td>17.55</td>\n",
              "      <td>2019-06-14</td>\n",
              "      <td>22:45:00</td>\n",
              "      <td>2019-06-14</td>\n",
              "      <td>23:00:00</td>\n",
              "    </tr>\n",
              "  </tbody>\n",
              "</table>\n",
              "</div>"
            ],
            "text/plain": [
              "                                    trip_id  ...  end_time\n",
              "0  cc939acf64f21305eca5640b2b567abdc5000b90  ...  21:30:00\n",
              "1  cc939b3127cffad4f5953f2026a9f29a6e541db3  ...  06:45:00\n",
              "2  cc939b5d5a22829b521cec2fdfb323ab94b499a1  ...  12:15:00\n",
              "3  cc939b65995b709363666c478342855bb5fa2f06  ...  08:30:00\n",
              "4  cc939b85f4141567e3c53d634c5a0c2388ec3347  ...  23:00:00\n",
              "\n",
              "[5 rows x 15 columns]"
            ]
          },
          "metadata": {
            "tags": []
          },
          "execution_count": 27
        }
      ]
    },
    {
      "cell_type": "code",
      "metadata": {
        "id": "J88ifcwILoSX",
        "colab_type": "code",
        "colab": {
          "base_uri": "https://localhost:8080/",
          "height": 221
        },
        "outputId": "7bc77031-8b2f-424c-dc73-3188143fe91f"
      },
      "source": [
        "results_df['trip_start_timestamp'].value_counts()"
      ],
      "execution_count": 65,
      "outputs": [
        {
          "output_type": "execute_result",
          "data": {
            "text/plain": [
              "2019-06-28 19:15:00    279\n",
              "2019-05-03 18:30:00    277\n",
              "2019-04-27 19:15:00    275\n",
              "2019-04-27 19:30:00    272\n",
              "2019-04-12 18:45:00    271\n",
              "                      ... \n",
              "2019-06-30 08:00:00      1\n",
              "2019-06-30 03:00:00      1\n",
              "2019-06-30 05:45:00      1\n",
              "2019-06-30 16:00:00      1\n",
              "2019-06-30 13:00:00      1\n",
              "Name: trip_start_timestamp, Length: 8889, dtype: int64"
            ]
          },
          "metadata": {
            "tags": []
          },
          "execution_count": 65
        }
      ]
    },
    {
      "cell_type": "code",
      "metadata": {
        "id": "214Hu3CXXaBl",
        "colab_type": "code",
        "colab": {
          "base_uri": "https://localhost:8080/",
          "height": 204
        },
        "outputId": "fbfe993b-7b85-46e1-d316-0434a02b8915"
      },
      "source": [
        "ride_df = results_df.iloc[:200000, 1:12]\n",
        "ride_df.head()"
      ],
      "execution_count": 47,
      "outputs": [
        {
          "output_type": "execute_result",
          "data": {
            "text/html": [
              "<div>\n",
              "<style scoped>\n",
              "    .dataframe tbody tr th:only-of-type {\n",
              "        vertical-align: middle;\n",
              "    }\n",
              "\n",
              "    .dataframe tbody tr th {\n",
              "        vertical-align: top;\n",
              "    }\n",
              "\n",
              "    .dataframe thead th {\n",
              "        text-align: right;\n",
              "    }\n",
              "</style>\n",
              "<table border=\"1\" class=\"dataframe\">\n",
              "  <thead>\n",
              "    <tr style=\"text-align: right;\">\n",
              "      <th></th>\n",
              "      <th>trip_start_timestamp</th>\n",
              "      <th>trip_end_timestamp</th>\n",
              "      <th>trip_seconds</th>\n",
              "      <th>trip_miles</th>\n",
              "      <th>pickup_community_area</th>\n",
              "      <th>dropoff_community_area</th>\n",
              "      <th>fare</th>\n",
              "      <th>tip</th>\n",
              "      <th>additional_charges</th>\n",
              "      <th>trip_total</th>\n",
              "      <th>start_date</th>\n",
              "    </tr>\n",
              "  </thead>\n",
              "  <tbody>\n",
              "    <tr>\n",
              "      <th>0</th>\n",
              "      <td>2019-05-16 21:15:00</td>\n",
              "      <td>2019-05-16 21:30:00</td>\n",
              "      <td>912.0</td>\n",
              "      <td>5.604046</td>\n",
              "      <td>22.0</td>\n",
              "      <td>7.0</td>\n",
              "      <td>7.5</td>\n",
              "      <td>0.0</td>\n",
              "      <td>2.55</td>\n",
              "      <td>10.05</td>\n",
              "      <td>2019-05-16</td>\n",
              "    </tr>\n",
              "    <tr>\n",
              "      <th>1</th>\n",
              "      <td>2019-04-08 06:15:00</td>\n",
              "      <td>2019-04-08 06:45:00</td>\n",
              "      <td>1479.0</td>\n",
              "      <td>6.717380</td>\n",
              "      <td>24.0</td>\n",
              "      <td>25.0</td>\n",
              "      <td>20.0</td>\n",
              "      <td>0.0</td>\n",
              "      <td>2.55</td>\n",
              "      <td>22.55</td>\n",
              "      <td>2019-04-08</td>\n",
              "    </tr>\n",
              "    <tr>\n",
              "      <th>2</th>\n",
              "      <td>2019-04-05 12:00:00</td>\n",
              "      <td>2019-04-05 12:15:00</td>\n",
              "      <td>1058.0</td>\n",
              "      <td>9.296296</td>\n",
              "      <td>49.0</td>\n",
              "      <td>40.0</td>\n",
              "      <td>5.0</td>\n",
              "      <td>0.0</td>\n",
              "      <td>2.55</td>\n",
              "      <td>7.55</td>\n",
              "      <td>2019-04-05</td>\n",
              "    </tr>\n",
              "    <tr>\n",
              "      <th>3</th>\n",
              "      <td>2019-04-04 07:45:00</td>\n",
              "      <td>2019-04-04 08:30:00</td>\n",
              "      <td>2404.0</td>\n",
              "      <td>8.352627</td>\n",
              "      <td>21.0</td>\n",
              "      <td>32.0</td>\n",
              "      <td>15.0</td>\n",
              "      <td>0.0</td>\n",
              "      <td>2.55</td>\n",
              "      <td>17.55</td>\n",
              "      <td>2019-04-04</td>\n",
              "    </tr>\n",
              "    <tr>\n",
              "      <th>4</th>\n",
              "      <td>2019-06-14 22:45:00</td>\n",
              "      <td>2019-06-14 23:00:00</td>\n",
              "      <td>486.0</td>\n",
              "      <td>1.451151</td>\n",
              "      <td>32.0</td>\n",
              "      <td>33.0</td>\n",
              "      <td>15.0</td>\n",
              "      <td>0.0</td>\n",
              "      <td>2.55</td>\n",
              "      <td>17.55</td>\n",
              "      <td>2019-06-14</td>\n",
              "    </tr>\n",
              "  </tbody>\n",
              "</table>\n",
              "</div>"
            ],
            "text/plain": [
              "  trip_start_timestamp  trip_end_timestamp  ...  trip_total  start_date\n",
              "0  2019-05-16 21:15:00 2019-05-16 21:30:00  ...       10.05  2019-05-16\n",
              "1  2019-04-08 06:15:00 2019-04-08 06:45:00  ...       22.55  2019-04-08\n",
              "2  2019-04-05 12:00:00 2019-04-05 12:15:00  ...        7.55  2019-04-05\n",
              "3  2019-04-04 07:45:00 2019-04-04 08:30:00  ...       17.55  2019-04-04\n",
              "4  2019-06-14 22:45:00 2019-06-14 23:00:00  ...       17.55  2019-06-14\n",
              "\n",
              "[5 rows x 11 columns]"
            ]
          },
          "metadata": {
            "tags": []
          },
          "execution_count": 47
        }
      ]
    },
    {
      "cell_type": "code",
      "metadata": {
        "id": "vrIy51EXqmkd",
        "colab_type": "code",
        "colab": {
          "base_uri": "https://localhost:8080/",
          "height": 204
        },
        "outputId": "9d309517-c927-434a-87a3-76c522eab5c2"
      },
      "source": [
        "ride_df['pickup_community_area'] = ride_df['pickup_community_area'].fillna(0)\n",
        "ride_df.head()"
      ],
      "execution_count": 48,
      "outputs": [
        {
          "output_type": "execute_result",
          "data": {
            "text/html": [
              "<div>\n",
              "<style scoped>\n",
              "    .dataframe tbody tr th:only-of-type {\n",
              "        vertical-align: middle;\n",
              "    }\n",
              "\n",
              "    .dataframe tbody tr th {\n",
              "        vertical-align: top;\n",
              "    }\n",
              "\n",
              "    .dataframe thead th {\n",
              "        text-align: right;\n",
              "    }\n",
              "</style>\n",
              "<table border=\"1\" class=\"dataframe\">\n",
              "  <thead>\n",
              "    <tr style=\"text-align: right;\">\n",
              "      <th></th>\n",
              "      <th>trip_start_timestamp</th>\n",
              "      <th>trip_end_timestamp</th>\n",
              "      <th>trip_seconds</th>\n",
              "      <th>trip_miles</th>\n",
              "      <th>pickup_community_area</th>\n",
              "      <th>dropoff_community_area</th>\n",
              "      <th>fare</th>\n",
              "      <th>tip</th>\n",
              "      <th>additional_charges</th>\n",
              "      <th>trip_total</th>\n",
              "      <th>start_date</th>\n",
              "    </tr>\n",
              "  </thead>\n",
              "  <tbody>\n",
              "    <tr>\n",
              "      <th>0</th>\n",
              "      <td>2019-05-16 21:15:00</td>\n",
              "      <td>2019-05-16 21:30:00</td>\n",
              "      <td>912.0</td>\n",
              "      <td>5.604046</td>\n",
              "      <td>22.0</td>\n",
              "      <td>7.0</td>\n",
              "      <td>7.5</td>\n",
              "      <td>0.0</td>\n",
              "      <td>2.55</td>\n",
              "      <td>10.05</td>\n",
              "      <td>2019-05-16</td>\n",
              "    </tr>\n",
              "    <tr>\n",
              "      <th>1</th>\n",
              "      <td>2019-04-08 06:15:00</td>\n",
              "      <td>2019-04-08 06:45:00</td>\n",
              "      <td>1479.0</td>\n",
              "      <td>6.717380</td>\n",
              "      <td>24.0</td>\n",
              "      <td>25.0</td>\n",
              "      <td>20.0</td>\n",
              "      <td>0.0</td>\n",
              "      <td>2.55</td>\n",
              "      <td>22.55</td>\n",
              "      <td>2019-04-08</td>\n",
              "    </tr>\n",
              "    <tr>\n",
              "      <th>2</th>\n",
              "      <td>2019-04-05 12:00:00</td>\n",
              "      <td>2019-04-05 12:15:00</td>\n",
              "      <td>1058.0</td>\n",
              "      <td>9.296296</td>\n",
              "      <td>49.0</td>\n",
              "      <td>40.0</td>\n",
              "      <td>5.0</td>\n",
              "      <td>0.0</td>\n",
              "      <td>2.55</td>\n",
              "      <td>7.55</td>\n",
              "      <td>2019-04-05</td>\n",
              "    </tr>\n",
              "    <tr>\n",
              "      <th>3</th>\n",
              "      <td>2019-04-04 07:45:00</td>\n",
              "      <td>2019-04-04 08:30:00</td>\n",
              "      <td>2404.0</td>\n",
              "      <td>8.352627</td>\n",
              "      <td>21.0</td>\n",
              "      <td>32.0</td>\n",
              "      <td>15.0</td>\n",
              "      <td>0.0</td>\n",
              "      <td>2.55</td>\n",
              "      <td>17.55</td>\n",
              "      <td>2019-04-04</td>\n",
              "    </tr>\n",
              "    <tr>\n",
              "      <th>4</th>\n",
              "      <td>2019-06-14 22:45:00</td>\n",
              "      <td>2019-06-14 23:00:00</td>\n",
              "      <td>486.0</td>\n",
              "      <td>1.451151</td>\n",
              "      <td>32.0</td>\n",
              "      <td>33.0</td>\n",
              "      <td>15.0</td>\n",
              "      <td>0.0</td>\n",
              "      <td>2.55</td>\n",
              "      <td>17.55</td>\n",
              "      <td>2019-06-14</td>\n",
              "    </tr>\n",
              "  </tbody>\n",
              "</table>\n",
              "</div>"
            ],
            "text/plain": [
              "  trip_start_timestamp  trip_end_timestamp  ...  trip_total  start_date\n",
              "0  2019-05-16 21:15:00 2019-05-16 21:30:00  ...       10.05  2019-05-16\n",
              "1  2019-04-08 06:15:00 2019-04-08 06:45:00  ...       22.55  2019-04-08\n",
              "2  2019-04-05 12:00:00 2019-04-05 12:15:00  ...        7.55  2019-04-05\n",
              "3  2019-04-04 07:45:00 2019-04-04 08:30:00  ...       17.55  2019-04-04\n",
              "4  2019-06-14 22:45:00 2019-06-14 23:00:00  ...       17.55  2019-06-14\n",
              "\n",
              "[5 rows x 11 columns]"
            ]
          },
          "metadata": {
            "tags": []
          },
          "execution_count": 48
        }
      ]
    },
    {
      "cell_type": "code",
      "metadata": {
        "id": "ceN7Hx6DrIB5",
        "colab_type": "code",
        "colab": {
          "base_uri": "https://localhost:8080/",
          "height": 204
        },
        "outputId": "8ff16871-d51f-47b4-8ca8-33d3fef1df4a"
      },
      "source": [
        "ride_df['dropoff_community_area'] = ride_df['dropoff_community_area'].fillna(0)\n",
        "ride_df.head()"
      ],
      "execution_count": 49,
      "outputs": [
        {
          "output_type": "execute_result",
          "data": {
            "text/html": [
              "<div>\n",
              "<style scoped>\n",
              "    .dataframe tbody tr th:only-of-type {\n",
              "        vertical-align: middle;\n",
              "    }\n",
              "\n",
              "    .dataframe tbody tr th {\n",
              "        vertical-align: top;\n",
              "    }\n",
              "\n",
              "    .dataframe thead th {\n",
              "        text-align: right;\n",
              "    }\n",
              "</style>\n",
              "<table border=\"1\" class=\"dataframe\">\n",
              "  <thead>\n",
              "    <tr style=\"text-align: right;\">\n",
              "      <th></th>\n",
              "      <th>trip_start_timestamp</th>\n",
              "      <th>trip_end_timestamp</th>\n",
              "      <th>trip_seconds</th>\n",
              "      <th>trip_miles</th>\n",
              "      <th>pickup_community_area</th>\n",
              "      <th>dropoff_community_area</th>\n",
              "      <th>fare</th>\n",
              "      <th>tip</th>\n",
              "      <th>additional_charges</th>\n",
              "      <th>trip_total</th>\n",
              "      <th>start_date</th>\n",
              "    </tr>\n",
              "  </thead>\n",
              "  <tbody>\n",
              "    <tr>\n",
              "      <th>0</th>\n",
              "      <td>2019-05-16 21:15:00</td>\n",
              "      <td>2019-05-16 21:30:00</td>\n",
              "      <td>912.0</td>\n",
              "      <td>5.604046</td>\n",
              "      <td>22.0</td>\n",
              "      <td>7.0</td>\n",
              "      <td>7.5</td>\n",
              "      <td>0.0</td>\n",
              "      <td>2.55</td>\n",
              "      <td>10.05</td>\n",
              "      <td>2019-05-16</td>\n",
              "    </tr>\n",
              "    <tr>\n",
              "      <th>1</th>\n",
              "      <td>2019-04-08 06:15:00</td>\n",
              "      <td>2019-04-08 06:45:00</td>\n",
              "      <td>1479.0</td>\n",
              "      <td>6.717380</td>\n",
              "      <td>24.0</td>\n",
              "      <td>25.0</td>\n",
              "      <td>20.0</td>\n",
              "      <td>0.0</td>\n",
              "      <td>2.55</td>\n",
              "      <td>22.55</td>\n",
              "      <td>2019-04-08</td>\n",
              "    </tr>\n",
              "    <tr>\n",
              "      <th>2</th>\n",
              "      <td>2019-04-05 12:00:00</td>\n",
              "      <td>2019-04-05 12:15:00</td>\n",
              "      <td>1058.0</td>\n",
              "      <td>9.296296</td>\n",
              "      <td>49.0</td>\n",
              "      <td>40.0</td>\n",
              "      <td>5.0</td>\n",
              "      <td>0.0</td>\n",
              "      <td>2.55</td>\n",
              "      <td>7.55</td>\n",
              "      <td>2019-04-05</td>\n",
              "    </tr>\n",
              "    <tr>\n",
              "      <th>3</th>\n",
              "      <td>2019-04-04 07:45:00</td>\n",
              "      <td>2019-04-04 08:30:00</td>\n",
              "      <td>2404.0</td>\n",
              "      <td>8.352627</td>\n",
              "      <td>21.0</td>\n",
              "      <td>32.0</td>\n",
              "      <td>15.0</td>\n",
              "      <td>0.0</td>\n",
              "      <td>2.55</td>\n",
              "      <td>17.55</td>\n",
              "      <td>2019-04-04</td>\n",
              "    </tr>\n",
              "    <tr>\n",
              "      <th>4</th>\n",
              "      <td>2019-06-14 22:45:00</td>\n",
              "      <td>2019-06-14 23:00:00</td>\n",
              "      <td>486.0</td>\n",
              "      <td>1.451151</td>\n",
              "      <td>32.0</td>\n",
              "      <td>33.0</td>\n",
              "      <td>15.0</td>\n",
              "      <td>0.0</td>\n",
              "      <td>2.55</td>\n",
              "      <td>17.55</td>\n",
              "      <td>2019-06-14</td>\n",
              "    </tr>\n",
              "  </tbody>\n",
              "</table>\n",
              "</div>"
            ],
            "text/plain": [
              "  trip_start_timestamp  trip_end_timestamp  ...  trip_total  start_date\n",
              "0  2019-05-16 21:15:00 2019-05-16 21:30:00  ...       10.05  2019-05-16\n",
              "1  2019-04-08 06:15:00 2019-04-08 06:45:00  ...       22.55  2019-04-08\n",
              "2  2019-04-05 12:00:00 2019-04-05 12:15:00  ...        7.55  2019-04-05\n",
              "3  2019-04-04 07:45:00 2019-04-04 08:30:00  ...       17.55  2019-04-04\n",
              "4  2019-06-14 22:45:00 2019-06-14 23:00:00  ...       17.55  2019-06-14\n",
              "\n",
              "[5 rows x 11 columns]"
            ]
          },
          "metadata": {
            "tags": []
          },
          "execution_count": 49
        }
      ]
    },
    {
      "cell_type": "code",
      "metadata": {
        "id": "1W3rr67hrhgn",
        "colab_type": "code",
        "colab": {
          "base_uri": "https://localhost:8080/",
          "height": 224
        },
        "outputId": "70690458-465f-4ef0-9ef7-c8d13779ab29"
      },
      "source": [
        "ride_df['start_day'] = [d.weekday() for d in ride_df['trip_start_timestamp']]\n",
        "\n",
        "ride_df.head()"
      ],
      "execution_count": 50,
      "outputs": [
        {
          "output_type": "execute_result",
          "data": {
            "text/html": [
              "<div>\n",
              "<style scoped>\n",
              "    .dataframe tbody tr th:only-of-type {\n",
              "        vertical-align: middle;\n",
              "    }\n",
              "\n",
              "    .dataframe tbody tr th {\n",
              "        vertical-align: top;\n",
              "    }\n",
              "\n",
              "    .dataframe thead th {\n",
              "        text-align: right;\n",
              "    }\n",
              "</style>\n",
              "<table border=\"1\" class=\"dataframe\">\n",
              "  <thead>\n",
              "    <tr style=\"text-align: right;\">\n",
              "      <th></th>\n",
              "      <th>trip_start_timestamp</th>\n",
              "      <th>trip_end_timestamp</th>\n",
              "      <th>trip_seconds</th>\n",
              "      <th>trip_miles</th>\n",
              "      <th>pickup_community_area</th>\n",
              "      <th>dropoff_community_area</th>\n",
              "      <th>fare</th>\n",
              "      <th>tip</th>\n",
              "      <th>additional_charges</th>\n",
              "      <th>trip_total</th>\n",
              "      <th>start_date</th>\n",
              "      <th>start_day</th>\n",
              "    </tr>\n",
              "  </thead>\n",
              "  <tbody>\n",
              "    <tr>\n",
              "      <th>0</th>\n",
              "      <td>2019-05-16 21:15:00</td>\n",
              "      <td>2019-05-16 21:30:00</td>\n",
              "      <td>912.0</td>\n",
              "      <td>5.604046</td>\n",
              "      <td>22.0</td>\n",
              "      <td>7.0</td>\n",
              "      <td>7.5</td>\n",
              "      <td>0.0</td>\n",
              "      <td>2.55</td>\n",
              "      <td>10.05</td>\n",
              "      <td>2019-05-16</td>\n",
              "      <td>3</td>\n",
              "    </tr>\n",
              "    <tr>\n",
              "      <th>1</th>\n",
              "      <td>2019-04-08 06:15:00</td>\n",
              "      <td>2019-04-08 06:45:00</td>\n",
              "      <td>1479.0</td>\n",
              "      <td>6.717380</td>\n",
              "      <td>24.0</td>\n",
              "      <td>25.0</td>\n",
              "      <td>20.0</td>\n",
              "      <td>0.0</td>\n",
              "      <td>2.55</td>\n",
              "      <td>22.55</td>\n",
              "      <td>2019-04-08</td>\n",
              "      <td>0</td>\n",
              "    </tr>\n",
              "    <tr>\n",
              "      <th>2</th>\n",
              "      <td>2019-04-05 12:00:00</td>\n",
              "      <td>2019-04-05 12:15:00</td>\n",
              "      <td>1058.0</td>\n",
              "      <td>9.296296</td>\n",
              "      <td>49.0</td>\n",
              "      <td>40.0</td>\n",
              "      <td>5.0</td>\n",
              "      <td>0.0</td>\n",
              "      <td>2.55</td>\n",
              "      <td>7.55</td>\n",
              "      <td>2019-04-05</td>\n",
              "      <td>4</td>\n",
              "    </tr>\n",
              "    <tr>\n",
              "      <th>3</th>\n",
              "      <td>2019-04-04 07:45:00</td>\n",
              "      <td>2019-04-04 08:30:00</td>\n",
              "      <td>2404.0</td>\n",
              "      <td>8.352627</td>\n",
              "      <td>21.0</td>\n",
              "      <td>32.0</td>\n",
              "      <td>15.0</td>\n",
              "      <td>0.0</td>\n",
              "      <td>2.55</td>\n",
              "      <td>17.55</td>\n",
              "      <td>2019-04-04</td>\n",
              "      <td>3</td>\n",
              "    </tr>\n",
              "    <tr>\n",
              "      <th>4</th>\n",
              "      <td>2019-06-14 22:45:00</td>\n",
              "      <td>2019-06-14 23:00:00</td>\n",
              "      <td>486.0</td>\n",
              "      <td>1.451151</td>\n",
              "      <td>32.0</td>\n",
              "      <td>33.0</td>\n",
              "      <td>15.0</td>\n",
              "      <td>0.0</td>\n",
              "      <td>2.55</td>\n",
              "      <td>17.55</td>\n",
              "      <td>2019-06-14</td>\n",
              "      <td>4</td>\n",
              "    </tr>\n",
              "  </tbody>\n",
              "</table>\n",
              "</div>"
            ],
            "text/plain": [
              "  trip_start_timestamp  trip_end_timestamp  ...  start_date  start_day\n",
              "0  2019-05-16 21:15:00 2019-05-16 21:30:00  ...  2019-05-16          3\n",
              "1  2019-04-08 06:15:00 2019-04-08 06:45:00  ...  2019-04-08          0\n",
              "2  2019-04-05 12:00:00 2019-04-05 12:15:00  ...  2019-04-05          4\n",
              "3  2019-04-04 07:45:00 2019-04-04 08:30:00  ...  2019-04-04          3\n",
              "4  2019-06-14 22:45:00 2019-06-14 23:00:00  ...  2019-06-14          4\n",
              "\n",
              "[5 rows x 12 columns]"
            ]
          },
          "metadata": {
            "tags": []
          },
          "execution_count": 50
        }
      ]
    },
    {
      "cell_type": "code",
      "metadata": {
        "id": "1b6r-RzNuG5s",
        "colab_type": "code",
        "colab": {
          "base_uri": "https://localhost:8080/",
          "height": 323
        },
        "outputId": "f60189b9-b8e8-480f-a6a2-26ce6a49b2aa"
      },
      "source": [
        "ride_df['start_time'] = [d.hour for d in ride_df['trip_start_timestamp']]\n",
        "ride_df.info()"
      ],
      "execution_count": 51,
      "outputs": [
        {
          "output_type": "stream",
          "text": [
            "<class 'pandas.core.frame.DataFrame'>\n",
            "RangeIndex: 200000 entries, 0 to 199999\n",
            "Data columns (total 13 columns):\n",
            "trip_start_timestamp      200000 non-null datetime64[ns]\n",
            "trip_end_timestamp        200000 non-null datetime64[ns]\n",
            "trip_seconds              198579 non-null float64\n",
            "trip_miles                199975 non-null float64\n",
            "pickup_community_area     200000 non-null float64\n",
            "dropoff_community_area    200000 non-null float64\n",
            "fare                      200000 non-null float64\n",
            "tip                       200000 non-null float64\n",
            "additional_charges        200000 non-null float64\n",
            "trip_total                200000 non-null float64\n",
            "start_date                200000 non-null object\n",
            "start_day                 200000 non-null int64\n",
            "start_time                200000 non-null int64\n",
            "dtypes: datetime64[ns](2), float64(8), int64(2), object(1)\n",
            "memory usage: 19.8+ MB\n"
          ],
          "name": "stdout"
        }
      ]
    },
    {
      "cell_type": "code",
      "metadata": {
        "id": "_1YqIYkFwGBS",
        "colab_type": "code",
        "colab": {}
      },
      "source": [
        "ride_df['time_block'] = ride_df['start_time']//3"
      ],
      "execution_count": 0,
      "outputs": []
    },
    {
      "cell_type": "code",
      "metadata": {
        "id": "YiZ4gEmDwm3j",
        "colab_type": "code",
        "colab": {
          "base_uri": "https://localhost:8080/",
          "height": 224
        },
        "outputId": "f9184701-46a4-402b-b0ac-345348d5c500"
      },
      "source": [
        "ride_df.head()"
      ],
      "execution_count": 53,
      "outputs": [
        {
          "output_type": "execute_result",
          "data": {
            "text/html": [
              "<div>\n",
              "<style scoped>\n",
              "    .dataframe tbody tr th:only-of-type {\n",
              "        vertical-align: middle;\n",
              "    }\n",
              "\n",
              "    .dataframe tbody tr th {\n",
              "        vertical-align: top;\n",
              "    }\n",
              "\n",
              "    .dataframe thead th {\n",
              "        text-align: right;\n",
              "    }\n",
              "</style>\n",
              "<table border=\"1\" class=\"dataframe\">\n",
              "  <thead>\n",
              "    <tr style=\"text-align: right;\">\n",
              "      <th></th>\n",
              "      <th>trip_start_timestamp</th>\n",
              "      <th>trip_end_timestamp</th>\n",
              "      <th>trip_seconds</th>\n",
              "      <th>trip_miles</th>\n",
              "      <th>pickup_community_area</th>\n",
              "      <th>dropoff_community_area</th>\n",
              "      <th>fare</th>\n",
              "      <th>tip</th>\n",
              "      <th>additional_charges</th>\n",
              "      <th>trip_total</th>\n",
              "      <th>start_date</th>\n",
              "      <th>start_day</th>\n",
              "      <th>start_time</th>\n",
              "      <th>time_block</th>\n",
              "    </tr>\n",
              "  </thead>\n",
              "  <tbody>\n",
              "    <tr>\n",
              "      <th>0</th>\n",
              "      <td>2019-05-16 21:15:00</td>\n",
              "      <td>2019-05-16 21:30:00</td>\n",
              "      <td>912.0</td>\n",
              "      <td>5.604046</td>\n",
              "      <td>22.0</td>\n",
              "      <td>7.0</td>\n",
              "      <td>7.5</td>\n",
              "      <td>0.0</td>\n",
              "      <td>2.55</td>\n",
              "      <td>10.05</td>\n",
              "      <td>2019-05-16</td>\n",
              "      <td>3</td>\n",
              "      <td>21</td>\n",
              "      <td>7</td>\n",
              "    </tr>\n",
              "    <tr>\n",
              "      <th>1</th>\n",
              "      <td>2019-04-08 06:15:00</td>\n",
              "      <td>2019-04-08 06:45:00</td>\n",
              "      <td>1479.0</td>\n",
              "      <td>6.717380</td>\n",
              "      <td>24.0</td>\n",
              "      <td>25.0</td>\n",
              "      <td>20.0</td>\n",
              "      <td>0.0</td>\n",
              "      <td>2.55</td>\n",
              "      <td>22.55</td>\n",
              "      <td>2019-04-08</td>\n",
              "      <td>0</td>\n",
              "      <td>6</td>\n",
              "      <td>2</td>\n",
              "    </tr>\n",
              "    <tr>\n",
              "      <th>2</th>\n",
              "      <td>2019-04-05 12:00:00</td>\n",
              "      <td>2019-04-05 12:15:00</td>\n",
              "      <td>1058.0</td>\n",
              "      <td>9.296296</td>\n",
              "      <td>49.0</td>\n",
              "      <td>40.0</td>\n",
              "      <td>5.0</td>\n",
              "      <td>0.0</td>\n",
              "      <td>2.55</td>\n",
              "      <td>7.55</td>\n",
              "      <td>2019-04-05</td>\n",
              "      <td>4</td>\n",
              "      <td>12</td>\n",
              "      <td>4</td>\n",
              "    </tr>\n",
              "    <tr>\n",
              "      <th>3</th>\n",
              "      <td>2019-04-04 07:45:00</td>\n",
              "      <td>2019-04-04 08:30:00</td>\n",
              "      <td>2404.0</td>\n",
              "      <td>8.352627</td>\n",
              "      <td>21.0</td>\n",
              "      <td>32.0</td>\n",
              "      <td>15.0</td>\n",
              "      <td>0.0</td>\n",
              "      <td>2.55</td>\n",
              "      <td>17.55</td>\n",
              "      <td>2019-04-04</td>\n",
              "      <td>3</td>\n",
              "      <td>7</td>\n",
              "      <td>2</td>\n",
              "    </tr>\n",
              "    <tr>\n",
              "      <th>4</th>\n",
              "      <td>2019-06-14 22:45:00</td>\n",
              "      <td>2019-06-14 23:00:00</td>\n",
              "      <td>486.0</td>\n",
              "      <td>1.451151</td>\n",
              "      <td>32.0</td>\n",
              "      <td>33.0</td>\n",
              "      <td>15.0</td>\n",
              "      <td>0.0</td>\n",
              "      <td>2.55</td>\n",
              "      <td>17.55</td>\n",
              "      <td>2019-06-14</td>\n",
              "      <td>4</td>\n",
              "      <td>22</td>\n",
              "      <td>7</td>\n",
              "    </tr>\n",
              "  </tbody>\n",
              "</table>\n",
              "</div>"
            ],
            "text/plain": [
              "  trip_start_timestamp  trip_end_timestamp  ...  start_time  time_block\n",
              "0  2019-05-16 21:15:00 2019-05-16 21:30:00  ...          21           7\n",
              "1  2019-04-08 06:15:00 2019-04-08 06:45:00  ...           6           2\n",
              "2  2019-04-05 12:00:00 2019-04-05 12:15:00  ...          12           4\n",
              "3  2019-04-04 07:45:00 2019-04-04 08:30:00  ...           7           2\n",
              "4  2019-06-14 22:45:00 2019-06-14 23:00:00  ...          22           7\n",
              "\n",
              "[5 rows x 14 columns]"
            ]
          },
          "metadata": {
            "tags": []
          },
          "execution_count": 53
        }
      ]
    },
    {
      "cell_type": "code",
      "metadata": {
        "id": "3P0-e3KQHmlM",
        "colab_type": "code",
        "colab": {
          "base_uri": "https://localhost:8080/",
          "height": 221
        },
        "outputId": "4714c64f-cb51-4fd2-d82a-2fec0b168cd9"
      },
      "source": [
        "ride_df['start_date'].value_counts()"
      ],
      "execution_count": 62,
      "outputs": [
        {
          "output_type": "execute_result",
          "data": {
            "text/plain": [
              "2019-04-27    2830\n",
              "2019-05-18    2818\n",
              "2019-06-15    2798\n",
              "2019-05-04    2781\n",
              "2019-03-30    2774\n",
              "              ... \n",
              "2019-04-16    1743\n",
              "2019-06-08    1615\n",
              "2019-04-24    1587\n",
              "2019-05-27    1580\n",
              "2019-06-30      47\n",
              "Name: start_date, Length: 93, dtype: int64"
            ]
          },
          "metadata": {
            "tags": []
          },
          "execution_count": 62
        }
      ]
    },
    {
      "cell_type": "code",
      "metadata": {
        "id": "2pxCYNYx_BTN",
        "colab_type": "code",
        "colab": {}
      },
      "source": [
        "ride_df['pickup_community_area'] = ride_df['pickup_community_area'].astype('int64')"
      ],
      "execution_count": 0,
      "outputs": []
    },
    {
      "cell_type": "code",
      "metadata": {
        "id": "PvKu9eIaFUuk",
        "colab_type": "code",
        "colab": {
          "base_uri": "https://localhost:8080/",
          "height": 297
        },
        "outputId": "a6d3745d-316f-4a0c-a98e-3405f31e0310"
      },
      "source": [
        "sns.scatterplot(ride_df['trip_start_timestamp'], ride_df['fare'])"
      ],
      "execution_count": 68,
      "outputs": [
        {
          "output_type": "execute_result",
          "data": {
            "text/plain": [
              "<matplotlib.axes._subplots.AxesSubplot at 0x7efe82ad8a90>"
            ]
          },
          "metadata": {
            "tags": []
          },
          "execution_count": 68
        },
        {
          "output_type": "display_data",
          "data": {
            "image/png": "[encoded data removed]",
            "text/plain": [
              "<Figure size 432x288 with 1 Axes>"
            ]
          },
          "metadata": {
            "tags": []
          }
        }
      ]
    },
    {
      "cell_type": "code",
      "metadata": {
        "id": "-bJp0XNoTEk-",
        "colab_type": "code",
        "colab": {
          "base_uri": "https://localhost:8080/",
          "height": 204
        },
        "outputId": "ac4da5bd-aacb-4d3f-ecf2-b943fb9f787b"
      },
      "source": [
        "ind_var = ride_df.iloc[:,4:9]\n",
        "ind_var =ind_var.drop(columns='fare')\n",
        "ind_var.head()"
      ],
      "execution_count": 36,
      "outputs": [
        {
          "output_type": "execute_result",
          "data": {
            "text/html": [
              "<div>\n",
              "<style scoped>\n",
              "    .dataframe tbody tr th:only-of-type {\n",
              "        vertical-align: middle;\n",
              "    }\n",
              "\n",
              "    .dataframe tbody tr th {\n",
              "        vertical-align: top;\n",
              "    }\n",
              "\n",
              "    .dataframe thead th {\n",
              "        text-align: right;\n",
              "    }\n",
              "</style>\n",
              "<table border=\"1\" class=\"dataframe\">\n",
              "  <thead>\n",
              "    <tr style=\"text-align: right;\">\n",
              "      <th></th>\n",
              "      <th>pickup_community_area</th>\n",
              "      <th>dropoff_community_area</th>\n",
              "      <th>tip</th>\n",
              "      <th>additional_charges</th>\n",
              "    </tr>\n",
              "  </thead>\n",
              "  <tbody>\n",
              "    <tr>\n",
              "      <th>0</th>\n",
              "      <td>22</td>\n",
              "      <td>7.0</td>\n",
              "      <td>0.0</td>\n",
              "      <td>2.55</td>\n",
              "    </tr>\n",
              "    <tr>\n",
              "      <th>1</th>\n",
              "      <td>24</td>\n",
              "      <td>25.0</td>\n",
              "      <td>0.0</td>\n",
              "      <td>2.55</td>\n",
              "    </tr>\n",
              "    <tr>\n",
              "      <th>2</th>\n",
              "      <td>49</td>\n",
              "      <td>40.0</td>\n",
              "      <td>0.0</td>\n",
              "      <td>2.55</td>\n",
              "    </tr>\n",
              "    <tr>\n",
              "      <th>3</th>\n",
              "      <td>21</td>\n",
              "      <td>32.0</td>\n",
              "      <td>0.0</td>\n",
              "      <td>2.55</td>\n",
              "    </tr>\n",
              "    <tr>\n",
              "      <th>4</th>\n",
              "      <td>32</td>\n",
              "      <td>33.0</td>\n",
              "      <td>0.0</td>\n",
              "      <td>2.55</td>\n",
              "    </tr>\n",
              "  </tbody>\n",
              "</table>\n",
              "</div>"
            ],
            "text/plain": [
              "   pickup_community_area  dropoff_community_area  tip  additional_charges\n",
              "0                     22                     7.0  0.0                2.55\n",
              "1                     24                    25.0  0.0                2.55\n",
              "2                     49                    40.0  0.0                2.55\n",
              "3                     21                    32.0  0.0                2.55\n",
              "4                     32                    33.0  0.0                2.55"
            ]
          },
          "metadata": {
            "tags": []
          },
          "execution_count": 36
        }
      ]
    },
    {
      "cell_type": "code",
      "metadata": {
        "id": "0rNiIV0gUj-a",
        "colab_type": "code",
        "colab": {}
      },
      "source": [
        "ind_var = ind_var.drop(columns='dropoff_community_area')"
      ],
      "execution_count": 0,
      "outputs": []
    },
    {
      "cell_type": "code",
      "metadata": {
        "id": "mwuD2TfrUDfJ",
        "colab_type": "code",
        "colab": {
          "base_uri": "https://localhost:8080/",
          "height": 562
        },
        "outputId": "0f2ac4e2-2abd-4c18-99b6-7bddec8898c1"
      },
      "source": [
        "sns.pairplot(ind_var)"
      ],
      "execution_count": 38,
      "outputs": [
        {
          "output_type": "execute_result",
          "data": {
            "text/plain": [
              "<seaborn.axisgrid.PairGrid at 0x7efe9b9fac18>"
            ]
          },
          "metadata": {
            "tags": []
          },
          "execution_count": 38
        },
        {
          "output_type": "display_data",
          "data": {
            "image/png": "[encoded data removed]",
            "text/plain": [
              "<Figure size 540x540 with 12 Axes>"
            ]
          },
          "metadata": {
            "tags": []
          }
        }
      ]
    },
    {
      "cell_type": "markdown",
      "metadata": {
        "id": "GYmgtTR61bAN",
        "colab_type": "text"
      },
      "source": [
        "**One Hot Encode the categorical variables**"
      ]
    },
    {
      "cell_type": "code",
      "metadata": {
        "id": "-ig7QzTzxvpu",
        "colab_type": "code",
        "colab": {
          "base_uri": "https://localhost:8080/",
          "height": 34
        },
        "outputId": "84cd62fd-5529-4bb1-939c-e4ebec15d719"
      },
      "source": [
        "# assign the categorical variables to encode\n",
        "X = ride_df[[ 'start_day', 'time_block', 'pickup_community_area']]\n",
        "X.shape"
      ],
      "execution_count": 39,
      "outputs": [
        {
          "output_type": "execute_result",
          "data": {
            "text/plain": [
              "(200000, 3)"
            ]
          },
          "metadata": {
            "tags": []
          },
          "execution_count": 39
        }
      ]
    },
    {
      "cell_type": "code",
      "metadata": {
        "id": "__DIhUi_zv7e",
        "colab_type": "code",
        "colab": {}
      },
      "source": [
        "# One hot encoding \n",
        "from sklearn import preprocessing"
      ],
      "execution_count": 0,
      "outputs": []
    },
    {
      "cell_type": "code",
      "metadata": {
        "id": "m1EXfzC23GL2",
        "colab_type": "code",
        "colab": {}
      },
      "source": [
        "\n",
        "# Create One Hot Encoder Object\n",
        "\n",
        "# 1 Instantiate thh variables\n",
        "\n",
        "enc = preprocessing.OneHotEncoder()\n",
        "\n",
        "# 2 Fit\n",
        "\n",
        "enc.fit(X)\n",
        "\n",
        "# 3 Transform\n",
        "\n",
        "onehotlabels = enc.transform(X)\n",
        "\n",
        "columns = enc.get_feature_names(input_features=X.columns)\n",
        "\n",
        "\n",
        "X_df = pd.DataFrame(onehotlabels.todense(), columns=columns)\n"
      ],
      "execution_count": 0,
      "outputs": []
    },
    {
      "cell_type": "code",
      "metadata": {
        "id": "FT9DWOvP6Laz",
        "colab_type": "code",
        "colab": {}
      },
      "source": [
        "\n",
        "\n",
        "# X_df['trip_seconds'] = ride_df['trip_seconds']\n",
        "# X_df.head()\n"
      ],
      "execution_count": 0,
      "outputs": []
    },
    {
      "cell_type": "code",
      "metadata": {
        "id": "6meshgbzFPSK",
        "colab_type": "code",
        "colab": {}
      },
      "source": [
        "from sklearn.model_selection import train_test_split"
      ],
      "execution_count": 0,
      "outputs": []
    },
    {
      "cell_type": "code",
      "metadata": {
        "id": "SS0ZmTN2FfXp",
        "colab_type": "code",
        "colab": {}
      },
      "source": [
        "y = ride_df['fare']"
      ],
      "execution_count": 0,
      "outputs": []
    },
    {
      "cell_type": "code",
      "metadata": {
        "id": "gZff9jtoHAmC",
        "colab_type": "code",
        "colab": {}
      },
      "source": [
        "X_train , X_test, y_train, y_test = train_test_split(X_df, y, test_size=0.25, random_state=12)"
      ],
      "execution_count": 0,
      "outputs": []
    },
    {
      "cell_type": "code",
      "metadata": {
        "id": "dy4EXZQFfSDe",
        "colab_type": "code",
        "colab": {}
      },
      "source": [
        "import statsmodels.api as sm"
      ],
      "execution_count": 0,
      "outputs": []
    },
    {
      "cell_type": "code",
      "metadata": {
        "id": "IQjYIr1kIb3-",
        "colab_type": "code",
        "colab": {
          "base_uri": "https://localhost:8080/",
          "height": 1000
        },
        "outputId": "0b811132-547a-4aa5-db15-63103fa919e2"
      },
      "source": [
        "X_df = sm.add_constant(X_df)\n",
        "est = sm.OLS(y, X_df).fit()\n",
        "predictions = est.predict(X_df)\n",
        "est.summary()\n"
      ],
      "execution_count": 46,
      "outputs": [
        {
          "output_type": "stream",
          "text": [
            "/usr/local/lib/python3.6/dist-packages/numpy/core/fromnumeric.py:2495: FutureWarning: Method .ptp is deprecated and will be removed in a future version. Use numpy.ptp instead.\n",
            "  return ptp(axis=axis, out=out, **kwargs)\n"
          ],
          "name": "stderr"
        },
        {
          "output_type": "execute_result",
          "data": {
            "text/html": [
              "<table class=\"simpletable\">\n",
              "<caption>OLS Regression Results</caption>\n",
              "<tr>\n",
              "  <th>Dep. Variable:</th>          <td>fare</td>       <th>  R-squared:         </th>  <td>   0.192</td>  \n",
              "</tr>\n",
              "<tr>\n",
              "  <th>Model:</th>                   <td>OLS</td>       <th>  Adj. R-squared:    </th>  <td>   0.191</td>  \n",
              "</tr>\n",
              "<tr>\n",
              "  <th>Method:</th>             <td>Least Squares</td>  <th>  F-statistic:       </th>  <td>   526.5</td>  \n",
              "</tr>\n",
              "<tr>\n",
              "  <th>Date:</th>             <td>Tue, 21 Jan 2020</td> <th>  Prob (F-statistic):</th>   <td>  0.00</td>   \n",
              "</tr>\n",
              "<tr>\n",
              "  <th>Time:</th>                 <td>20:49:04</td>     <th>  Log-Likelihood:    </th> <td>-7.3935e+05</td>\n",
              "</tr>\n",
              "<tr>\n",
              "  <th>No. Observations:</th>      <td>200000</td>      <th>  AIC:               </th>  <td>1.479e+06</td> \n",
              "</tr>\n",
              "<tr>\n",
              "  <th>Df Residuals:</th>          <td>199909</td>      <th>  BIC:               </th>  <td>1.480e+06</td> \n",
              "</tr>\n",
              "<tr>\n",
              "  <th>Df Model:</th>              <td>    90</td>      <th>                     </th>      <td> </td>     \n",
              "</tr>\n",
              "<tr>\n",
              "  <th>Covariance Type:</th>      <td>nonrobust</td>    <th>                     </th>      <td> </td>     \n",
              "</tr>\n",
              "</table>\n",
              "<table class=\"simpletable\">\n",
              "<tr>\n",
              "              <td></td>                <th>coef</th>     <th>std err</th>      <th>t</th>      <th>P>|t|</th>  <th>[0.025</th>    <th>0.975]</th>  \n",
              "</tr>\n",
              "<tr>\n",
              "  <th>const</th>                    <td>    9.1181</td> <td>    0.041</td> <td>  220.085</td> <td> 0.000</td> <td>    9.037</td> <td>    9.199</td>\n",
              "</tr>\n",
              "<tr>\n",
              "  <th>start_day_0</th>              <td>    1.4910</td> <td>    0.058</td> <td>   25.573</td> <td> 0.000</td> <td>    1.377</td> <td>    1.605</td>\n",
              "</tr>\n",
              "<tr>\n",
              "  <th>start_day_1</th>              <td>    0.7861</td> <td>    0.057</td> <td>   13.720</td> <td> 0.000</td> <td>    0.674</td> <td>    0.898</td>\n",
              "</tr>\n",
              "<tr>\n",
              "  <th>start_day_2</th>              <td>    0.8772</td> <td>    0.056</td> <td>   15.568</td> <td> 0.000</td> <td>    0.767</td> <td>    0.988</td>\n",
              "</tr>\n",
              "<tr>\n",
              "  <th>start_day_3</th>              <td>    1.4533</td> <td>    0.054</td> <td>   26.798</td> <td> 0.000</td> <td>    1.347</td> <td>    1.560</td>\n",
              "</tr>\n",
              "<tr>\n",
              "  <th>start_day_4</th>              <td>    1.7076</td> <td>    0.051</td> <td>   33.615</td> <td> 0.000</td> <td>    1.608</td> <td>    1.807</td>\n",
              "</tr>\n",
              "<tr>\n",
              "  <th>start_day_5</th>              <td>    1.2710</td> <td>    0.049</td> <td>   25.973</td> <td> 0.000</td> <td>    1.175</td> <td>    1.367</td>\n",
              "</tr>\n",
              "<tr>\n",
              "  <th>start_day_6</th>              <td>    1.5318</td> <td>    0.056</td> <td>   27.524</td> <td> 0.000</td> <td>    1.423</td> <td>    1.641</td>\n",
              "</tr>\n",
              "<tr>\n",
              "  <th>time_block_0</th>             <td>   -0.0458</td> <td>    0.076</td> <td>   -0.602</td> <td> 0.547</td> <td>   -0.195</td> <td>    0.103</td>\n",
              "</tr>\n",
              "<tr>\n",
              "  <th>time_block_1</th>             <td>    3.7977</td> <td>    0.101</td> <td>   37.602</td> <td> 0.000</td> <td>    3.600</td> <td>    3.996</td>\n",
              "</tr>\n",
              "<tr>\n",
              "  <th>time_block_2</th>             <td>    2.2746</td> <td>    0.062</td> <td>   36.858</td> <td> 0.000</td> <td>    2.154</td> <td>    2.396</td>\n",
              "</tr>\n",
              "<tr>\n",
              "  <th>time_block_3</th>             <td>    0.4626</td> <td>    0.057</td> <td>    8.062</td> <td> 0.000</td> <td>    0.350</td> <td>    0.575</td>\n",
              "</tr>\n",
              "<tr>\n",
              "  <th>time_block_4</th>             <td>    1.0723</td> <td>    0.056</td> <td>   19.033</td> <td> 0.000</td> <td>    0.962</td> <td>    1.183</td>\n",
              "</tr>\n",
              "<tr>\n",
              "  <th>time_block_5</th>             <td>    1.6798</td> <td>    0.052</td> <td>   32.026</td> <td> 0.000</td> <td>    1.577</td> <td>    1.783</td>\n",
              "</tr>\n",
              "<tr>\n",
              "  <th>time_block_6</th>             <td>   -0.2375</td> <td>    0.051</td> <td>   -4.690</td> <td> 0.000</td> <td>   -0.337</td> <td>   -0.138</td>\n",
              "</tr>\n",
              "<tr>\n",
              "  <th>time_block_7</th>             <td>    0.1144</td> <td>    0.055</td> <td>    2.091</td> <td> 0.037</td> <td>    0.007</td> <td>    0.222</td>\n",
              "</tr>\n",
              "<tr>\n",
              "  <th>pickup_community_area_0</th>  <td>   10.5168</td> <td>    0.101</td> <td>  103.780</td> <td> 0.000</td> <td>   10.318</td> <td>   10.715</td>\n",
              "</tr>\n",
              "<tr>\n",
              "  <th>pickup_community_area_1</th>  <td>    0.0117</td> <td>    0.214</td> <td>    0.055</td> <td> 0.956</td> <td>   -0.407</td> <td>    0.430</td>\n",
              "</tr>\n",
              "<tr>\n",
              "  <th>pickup_community_area_2</th>  <td>   -1.0823</td> <td>    0.243</td> <td>   -4.453</td> <td> 0.000</td> <td>   -1.559</td> <td>   -0.606</td>\n",
              "</tr>\n",
              "<tr>\n",
              "  <th>pickup_community_area_3</th>  <td>   -0.5141</td> <td>    0.160</td> <td>   -3.222</td> <td> 0.001</td> <td>   -0.827</td> <td>   -0.201</td>\n",
              "</tr>\n",
              "<tr>\n",
              "  <th>pickup_community_area_4</th>  <td>   -0.8479</td> <td>    0.223</td> <td>   -3.806</td> <td> 0.000</td> <td>   -1.285</td> <td>   -0.411</td>\n",
              "</tr>\n",
              "<tr>\n",
              "  <th>pickup_community_area_5</th>  <td>   -0.5611</td> <td>    0.206</td> <td>   -2.730</td> <td> 0.006</td> <td>   -0.964</td> <td>   -0.158</td>\n",
              "</tr>\n",
              "<tr>\n",
              "  <th>pickup_community_area_6</th>  <td>    0.3463</td> <td>    0.098</td> <td>    3.546</td> <td> 0.000</td> <td>    0.155</td> <td>    0.538</td>\n",
              "</tr>\n",
              "<tr>\n",
              "  <th>pickup_community_area_7</th>  <td>   -1.0316</td> <td>    0.108</td> <td>   -9.592</td> <td> 0.000</td> <td>   -1.242</td> <td>   -0.821</td>\n",
              "</tr>\n",
              "<tr>\n",
              "  <th>pickup_community_area_8</th>  <td>    0.0451</td> <td>    0.074</td> <td>    0.608</td> <td> 0.543</td> <td>   -0.100</td> <td>    0.190</td>\n",
              "</tr>\n",
              "<tr>\n",
              "  <th>pickup_community_area_9</th>  <td>    1.1679</td> <td>    0.761</td> <td>    1.535</td> <td> 0.125</td> <td>   -0.324</td> <td>    2.660</td>\n",
              "</tr>\n",
              "<tr>\n",
              "  <th>pickup_community_area_10</th> <td>   -0.1795</td> <td>    0.412</td> <td>   -0.436</td> <td> 0.663</td> <td>   -0.987</td> <td>    0.628</td>\n",
              "</tr>\n",
              "<tr>\n",
              "  <th>pickup_community_area_11</th> <td>   -0.2342</td> <td>    0.415</td> <td>   -0.564</td> <td> 0.573</td> <td>   -1.048</td> <td>    0.580</td>\n",
              "</tr>\n",
              "<tr>\n",
              "  <th>pickup_community_area_12</th> <td>    1.1696</td> <td>    0.630</td> <td>    1.855</td> <td> 0.064</td> <td>   -0.066</td> <td>    2.405</td>\n",
              "</tr>\n",
              "<tr>\n",
              "  <th>pickup_community_area_13</th> <td>   -0.9659</td> <td>    0.463</td> <td>   -2.088</td> <td> 0.037</td> <td>   -1.873</td> <td>   -0.059</td>\n",
              "</tr>\n",
              "<tr>\n",
              "  <th>pickup_community_area_14</th> <td>   -0.6122</td> <td>    0.286</td> <td>   -2.141</td> <td> 0.032</td> <td>   -1.173</td> <td>   -0.052</td>\n",
              "</tr>\n",
              "<tr>\n",
              "  <th>pickup_community_area_15</th> <td>   -0.3876</td> <td>    0.279</td> <td>   -1.391</td> <td> 0.164</td> <td>   -0.934</td> <td>    0.159</td>\n",
              "</tr>\n",
              "<tr>\n",
              "  <th>pickup_community_area_16</th> <td>   -1.0480</td> <td>    0.231</td> <td>   -4.528</td> <td> 0.000</td> <td>   -1.502</td> <td>   -0.594</td>\n",
              "</tr>\n",
              "<tr>\n",
              "  <th>pickup_community_area_17</th> <td>    0.0229</td> <td>    0.446</td> <td>    0.051</td> <td> 0.959</td> <td>   -0.851</td> <td>    0.897</td>\n",
              "</tr>\n",
              "<tr>\n",
              "  <th>pickup_community_area_18</th> <td>   -0.4784</td> <td>    0.629</td> <td>   -0.760</td> <td> 0.447</td> <td>   -1.712</td> <td>    0.755</td>\n",
              "</tr>\n",
              "<tr>\n",
              "  <th>pickup_community_area_19</th> <td>   -1.5453</td> <td>    0.262</td> <td>   -5.908</td> <td> 0.000</td> <td>   -2.058</td> <td>   -1.033</td>\n",
              "</tr>\n",
              "<tr>\n",
              "  <th>pickup_community_area_20</th> <td>   -1.5097</td> <td>    0.436</td> <td>   -3.466</td> <td> 0.001</td> <td>   -2.363</td> <td>   -0.656</td>\n",
              "</tr>\n",
              "<tr>\n",
              "  <th>pickup_community_area_21</th> <td>   -1.5186</td> <td>    0.219</td> <td>   -6.933</td> <td> 0.000</td> <td>   -1.948</td> <td>   -1.089</td>\n",
              "</tr>\n",
              "<tr>\n",
              "  <th>pickup_community_area_22</th> <td>   -1.1180</td> <td>    0.125</td> <td>   -8.957</td> <td> 0.000</td> <td>   -1.363</td> <td>   -0.873</td>\n",
              "</tr>\n",
              "<tr>\n",
              "  <th>pickup_community_area_23</th> <td>   -1.7803</td> <td>    0.251</td> <td>   -7.093</td> <td> 0.000</td> <td>   -2.272</td> <td>   -1.288</td>\n",
              "</tr>\n",
              "<tr>\n",
              "  <th>pickup_community_area_24</th> <td>   -1.5318</td> <td>    0.102</td> <td>  -15.088</td> <td> 0.000</td> <td>   -1.731</td> <td>   -1.333</td>\n",
              "</tr>\n",
              "<tr>\n",
              "  <th>pickup_community_area_25</th> <td>   -0.7898</td> <td>    0.221</td> <td>   -3.566</td> <td> 0.000</td> <td>   -1.224</td> <td>   -0.356</td>\n",
              "</tr>\n",
              "<tr>\n",
              "  <th>pickup_community_area_26</th> <td>   -1.6613</td> <td>    0.466</td> <td>   -3.567</td> <td> 0.000</td> <td>   -2.574</td> <td>   -0.748</td>\n",
              "</tr>\n",
              "<tr>\n",
              "  <th>pickup_community_area_27</th> <td>   -1.5738</td> <td>    0.336</td> <td>   -4.687</td> <td> 0.000</td> <td>   -2.232</td> <td>   -0.916</td>\n",
              "</tr>\n",
              "<tr>\n",
              "  <th>pickup_community_area_28</th> <td>   -0.8706</td> <td>    0.090</td> <td>   -9.620</td> <td> 0.000</td> <td>   -1.048</td> <td>   -0.693</td>\n",
              "</tr>\n",
              "<tr>\n",
              "  <th>pickup_community_area_29</th> <td>   -1.0522</td> <td>    0.284</td> <td>   -3.710</td> <td> 0.000</td> <td>   -1.608</td> <td>   -0.496</td>\n",
              "</tr>\n",
              "<tr>\n",
              "  <th>pickup_community_area_30</th> <td>   -0.9756</td> <td>    0.280</td> <td>   -3.481</td> <td> 0.000</td> <td>   -1.525</td> <td>   -0.426</td>\n",
              "</tr>\n",
              "<tr>\n",
              "  <th>pickup_community_area_31</th> <td>   -1.3684</td> <td>    0.200</td> <td>   -6.839</td> <td> 0.000</td> <td>   -1.761</td> <td>   -0.976</td>\n",
              "</tr>\n",
              "<tr>\n",
              "  <th>pickup_community_area_32</th> <td>    0.9034</td> <td>    0.088</td> <td>   10.228</td> <td> 0.000</td> <td>    0.730</td> <td>    1.076</td>\n",
              "</tr>\n",
              "<tr>\n",
              "  <th>pickup_community_area_33</th> <td>    1.4244</td> <td>    0.150</td> <td>    9.490</td> <td> 0.000</td> <td>    1.130</td> <td>    1.719</td>\n",
              "</tr>\n",
              "<tr>\n",
              "  <th>pickup_community_area_34</th> <td>   -0.3167</td> <td>    0.299</td> <td>   -1.059</td> <td> 0.290</td> <td>   -0.903</td> <td>    0.269</td>\n",
              "</tr>\n",
              "<tr>\n",
              "  <th>pickup_community_area_35</th> <td>   -1.7492</td> <td>    0.270</td> <td>   -6.478</td> <td> 0.000</td> <td>   -2.278</td> <td>   -1.220</td>\n",
              "</tr>\n",
              "<tr>\n",
              "  <th>pickup_community_area_36</th> <td>   -0.9603</td> <td>    0.604</td> <td>   -1.589</td> <td> 0.112</td> <td>   -2.145</td> <td>    0.224</td>\n",
              "</tr>\n",
              "<tr>\n",
              "  <th>pickup_community_area_37</th> <td>   -2.1558</td> <td>    0.724</td> <td>   -2.978</td> <td> 0.003</td> <td>   -3.575</td> <td>   -0.737</td>\n",
              "</tr>\n",
              "<tr>\n",
              "  <th>pickup_community_area_38</th> <td>   -1.4610</td> <td>    0.289</td> <td>   -5.050</td> <td> 0.000</td> <td>   -2.028</td> <td>   -0.894</td>\n",
              "</tr>\n",
              "<tr>\n",
              "  <th>pickup_community_area_39</th> <td>   -0.1334</td> <td>    0.320</td> <td>   -0.416</td> <td> 0.677</td> <td>   -0.761</td> <td>    0.495</td>\n",
              "</tr>\n",
              "<tr>\n",
              "  <th>pickup_community_area_40</th> <td>   -2.1702</td> <td>    0.417</td> <td>   -5.200</td> <td> 0.000</td> <td>   -2.988</td> <td>   -1.352</td>\n",
              "</tr>\n",
              "<tr>\n",
              "  <th>pickup_community_area_41</th> <td>    1.0254</td> <td>    0.185</td> <td>    5.542</td> <td> 0.000</td> <td>    0.663</td> <td>    1.388</td>\n",
              "</tr>\n",
              "<tr>\n",
              "  <th>pickup_community_area_42</th> <td>   -0.2683</td> <td>    0.302</td> <td>   -0.889</td> <td> 0.374</td> <td>   -0.860</td> <td>    0.323</td>\n",
              "</tr>\n",
              "<tr>\n",
              "  <th>pickup_community_area_43</th> <td>    0.3654</td> <td>    0.262</td> <td>    1.396</td> <td> 0.163</td> <td>   -0.147</td> <td>    0.878</td>\n",
              "</tr>\n",
              "<tr>\n",
              "  <th>pickup_community_area_44</th> <td>   -1.3680</td> <td>    0.297</td> <td>   -4.609</td> <td> 0.000</td> <td>   -1.950</td> <td>   -0.786</td>\n",
              "</tr>\n",
              "<tr>\n",
              "  <th>pickup_community_area_45</th> <td>   -0.6139</td> <td>    0.644</td> <td>   -0.953</td> <td> 0.341</td> <td>   -1.877</td> <td>    0.649</td>\n",
              "</tr>\n",
              "<tr>\n",
              "  <th>pickup_community_area_46</th> <td>    0.5403</td> <td>    0.454</td> <td>    1.191</td> <td> 0.234</td> <td>   -0.349</td> <td>    1.429</td>\n",
              "</tr>\n",
              "<tr>\n",
              "  <th>pickup_community_area_47</th> <td>    0.0305</td> <td>    1.129</td> <td>    0.027</td> <td> 0.978</td> <td>   -2.182</td> <td>    2.243</td>\n",
              "</tr>\n",
              "<tr>\n",
              "  <th>pickup_community_area_48</th> <td>    0.6196</td> <td>    0.629</td> <td>    0.985</td> <td> 0.325</td> <td>   -0.614</td> <td>    1.853</td>\n",
              "</tr>\n",
              "<tr>\n",
              "  <th>pickup_community_area_49</th> <td>   -0.1876</td> <td>    0.326</td> <td>   -0.575</td> <td> 0.566</td> <td>   -0.827</td> <td>    0.452</td>\n",
              "</tr>\n",
              "<tr>\n",
              "  <th>pickup_community_area_50</th> <td>   -0.7202</td> <td>    0.672</td> <td>   -1.073</td> <td> 0.283</td> <td>   -2.036</td> <td>    0.596</td>\n",
              "</tr>\n",
              "<tr>\n",
              "  <th>pickup_community_area_51</th> <td>    0.5462</td> <td>    0.625</td> <td>    0.874</td> <td> 0.382</td> <td>   -0.679</td> <td>    1.772</td>\n",
              "</tr>\n",
              "<tr>\n",
              "  <th>pickup_community_area_52</th> <td>    2.6606</td> <td>    0.965</td> <td>    2.758</td> <td> 0.006</td> <td>    0.770</td> <td>    4.551</td>\n",
              "</tr>\n",
              "<tr>\n",
              "  <th>pickup_community_area_53</th> <td>    1.2223</td> <td>    0.503</td> <td>    2.428</td> <td> 0.015</td> <td>    0.236</td> <td>    2.209</td>\n",
              "</tr>\n",
              "<tr>\n",
              "  <th>pickup_community_area_54</th> <td>    2.0716</td> <td>    0.924</td> <td>    2.242</td> <td> 0.025</td> <td>    0.260</td> <td>    3.883</td>\n",
              "</tr>\n",
              "<tr>\n",
              "  <th>pickup_community_area_55</th> <td>    4.1072</td> <td>    1.277</td> <td>    3.216</td> <td> 0.001</td> <td>    1.604</td> <td>    6.610</td>\n",
              "</tr>\n",
              "<tr>\n",
              "  <th>pickup_community_area_56</th> <td>   12.4333</td> <td>    0.201</td> <td>   61.938</td> <td> 0.000</td> <td>   12.040</td> <td>   12.827</td>\n",
              "</tr>\n",
              "<tr>\n",
              "  <th>pickup_community_area_57</th> <td>   -1.7459</td> <td>    0.515</td> <td>   -3.388</td> <td> 0.001</td> <td>   -2.756</td> <td>   -0.736</td>\n",
              "</tr>\n",
              "<tr>\n",
              "  <th>pickup_community_area_58</th> <td>   -1.8688</td> <td>    0.337</td> <td>   -5.547</td> <td> 0.000</td> <td>   -2.529</td> <td>   -1.208</td>\n",
              "</tr>\n",
              "<tr>\n",
              "  <th>pickup_community_area_59</th> <td>   -1.6809</td> <td>    0.453</td> <td>   -3.714</td> <td> 0.000</td> <td>   -2.568</td> <td>   -0.794</td>\n",
              "</tr>\n",
              "<tr>\n",
              "  <th>pickup_community_area_60</th> <td>   -1.1983</td> <td>    0.290</td> <td>   -4.137</td> <td> 0.000</td> <td>   -1.766</td> <td>   -0.631</td>\n",
              "</tr>\n",
              "<tr>\n",
              "  <th>pickup_community_area_61</th> <td>   -1.5610</td> <td>    0.346</td> <td>   -4.510</td> <td> 0.000</td> <td>   -2.239</td> <td>   -0.883</td>\n",
              "</tr>\n",
              "<tr>\n",
              "  <th>pickup_community_area_62</th> <td>   -1.5547</td> <td>    0.544</td> <td>   -2.856</td> <td> 0.004</td> <td>   -2.622</td> <td>   -0.488</td>\n",
              "</tr>\n",
              "<tr>\n",
              "  <th>pickup_community_area_63</th> <td>   -1.8368</td> <td>    0.404</td> <td>   -4.547</td> <td> 0.000</td> <td>   -2.629</td> <td>   -1.045</td>\n",
              "</tr>\n",
              "<tr>\n",
              "  <th>pickup_community_area_64</th> <td>   -0.2089</td> <td>    0.624</td> <td>   -0.335</td> <td> 0.738</td> <td>   -1.432</td> <td>    1.014</td>\n",
              "</tr>\n",
              "<tr>\n",
              "  <th>pickup_community_area_65</th> <td>   -1.2566</td> <td>    0.409</td> <td>   -3.071</td> <td> 0.002</td> <td>   -2.059</td> <td>   -0.454</td>\n",
              "</tr>\n",
              "<tr>\n",
              "  <th>pickup_community_area_66</th> <td>   -0.7770</td> <td>    0.326</td> <td>   -2.383</td> <td> 0.017</td> <td>   -1.416</td> <td>   -0.138</td>\n",
              "</tr>\n",
              "<tr>\n",
              "  <th>pickup_community_area_67</th> <td>   -1.1557</td> <td>    0.380</td> <td>   -3.042</td> <td> 0.002</td> <td>   -1.900</td> <td>   -0.411</td>\n",
              "</tr>\n",
              "<tr>\n",
              "  <th>pickup_community_area_68</th> <td>   -1.3596</td> <td>    0.350</td> <td>   -3.889</td> <td> 0.000</td> <td>   -2.045</td> <td>   -0.674</td>\n",
              "</tr>\n",
              "<tr>\n",
              "  <th>pickup_community_area_69</th> <td>   -1.5335</td> <td>    0.307</td> <td>   -5.002</td> <td> 0.000</td> <td>   -2.134</td> <td>   -0.933</td>\n",
              "</tr>\n",
              "<tr>\n",
              "  <th>pickup_community_area_70</th> <td>    0.3559</td> <td>    0.432</td> <td>    0.823</td> <td> 0.410</td> <td>   -0.491</td> <td>    1.203</td>\n",
              "</tr>\n",
              "<tr>\n",
              "  <th>pickup_community_area_71</th> <td>    0.0939</td> <td>    0.310</td> <td>    0.303</td> <td> 0.762</td> <td>   -0.514</td> <td>    0.702</td>\n",
              "</tr>\n",
              "<tr>\n",
              "  <th>pickup_community_area_72</th> <td>    1.5382</td> <td>    0.574</td> <td>    2.680</td> <td> 0.007</td> <td>    0.413</td> <td>    2.663</td>\n",
              "</tr>\n",
              "<tr>\n",
              "  <th>pickup_community_area_73</th> <td>   -0.4193</td> <td>    0.435</td> <td>   -0.964</td> <td> 0.335</td> <td>   -1.272</td> <td>    0.434</td>\n",
              "</tr>\n",
              "<tr>\n",
              "  <th>pickup_community_area_74</th> <td>    1.2149</td> <td>    0.776</td> <td>    1.566</td> <td> 0.117</td> <td>   -0.305</td> <td>    2.735</td>\n",
              "</tr>\n",
              "<tr>\n",
              "  <th>pickup_community_area_75</th> <td>    1.6999</td> <td>    0.508</td> <td>    3.349</td> <td> 0.001</td> <td>    0.705</td> <td>    2.695</td>\n",
              "</tr>\n",
              "<tr>\n",
              "  <th>pickup_community_area_76</th> <td>   18.9071</td> <td>    0.123</td> <td>  153.395</td> <td> 0.000</td> <td>   18.666</td> <td>   19.149</td>\n",
              "</tr>\n",
              "<tr>\n",
              "  <th>pickup_community_area_77</th> <td>   -0.4225</td> <td>    0.190</td> <td>   -2.224</td> <td> 0.026</td> <td>   -0.795</td> <td>   -0.050</td>\n",
              "</tr>\n",
              "</table>\n",
              "<table class=\"simpletable\">\n",
              "<tr>\n",
              "  <th>Omnibus:</th>       <td>233447.728</td> <th>  Durbin-Watson:     </th>   <td>   2.000</td>   \n",
              "</tr>\n",
              "<tr>\n",
              "  <th>Prob(Omnibus):</th>   <td> 0.000</td>   <th>  Jarque-Bera (JB):  </th> <td>279800952.985</td>\n",
              "</tr>\n",
              "<tr>\n",
              "  <th>Skew:</th>            <td> 5.297</td>   <th>  Prob(JB):          </th>   <td>    0.00</td>   \n",
              "</tr>\n",
              "<tr>\n",
              "  <th>Kurtosis:</th>        <td>185.931</td>  <th>  Cond. No.          </th>   <td>1.32e+16</td>   \n",
              "</tr>\n",
              "</table><br/><br/>Warnings:<br/>[1] Standard Errors assume that the covariance matrix of the errors is correctly specified.<br/>[2] The smallest eigenvalue is 1.54e-27. This might indicate that there are<br/>strong multicollinearity problems or that the design matrix is singular."
            ],
            "text/plain": [
              "<class 'statsmodels.iolib.summary.Summary'>\n",
              "\"\"\"\n",
              "                            OLS Regression Results                            \n",
              "==============================================================================\n",
              "Dep. Variable:                   fare   R-squared:                       0.192\n",
              "Model:                            OLS   Adj. R-squared:                  0.191\n",
              "Method:                 Least Squares   F-statistic:                     526.5\n",
              "Date:                Tue, 21 Jan 2020   Prob (F-statistic):               0.00\n",
              "Time:                        20:49:04   Log-Likelihood:            -7.3935e+05\n",
              "No. Observations:              200000   AIC:                         1.479e+06\n",
              "Df Residuals:                  199909   BIC:                         1.480e+06\n",
              "Df Model:                          90                                         \n",
              "Covariance Type:            nonrobust                                         \n",
              "============================================================================================\n",
              "                               coef    std err          t      P>|t|      [0.025      0.975]\n",
              "--------------------------------------------------------------------------------------------\n",
              "const                        9.1181      0.041    220.085      0.000       9.037       9.199\n",
              "start_day_0                  1.4910      0.058     25.573      0.000       1.377       1.605\n",
              "start_day_1                  0.7861      0.057     13.720      0.000       0.674       0.898\n",
              "start_day_2                  0.8772      0.056     15.568      0.000       0.767       0.988\n",
              "start_day_3                  1.4533      0.054     26.798      0.000       1.347       1.560\n",
              "start_day_4                  1.7076      0.051     33.615      0.000       1.608       1.807\n",
              "start_day_5                  1.2710      0.049     25.973      0.000       1.175       1.367\n",
              "start_day_6                  1.5318      0.056     27.524      0.000       1.423       1.641\n",
              "time_block_0                -0.0458      0.076     -0.602      0.547      -0.195       0.103\n",
              "time_block_1                 3.7977      0.101     37.602      0.000       3.600       3.996\n",
              "time_block_2                 2.2746      0.062     36.858      0.000       2.154       2.396\n",
              "time_block_3                 0.4626      0.057      8.062      0.000       0.350       0.575\n",
              "time_block_4                 1.0723      0.056     19.033      0.000       0.962       1.183\n",
              "time_block_5                 1.6798      0.052     32.026      0.000       1.577       1.783\n",
              "time_block_6                -0.2375      0.051     -4.690      0.000      -0.337      -0.138\n",
              "time_block_7                 0.1144      0.055      2.091      0.037       0.007       0.222\n",
              "pickup_community_area_0     10.5168      0.101    103.780      0.000      10.318      10.715\n",
              "pickup_community_area_1      0.0117      0.214      0.055      0.956      -0.407       0.430\n",
              "pickup_community_area_2     -1.0823      0.243     -4.453      0.000      -1.559      -0.606\n",
              "pickup_community_area_3     -0.5141      0.160     -3.222      0.001      -0.827      -0.201\n",
              "pickup_community_area_4     -0.8479      0.223     -3.806      0.000      -1.285      -0.411\n",
              "pickup_community_area_5     -0.5611      0.206     -2.730      0.006      -0.964      -0.158\n",
              "pickup_community_area_6      0.3463      0.098      3.546      0.000       0.155       0.538\n",
              "pickup_community_area_7     -1.0316      0.108     -9.592      0.000      -1.242      -0.821\n",
              "pickup_community_area_8      0.0451      0.074      0.608      0.543      -0.100       0.190\n",
              "pickup_community_area_9      1.1679      0.761      1.535      0.125      -0.324       2.660\n",
              "pickup_community_area_10    -0.1795      0.412     -0.436      0.663      -0.987       0.628\n",
              "pickup_community_area_11    -0.2342      0.415     -0.564      0.573      -1.048       0.580\n",
              "pickup_community_area_12     1.1696      0.630      1.855      0.064      -0.066       2.405\n",
              "pickup_community_area_13    -0.9659      0.463     -2.088      0.037      -1.873      -0.059\n",
              "pickup_community_area_14    -0.6122      0.286     -2.141      0.032      -1.173      -0.052\n",
              "pickup_community_area_15    -0.3876      0.279     -1.391      0.164      -0.934       0.159\n",
              "pickup_community_area_16    -1.0480      0.231     -4.528      0.000      -1.502      -0.594\n",
              "pickup_community_area_17     0.0229      0.446      0.051      0.959      -0.851       0.897\n",
              "pickup_community_area_18    -0.4784      0.629     -0.760      0.447      -1.712       0.755\n",
              "pickup_community_area_19    -1.5453      0.262     -5.908      0.000      -2.058      -1.033\n",
              "pickup_community_area_20    -1.5097      0.436     -3.466      0.001      -2.363      -0.656\n",
              "pickup_community_area_21    -1.5186      0.219     -6.933      0.000      -1.948      -1.089\n",
              "pickup_community_area_22    -1.1180      0.125     -8.957      0.000      -1.363      -0.873\n",
              "pickup_community_area_23    -1.7803      0.251     -7.093      0.000      -2.272      -1.288\n",
              "pickup_community_area_24    -1.5318      0.102    -15.088      0.000      -1.731      -1.333\n",
              "pickup_community_area_25    -0.7898      0.221     -3.566      0.000      -1.224      -0.356\n",
              "pickup_community_area_26    -1.6613      0.466     -3.567      0.000      -2.574      -0.748\n",
              "pickup_community_area_27    -1.5738      0.336     -4.687      0.000      -2.232      -0.916\n",
              "pickup_community_area_28    -0.8706      0.090     -9.620      0.000      -1.048      -0.693\n",
              "pickup_community_area_29    -1.0522      0.284     -3.710      0.000      -1.608      -0.496\n",
              "pickup_community_area_30    -0.9756      0.280     -3.481      0.000      -1.525      -0.426\n",
              "pickup_community_area_31    -1.3684      0.200     -6.839      0.000      -1.761      -0.976\n",
              "pickup_community_area_32     0.9034      0.088     10.228      0.000       0.730       1.076\n",
              "pickup_community_area_33     1.4244      0.150      9.490      0.000       1.130       1.719\n",
              "pickup_community_area_34    -0.3167      0.299     -1.059      0.290      -0.903       0.269\n",
              "pickup_community_area_35    -1.7492      0.270     -6.478      0.000      -2.278      -1.220\n",
              "pickup_community_area_36    -0.9603      0.604     -1.589      0.112      -2.145       0.224\n",
              "pickup_community_area_37    -2.1558      0.724     -2.978      0.003      -3.575      -0.737\n",
              "pickup_community_area_38    -1.4610      0.289     -5.050      0.000      -2.028      -0.894\n",
              "pickup_community_area_39    -0.1334      0.320     -0.416      0.677      -0.761       0.495\n",
              "pickup_community_area_40    -2.1702      0.417     -5.200      0.000      -2.988      -1.352\n",
              "pickup_community_area_41     1.0254      0.185      5.542      0.000       0.663       1.388\n",
              "pickup_community_area_42    -0.2683      0.302     -0.889      0.374      -0.860       0.323\n",
              "pickup_community_area_43     0.3654      0.262      1.396      0.163      -0.147       0.878\n",
              "pickup_community_area_44    -1.3680      0.297     -4.609      0.000      -1.950      -0.786\n",
              "pickup_community_area_45    -0.6139      0.644     -0.953      0.341      -1.877       0.649\n",
              "pickup_community_area_46     0.5403      0.454      1.191      0.234      -0.349       1.429\n",
              "pickup_community_area_47     0.0305      1.129      0.027      0.978      -2.182       2.243\n",
              "pickup_community_area_48     0.6196      0.629      0.985      0.325      -0.614       1.853\n",
              "pickup_community_area_49    -0.1876      0.326     -0.575      0.566      -0.827       0.452\n",
              "pickup_community_area_50    -0.7202      0.672     -1.073      0.283      -2.036       0.596\n",
              "pickup_community_area_51     0.5462      0.625      0.874      0.382      -0.679       1.772\n",
              "pickup_community_area_52     2.6606      0.965      2.758      0.006       0.770       4.551\n",
              "pickup_community_area_53     1.2223      0.503      2.428      0.015       0.236       2.209\n",
              "pickup_community_area_54     2.0716      0.924      2.242      0.025       0.260       3.883\n",
              "pickup_community_area_55     4.1072      1.277      3.216      0.001       1.604       6.610\n",
              "pickup_community_area_56    12.4333      0.201     61.938      0.000      12.040      12.827\n",
              "pickup_community_area_57    -1.7459      0.515     -3.388      0.001      -2.756      -0.736\n",
              "pickup_community_area_58    -1.8688      0.337     -5.547      0.000      -2.529      -1.208\n",
              "pickup_community_area_59    -1.6809      0.453     -3.714      0.000      -2.568      -0.794\n",
              "pickup_community_area_60    -1.1983      0.290     -4.137      0.000      -1.766      -0.631\n",
              "pickup_community_area_61    -1.5610      0.346     -4.510      0.000      -2.239      -0.883\n",
              "pickup_community_area_62    -1.5547      0.544     -2.856      0.004      -2.622      -0.488\n",
              "pickup_community_area_63    -1.8368      0.404     -4.547      0.000      -2.629      -1.045\n",
              "pickup_community_area_64    -0.2089      0.624     -0.335      0.738      -1.432       1.014\n",
              "pickup_community_area_65    -1.2566      0.409     -3.071      0.002      -2.059      -0.454\n",
              "pickup_community_area_66    -0.7770      0.326     -2.383      0.017      -1.416      -0.138\n",
              "pickup_community_area_67    -1.1557      0.380     -3.042      0.002      -1.900      -0.411\n",
              "pickup_community_area_68    -1.3596      0.350     -3.889      0.000      -2.045      -0.674\n",
              "pickup_community_area_69    -1.5335      0.307     -5.002      0.000      -2.134      -0.933\n",
              "pickup_community_area_70     0.3559      0.432      0.823      0.410      -0.491       1.203\n",
              "pickup_community_area_71     0.0939      0.310      0.303      0.762      -0.514       0.702\n",
              "pickup_community_area_72     1.5382      0.574      2.680      0.007       0.413       2.663\n",
              "pickup_community_area_73    -0.4193      0.435     -0.964      0.335      -1.272       0.434\n",
              "pickup_community_area_74     1.2149      0.776      1.566      0.117      -0.305       2.735\n",
              "pickup_community_area_75     1.6999      0.508      3.349      0.001       0.705       2.695\n",
              "pickup_community_area_76    18.9071      0.123    153.395      0.000      18.666      19.149\n",
              "pickup_community_area_77    -0.4225      0.190     -2.224      0.026      -0.795      -0.050\n",
              "==============================================================================\n",
              "Omnibus:                   233447.728   Durbin-Watson:                   2.000\n",
              "Prob(Omnibus):                  0.000   Jarque-Bera (JB):        279800952.985\n",
              "Skew:                           5.297   Prob(JB):                         0.00\n",
              "Kurtosis:                     185.931   Cond. No.                     1.32e+16\n",
              "==============================================================================\n",
              "\n",
              "Warnings:\n",
              "[1] Standard Errors assume that the covariance matrix of the errors is correctly specified.\n",
              "[2] The smallest eigenvalue is 1.54e-27. This might indicate that there are\n",
              "strong multicollinearity problems or that the design matrix is singular.\n",
              "\"\"\""
            ]
          },
          "metadata": {
            "tags": []
          },
          "execution_count": 46
        }
      ]
    },
    {
      "cell_type": "code",
      "metadata": {
        "id": "JknsioyIJ-yE",
        "colab_type": "code",
        "colab": {}
      },
      "source": [
        ""
      ],
      "execution_count": 0,
      "outputs": []
    }
  ]
}