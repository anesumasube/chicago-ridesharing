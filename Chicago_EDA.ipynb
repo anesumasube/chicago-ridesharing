{
  "nbformat": 4,
  "nbformat_minor": 0,
  "metadata": {
    "colab": {
      "name": "Chicago EDA.ipynb",
      "provenance": [],
      "authorship_tag": "ABX9TyPkr2hqIDdngnTU+Odo8Pan",
      "include_colab_link": true
    },
    "kernelspec": {
      "name": "python3",
      "display_name": "Python 3"
    }
  },
  "cells": [
    {
      "cell_type": "markdown",
      "metadata": {
        "id": "view-in-github",
        "colab_type": "text"
      },
      "source": [
        "<a href=\"https://colab.research.google.com/github/muoyo/chicago-ridesharing/blob/anesu/Chicago_EDA.ipynb\" target=\"_parent\"><img src=\"https://colab.research.google.com/assets/colab-badge.svg\" alt=\"Open In Colab\"/></a>"
      ]
    },
    {
      "cell_type": "code",
      "metadata": {
        "id": "g_eRDrPTaWTC",
        "colab_type": "code",
        "outputId": "2976d526-fd38-44f8-f196-86cf3da8e676",
        "colab": {
          "base_uri": "https://localhost:8080/",
          "height": 119
        }
      },
      "source": [
        "!pip install sodapy"
      ],
      "execution_count": 32,
      "outputs": [
        {
          "output_type": "stream",
          "text": [
            "Requirement already satisfied: sodapy in /usr/local/lib/python3.6/dist-packages (2.0.0)\n",
            "Requirement already satisfied: requests>=2.20.0 in /usr/local/lib/python3.6/dist-packages (from sodapy) (2.21.0)\n",
            "Requirement already satisfied: chardet<3.1.0,>=3.0.2 in /usr/local/lib/python3.6/dist-packages (from requests>=2.20.0->sodapy) (3.0.4)\n",
            "Requirement already satisfied: certifi>=2017.4.17 in /usr/local/lib/python3.6/dist-packages (from requests>=2.20.0->sodapy) (2019.11.28)\n",
            "Requirement already satisfied: urllib3<1.25,>=1.21.1 in /usr/local/lib/python3.6/dist-packages (from requests>=2.20.0->sodapy) (1.24.3)\n",
            "Requirement already satisfied: idna<2.9,>=2.5 in /usr/local/lib/python3.6/dist-packages (from requests>=2.20.0->sodapy) (2.8)\n"
          ],
          "name": "stdout"
        }
      ]
    },
    {
      "cell_type": "code",
      "metadata": {
        "id": "vTK53gnVZ6zr",
        "colab_type": "code",
        "colab": {}
      },
      "source": [
        "#!/usr/bin/env python\n",
        "\n",
        "# make sure to install these packages before running:\n",
        "# pip install pandas\n",
        "# pip install sodapy\n",
        "\n",
        "import pandas as pd\n",
        "from sodapy import Socrata\n",
        "\n",
        "# Unauthenticated client only works with public data sets. Note 'None'\n",
        "# in place of application token, and no username or password:\n",
        "#client = Socrata(\"data.cityofchicago.org\", None, timeout=100)\n",
        "\n",
        "#Example authenticated client (needed for non-public datasets):\n",
        "client = Socrata(\"data.cityofchicago.org\",\n",
        "                 \"N0amD6E3UkUmVTl5nFWXbIyl4\",\n",
        "                 username=\"anesumasube@gmail.com\",\n",
        "                 password=\"Marywandi11!\", timeout=1000)\n",
        "\n",
        "# First 2000 results, returned as JSON from API / converted to Python list of\n",
        "# dictionaries by sodapy.\n",
        "results = client.get(\"m6dm-c72p\",limit=1000000, select='trip_id, trip_start_timestamp, trip_end_timestamp, trip_seconds, trip_miles, pickup_community_area, dropoff_community_area, fare, tip, additional_charges, trip_total ')\n",
        "# Convert to pandas DataFrame\n",
        "results_df = pd.DataFrame.from_records(results)"
      ],
      "execution_count": 0,
      "outputs": []
    },
    {
      "cell_type": "code",
      "metadata": {
        "id": "rJw7lk_qaVym",
        "colab_type": "code",
        "outputId": "18ef83c6-8a3b-4a30-d5ad-b718a27f3626",
        "colab": {
          "base_uri": "https://localhost:8080/",
          "height": 210
        }
      },
      "source": [
        "results_df.describe()"
      ],
      "execution_count": 36,
      "outputs": [
        {
          "output_type": "execute_result",
          "data": {
            "text/html": [
              "<div>\n",
              "<style scoped>\n",
              "    .dataframe tbody tr th:only-of-type {\n",
              "        vertical-align: middle;\n",
              "    }\n",
              "\n",
              "    .dataframe tbody tr th {\n",
              "        vertical-align: top;\n",
              "    }\n",
              "\n",
              "    .dataframe thead th {\n",
              "        text-align: right;\n",
              "    }\n",
              "</style>\n",
              "<table border=\"1\" class=\"dataframe\">\n",
              "  <thead>\n",
              "    <tr style=\"text-align: right;\">\n",
              "      <th></th>\n",
              "      <th>trip_id</th>\n",
              "      <th>trip_start_timestamp</th>\n",
              "      <th>trip_end_timestamp</th>\n",
              "      <th>trip_seconds</th>\n",
              "      <th>trip_miles</th>\n",
              "      <th>pickup_community_area</th>\n",
              "      <th>dropoff_community_area</th>\n",
              "      <th>fare</th>\n",
              "      <th>tip</th>\n",
              "      <th>additional_charges</th>\n",
              "      <th>trip_total</th>\n",
              "    </tr>\n",
              "  </thead>\n",
              "  <tbody>\n",
              "    <tr>\n",
              "      <th>count</th>\n",
              "      <td>1000000</td>\n",
              "      <td>1000000</td>\n",
              "      <td>1000000</td>\n",
              "      <td>992801</td>\n",
              "      <td>999924</td>\n",
              "      <td>937526</td>\n",
              "      <td>930757</td>\n",
              "      <td>1000000</td>\n",
              "      <td>1000000</td>\n",
              "      <td>1000000</td>\n",
              "      <td>1000000</td>\n",
              "    </tr>\n",
              "    <tr>\n",
              "      <th>unique</th>\n",
              "      <td>1000000</td>\n",
              "      <td>8888</td>\n",
              "      <td>8891</td>\n",
              "      <td>5036</td>\n",
              "      <td>735827</td>\n",
              "      <td>77</td>\n",
              "      <td>77</td>\n",
              "      <td>103</td>\n",
              "      <td>53</td>\n",
              "      <td>1354</td>\n",
              "      <td>8690</td>\n",
              "    </tr>\n",
              "    <tr>\n",
              "      <th>top</th>\n",
              "      <td>41e03734cd00e6fa7573f57e16ac4fbaa7a73cbd</td>\n",
              "      <td>2019-04-27T19:00:00.000</td>\n",
              "      <td>2019-06-06T00:00:00.000</td>\n",
              "      <td>900</td>\n",
              "      <td>0</td>\n",
              "      <td>8</td>\n",
              "      <td>8</td>\n",
              "      <td>5</td>\n",
              "      <td>0</td>\n",
              "      <td>2.55</td>\n",
              "      <td>7.55</td>\n",
              "    </tr>\n",
              "    <tr>\n",
              "      <th>freq</th>\n",
              "      <td>1</td>\n",
              "      <td>301</td>\n",
              "      <td>7268</td>\n",
              "      <td>1907</td>\n",
              "      <td>163</td>\n",
              "      <td>164305</td>\n",
              "      <td>155565</td>\n",
              "      <td>211879</td>\n",
              "      <td>811116</td>\n",
              "      <td>737176</td>\n",
              "      <td>155033</td>\n",
              "    </tr>\n",
              "  </tbody>\n",
              "</table>\n",
              "</div>"
            ],
            "text/plain": [
              "                                         trip_id  ... trip_total\n",
              "count                                    1000000  ...    1000000\n",
              "unique                                   1000000  ...       8690\n",
              "top     41e03734cd00e6fa7573f57e16ac4fbaa7a73cbd  ...       7.55\n",
              "freq                                           1  ...     155033\n",
              "\n",
              "[4 rows x 11 columns]"
            ]
          },
          "metadata": {
            "tags": []
          },
          "execution_count": 36
        }
      ]
    },
    {
      "cell_type": "code",
      "metadata": {
        "id": "cz6DNbpkaEzP",
        "colab_type": "code",
        "outputId": "b5bad6a7-0f5c-44ba-a45f-c376d0426d6e",
        "colab": {
          "base_uri": "https://localhost:8080/",
          "height": 289
        }
      },
      "source": [
        "results_df.info()"
      ],
      "execution_count": 14,
      "outputs": [
        {
          "output_type": "stream",
          "text": [
            "<class 'pandas.core.frame.DataFrame'>\n",
            "RangeIndex: 1000000 entries, 0 to 999999\n",
            "Data columns (total 11 columns):\n",
            "trip_id                   1000000 non-null object\n",
            "trip_start_timestamp      1000000 non-null object\n",
            "trip_end_timestamp        1000000 non-null object\n",
            "trip_seconds              992652 non-null object\n",
            "trip_miles                999918 non-null object\n",
            "pickup_community_area     938052 non-null object\n",
            "dropoff_community_area    931177 non-null object\n",
            "fare                      1000000 non-null object\n",
            "tip                       1000000 non-null object\n",
            "additional_charges        1000000 non-null object\n",
            "trip_total                1000000 non-null object\n",
            "dtypes: object(11)\n",
            "memory usage: 83.9+ MB\n"
          ],
          "name": "stdout"
        }
      ]
    },
    {
      "cell_type": "code",
      "metadata": {
        "id": "TjaWkVxukRFR",
        "colab_type": "code",
        "colab": {}
      },
      "source": [
        "import numpy as np\n",
        "import pandas as pd\n",
        "import matplotlib.pyplot as plt\n",
        "%matplotlib inline\n",
        "import datetime "
      ],
      "execution_count": 0,
      "outputs": []
    },
    {
      "cell_type": "code",
      "metadata": {
        "id": "eYpnRbQ5fX5L",
        "colab_type": "code",
        "colab": {}
      },
      "source": [
        "results_df['trip_start_timestamp']= pd.to_datetime(results_df['trip_start_timestamp'])\n",
        "results_df['trip_end_timestamp']= pd.to_datetime(results_df['trip_end_timestamp'])\n",
        "\n",
        "\n",
        "for col in ['trip_miles','pickup_community_area','dropoff_community_area','fare','tip','additional_charges','trip_total']:\n",
        "    results_df[col]= results_df[col].astype(float)"
      ],
      "execution_count": 0,
      "outputs": []
    },
    {
      "cell_type": "code",
      "metadata": {
        "id": "Un4YXbzkhzcv",
        "colab_type": "code",
        "outputId": "b29919dd-f4bd-4c26-e821-89722fe64cbd",
        "colab": {
          "base_uri": "https://localhost:8080/",
          "height": 224
        }
      },
      "source": [
        "results_df.head()"
      ],
      "execution_count": 39,
      "outputs": [
        {
          "output_type": "execute_result",
          "data": {
            "text/html": [
              "<div>\n",
              "<style scoped>\n",
              "    .dataframe tbody tr th:only-of-type {\n",
              "        vertical-align: middle;\n",
              "    }\n",
              "\n",
              "    .dataframe tbody tr th {\n",
              "        vertical-align: top;\n",
              "    }\n",
              "\n",
              "    .dataframe thead th {\n",
              "        text-align: right;\n",
              "    }\n",
              "</style>\n",
              "<table border=\"1\" class=\"dataframe\">\n",
              "  <thead>\n",
              "    <tr style=\"text-align: right;\">\n",
              "      <th></th>\n",
              "      <th>trip_id</th>\n",
              "      <th>trip_start_timestamp</th>\n",
              "      <th>trip_end_timestamp</th>\n",
              "      <th>trip_seconds</th>\n",
              "      <th>trip_miles</th>\n",
              "      <th>pickup_community_area</th>\n",
              "      <th>dropoff_community_area</th>\n",
              "      <th>fare</th>\n",
              "      <th>tip</th>\n",
              "      <th>additional_charges</th>\n",
              "      <th>trip_total</th>\n",
              "    </tr>\n",
              "  </thead>\n",
              "  <tbody>\n",
              "    <tr>\n",
              "      <th>0</th>\n",
              "      <td>3b017ac598832d41d3cdbe464c84eaf341d6b9fa</td>\n",
              "      <td>2019-06-05 22:30:00</td>\n",
              "      <td>2019-06-05 22:45:00</td>\n",
              "      <td>972</td>\n",
              "      <td>4.747616</td>\n",
              "      <td>32.0</td>\n",
              "      <td>7.0</td>\n",
              "      <td>10.0</td>\n",
              "      <td>0.0</td>\n",
              "      <td>2.55</td>\n",
              "      <td>12.55</td>\n",
              "    </tr>\n",
              "    <tr>\n",
              "      <th>1</th>\n",
              "      <td>3b017b89acea021c084623eb13131ca74cfba4b8</td>\n",
              "      <td>2019-06-24 18:30:00</td>\n",
              "      <td>2019-06-24 19:00:00</td>\n",
              "      <td>2173</td>\n",
              "      <td>10.166629</td>\n",
              "      <td>62.0</td>\n",
              "      <td>NaN</td>\n",
              "      <td>20.0</td>\n",
              "      <td>0.0</td>\n",
              "      <td>2.55</td>\n",
              "      <td>22.55</td>\n",
              "    </tr>\n",
              "    <tr>\n",
              "      <th>2</th>\n",
              "      <td>3b017bc515ae429622a81c96c52d288a851a5a38</td>\n",
              "      <td>2019-04-30 18:45:00</td>\n",
              "      <td>2019-04-30 19:15:00</td>\n",
              "      <td>1366</td>\n",
              "      <td>7.385844</td>\n",
              "      <td>32.0</td>\n",
              "      <td>3.0</td>\n",
              "      <td>15.0</td>\n",
              "      <td>4.0</td>\n",
              "      <td>2.55</td>\n",
              "      <td>21.55</td>\n",
              "    </tr>\n",
              "    <tr>\n",
              "      <th>3</th>\n",
              "      <td>3b017bd5ed093aa8c9b9733e051de0e8ff4cd099</td>\n",
              "      <td>2019-06-25 06:45:00</td>\n",
              "      <td>2019-06-25 07:15:00</td>\n",
              "      <td>1348</td>\n",
              "      <td>5.334453</td>\n",
              "      <td>71.0</td>\n",
              "      <td>44.0</td>\n",
              "      <td>12.5</td>\n",
              "      <td>0.0</td>\n",
              "      <td>2.55</td>\n",
              "      <td>15.05</td>\n",
              "    </tr>\n",
              "    <tr>\n",
              "      <th>4</th>\n",
              "      <td>3b017bdea68424b3092239c2788b1ab61936abef</td>\n",
              "      <td>2019-05-10 17:15:00</td>\n",
              "      <td>2019-05-10 17:30:00</td>\n",
              "      <td>918</td>\n",
              "      <td>2.121624</td>\n",
              "      <td>32.0</td>\n",
              "      <td>33.0</td>\n",
              "      <td>5.0</td>\n",
              "      <td>0.0</td>\n",
              "      <td>2.55</td>\n",
              "      <td>7.55</td>\n",
              "    </tr>\n",
              "  </tbody>\n",
              "</table>\n",
              "</div>"
            ],
            "text/plain": [
              "                                    trip_id  ... trip_total\n",
              "0  3b017ac598832d41d3cdbe464c84eaf341d6b9fa  ...      12.55\n",
              "1  3b017b89acea021c084623eb13131ca74cfba4b8  ...      22.55\n",
              "2  3b017bc515ae429622a81c96c52d288a851a5a38  ...      21.55\n",
              "3  3b017bd5ed093aa8c9b9733e051de0e8ff4cd099  ...      15.05\n",
              "4  3b017bdea68424b3092239c2788b1ab61936abef  ...       7.55\n",
              "\n",
              "[5 rows x 11 columns]"
            ]
          },
          "metadata": {
            "tags": []
          },
          "execution_count": 39
        }
      ]
    },
    {
      "cell_type": "code",
      "metadata": {
        "id": "L1fIwtP7ku3U",
        "colab_type": "code",
        "colab": {}
      },
      "source": [
        "results_df['trip_seconds']= results_df['trip_seconds'].astype(float)"
      ],
      "execution_count": 0,
      "outputs": []
    },
    {
      "cell_type": "code",
      "metadata": {
        "id": "1nzqfTg3DoBK",
        "colab_type": "code",
        "colab": {
          "base_uri": "https://localhost:8080/",
          "height": 289
        },
        "outputId": "1b5bb288-25d7-4dd7-ec4f-9a23c8808630"
      },
      "source": [
        "results_df.info()"
      ],
      "execution_count": 42,
      "outputs": [
        {
          "output_type": "stream",
          "text": [
            "<class 'pandas.core.frame.DataFrame'>\n",
            "RangeIndex: 1000000 entries, 0 to 999999\n",
            "Data columns (total 11 columns):\n",
            "trip_id                   1000000 non-null object\n",
            "trip_start_timestamp      1000000 non-null datetime64[ns]\n",
            "trip_end_timestamp        1000000 non-null datetime64[ns]\n",
            "trip_seconds              992801 non-null float64\n",
            "trip_miles                999924 non-null float64\n",
            "pickup_community_area     937526 non-null float64\n",
            "dropoff_community_area    930757 non-null float64\n",
            "fare                      1000000 non-null float64\n",
            "tip                       1000000 non-null float64\n",
            "additional_charges        1000000 non-null float64\n",
            "trip_total                1000000 non-null float64\n",
            "dtypes: datetime64[ns](2), float64(8), object(1)\n",
            "memory usage: 83.9+ MB\n"
          ],
          "name": "stdout"
        }
      ]
    },
    {
      "cell_type": "code",
      "metadata": {
        "id": "B2x92v8yD02e",
        "colab_type": "code",
        "colab": {}
      },
      "source": [
        "import seaborn as sns"
      ],
      "execution_count": 0,
      "outputs": []
    },
    {
      "cell_type": "code",
      "metadata": {
        "id": "1vPxsGPYEUl6",
        "colab_type": "code",
        "colab": {
          "base_uri": "https://localhost:8080/",
          "height": 439
        },
        "outputId": "3b44bffc-40c6-4a01-b1e3-8c1f59604640"
      },
      "source": [
        "#results_df.drop(columns='trip_id')"
      ],
      "execution_count": 44,
      "outputs": [
        {
          "output_type": "execute_result",
          "data": {
            "text/html": [
              "<div>\n",
              "<style scoped>\n",
              "    .dataframe tbody tr th:only-of-type {\n",
              "        vertical-align: middle;\n",
              "    }\n",
              "\n",
              "    .dataframe tbody tr th {\n",
              "        vertical-align: top;\n",
              "    }\n",
              "\n",
              "    .dataframe thead th {\n",
              "        text-align: right;\n",
              "    }\n",
              "</style>\n",
              "<table border=\"1\" class=\"dataframe\">\n",
              "  <thead>\n",
              "    <tr style=\"text-align: right;\">\n",
              "      <th></th>\n",
              "      <th>trip_start_timestamp</th>\n",
              "      <th>trip_end_timestamp</th>\n",
              "      <th>trip_seconds</th>\n",
              "      <th>trip_miles</th>\n",
              "      <th>pickup_community_area</th>\n",
              "      <th>dropoff_community_area</th>\n",
              "      <th>fare</th>\n",
              "      <th>tip</th>\n",
              "      <th>additional_charges</th>\n",
              "      <th>trip_total</th>\n",
              "    </tr>\n",
              "  </thead>\n",
              "  <tbody>\n",
              "    <tr>\n",
              "      <th>0</th>\n",
              "      <td>2019-06-05 22:30:00</td>\n",
              "      <td>2019-06-05 22:45:00</td>\n",
              "      <td>972.0</td>\n",
              "      <td>4.747616</td>\n",
              "      <td>32.0</td>\n",
              "      <td>7.0</td>\n",
              "      <td>10.0</td>\n",
              "      <td>0.0</td>\n",
              "      <td>2.55</td>\n",
              "      <td>12.55</td>\n",
              "    </tr>\n",
              "    <tr>\n",
              "      <th>1</th>\n",
              "      <td>2019-06-24 18:30:00</td>\n",
              "      <td>2019-06-24 19:00:00</td>\n",
              "      <td>2173.0</td>\n",
              "      <td>10.166629</td>\n",
              "      <td>62.0</td>\n",
              "      <td>NaN</td>\n",
              "      <td>20.0</td>\n",
              "      <td>0.0</td>\n",
              "      <td>2.55</td>\n",
              "      <td>22.55</td>\n",
              "    </tr>\n",
              "    <tr>\n",
              "      <th>2</th>\n",
              "      <td>2019-04-30 18:45:00</td>\n",
              "      <td>2019-04-30 19:15:00</td>\n",
              "      <td>1366.0</td>\n",
              "      <td>7.385844</td>\n",
              "      <td>32.0</td>\n",
              "      <td>3.0</td>\n",
              "      <td>15.0</td>\n",
              "      <td>4.0</td>\n",
              "      <td>2.55</td>\n",
              "      <td>21.55</td>\n",
              "    </tr>\n",
              "    <tr>\n",
              "      <th>3</th>\n",
              "      <td>2019-06-25 06:45:00</td>\n",
              "      <td>2019-06-25 07:15:00</td>\n",
              "      <td>1348.0</td>\n",
              "      <td>5.334453</td>\n",
              "      <td>71.0</td>\n",
              "      <td>44.0</td>\n",
              "      <td>12.5</td>\n",
              "      <td>0.0</td>\n",
              "      <td>2.55</td>\n",
              "      <td>15.05</td>\n",
              "    </tr>\n",
              "    <tr>\n",
              "      <th>4</th>\n",
              "      <td>2019-05-10 17:15:00</td>\n",
              "      <td>2019-05-10 17:30:00</td>\n",
              "      <td>918.0</td>\n",
              "      <td>2.121624</td>\n",
              "      <td>32.0</td>\n",
              "      <td>33.0</td>\n",
              "      <td>5.0</td>\n",
              "      <td>0.0</td>\n",
              "      <td>2.55</td>\n",
              "      <td>7.55</td>\n",
              "    </tr>\n",
              "    <tr>\n",
              "      <th>...</th>\n",
              "      <td>...</td>\n",
              "      <td>...</td>\n",
              "      <td>...</td>\n",
              "      <td>...</td>\n",
              "      <td>...</td>\n",
              "      <td>...</td>\n",
              "      <td>...</td>\n",
              "      <td>...</td>\n",
              "      <td>...</td>\n",
              "      <td>...</td>\n",
              "    </tr>\n",
              "    <tr>\n",
              "      <th>999995</th>\n",
              "      <td>2019-04-03 10:00:00</td>\n",
              "      <td>2019-04-03 10:30:00</td>\n",
              "      <td>1772.0</td>\n",
              "      <td>18.070170</td>\n",
              "      <td>8.0</td>\n",
              "      <td>76.0</td>\n",
              "      <td>25.0</td>\n",
              "      <td>0.0</td>\n",
              "      <td>7.55</td>\n",
              "      <td>32.55</td>\n",
              "    </tr>\n",
              "    <tr>\n",
              "      <th>999996</th>\n",
              "      <td>2019-05-07 08:45:00</td>\n",
              "      <td>2019-05-07 09:00:00</td>\n",
              "      <td>1556.0</td>\n",
              "      <td>2.454644</td>\n",
              "      <td>7.0</td>\n",
              "      <td>28.0</td>\n",
              "      <td>12.5</td>\n",
              "      <td>0.0</td>\n",
              "      <td>0.00</td>\n",
              "      <td>12.50</td>\n",
              "    </tr>\n",
              "    <tr>\n",
              "      <th>999997</th>\n",
              "      <td>2019-05-09 06:30:00</td>\n",
              "      <td>2019-05-09 06:30:00</td>\n",
              "      <td>180.0</td>\n",
              "      <td>0.674738</td>\n",
              "      <td>19.0</td>\n",
              "      <td>19.0</td>\n",
              "      <td>2.5</td>\n",
              "      <td>0.0</td>\n",
              "      <td>2.55</td>\n",
              "      <td>5.05</td>\n",
              "    </tr>\n",
              "    <tr>\n",
              "      <th>999998</th>\n",
              "      <td>2019-05-04 15:30:00</td>\n",
              "      <td>2019-05-04 16:15:00</td>\n",
              "      <td>3137.0</td>\n",
              "      <td>16.983653</td>\n",
              "      <td>8.0</td>\n",
              "      <td>76.0</td>\n",
              "      <td>25.0</td>\n",
              "      <td>5.0</td>\n",
              "      <td>0.00</td>\n",
              "      <td>30.00</td>\n",
              "    </tr>\n",
              "    <tr>\n",
              "      <th>999999</th>\n",
              "      <td>2019-05-06 20:45:00</td>\n",
              "      <td>2019-05-06 20:45:00</td>\n",
              "      <td>246.0</td>\n",
              "      <td>0.752522</td>\n",
              "      <td>8.0</td>\n",
              "      <td>8.0</td>\n",
              "      <td>2.5</td>\n",
              "      <td>0.0</td>\n",
              "      <td>2.55</td>\n",
              "      <td>5.05</td>\n",
              "    </tr>\n",
              "  </tbody>\n",
              "</table>\n",
              "<p>1000000 rows × 10 columns</p>\n",
              "</div>"
            ],
            "text/plain": [
              "       trip_start_timestamp  trip_end_timestamp  ...  additional_charges  trip_total\n",
              "0       2019-06-05 22:30:00 2019-06-05 22:45:00  ...                2.55       12.55\n",
              "1       2019-06-24 18:30:00 2019-06-24 19:00:00  ...                2.55       22.55\n",
              "2       2019-04-30 18:45:00 2019-04-30 19:15:00  ...                2.55       21.55\n",
              "3       2019-06-25 06:45:00 2019-06-25 07:15:00  ...                2.55       15.05\n",
              "4       2019-05-10 17:15:00 2019-05-10 17:30:00  ...                2.55        7.55\n",
              "...                     ...                 ...  ...                 ...         ...\n",
              "999995  2019-04-03 10:00:00 2019-04-03 10:30:00  ...                7.55       32.55\n",
              "999996  2019-05-07 08:45:00 2019-05-07 09:00:00  ...                0.00       12.50\n",
              "999997  2019-05-09 06:30:00 2019-05-09 06:30:00  ...                2.55        5.05\n",
              "999998  2019-05-04 15:30:00 2019-05-04 16:15:00  ...                0.00       30.00\n",
              "999999  2019-05-06 20:45:00 2019-05-06 20:45:00  ...                2.55        5.05\n",
              "\n",
              "[1000000 rows x 10 columns]"
            ]
          },
          "metadata": {
            "tags": []
          },
          "execution_count": 44
        }
      ]
    },
    {
      "cell_type": "code",
      "metadata": {
        "id": "lB4pnRhIH7-n",
        "colab_type": "code",
        "colab": {
          "base_uri": "https://localhost:8080/",
          "height": 224
        },
        "outputId": "9760c15e-2128-4efb-c780-ac32d68552cb"
      },
      "source": [
        "results_df.head()"
      ],
      "execution_count": 45,
      "outputs": [
        {
          "output_type": "execute_result",
          "data": {
            "text/html": [
              "<div>\n",
              "<style scoped>\n",
              "    .dataframe tbody tr th:only-of-type {\n",
              "        vertical-align: middle;\n",
              "    }\n",
              "\n",
              "    .dataframe tbody tr th {\n",
              "        vertical-align: top;\n",
              "    }\n",
              "\n",
              "    .dataframe thead th {\n",
              "        text-align: right;\n",
              "    }\n",
              "</style>\n",
              "<table border=\"1\" class=\"dataframe\">\n",
              "  <thead>\n",
              "    <tr style=\"text-align: right;\">\n",
              "      <th></th>\n",
              "      <th>trip_id</th>\n",
              "      <th>trip_start_timestamp</th>\n",
              "      <th>trip_end_timestamp</th>\n",
              "      <th>trip_seconds</th>\n",
              "      <th>trip_miles</th>\n",
              "      <th>pickup_community_area</th>\n",
              "      <th>dropoff_community_area</th>\n",
              "      <th>fare</th>\n",
              "      <th>tip</th>\n",
              "      <th>additional_charges</th>\n",
              "      <th>trip_total</th>\n",
              "    </tr>\n",
              "  </thead>\n",
              "  <tbody>\n",
              "    <tr>\n",
              "      <th>0</th>\n",
              "      <td>3b017ac598832d41d3cdbe464c84eaf341d6b9fa</td>\n",
              "      <td>2019-06-05 22:30:00</td>\n",
              "      <td>2019-06-05 22:45:00</td>\n",
              "      <td>972.0</td>\n",
              "      <td>4.747616</td>\n",
              "      <td>32.0</td>\n",
              "      <td>7.0</td>\n",
              "      <td>10.0</td>\n",
              "      <td>0.0</td>\n",
              "      <td>2.55</td>\n",
              "      <td>12.55</td>\n",
              "    </tr>\n",
              "    <tr>\n",
              "      <th>1</th>\n",
              "      <td>3b017b89acea021c084623eb13131ca74cfba4b8</td>\n",
              "      <td>2019-06-24 18:30:00</td>\n",
              "      <td>2019-06-24 19:00:00</td>\n",
              "      <td>2173.0</td>\n",
              "      <td>10.166629</td>\n",
              "      <td>62.0</td>\n",
              "      <td>NaN</td>\n",
              "      <td>20.0</td>\n",
              "      <td>0.0</td>\n",
              "      <td>2.55</td>\n",
              "      <td>22.55</td>\n",
              "    </tr>\n",
              "    <tr>\n",
              "      <th>2</th>\n",
              "      <td>3b017bc515ae429622a81c96c52d288a851a5a38</td>\n",
              "      <td>2019-04-30 18:45:00</td>\n",
              "      <td>2019-04-30 19:15:00</td>\n",
              "      <td>1366.0</td>\n",
              "      <td>7.385844</td>\n",
              "      <td>32.0</td>\n",
              "      <td>3.0</td>\n",
              "      <td>15.0</td>\n",
              "      <td>4.0</td>\n",
              "      <td>2.55</td>\n",
              "      <td>21.55</td>\n",
              "    </tr>\n",
              "    <tr>\n",
              "      <th>3</th>\n",
              "      <td>3b017bd5ed093aa8c9b9733e051de0e8ff4cd099</td>\n",
              "      <td>2019-06-25 06:45:00</td>\n",
              "      <td>2019-06-25 07:15:00</td>\n",
              "      <td>1348.0</td>\n",
              "      <td>5.334453</td>\n",
              "      <td>71.0</td>\n",
              "      <td>44.0</td>\n",
              "      <td>12.5</td>\n",
              "      <td>0.0</td>\n",
              "      <td>2.55</td>\n",
              "      <td>15.05</td>\n",
              "    </tr>\n",
              "    <tr>\n",
              "      <th>4</th>\n",
              "      <td>3b017bdea68424b3092239c2788b1ab61936abef</td>\n",
              "      <td>2019-05-10 17:15:00</td>\n",
              "      <td>2019-05-10 17:30:00</td>\n",
              "      <td>918.0</td>\n",
              "      <td>2.121624</td>\n",
              "      <td>32.0</td>\n",
              "      <td>33.0</td>\n",
              "      <td>5.0</td>\n",
              "      <td>0.0</td>\n",
              "      <td>2.55</td>\n",
              "      <td>7.55</td>\n",
              "    </tr>\n",
              "  </tbody>\n",
              "</table>\n",
              "</div>"
            ],
            "text/plain": [
              "                                    trip_id  ... trip_total\n",
              "0  3b017ac598832d41d3cdbe464c84eaf341d6b9fa  ...      12.55\n",
              "1  3b017b89acea021c084623eb13131ca74cfba4b8  ...      22.55\n",
              "2  3b017bc515ae429622a81c96c52d288a851a5a38  ...      21.55\n",
              "3  3b017bd5ed093aa8c9b9733e051de0e8ff4cd099  ...      15.05\n",
              "4  3b017bdea68424b3092239c2788b1ab61936abef  ...       7.55\n",
              "\n",
              "[5 rows x 11 columns]"
            ]
          },
          "metadata": {
            "tags": []
          },
          "execution_count": 45
        }
      ]
    },
    {
      "cell_type": "code",
      "metadata": {
        "id": "Q0d9nIc4Ihlx",
        "colab_type": "code",
        "colab": {}
      },
      "source": [
        "results_df.to_csv('rideshare1.csv', index=False)"
      ],
      "execution_count": 0,
      "outputs": []
    },
    {
      "cell_type": "code",
      "metadata": {
        "id": "Nw_hx3PAI0yN",
        "colab_type": "code",
        "colab": {
          "base_uri": "https://localhost:8080/",
          "height": 34
        },
        "outputId": "201204c5-36ff-4406-81ba-514019020ab7"
      },
      "source": [
        "!pwd"
      ],
      "execution_count": 47,
      "outputs": [
        {
          "output_type": "stream",
          "text": [
            "/content\n"
          ],
          "name": "stdout"
        }
      ]
    },
    {
      "cell_type": "code",
      "metadata": {
        "id": "xz2sYWndJlIy",
        "colab_type": "code",
        "colab": {
          "base_uri": "https://localhost:8080/",
          "height": 34
        },
        "outputId": "0a7fa942-c664-4997-f5f8-fa94684a62f7"
      },
      "source": [
        "! ~"
      ],
      "execution_count": 48,
      "outputs": [
        {
          "output_type": "stream",
          "text": [
            "/bin/bash: /root: Is a directory\n"
          ],
          "name": "stdout"
        }
      ]
    },
    {
      "cell_type": "code",
      "metadata": {
        "id": "ONEtWJUeJpHm",
        "colab_type": "code",
        "colab": {
          "base_uri": "https://localhost:8080/",
          "height": 204
        },
        "outputId": "c4ecbad0-ae8d-4be7-d694-a80c52f2654b"
      },
      "source": [
        "ride_data = results_df.iloc[:200001,1:7]\n",
        "ride_data.head()"
      ],
      "execution_count": 53,
      "outputs": [
        {
          "output_type": "execute_result",
          "data": {
            "text/html": [
              "<div>\n",
              "<style scoped>\n",
              "    .dataframe tbody tr th:only-of-type {\n",
              "        vertical-align: middle;\n",
              "    }\n",
              "\n",
              "    .dataframe tbody tr th {\n",
              "        vertical-align: top;\n",
              "    }\n",
              "\n",
              "    .dataframe thead th {\n",
              "        text-align: right;\n",
              "    }\n",
              "</style>\n",
              "<table border=\"1\" class=\"dataframe\">\n",
              "  <thead>\n",
              "    <tr style=\"text-align: right;\">\n",
              "      <th></th>\n",
              "      <th>trip_start_timestamp</th>\n",
              "      <th>trip_end_timestamp</th>\n",
              "      <th>trip_seconds</th>\n",
              "      <th>trip_miles</th>\n",
              "      <th>pickup_community_area</th>\n",
              "      <th>dropoff_community_area</th>\n",
              "    </tr>\n",
              "  </thead>\n",
              "  <tbody>\n",
              "    <tr>\n",
              "      <th>0</th>\n",
              "      <td>2019-06-05 22:30:00</td>\n",
              "      <td>2019-06-05 22:45:00</td>\n",
              "      <td>972.0</td>\n",
              "      <td>4.747616</td>\n",
              "      <td>32.0</td>\n",
              "      <td>7.0</td>\n",
              "    </tr>\n",
              "    <tr>\n",
              "      <th>1</th>\n",
              "      <td>2019-06-24 18:30:00</td>\n",
              "      <td>2019-06-24 19:00:00</td>\n",
              "      <td>2173.0</td>\n",
              "      <td>10.166629</td>\n",
              "      <td>62.0</td>\n",
              "      <td>NaN</td>\n",
              "    </tr>\n",
              "    <tr>\n",
              "      <th>2</th>\n",
              "      <td>2019-04-30 18:45:00</td>\n",
              "      <td>2019-04-30 19:15:00</td>\n",
              "      <td>1366.0</td>\n",
              "      <td>7.385844</td>\n",
              "      <td>32.0</td>\n",
              "      <td>3.0</td>\n",
              "    </tr>\n",
              "    <tr>\n",
              "      <th>3</th>\n",
              "      <td>2019-06-25 06:45:00</td>\n",
              "      <td>2019-06-25 07:15:00</td>\n",
              "      <td>1348.0</td>\n",
              "      <td>5.334453</td>\n",
              "      <td>71.0</td>\n",
              "      <td>44.0</td>\n",
              "    </tr>\n",
              "    <tr>\n",
              "      <th>4</th>\n",
              "      <td>2019-05-10 17:15:00</td>\n",
              "      <td>2019-05-10 17:30:00</td>\n",
              "      <td>918.0</td>\n",
              "      <td>2.121624</td>\n",
              "      <td>32.0</td>\n",
              "      <td>33.0</td>\n",
              "    </tr>\n",
              "  </tbody>\n",
              "</table>\n",
              "</div>"
            ],
            "text/plain": [
              "  trip_start_timestamp  ... dropoff_community_area\n",
              "0  2019-06-05 22:30:00  ...                    7.0\n",
              "1  2019-06-24 18:30:00  ...                    NaN\n",
              "2  2019-04-30 18:45:00  ...                    3.0\n",
              "3  2019-06-25 06:45:00  ...                   44.0\n",
              "4  2019-05-10 17:15:00  ...                   33.0\n",
              "\n",
              "[5 rows x 6 columns]"
            ]
          },
          "metadata": {
            "tags": []
          },
          "execution_count": 53
        }
      ]
    },
    {
      "cell_type": "code",
      "metadata": {
        "id": "5uF4cxpwKITk",
        "colab_type": "code",
        "colab": {
          "base_uri": "https://localhost:8080/",
          "height": 810
        },
        "outputId": "1d498967-4dff-44ae-cba3-fe90c77fb9a3"
      },
      "source": [
        "sns.pairplot(ride_data)"
      ],
      "execution_count": 54,
      "outputs": [
        {
          "output_type": "stream",
          "text": [
            "/usr/local/lib/python3.6/dist-packages/numpy/lib/histograms.py:839: RuntimeWarning: invalid value encountered in greater_equal\n",
            "  keep = (tmp_a >= first_edge)\n",
            "/usr/local/lib/python3.6/dist-packages/numpy/lib/histograms.py:840: RuntimeWarning: invalid value encountered in less_equal\n",
            "  keep &= (tmp_a <= last_edge)\n"
          ],
          "name": "stderr"
        },
        {
          "output_type": "execute_result",
          "data": {
            "text/plain": [
              "<seaborn.axisgrid.PairGrid at 0x7f169cfc8828>"
            ]
          },
          "metadata": {
            "tags": []
          },
          "execution_count": 54
        },
        {
          "output_type": "display_data",
          "data": {
            "image/png": "[encoded data removed]",
            "text/plain": [
              "<Figure size 720x720 with 20 Axes>"
            ]
          },
          "metadata": {
            "tags": []
          }
        }
      ]
    },
    {
      "cell_type": "code",
      "metadata": {
        "id": "-r5MUHJhKy1-",
        "colab_type": "code",
        "colab": {
          "base_uri": "https://localhost:8080/",
          "height": 173
        },
        "outputId": "6c421946-50bb-4338-db53-9fa5d17c277c"
      },
      "source": [
        "ride_data.corr()"
      ],
      "execution_count": 55,
      "outputs": [
        {
          "output_type": "execute_result",
          "data": {
            "text/html": [
              "<div>\n",
              "<style scoped>\n",
              "    .dataframe tbody tr th:only-of-type {\n",
              "        vertical-align: middle;\n",
              "    }\n",
              "\n",
              "    .dataframe tbody tr th {\n",
              "        vertical-align: top;\n",
              "    }\n",
              "\n",
              "    .dataframe thead th {\n",
              "        text-align: right;\n",
              "    }\n",
              "</style>\n",
              "<table border=\"1\" class=\"dataframe\">\n",
              "  <thead>\n",
              "    <tr style=\"text-align: right;\">\n",
              "      <th></th>\n",
              "      <th>trip_seconds</th>\n",
              "      <th>trip_miles</th>\n",
              "      <th>pickup_community_area</th>\n",
              "      <th>dropoff_community_area</th>\n",
              "    </tr>\n",
              "  </thead>\n",
              "  <tbody>\n",
              "    <tr>\n",
              "      <th>trip_seconds</th>\n",
              "      <td>1.000000</td>\n",
              "      <td>0.817619</td>\n",
              "      <td>0.201505</td>\n",
              "      <td>0.232667</td>\n",
              "    </tr>\n",
              "    <tr>\n",
              "      <th>trip_miles</th>\n",
              "      <td>0.817619</td>\n",
              "      <td>1.000000</td>\n",
              "      <td>0.296859</td>\n",
              "      <td>0.342950</td>\n",
              "    </tr>\n",
              "    <tr>\n",
              "      <th>pickup_community_area</th>\n",
              "      <td>0.201505</td>\n",
              "      <td>0.296859</td>\n",
              "      <td>1.000000</td>\n",
              "      <td>0.288050</td>\n",
              "    </tr>\n",
              "    <tr>\n",
              "      <th>dropoff_community_area</th>\n",
              "      <td>0.232667</td>\n",
              "      <td>0.342950</td>\n",
              "      <td>0.288050</td>\n",
              "      <td>1.000000</td>\n",
              "    </tr>\n",
              "  </tbody>\n",
              "</table>\n",
              "</div>"
            ],
            "text/plain": [
              "                        trip_seconds  ...  dropoff_community_area\n",
              "trip_seconds                1.000000  ...                0.232667\n",
              "trip_miles                  0.817619  ...                0.342950\n",
              "pickup_community_area       0.201505  ...                0.288050\n",
              "dropoff_community_area      0.232667  ...                1.000000\n",
              "\n",
              "[4 rows x 4 columns]"
            ]
          },
          "metadata": {
            "tags": []
          },
          "execution_count": 55
        }
      ]
    },
    {
      "cell_type": "code",
      "metadata": {
        "id": "BIOArn2HMLkH",
        "colab_type": "code",
        "colab": {
          "base_uri": "https://localhost:8080/",
          "height": 397
        },
        "outputId": "7586ad82-f86b-4938-e433-de7f8f86d6ed"
      },
      "source": [
        "sns.heatmap(ride_data.corr(), center=0)"
      ],
      "execution_count": 56,
      "outputs": [
        {
          "output_type": "execute_result",
          "data": {
            "text/plain": [
              "<matplotlib.axes._subplots.AxesSubplot at 0x7f169360b550>"
            ]
          },
          "metadata": {
            "tags": []
          },
          "execution_count": 56
        },
        {
          "output_type": "display_data",
          "data": {
            "image/png": "[encoded data removed]",
            "text/plain": [
              "<Figure size 432x288 with 2 Axes>"
            ]
          },
          "metadata": {
            "tags": []
          }
        }
      ]
    },
    {
      "cell_type": "code",
      "metadata": {
        "id": "hceNRv39Mogy",
        "colab_type": "code",
        "colab": {}
      },
      "source": [
        "results_df['start_date'] = [d.date() for d in results_df['trip_start_timestamp']]\n",
        "results_df['start_time'] = [d.time() for d in results_df['trip_start_timestamp']]"
      ],
      "execution_count": 0,
      "outputs": []
    },
    {
      "cell_type": "code",
      "metadata": {
        "id": "A_QWINmbUxAa",
        "colab_type": "code",
        "colab": {
          "base_uri": "https://localhost:8080/",
          "height": 224
        },
        "outputId": "13f3bc9b-62a6-4c72-e453-1b1d44e29e50"
      },
      "source": [
        "results_df.head()"
      ],
      "execution_count": 58,
      "outputs": [
        {
          "output_type": "execute_result",
          "data": {
            "text/html": [
              "<div>\n",
              "<style scoped>\n",
              "    .dataframe tbody tr th:only-of-type {\n",
              "        vertical-align: middle;\n",
              "    }\n",
              "\n",
              "    .dataframe tbody tr th {\n",
              "        vertical-align: top;\n",
              "    }\n",
              "\n",
              "    .dataframe thead th {\n",
              "        text-align: right;\n",
              "    }\n",
              "</style>\n",
              "<table border=\"1\" class=\"dataframe\">\n",
              "  <thead>\n",
              "    <tr style=\"text-align: right;\">\n",
              "      <th></th>\n",
              "      <th>trip_id</th>\n",
              "      <th>trip_start_timestamp</th>\n",
              "      <th>trip_end_timestamp</th>\n",
              "      <th>trip_seconds</th>\n",
              "      <th>trip_miles</th>\n",
              "      <th>pickup_community_area</th>\n",
              "      <th>dropoff_community_area</th>\n",
              "      <th>fare</th>\n",
              "      <th>tip</th>\n",
              "      <th>additional_charges</th>\n",
              "      <th>trip_total</th>\n",
              "      <th>start_date</th>\n",
              "      <th>start_time</th>\n",
              "    </tr>\n",
              "  </thead>\n",
              "  <tbody>\n",
              "    <tr>\n",
              "      <th>0</th>\n",
              "      <td>3b017ac598832d41d3cdbe464c84eaf341d6b9fa</td>\n",
              "      <td>2019-06-05 22:30:00</td>\n",
              "      <td>2019-06-05 22:45:00</td>\n",
              "      <td>972.0</td>\n",
              "      <td>4.747616</td>\n",
              "      <td>32.0</td>\n",
              "      <td>7.0</td>\n",
              "      <td>10.0</td>\n",
              "      <td>0.0</td>\n",
              "      <td>2.55</td>\n",
              "      <td>12.55</td>\n",
              "      <td>2019-06-05</td>\n",
              "      <td>22:30:00</td>\n",
              "    </tr>\n",
              "    <tr>\n",
              "      <th>1</th>\n",
              "      <td>3b017b89acea021c084623eb13131ca74cfba4b8</td>\n",
              "      <td>2019-06-24 18:30:00</td>\n",
              "      <td>2019-06-24 19:00:00</td>\n",
              "      <td>2173.0</td>\n",
              "      <td>10.166629</td>\n",
              "      <td>62.0</td>\n",
              "      <td>NaN</td>\n",
              "      <td>20.0</td>\n",
              "      <td>0.0</td>\n",
              "      <td>2.55</td>\n",
              "      <td>22.55</td>\n",
              "      <td>2019-06-24</td>\n",
              "      <td>18:30:00</td>\n",
              "    </tr>\n",
              "    <tr>\n",
              "      <th>2</th>\n",
              "      <td>3b017bc515ae429622a81c96c52d288a851a5a38</td>\n",
              "      <td>2019-04-30 18:45:00</td>\n",
              "      <td>2019-04-30 19:15:00</td>\n",
              "      <td>1366.0</td>\n",
              "      <td>7.385844</td>\n",
              "      <td>32.0</td>\n",
              "      <td>3.0</td>\n",
              "      <td>15.0</td>\n",
              "      <td>4.0</td>\n",
              "      <td>2.55</td>\n",
              "      <td>21.55</td>\n",
              "      <td>2019-04-30</td>\n",
              "      <td>18:45:00</td>\n",
              "    </tr>\n",
              "    <tr>\n",
              "      <th>3</th>\n",
              "      <td>3b017bd5ed093aa8c9b9733e051de0e8ff4cd099</td>\n",
              "      <td>2019-06-25 06:45:00</td>\n",
              "      <td>2019-06-25 07:15:00</td>\n",
              "      <td>1348.0</td>\n",
              "      <td>5.334453</td>\n",
              "      <td>71.0</td>\n",
              "      <td>44.0</td>\n",
              "      <td>12.5</td>\n",
              "      <td>0.0</td>\n",
              "      <td>2.55</td>\n",
              "      <td>15.05</td>\n",
              "      <td>2019-06-25</td>\n",
              "      <td>06:45:00</td>\n",
              "    </tr>\n",
              "    <tr>\n",
              "      <th>4</th>\n",
              "      <td>3b017bdea68424b3092239c2788b1ab61936abef</td>\n",
              "      <td>2019-05-10 17:15:00</td>\n",
              "      <td>2019-05-10 17:30:00</td>\n",
              "      <td>918.0</td>\n",
              "      <td>2.121624</td>\n",
              "      <td>32.0</td>\n",
              "      <td>33.0</td>\n",
              "      <td>5.0</td>\n",
              "      <td>0.0</td>\n",
              "      <td>2.55</td>\n",
              "      <td>7.55</td>\n",
              "      <td>2019-05-10</td>\n",
              "      <td>17:15:00</td>\n",
              "    </tr>\n",
              "  </tbody>\n",
              "</table>\n",
              "</div>"
            ],
            "text/plain": [
              "                                    trip_id  ... start_time\n",
              "0  3b017ac598832d41d3cdbe464c84eaf341d6b9fa  ...   22:30:00\n",
              "1  3b017b89acea021c084623eb13131ca74cfba4b8  ...   18:30:00\n",
              "2  3b017bc515ae429622a81c96c52d288a851a5a38  ...   18:45:00\n",
              "3  3b017bd5ed093aa8c9b9733e051de0e8ff4cd099  ...   06:45:00\n",
              "4  3b017bdea68424b3092239c2788b1ab61936abef  ...   17:15:00\n",
              "\n",
              "[5 rows x 13 columns]"
            ]
          },
          "metadata": {
            "tags": []
          },
          "execution_count": 58
        }
      ]
    },
    {
      "cell_type": "code",
      "metadata": {
        "id": "bW-hXQHqU1T2",
        "colab_type": "code",
        "colab": {
          "base_uri": "https://localhost:8080/",
          "height": 309
        },
        "outputId": "e914ac5e-3354-4b49-80cb-922f32312593"
      },
      "source": [
        "results_df['end_date'] = [d.date() for d in results_df['trip_end_timestamp']]\n",
        "results_df['end_time'] = [d.time() for d in results_df['trip_end_timestamp']]\n",
        "results_df.head()"
      ],
      "execution_count": 59,
      "outputs": [
        {
          "output_type": "execute_result",
          "data": {
            "text/html": [
              "<div>\n",
              "<style scoped>\n",
              "    .dataframe tbody tr th:only-of-type {\n",
              "        vertical-align: middle;\n",
              "    }\n",
              "\n",
              "    .dataframe tbody tr th {\n",
              "        vertical-align: top;\n",
              "    }\n",
              "\n",
              "    .dataframe thead th {\n",
              "        text-align: right;\n",
              "    }\n",
              "</style>\n",
              "<table border=\"1\" class=\"dataframe\">\n",
              "  <thead>\n",
              "    <tr style=\"text-align: right;\">\n",
              "      <th></th>\n",
              "      <th>trip_id</th>\n",
              "      <th>trip_start_timestamp</th>\n",
              "      <th>trip_end_timestamp</th>\n",
              "      <th>trip_seconds</th>\n",
              "      <th>trip_miles</th>\n",
              "      <th>pickup_community_area</th>\n",
              "      <th>dropoff_community_area</th>\n",
              "      <th>fare</th>\n",
              "      <th>tip</th>\n",
              "      <th>additional_charges</th>\n",
              "      <th>trip_total</th>\n",
              "      <th>start_date</th>\n",
              "      <th>start_time</th>\n",
              "      <th>end_date</th>\n",
              "      <th>end_time</th>\n",
              "    </tr>\n",
              "  </thead>\n",
              "  <tbody>\n",
              "    <tr>\n",
              "      <th>0</th>\n",
              "      <td>3b017ac598832d41d3cdbe464c84eaf341d6b9fa</td>\n",
              "      <td>2019-06-05 22:30:00</td>\n",
              "      <td>2019-06-05 22:45:00</td>\n",
              "      <td>972.0</td>\n",
              "      <td>4.747616</td>\n",
              "      <td>32.0</td>\n",
              "      <td>7.0</td>\n",
              "      <td>10.0</td>\n",
              "      <td>0.0</td>\n",
              "      <td>2.55</td>\n",
              "      <td>12.55</td>\n",
              "      <td>2019-06-05</td>\n",
              "      <td>22:30:00</td>\n",
              "      <td>2019-06-05</td>\n",
              "      <td>22:45:00</td>\n",
              "    </tr>\n",
              "    <tr>\n",
              "      <th>1</th>\n",
              "      <td>3b017b89acea021c084623eb13131ca74cfba4b8</td>\n",
              "      <td>2019-06-24 18:30:00</td>\n",
              "      <td>2019-06-24 19:00:00</td>\n",
              "      <td>2173.0</td>\n",
              "      <td>10.166629</td>\n",
              "      <td>62.0</td>\n",
              "      <td>NaN</td>\n",
              "      <td>20.0</td>\n",
              "      <td>0.0</td>\n",
              "      <td>2.55</td>\n",
              "      <td>22.55</td>\n",
              "      <td>2019-06-24</td>\n",
              "      <td>18:30:00</td>\n",
              "      <td>2019-06-24</td>\n",
              "      <td>19:00:00</td>\n",
              "    </tr>\n",
              "    <tr>\n",
              "      <th>2</th>\n",
              "      <td>3b017bc515ae429622a81c96c52d288a851a5a38</td>\n",
              "      <td>2019-04-30 18:45:00</td>\n",
              "      <td>2019-04-30 19:15:00</td>\n",
              "      <td>1366.0</td>\n",
              "      <td>7.385844</td>\n",
              "      <td>32.0</td>\n",
              "      <td>3.0</td>\n",
              "      <td>15.0</td>\n",
              "      <td>4.0</td>\n",
              "      <td>2.55</td>\n",
              "      <td>21.55</td>\n",
              "      <td>2019-04-30</td>\n",
              "      <td>18:45:00</td>\n",
              "      <td>2019-04-30</td>\n",
              "      <td>19:15:00</td>\n",
              "    </tr>\n",
              "    <tr>\n",
              "      <th>3</th>\n",
              "      <td>3b017bd5ed093aa8c9b9733e051de0e8ff4cd099</td>\n",
              "      <td>2019-06-25 06:45:00</td>\n",
              "      <td>2019-06-25 07:15:00</td>\n",
              "      <td>1348.0</td>\n",
              "      <td>5.334453</td>\n",
              "      <td>71.0</td>\n",
              "      <td>44.0</td>\n",
              "      <td>12.5</td>\n",
              "      <td>0.0</td>\n",
              "      <td>2.55</td>\n",
              "      <td>15.05</td>\n",
              "      <td>2019-06-25</td>\n",
              "      <td>06:45:00</td>\n",
              "      <td>2019-06-25</td>\n",
              "      <td>07:15:00</td>\n",
              "    </tr>\n",
              "    <tr>\n",
              "      <th>4</th>\n",
              "      <td>3b017bdea68424b3092239c2788b1ab61936abef</td>\n",
              "      <td>2019-05-10 17:15:00</td>\n",
              "      <td>2019-05-10 17:30:00</td>\n",
              "      <td>918.0</td>\n",
              "      <td>2.121624</td>\n",
              "      <td>32.0</td>\n",
              "      <td>33.0</td>\n",
              "      <td>5.0</td>\n",
              "      <td>0.0</td>\n",
              "      <td>2.55</td>\n",
              "      <td>7.55</td>\n",
              "      <td>2019-05-10</td>\n",
              "      <td>17:15:00</td>\n",
              "      <td>2019-05-10</td>\n",
              "      <td>17:30:00</td>\n",
              "    </tr>\n",
              "  </tbody>\n",
              "</table>\n",
              "</div>"
            ],
            "text/plain": [
              "                                    trip_id  ...  end_time\n",
              "0  3b017ac598832d41d3cdbe464c84eaf341d6b9fa  ...  22:45:00\n",
              "1  3b017b89acea021c084623eb13131ca74cfba4b8  ...  19:00:00\n",
              "2  3b017bc515ae429622a81c96c52d288a851a5a38  ...  19:15:00\n",
              "3  3b017bd5ed093aa8c9b9733e051de0e8ff4cd099  ...  07:15:00\n",
              "4  3b017bdea68424b3092239c2788b1ab61936abef  ...  17:30:00\n",
              "\n",
              "[5 rows x 15 columns]"
            ]
          },
          "metadata": {
            "tags": []
          },
          "execution_count": 59
        }
      ]
    },
    {
      "cell_type": "code",
      "metadata": {
        "id": "OyEh9R6TVm-m",
        "colab_type": "code",
        "colab": {
          "base_uri": "https://localhost:8080/",
          "height": 357
        },
        "outputId": "c431adfd-09ba-41d1-9877-87d85d3d08fc"
      },
      "source": [
        "results_df.info()"
      ],
      "execution_count": 61,
      "outputs": [
        {
          "output_type": "stream",
          "text": [
            "<class 'pandas.core.frame.DataFrame'>\n",
            "RangeIndex: 1000000 entries, 0 to 999999\n",
            "Data columns (total 15 columns):\n",
            "trip_id                   1000000 non-null object\n",
            "trip_start_timestamp      1000000 non-null datetime64[ns]\n",
            "trip_end_timestamp        1000000 non-null datetime64[ns]\n",
            "trip_seconds              992801 non-null float64\n",
            "trip_miles                999924 non-null float64\n",
            "pickup_community_area     937526 non-null float64\n",
            "dropoff_community_area    930757 non-null float64\n",
            "fare                      1000000 non-null float64\n",
            "tip                       1000000 non-null float64\n",
            "additional_charges        1000000 non-null float64\n",
            "trip_total                1000000 non-null float64\n",
            "start_date                1000000 non-null object\n",
            "start_time                1000000 non-null object\n",
            "end_date                  1000000 non-null object\n",
            "end_time                  1000000 non-null object\n",
            "dtypes: datetime64[ns](2), float64(8), object(5)\n",
            "memory usage: 114.4+ MB\n"
          ],
          "name": "stdout"
        }
      ]
    },
    {
      "cell_type": "code",
      "metadata": {
        "id": "214Hu3CXXaBl",
        "colab_type": "code",
        "colab": {}
      },
      "source": [
        "results_df['start_time'] = pd.to_datetime(results_df['start_time'])"
      ],
      "execution_count": 0,
      "outputs": []
    },
    {
      "cell_type": "code",
      "metadata": {
        "id": "hivfEYkcZIfe",
        "colab_type": "code",
        "colab": {
          "base_uri": "https://localhost:8080/",
          "height": 309
        },
        "outputId": "5b1b3cd1-fa27-4626-cff2-772196c9fc04"
      },
      "source": [
        "results_df.head()"
      ],
      "execution_count": 65,
      "outputs": [
        {
          "output_type": "execute_result",
          "data": {
            "text/html": [
              "<div>\n",
              "<style scoped>\n",
              "    .dataframe tbody tr th:only-of-type {\n",
              "        vertical-align: middle;\n",
              "    }\n",
              "\n",
              "    .dataframe tbody tr th {\n",
              "        vertical-align: top;\n",
              "    }\n",
              "\n",
              "    .dataframe thead th {\n",
              "        text-align: right;\n",
              "    }\n",
              "</style>\n",
              "<table border=\"1\" class=\"dataframe\">\n",
              "  <thead>\n",
              "    <tr style=\"text-align: right;\">\n",
              "      <th></th>\n",
              "      <th>trip_id</th>\n",
              "      <th>trip_start_timestamp</th>\n",
              "      <th>trip_end_timestamp</th>\n",
              "      <th>trip_seconds</th>\n",
              "      <th>trip_miles</th>\n",
              "      <th>pickup_community_area</th>\n",
              "      <th>dropoff_community_area</th>\n",
              "      <th>fare</th>\n",
              "      <th>tip</th>\n",
              "      <th>additional_charges</th>\n",
              "      <th>trip_total</th>\n",
              "      <th>start_date</th>\n",
              "      <th>start_time</th>\n",
              "      <th>end_date</th>\n",
              "      <th>end_time</th>\n",
              "    </tr>\n",
              "  </thead>\n",
              "  <tbody>\n",
              "    <tr>\n",
              "      <th>0</th>\n",
              "      <td>3b017ac598832d41d3cdbe464c84eaf341d6b9fa</td>\n",
              "      <td>2019-06-05 22:30:00</td>\n",
              "      <td>2019-06-05 22:45:00</td>\n",
              "      <td>972.0</td>\n",
              "      <td>4.747616</td>\n",
              "      <td>32.0</td>\n",
              "      <td>7.0</td>\n",
              "      <td>10.0</td>\n",
              "      <td>0.0</td>\n",
              "      <td>2.55</td>\n",
              "      <td>12.55</td>\n",
              "      <td>2019-06-05</td>\n",
              "      <td>2019-06-05</td>\n",
              "      <td>2019-06-05</td>\n",
              "      <td>22:45:00</td>\n",
              "    </tr>\n",
              "    <tr>\n",
              "      <th>1</th>\n",
              "      <td>3b017b89acea021c084623eb13131ca74cfba4b8</td>\n",
              "      <td>2019-06-24 18:30:00</td>\n",
              "      <td>2019-06-24 19:00:00</td>\n",
              "      <td>2173.0</td>\n",
              "      <td>10.166629</td>\n",
              "      <td>62.0</td>\n",
              "      <td>NaN</td>\n",
              "      <td>20.0</td>\n",
              "      <td>0.0</td>\n",
              "      <td>2.55</td>\n",
              "      <td>22.55</td>\n",
              "      <td>2019-06-24</td>\n",
              "      <td>2019-06-24</td>\n",
              "      <td>2019-06-24</td>\n",
              "      <td>19:00:00</td>\n",
              "    </tr>\n",
              "    <tr>\n",
              "      <th>2</th>\n",
              "      <td>3b017bc515ae429622a81c96c52d288a851a5a38</td>\n",
              "      <td>2019-04-30 18:45:00</td>\n",
              "      <td>2019-04-30 19:15:00</td>\n",
              "      <td>1366.0</td>\n",
              "      <td>7.385844</td>\n",
              "      <td>32.0</td>\n",
              "      <td>3.0</td>\n",
              "      <td>15.0</td>\n",
              "      <td>4.0</td>\n",
              "      <td>2.55</td>\n",
              "      <td>21.55</td>\n",
              "      <td>2019-04-30</td>\n",
              "      <td>2019-04-30</td>\n",
              "      <td>2019-04-30</td>\n",
              "      <td>19:15:00</td>\n",
              "    </tr>\n",
              "    <tr>\n",
              "      <th>3</th>\n",
              "      <td>3b017bd5ed093aa8c9b9733e051de0e8ff4cd099</td>\n",
              "      <td>2019-06-25 06:45:00</td>\n",
              "      <td>2019-06-25 07:15:00</td>\n",
              "      <td>1348.0</td>\n",
              "      <td>5.334453</td>\n",
              "      <td>71.0</td>\n",
              "      <td>44.0</td>\n",
              "      <td>12.5</td>\n",
              "      <td>0.0</td>\n",
              "      <td>2.55</td>\n",
              "      <td>15.05</td>\n",
              "      <td>2019-06-25</td>\n",
              "      <td>2019-06-25</td>\n",
              "      <td>2019-06-25</td>\n",
              "      <td>07:15:00</td>\n",
              "    </tr>\n",
              "    <tr>\n",
              "      <th>4</th>\n",
              "      <td>3b017bdea68424b3092239c2788b1ab61936abef</td>\n",
              "      <td>2019-05-10 17:15:00</td>\n",
              "      <td>2019-05-10 17:30:00</td>\n",
              "      <td>918.0</td>\n",
              "      <td>2.121624</td>\n",
              "      <td>32.0</td>\n",
              "      <td>33.0</td>\n",
              "      <td>5.0</td>\n",
              "      <td>0.0</td>\n",
              "      <td>2.55</td>\n",
              "      <td>7.55</td>\n",
              "      <td>2019-05-10</td>\n",
              "      <td>2019-05-10</td>\n",
              "      <td>2019-05-10</td>\n",
              "      <td>17:30:00</td>\n",
              "    </tr>\n",
              "  </tbody>\n",
              "</table>\n",
              "</div>"
            ],
            "text/plain": [
              "                                    trip_id  ...  end_time\n",
              "0  3b017ac598832d41d3cdbe464c84eaf341d6b9fa  ...  22:45:00\n",
              "1  3b017b89acea021c084623eb13131ca74cfba4b8  ...  19:00:00\n",
              "2  3b017bc515ae429622a81c96c52d288a851a5a38  ...  19:15:00\n",
              "3  3b017bd5ed093aa8c9b9733e051de0e8ff4cd099  ...  07:15:00\n",
              "4  3b017bdea68424b3092239c2788b1ab61936abef  ...  17:30:00\n",
              "\n",
              "[5 rows x 15 columns]"
            ]
          },
          "metadata": {
            "tags": []
          },
          "execution_count": 65
        }
      ]
    },
    {
      "cell_type": "code",
      "metadata": {
        "id": "Bqwj2FIkZLgH",
        "colab_type": "code",
        "colab": {
          "base_uri": "https://localhost:8080/",
          "height": 357
        },
        "outputId": "d14094bf-a54c-4868-8c37-912aa3763ca9"
      },
      "source": [
        "results_df.info()"
      ],
      "execution_count": 66,
      "outputs": [
        {
          "output_type": "stream",
          "text": [
            "<class 'pandas.core.frame.DataFrame'>\n",
            "RangeIndex: 1000000 entries, 0 to 999999\n",
            "Data columns (total 15 columns):\n",
            "trip_id                   1000000 non-null object\n",
            "trip_start_timestamp      1000000 non-null datetime64[ns]\n",
            "trip_end_timestamp        1000000 non-null datetime64[ns]\n",
            "trip_seconds              992801 non-null float64\n",
            "trip_miles                999924 non-null float64\n",
            "pickup_community_area     937526 non-null float64\n",
            "dropoff_community_area    930757 non-null float64\n",
            "fare                      1000000 non-null float64\n",
            "tip                       1000000 non-null float64\n",
            "additional_charges        1000000 non-null float64\n",
            "trip_total                1000000 non-null float64\n",
            "start_date                1000000 non-null object\n",
            "start_time                1000000 non-null datetime64[ns]\n",
            "end_date                  1000000 non-null object\n",
            "end_time                  1000000 non-null object\n",
            "dtypes: datetime64[ns](3), float64(8), object(4)\n",
            "memory usage: 114.4+ MB\n"
          ],
          "name": "stdout"
        }
      ]
    },
    {
      "cell_type": "code",
      "metadata": {
        "id": "1S4EmYH6ZTZ3",
        "colab_type": "code",
        "colab": {}
      },
      "source": [
        ""
      ],
      "execution_count": 0,
      "outputs": []
    }
  ]
}