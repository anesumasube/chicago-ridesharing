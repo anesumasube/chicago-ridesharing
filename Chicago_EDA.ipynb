{
  "nbformat": 4,
  "nbformat_minor": 0,
  "metadata": {
    "colab": {
      "name": "Chicago EDA.ipynb",
      "provenance": [],
      "machine_shape": "hm",
      "authorship_tag": "ABX9TyNsGWiLnWzndUVPjsFSjfwF",
      "include_colab_link": true
    },
    "kernelspec": {
      "name": "python3",
      "display_name": "Python 3"
    },
    "accelerator": "GPU"
  },
  "cells": [
    {
      "cell_type": "markdown",
      "metadata": {
        "id": "view-in-github",
        "colab_type": "text"
      },
      "source": [
        "<a href=\"https://colab.research.google.com/github/muoyo/chicago-ridesharing/blob/anesu/Chicago_EDA.ipynb\" target=\"_parent\"><img src=\"https://colab.research.google.com/assets/colab-badge.svg\" alt=\"Open In Colab\"/></a>"
      ]
    },
    {
      "cell_type": "code",
      "metadata": {
        "id": "g_eRDrPTaWTC",
        "colab_type": "code",
        "outputId": "2fcf7ec1-7a50-4438-903d-cce7940eb37a",
        "colab": {
          "base_uri": "https://localhost:8080/",
          "height": 190
        }
      },
      "source": [
        "!pip install sodapy"
      ],
      "execution_count": 2,
      "outputs": [
        {
          "output_type": "stream",
          "text": [
            "Collecting sodapy\n",
            "  Downloading https://files.pythonhosted.org/packages/64/06/6144b36a4b4470bef1fb17d7b98b82a202b5e918f7e0a2c123004f73ca07/sodapy-2.0.0-py2.py3-none-any.whl\n",
            "Requirement already satisfied: requests>=2.20.0 in /usr/local/lib/python3.6/dist-packages (from sodapy) (2.21.0)\n",
            "Requirement already satisfied: idna<2.9,>=2.5 in /usr/local/lib/python3.6/dist-packages (from requests>=2.20.0->sodapy) (2.8)\n",
            "Requirement already satisfied: certifi>=2017.4.17 in /usr/local/lib/python3.6/dist-packages (from requests>=2.20.0->sodapy) (2019.11.28)\n",
            "Requirement already satisfied: urllib3<1.25,>=1.21.1 in /usr/local/lib/python3.6/dist-packages (from requests>=2.20.0->sodapy) (1.24.3)\n",
            "Requirement already satisfied: chardet<3.1.0,>=3.0.2 in /usr/local/lib/python3.6/dist-packages (from requests>=2.20.0->sodapy) (3.0.4)\n",
            "Installing collected packages: sodapy\n",
            "Successfully installed sodapy-2.0.0\n"
          ],
          "name": "stdout"
        }
      ]
    },
    {
      "cell_type": "code",
      "metadata": {
        "id": "vTK53gnVZ6zr",
        "colab_type": "code",
        "colab": {}
      },
      "source": [
        "#!/usr/bin/env python\n",
        "\n",
        "# make sure to install these packages before running:\n",
        "# pip install pandas\n",
        "# pip install sodapy\n",
        "\n",
        "import pandas as pd\n",
        "from sodapy import Socrata\n",
        "\n",
        "# Unauthenticated client only works with public data sets. Note 'None'\n",
        "# in place of application token, and no username or password:\n",
        "#client = Socrata(\"data.cityofchicago.org\", None, timeout=100)\n",
        "\n",
        "#Example authenticated client (needed for non-public datasets):\n",
        "client = Socrata(\"data.cityofchicago.org\",\n",
        "                 \"N0amD6E3UkUmVTl5nFWXbIyl4\",\n",
        "                 username=\"anesumasube@gmail.com\",\n",
        "                 password=\"Marywandi11!\", timeout=1000)\n",
        "\n",
        "# First 2000 results, returned as JSON from API / converted to Python list of\n",
        "# dictionaries by sodapy.\n",
        "results = client.get(\"m6dm-c72p\",limit=1000000, select='trip_id, trip_start_timestamp, trip_end_timestamp, trip_seconds, trip_miles, pickup_community_area, dropoff_community_area, fare, tip, additional_charges, trip_total ')\n",
        "# Convert to pandas DataFrame\n",
        "results_df = pd.DataFrame.from_records(results)"
      ],
      "execution_count": 0,
      "outputs": []
    },
    {
      "cell_type": "code",
      "metadata": {
        "id": "rJw7lk_qaVym",
        "colab_type": "code",
        "outputId": "e58da2ea-4b65-4f00-9924-fae834dbf3d1",
        "colab": {
          "base_uri": "https://localhost:8080/",
          "height": 289
        }
      },
      "source": [
        "results_df.info()"
      ],
      "execution_count": 4,
      "outputs": [
        {
          "output_type": "stream",
          "text": [
            "<class 'pandas.core.frame.DataFrame'>\n",
            "RangeIndex: 1000000 entries, 0 to 999999\n",
            "Data columns (total 11 columns):\n",
            "trip_id                   1000000 non-null object\n",
            "trip_start_timestamp      1000000 non-null object\n",
            "trip_end_timestamp        1000000 non-null object\n",
            "trip_seconds              999963 non-null object\n",
            "trip_miles                1000000 non-null object\n",
            "pickup_community_area     942789 non-null object\n",
            "dropoff_community_area    935729 non-null object\n",
            "fare                      999998 non-null object\n",
            "tip                       999998 non-null object\n",
            "additional_charges        999999 non-null object\n",
            "trip_total                999998 non-null object\n",
            "dtypes: object(11)\n",
            "memory usage: 83.9+ MB\n"
          ],
          "name": "stdout"
        }
      ]
    },
    {
      "cell_type": "code",
      "metadata": {
        "id": "cz6DNbpkaEzP",
        "colab_type": "code",
        "outputId": "e687ca1e-8900-417c-bb7f-ef333fce1ea0",
        "colab": {
          "base_uri": "https://localhost:8080/",
          "height": 289
        }
      },
      "source": [
        "results_df.info()"
      ],
      "execution_count": 5,
      "outputs": [
        {
          "output_type": "stream",
          "text": [
            "<class 'pandas.core.frame.DataFrame'>\n",
            "RangeIndex: 1000000 entries, 0 to 999999\n",
            "Data columns (total 11 columns):\n",
            "trip_id                   1000000 non-null object\n",
            "trip_start_timestamp      1000000 non-null object\n",
            "trip_end_timestamp        1000000 non-null object\n",
            "trip_seconds              999963 non-null object\n",
            "trip_miles                1000000 non-null object\n",
            "pickup_community_area     942789 non-null object\n",
            "dropoff_community_area    935729 non-null object\n",
            "fare                      999998 non-null object\n",
            "tip                       999998 non-null object\n",
            "additional_charges        999999 non-null object\n",
            "trip_total                999998 non-null object\n",
            "dtypes: object(11)\n",
            "memory usage: 83.9+ MB\n"
          ],
          "name": "stdout"
        }
      ]
    },
    {
      "cell_type": "code",
      "metadata": {
        "id": "TjaWkVxukRFR",
        "colab_type": "code",
        "colab": {}
      },
      "source": [
        "import numpy as np\n",
        "import pandas as pd\n",
        "import matplotlib.pyplot as plt\n",
        "%matplotlib inline\n",
        "import datetime "
      ],
      "execution_count": 0,
      "outputs": []
    },
    {
      "cell_type": "code",
      "metadata": {
        "id": "eYpnRbQ5fX5L",
        "colab_type": "code",
        "colab": {}
      },
      "source": [
        "results_df['trip_start_timestamp']= pd.to_datetime(results_df['trip_start_timestamp'])\n",
        "results_df['trip_end_timestamp']= pd.to_datetime(results_df['trip_end_timestamp'])\n",
        "\n",
        "\n",
        "for col in ['trip_miles','fare','tip','trip_total']:\n",
        "    results_df[col]= results_df[col].astype(float)"
      ],
      "execution_count": 0,
      "outputs": []
    },
    {
      "cell_type": "code",
      "metadata": {
        "id": "Un4YXbzkhzcv",
        "colab_type": "code",
        "outputId": "7aba376e-d976-41cd-c472-5533ca27c27d",
        "colab": {
          "base_uri": "https://localhost:8080/",
          "height": 224
        }
      },
      "source": [
        "\n",
        "results_df.head()"
      ],
      "execution_count": 8,
      "outputs": [
        {
          "output_type": "execute_result",
          "data": {
            "text/html": [
              "<div>\n",
              "<style scoped>\n",
              "    .dataframe tbody tr th:only-of-type {\n",
              "        vertical-align: middle;\n",
              "    }\n",
              "\n",
              "    .dataframe tbody tr th {\n",
              "        vertical-align: top;\n",
              "    }\n",
              "\n",
              "    .dataframe thead th {\n",
              "        text-align: right;\n",
              "    }\n",
              "</style>\n",
              "<table border=\"1\" class=\"dataframe\">\n",
              "  <thead>\n",
              "    <tr style=\"text-align: right;\">\n",
              "      <th></th>\n",
              "      <th>trip_id</th>\n",
              "      <th>trip_start_timestamp</th>\n",
              "      <th>trip_end_timestamp</th>\n",
              "      <th>trip_seconds</th>\n",
              "      <th>trip_miles</th>\n",
              "      <th>pickup_community_area</th>\n",
              "      <th>dropoff_community_area</th>\n",
              "      <th>fare</th>\n",
              "      <th>tip</th>\n",
              "      <th>additional_charges</th>\n",
              "      <th>trip_total</th>\n",
              "    </tr>\n",
              "  </thead>\n",
              "  <tbody>\n",
              "    <tr>\n",
              "      <th>0</th>\n",
              "      <td>d55cb71337c1db729641190f644637f47745d5b3</td>\n",
              "      <td>2019-02-05 21:15:00</td>\n",
              "      <td>2019-02-05 21:30:00</td>\n",
              "      <td>808</td>\n",
              "      <td>4.625240</td>\n",
              "      <td>4</td>\n",
              "      <td>6</td>\n",
              "      <td>10.0</td>\n",
              "      <td>0.0</td>\n",
              "      <td>2.55</td>\n",
              "      <td>12.55</td>\n",
              "    </tr>\n",
              "    <tr>\n",
              "      <th>1</th>\n",
              "      <td>d55cb73c44b5b19db48284516e9479be26931cc8</td>\n",
              "      <td>2019-01-12 00:00:00</td>\n",
              "      <td>2019-01-12 00:15:00</td>\n",
              "      <td>590</td>\n",
              "      <td>2.215248</td>\n",
              "      <td>8</td>\n",
              "      <td>32</td>\n",
              "      <td>7.5</td>\n",
              "      <td>2.0</td>\n",
              "      <td>2.55</td>\n",
              "      <td>12.05</td>\n",
              "    </tr>\n",
              "    <tr>\n",
              "      <th>2</th>\n",
              "      <td>d55cb7cf4e1b7d03db25f16b0951cb59813897ca</td>\n",
              "      <td>2019-02-08 21:45:00</td>\n",
              "      <td>2019-02-08 22:00:00</td>\n",
              "      <td>349</td>\n",
              "      <td>1.410022</td>\n",
              "      <td>24</td>\n",
              "      <td>24</td>\n",
              "      <td>5.0</td>\n",
              "      <td>0.0</td>\n",
              "      <td>2.55</td>\n",
              "      <td>7.55</td>\n",
              "    </tr>\n",
              "    <tr>\n",
              "      <th>3</th>\n",
              "      <td>d55cb7f57c9f777d6d4e139baec1ed3d6a470729</td>\n",
              "      <td>2019-03-04 00:00:00</td>\n",
              "      <td>2019-03-04 00:15:00</td>\n",
              "      <td>1439</td>\n",
              "      <td>17.728125</td>\n",
              "      <td>76</td>\n",
              "      <td>8</td>\n",
              "      <td>25.0</td>\n",
              "      <td>0.0</td>\n",
              "      <td>0</td>\n",
              "      <td>25.00</td>\n",
              "    </tr>\n",
              "    <tr>\n",
              "      <th>4</th>\n",
              "      <td>d55cb80290d33d06533c9b68615c2cfcc98d9966</td>\n",
              "      <td>2019-02-04 08:45:00</td>\n",
              "      <td>2019-02-04 08:45:00</td>\n",
              "      <td>268</td>\n",
              "      <td>1.132505</td>\n",
              "      <td>70</td>\n",
              "      <td>71</td>\n",
              "      <td>5.0</td>\n",
              "      <td>0.0</td>\n",
              "      <td>2.55</td>\n",
              "      <td>7.55</td>\n",
              "    </tr>\n",
              "  </tbody>\n",
              "</table>\n",
              "</div>"
            ],
            "text/plain": [
              "                                    trip_id  ... trip_total\n",
              "0  d55cb71337c1db729641190f644637f47745d5b3  ...      12.55\n",
              "1  d55cb73c44b5b19db48284516e9479be26931cc8  ...      12.05\n",
              "2  d55cb7cf4e1b7d03db25f16b0951cb59813897ca  ...       7.55\n",
              "3  d55cb7f57c9f777d6d4e139baec1ed3d6a470729  ...      25.00\n",
              "4  d55cb80290d33d06533c9b68615c2cfcc98d9966  ...       7.55\n",
              "\n",
              "[5 rows x 11 columns]"
            ]
          },
          "metadata": {
            "tags": []
          },
          "execution_count": 8
        }
      ]
    },
    {
      "cell_type": "code",
      "metadata": {
        "id": "8L0MHmypMj7X",
        "colab_type": "code",
        "colab": {}
      },
      "source": [
        "results_df['pickup_community_area'] = results_df['pickup_community_area'].fillna(0)"
      ],
      "execution_count": 0,
      "outputs": []
    },
    {
      "cell_type": "code",
      "metadata": {
        "id": "q9cvTCHnM2yR",
        "colab_type": "code",
        "colab": {}
      },
      "source": [
        "results_df['dropoff_community_area'] = results_df['dropoff_community_area'].fillna(0)"
      ],
      "execution_count": 0,
      "outputs": []
    },
    {
      "cell_type": "code",
      "metadata": {
        "id": "L1fIwtP7ku3U",
        "colab_type": "code",
        "colab": {}
      },
      "source": [
        "\n",
        "for col in ['pickup_community_area','dropoff_community_area','trip_seconds']:\n",
        "    results_df[col]= results_df[col].astype(float)\n",
        "\n"
      ],
      "execution_count": 0,
      "outputs": []
    },
    {
      "cell_type": "code",
      "metadata": {
        "id": "1nzqfTg3DoBK",
        "colab_type": "code",
        "colab": {
          "base_uri": "https://localhost:8080/",
          "height": 289
        },
        "outputId": "eefbe564-f743-4f32-d92b-47547eed24cd"
      },
      "source": [
        "results_df.info()"
      ],
      "execution_count": 12,
      "outputs": [
        {
          "output_type": "stream",
          "text": [
            "<class 'pandas.core.frame.DataFrame'>\n",
            "RangeIndex: 1000000 entries, 0 to 999999\n",
            "Data columns (total 11 columns):\n",
            "trip_id                   1000000 non-null object\n",
            "trip_start_timestamp      1000000 non-null datetime64[ns]\n",
            "trip_end_timestamp        1000000 non-null datetime64[ns]\n",
            "trip_seconds              999963 non-null float64\n",
            "trip_miles                1000000 non-null float64\n",
            "pickup_community_area     1000000 non-null float64\n",
            "dropoff_community_area    1000000 non-null float64\n",
            "fare                      999998 non-null float64\n",
            "tip                       999998 non-null float64\n",
            "additional_charges        999999 non-null object\n",
            "trip_total                999998 non-null float64\n",
            "dtypes: datetime64[ns](2), float64(7), object(2)\n",
            "memory usage: 83.9+ MB\n"
          ],
          "name": "stdout"
        }
      ]
    },
    {
      "cell_type": "code",
      "metadata": {
        "id": "B2x92v8yD02e",
        "colab_type": "code",
        "colab": {}
      },
      "source": [
        "import seaborn as sns"
      ],
      "execution_count": 0,
      "outputs": []
    },
    {
      "cell_type": "code",
      "metadata": {
        "id": "1vPxsGPYEUl6",
        "colab_type": "code",
        "colab": {
          "base_uri": "https://localhost:8080/",
          "height": 224
        },
        "outputId": "8f792295-4ed6-44bb-830a-935853cf08ef"
      },
      "source": [
        "results_df = results_df.drop(columns='trip_id')\n",
        "results_df.head()"
      ],
      "execution_count": 14,
      "outputs": [
        {
          "output_type": "execute_result",
          "data": {
            "text/html": [
              "<div>\n",
              "<style scoped>\n",
              "    .dataframe tbody tr th:only-of-type {\n",
              "        vertical-align: middle;\n",
              "    }\n",
              "\n",
              "    .dataframe tbody tr th {\n",
              "        vertical-align: top;\n",
              "    }\n",
              "\n",
              "    .dataframe thead th {\n",
              "        text-align: right;\n",
              "    }\n",
              "</style>\n",
              "<table border=\"1\" class=\"dataframe\">\n",
              "  <thead>\n",
              "    <tr style=\"text-align: right;\">\n",
              "      <th></th>\n",
              "      <th>trip_start_timestamp</th>\n",
              "      <th>trip_end_timestamp</th>\n",
              "      <th>trip_seconds</th>\n",
              "      <th>trip_miles</th>\n",
              "      <th>pickup_community_area</th>\n",
              "      <th>dropoff_community_area</th>\n",
              "      <th>fare</th>\n",
              "      <th>tip</th>\n",
              "      <th>additional_charges</th>\n",
              "      <th>trip_total</th>\n",
              "    </tr>\n",
              "  </thead>\n",
              "  <tbody>\n",
              "    <tr>\n",
              "      <th>0</th>\n",
              "      <td>2019-02-05 21:15:00</td>\n",
              "      <td>2019-02-05 21:30:00</td>\n",
              "      <td>808.0</td>\n",
              "      <td>4.625240</td>\n",
              "      <td>4.0</td>\n",
              "      <td>6.0</td>\n",
              "      <td>10.0</td>\n",
              "      <td>0.0</td>\n",
              "      <td>2.55</td>\n",
              "      <td>12.55</td>\n",
              "    </tr>\n",
              "    <tr>\n",
              "      <th>1</th>\n",
              "      <td>2019-01-12 00:00:00</td>\n",
              "      <td>2019-01-12 00:15:00</td>\n",
              "      <td>590.0</td>\n",
              "      <td>2.215248</td>\n",
              "      <td>8.0</td>\n",
              "      <td>32.0</td>\n",
              "      <td>7.5</td>\n",
              "      <td>2.0</td>\n",
              "      <td>2.55</td>\n",
              "      <td>12.05</td>\n",
              "    </tr>\n",
              "    <tr>\n",
              "      <th>2</th>\n",
              "      <td>2019-02-08 21:45:00</td>\n",
              "      <td>2019-02-08 22:00:00</td>\n",
              "      <td>349.0</td>\n",
              "      <td>1.410022</td>\n",
              "      <td>24.0</td>\n",
              "      <td>24.0</td>\n",
              "      <td>5.0</td>\n",
              "      <td>0.0</td>\n",
              "      <td>2.55</td>\n",
              "      <td>7.55</td>\n",
              "    </tr>\n",
              "    <tr>\n",
              "      <th>3</th>\n",
              "      <td>2019-03-04 00:00:00</td>\n",
              "      <td>2019-03-04 00:15:00</td>\n",
              "      <td>1439.0</td>\n",
              "      <td>17.728125</td>\n",
              "      <td>76.0</td>\n",
              "      <td>8.0</td>\n",
              "      <td>25.0</td>\n",
              "      <td>0.0</td>\n",
              "      <td>0</td>\n",
              "      <td>25.00</td>\n",
              "    </tr>\n",
              "    <tr>\n",
              "      <th>4</th>\n",
              "      <td>2019-02-04 08:45:00</td>\n",
              "      <td>2019-02-04 08:45:00</td>\n",
              "      <td>268.0</td>\n",
              "      <td>1.132505</td>\n",
              "      <td>70.0</td>\n",
              "      <td>71.0</td>\n",
              "      <td>5.0</td>\n",
              "      <td>0.0</td>\n",
              "      <td>2.55</td>\n",
              "      <td>7.55</td>\n",
              "    </tr>\n",
              "  </tbody>\n",
              "</table>\n",
              "</div>"
            ],
            "text/plain": [
              "  trip_start_timestamp  trip_end_timestamp  ...  additional_charges  trip_total\n",
              "0  2019-02-05 21:15:00 2019-02-05 21:30:00  ...                2.55       12.55\n",
              "1  2019-01-12 00:00:00 2019-01-12 00:15:00  ...                2.55       12.05\n",
              "2  2019-02-08 21:45:00 2019-02-08 22:00:00  ...                2.55        7.55\n",
              "3  2019-03-04 00:00:00 2019-03-04 00:15:00  ...                   0       25.00\n",
              "4  2019-02-04 08:45:00 2019-02-04 08:45:00  ...                2.55        7.55\n",
              "\n",
              "[5 rows x 10 columns]"
            ]
          },
          "metadata": {
            "tags": []
          },
          "execution_count": 14
        }
      ]
    },
    {
      "cell_type": "code",
      "metadata": {
        "id": "lB4pnRhIH7-n",
        "colab_type": "code",
        "colab": {
          "base_uri": "https://localhost:8080/",
          "height": 224
        },
        "outputId": "8e519b75-ad57-433d-d619-a576a095c030"
      },
      "source": [
        "results_df.head()"
      ],
      "execution_count": 15,
      "outputs": [
        {
          "output_type": "execute_result",
          "data": {
            "text/html": [
              "<div>\n",
              "<style scoped>\n",
              "    .dataframe tbody tr th:only-of-type {\n",
              "        vertical-align: middle;\n",
              "    }\n",
              "\n",
              "    .dataframe tbody tr th {\n",
              "        vertical-align: top;\n",
              "    }\n",
              "\n",
              "    .dataframe thead th {\n",
              "        text-align: right;\n",
              "    }\n",
              "</style>\n",
              "<table border=\"1\" class=\"dataframe\">\n",
              "  <thead>\n",
              "    <tr style=\"text-align: right;\">\n",
              "      <th></th>\n",
              "      <th>trip_start_timestamp</th>\n",
              "      <th>trip_end_timestamp</th>\n",
              "      <th>trip_seconds</th>\n",
              "      <th>trip_miles</th>\n",
              "      <th>pickup_community_area</th>\n",
              "      <th>dropoff_community_area</th>\n",
              "      <th>fare</th>\n",
              "      <th>tip</th>\n",
              "      <th>additional_charges</th>\n",
              "      <th>trip_total</th>\n",
              "    </tr>\n",
              "  </thead>\n",
              "  <tbody>\n",
              "    <tr>\n",
              "      <th>0</th>\n",
              "      <td>2019-02-05 21:15:00</td>\n",
              "      <td>2019-02-05 21:30:00</td>\n",
              "      <td>808.0</td>\n",
              "      <td>4.625240</td>\n",
              "      <td>4.0</td>\n",
              "      <td>6.0</td>\n",
              "      <td>10.0</td>\n",
              "      <td>0.0</td>\n",
              "      <td>2.55</td>\n",
              "      <td>12.55</td>\n",
              "    </tr>\n",
              "    <tr>\n",
              "      <th>1</th>\n",
              "      <td>2019-01-12 00:00:00</td>\n",
              "      <td>2019-01-12 00:15:00</td>\n",
              "      <td>590.0</td>\n",
              "      <td>2.215248</td>\n",
              "      <td>8.0</td>\n",
              "      <td>32.0</td>\n",
              "      <td>7.5</td>\n",
              "      <td>2.0</td>\n",
              "      <td>2.55</td>\n",
              "      <td>12.05</td>\n",
              "    </tr>\n",
              "    <tr>\n",
              "      <th>2</th>\n",
              "      <td>2019-02-08 21:45:00</td>\n",
              "      <td>2019-02-08 22:00:00</td>\n",
              "      <td>349.0</td>\n",
              "      <td>1.410022</td>\n",
              "      <td>24.0</td>\n",
              "      <td>24.0</td>\n",
              "      <td>5.0</td>\n",
              "      <td>0.0</td>\n",
              "      <td>2.55</td>\n",
              "      <td>7.55</td>\n",
              "    </tr>\n",
              "    <tr>\n",
              "      <th>3</th>\n",
              "      <td>2019-03-04 00:00:00</td>\n",
              "      <td>2019-03-04 00:15:00</td>\n",
              "      <td>1439.0</td>\n",
              "      <td>17.728125</td>\n",
              "      <td>76.0</td>\n",
              "      <td>8.0</td>\n",
              "      <td>25.0</td>\n",
              "      <td>0.0</td>\n",
              "      <td>0</td>\n",
              "      <td>25.00</td>\n",
              "    </tr>\n",
              "    <tr>\n",
              "      <th>4</th>\n",
              "      <td>2019-02-04 08:45:00</td>\n",
              "      <td>2019-02-04 08:45:00</td>\n",
              "      <td>268.0</td>\n",
              "      <td>1.132505</td>\n",
              "      <td>70.0</td>\n",
              "      <td>71.0</td>\n",
              "      <td>5.0</td>\n",
              "      <td>0.0</td>\n",
              "      <td>2.55</td>\n",
              "      <td>7.55</td>\n",
              "    </tr>\n",
              "  </tbody>\n",
              "</table>\n",
              "</div>"
            ],
            "text/plain": [
              "  trip_start_timestamp  trip_end_timestamp  ...  additional_charges  trip_total\n",
              "0  2019-02-05 21:15:00 2019-02-05 21:30:00  ...                2.55       12.55\n",
              "1  2019-01-12 00:00:00 2019-01-12 00:15:00  ...                2.55       12.05\n",
              "2  2019-02-08 21:45:00 2019-02-08 22:00:00  ...                2.55        7.55\n",
              "3  2019-03-04 00:00:00 2019-03-04 00:15:00  ...                   0       25.00\n",
              "4  2019-02-04 08:45:00 2019-02-04 08:45:00  ...                2.55        7.55\n",
              "\n",
              "[5 rows x 10 columns]"
            ]
          },
          "metadata": {
            "tags": []
          },
          "execution_count": 15
        }
      ]
    },
    {
      "cell_type": "code",
      "metadata": {
        "id": "Rdw7nwPHPSBq",
        "colab_type": "code",
        "colab": {}
      },
      "source": [
        "results_df=results_df.drop(columns='additional_charges')"
      ],
      "execution_count": 0,
      "outputs": []
    },
    {
      "cell_type": "code",
      "metadata": {
        "id": "lINeAYztQCqi",
        "colab_type": "code",
        "colab": {
          "base_uri": "https://localhost:8080/",
          "height": 224
        },
        "outputId": "701e5af5-1327-4863-b218-4324c2060c3b"
      },
      "source": [
        "results_df= results_df.drop(columns='tip')\n",
        "results_df.head()"
      ],
      "execution_count": 17,
      "outputs": [
        {
          "output_type": "execute_result",
          "data": {
            "text/html": [
              "<div>\n",
              "<style scoped>\n",
              "    .dataframe tbody tr th:only-of-type {\n",
              "        vertical-align: middle;\n",
              "    }\n",
              "\n",
              "    .dataframe tbody tr th {\n",
              "        vertical-align: top;\n",
              "    }\n",
              "\n",
              "    .dataframe thead th {\n",
              "        text-align: right;\n",
              "    }\n",
              "</style>\n",
              "<table border=\"1\" class=\"dataframe\">\n",
              "  <thead>\n",
              "    <tr style=\"text-align: right;\">\n",
              "      <th></th>\n",
              "      <th>trip_start_timestamp</th>\n",
              "      <th>trip_end_timestamp</th>\n",
              "      <th>trip_seconds</th>\n",
              "      <th>trip_miles</th>\n",
              "      <th>pickup_community_area</th>\n",
              "      <th>dropoff_community_area</th>\n",
              "      <th>fare</th>\n",
              "      <th>trip_total</th>\n",
              "    </tr>\n",
              "  </thead>\n",
              "  <tbody>\n",
              "    <tr>\n",
              "      <th>0</th>\n",
              "      <td>2019-02-05 21:15:00</td>\n",
              "      <td>2019-02-05 21:30:00</td>\n",
              "      <td>808.0</td>\n",
              "      <td>4.625240</td>\n",
              "      <td>4.0</td>\n",
              "      <td>6.0</td>\n",
              "      <td>10.0</td>\n",
              "      <td>12.55</td>\n",
              "    </tr>\n",
              "    <tr>\n",
              "      <th>1</th>\n",
              "      <td>2019-01-12 00:00:00</td>\n",
              "      <td>2019-01-12 00:15:00</td>\n",
              "      <td>590.0</td>\n",
              "      <td>2.215248</td>\n",
              "      <td>8.0</td>\n",
              "      <td>32.0</td>\n",
              "      <td>7.5</td>\n",
              "      <td>12.05</td>\n",
              "    </tr>\n",
              "    <tr>\n",
              "      <th>2</th>\n",
              "      <td>2019-02-08 21:45:00</td>\n",
              "      <td>2019-02-08 22:00:00</td>\n",
              "      <td>349.0</td>\n",
              "      <td>1.410022</td>\n",
              "      <td>24.0</td>\n",
              "      <td>24.0</td>\n",
              "      <td>5.0</td>\n",
              "      <td>7.55</td>\n",
              "    </tr>\n",
              "    <tr>\n",
              "      <th>3</th>\n",
              "      <td>2019-03-04 00:00:00</td>\n",
              "      <td>2019-03-04 00:15:00</td>\n",
              "      <td>1439.0</td>\n",
              "      <td>17.728125</td>\n",
              "      <td>76.0</td>\n",
              "      <td>8.0</td>\n",
              "      <td>25.0</td>\n",
              "      <td>25.00</td>\n",
              "    </tr>\n",
              "    <tr>\n",
              "      <th>4</th>\n",
              "      <td>2019-02-04 08:45:00</td>\n",
              "      <td>2019-02-04 08:45:00</td>\n",
              "      <td>268.0</td>\n",
              "      <td>1.132505</td>\n",
              "      <td>70.0</td>\n",
              "      <td>71.0</td>\n",
              "      <td>5.0</td>\n",
              "      <td>7.55</td>\n",
              "    </tr>\n",
              "  </tbody>\n",
              "</table>\n",
              "</div>"
            ],
            "text/plain": [
              "  trip_start_timestamp  trip_end_timestamp  ...  fare  trip_total\n",
              "0  2019-02-05 21:15:00 2019-02-05 21:30:00  ...  10.0       12.55\n",
              "1  2019-01-12 00:00:00 2019-01-12 00:15:00  ...   7.5       12.05\n",
              "2  2019-02-08 21:45:00 2019-02-08 22:00:00  ...   5.0        7.55\n",
              "3  2019-03-04 00:00:00 2019-03-04 00:15:00  ...  25.0       25.00\n",
              "4  2019-02-04 08:45:00 2019-02-04 08:45:00  ...   5.0        7.55\n",
              "\n",
              "[5 rows x 8 columns]"
            ]
          },
          "metadata": {
            "tags": []
          },
          "execution_count": 17
        }
      ]
    },
    {
      "cell_type": "code",
      "metadata": {
        "id": "YxDpbsyXXxdO",
        "colab_type": "code",
        "colab": {
          "base_uri": "https://localhost:8080/",
          "height": 122
        },
        "outputId": "6e1b5106-dbe5-4001-8bf5-41f1390e66b0"
      },
      "source": [
        "from google.colab import drive\n",
        "drive.mount('/content/drive')"
      ],
      "execution_count": 18,
      "outputs": [
        {
          "output_type": "stream",
          "text": [
            "Go to this URL in a browser: https://accounts.google.com/o/oauth2/auth?client_id=947318989803-6bn6qk8qdgf4n4g3pfee6491hc0brc4i.apps.googleusercontent.com&redirect_uri=urn%3aietf%3awg%3aoauth%3a2.0%3aoob&response_type=code&scope=email%20https%3a%2f%2fwww.googleapis.com%2fauth%2fdocs.test%20https%3a%2f%2fwww.googleapis.com%2fauth%2fdrive%20https%3a%2f%2fwww.googleapis.com%2fauth%2fdrive.photos.readonly%20https%3a%2f%2fwww.googleapis.com%2fauth%2fpeopleapi.readonly\n",
            "\n",
            "Enter your authorization code:\n",
            "··········\n",
            "Mounted at /content/drive\n"
          ],
          "name": "stdout"
        }
      ]
    },
    {
      "cell_type": "code",
      "metadata": {
        "id": "Q0d9nIc4Ihlx",
        "colab_type": "code",
        "colab": {}
      },
      "source": [
        "results_df.to_csv('rideshare2.csv', index=False)"
      ],
      "execution_count": 0,
      "outputs": []
    },
    {
      "cell_type": "code",
      "metadata": {
        "id": "ONEtWJUeJpHm",
        "colab_type": "code",
        "colab": {
          "base_uri": "https://localhost:8080/",
          "height": 238
        },
        "outputId": "c059ef2b-bc89-4b9a-d19f-7dd78a9b78e2"
      },
      "source": [
        "ride_data = pd.read_csv('rideshare2.csv')\n",
        "ride_data.info()"
      ],
      "execution_count": 20,
      "outputs": [
        {
          "output_type": "stream",
          "text": [
            "<class 'pandas.core.frame.DataFrame'>\n",
            "RangeIndex: 1000000 entries, 0 to 999999\n",
            "Data columns (total 8 columns):\n",
            "trip_start_timestamp      1000000 non-null object\n",
            "trip_end_timestamp        1000000 non-null object\n",
            "trip_seconds              999963 non-null float64\n",
            "trip_miles                1000000 non-null float64\n",
            "pickup_community_area     1000000 non-null float64\n",
            "dropoff_community_area    1000000 non-null float64\n",
            "fare                      999998 non-null float64\n",
            "trip_total                999998 non-null float64\n",
            "dtypes: float64(6), object(2)\n",
            "memory usage: 61.0+ MB\n"
          ],
          "name": "stdout"
        }
      ]
    },
    {
      "cell_type": "code",
      "metadata": {
        "id": "5uF4cxpwKITk",
        "colab_type": "code",
        "colab": {}
      },
      "source": [
        "ride_data['trip_start_timestamp']= pd.to_datetime(ride_data['trip_start_timestamp'])\n",
        "ride_data['trip_end_timestamp']= pd.to_datetime(ride_data['trip_end_timestamp'])"
      ],
      "execution_count": 0,
      "outputs": []
    },
    {
      "cell_type": "code",
      "metadata": {
        "id": "Em2cOi1raZis",
        "colab_type": "code",
        "colab": {}
      },
      "source": [
        "ride_variables= ride_data[['trip_miles','trip_seconds','pickup_community_area','dropoff_community_area']]"
      ],
      "execution_count": 0,
      "outputs": []
    },
    {
      "cell_type": "code",
      "metadata": {
        "id": "HuaaLJwJbpXp",
        "colab_type": "code",
        "colab": {
          "base_uri": "https://localhost:8080/",
          "height": 204
        },
        "outputId": "a0f150a9-8c53-4e77-ddea-6b6a025460ec"
      },
      "source": [
        "ride_variables.head()"
      ],
      "execution_count": 23,
      "outputs": [
        {
          "output_type": "execute_result",
          "data": {
            "text/html": [
              "<div>\n",
              "<style scoped>\n",
              "    .dataframe tbody tr th:only-of-type {\n",
              "        vertical-align: middle;\n",
              "    }\n",
              "\n",
              "    .dataframe tbody tr th {\n",
              "        vertical-align: top;\n",
              "    }\n",
              "\n",
              "    .dataframe thead th {\n",
              "        text-align: right;\n",
              "    }\n",
              "</style>\n",
              "<table border=\"1\" class=\"dataframe\">\n",
              "  <thead>\n",
              "    <tr style=\"text-align: right;\">\n",
              "      <th></th>\n",
              "      <th>trip_miles</th>\n",
              "      <th>trip_seconds</th>\n",
              "      <th>pickup_community_area</th>\n",
              "      <th>dropoff_community_area</th>\n",
              "    </tr>\n",
              "  </thead>\n",
              "  <tbody>\n",
              "    <tr>\n",
              "      <th>0</th>\n",
              "      <td>4.625240</td>\n",
              "      <td>808.0</td>\n",
              "      <td>4.0</td>\n",
              "      <td>6.0</td>\n",
              "    </tr>\n",
              "    <tr>\n",
              "      <th>1</th>\n",
              "      <td>2.215248</td>\n",
              "      <td>590.0</td>\n",
              "      <td>8.0</td>\n",
              "      <td>32.0</td>\n",
              "    </tr>\n",
              "    <tr>\n",
              "      <th>2</th>\n",
              "      <td>1.410022</td>\n",
              "      <td>349.0</td>\n",
              "      <td>24.0</td>\n",
              "      <td>24.0</td>\n",
              "    </tr>\n",
              "    <tr>\n",
              "      <th>3</th>\n",
              "      <td>17.728125</td>\n",
              "      <td>1439.0</td>\n",
              "      <td>76.0</td>\n",
              "      <td>8.0</td>\n",
              "    </tr>\n",
              "    <tr>\n",
              "      <th>4</th>\n",
              "      <td>1.132505</td>\n",
              "      <td>268.0</td>\n",
              "      <td>70.0</td>\n",
              "      <td>71.0</td>\n",
              "    </tr>\n",
              "  </tbody>\n",
              "</table>\n",
              "</div>"
            ],
            "text/plain": [
              "   trip_miles  trip_seconds  pickup_community_area  dropoff_community_area\n",
              "0    4.625240         808.0                    4.0                     6.0\n",
              "1    2.215248         590.0                    8.0                    32.0\n",
              "2    1.410022         349.0                   24.0                    24.0\n",
              "3   17.728125        1439.0                   76.0                     8.0\n",
              "4    1.132505         268.0                   70.0                    71.0"
            ]
          },
          "metadata": {
            "tags": []
          },
          "execution_count": 23
        }
      ]
    },
    {
      "cell_type": "code",
      "metadata": {
        "id": "3LBPERwKbb12",
        "colab_type": "code",
        "colab": {
          "base_uri": "https://localhost:8080/",
          "height": 830
        },
        "outputId": "f37b864d-ebec-4fc1-a3a7-f5a89857e148"
      },
      "source": [
        "sns.pairplot(ride_variables)"
      ],
      "execution_count": 24,
      "outputs": [
        {
          "output_type": "stream",
          "text": [
            "/usr/local/lib/python3.6/dist-packages/numpy/lib/histograms.py:839: RuntimeWarning: invalid value encountered in greater_equal\n",
            "  keep = (tmp_a >= first_edge)\n",
            "/usr/local/lib/python3.6/dist-packages/numpy/lib/histograms.py:840: RuntimeWarning: invalid value encountered in less_equal\n",
            "  keep &= (tmp_a <= last_edge)\n"
          ],
          "name": "stderr"
        },
        {
          "output_type": "execute_result",
          "data": {
            "text/plain": [
              "<seaborn.axisgrid.PairGrid at 0x7f99f5ac1ba8>"
            ]
          },
          "metadata": {
            "tags": []
          },
          "execution_count": 24
        },
        {
          "output_type": "display_data",
          "data": {
            "image/png": "[encoded data removed]",
            "text/plain": [
              "<Figure size 720x720 with 20 Axes>"
            ]
          },
          "metadata": {
            "tags": []
          }
        }
      ]
    },
    {
      "cell_type": "code",
      "metadata": {
        "id": "-r5MUHJhKy1-",
        "colab_type": "code",
        "colab": {
          "base_uri": "https://localhost:8080/",
          "height": 173
        },
        "outputId": "547a1da1-4f74-4ad0-d6de-fc8c8b6672cc"
      },
      "source": [
        "ride_variables.corr()"
      ],
      "execution_count": 25,
      "outputs": [
        {
          "output_type": "execute_result",
          "data": {
            "text/html": [
              "<div>\n",
              "<style scoped>\n",
              "    .dataframe tbody tr th:only-of-type {\n",
              "        vertical-align: middle;\n",
              "    }\n",
              "\n",
              "    .dataframe tbody tr th {\n",
              "        vertical-align: top;\n",
              "    }\n",
              "\n",
              "    .dataframe thead th {\n",
              "        text-align: right;\n",
              "    }\n",
              "</style>\n",
              "<table border=\"1\" class=\"dataframe\">\n",
              "  <thead>\n",
              "    <tr style=\"text-align: right;\">\n",
              "      <th></th>\n",
              "      <th>trip_miles</th>\n",
              "      <th>trip_seconds</th>\n",
              "      <th>pickup_community_area</th>\n",
              "      <th>dropoff_community_area</th>\n",
              "    </tr>\n",
              "  </thead>\n",
              "  <tbody>\n",
              "    <tr>\n",
              "      <th>trip_miles</th>\n",
              "      <td>1.000000</td>\n",
              "      <td>0.809803</td>\n",
              "      <td>0.142776</td>\n",
              "      <td>0.136380</td>\n",
              "    </tr>\n",
              "    <tr>\n",
              "      <th>trip_seconds</th>\n",
              "      <td>0.809803</td>\n",
              "      <td>1.000000</td>\n",
              "      <td>0.093550</td>\n",
              "      <td>0.104288</td>\n",
              "    </tr>\n",
              "    <tr>\n",
              "      <th>pickup_community_area</th>\n",
              "      <td>0.142776</td>\n",
              "      <td>0.093550</td>\n",
              "      <td>1.000000</td>\n",
              "      <td>0.147683</td>\n",
              "    </tr>\n",
              "    <tr>\n",
              "      <th>dropoff_community_area</th>\n",
              "      <td>0.136380</td>\n",
              "      <td>0.104288</td>\n",
              "      <td>0.147683</td>\n",
              "      <td>1.000000</td>\n",
              "    </tr>\n",
              "  </tbody>\n",
              "</table>\n",
              "</div>"
            ],
            "text/plain": [
              "                        trip_miles  ...  dropoff_community_area\n",
              "trip_miles                1.000000  ...                0.136380\n",
              "trip_seconds              0.809803  ...                0.104288\n",
              "pickup_community_area     0.142776  ...                0.147683\n",
              "dropoff_community_area    0.136380  ...                1.000000\n",
              "\n",
              "[4 rows x 4 columns]"
            ]
          },
          "metadata": {
            "tags": []
          },
          "execution_count": 25
        }
      ]
    },
    {
      "cell_type": "code",
      "metadata": {
        "id": "BIOArn2HMLkH",
        "colab_type": "code",
        "colab": {
          "base_uri": "https://localhost:8080/",
          "height": 401
        },
        "outputId": "ce583a42-bc74-4334-be3c-115f45b62c96"
      },
      "source": [
        "\n",
        "sns.heatmap(ride_variables.corr(), center=0)"
      ],
      "execution_count": 27,
      "outputs": [
        {
          "output_type": "execute_result",
          "data": {
            "text/plain": [
              "<matplotlib.axes._subplots.AxesSubplot at 0x7f99f5780b70>"
            ]
          },
          "metadata": {
            "tags": []
          },
          "execution_count": 27
        },
        {
          "output_type": "display_data",
          "data": {
            "image/png": "[encoded data removed]",
            "text/plain": [
              "<Figure size 432x288 with 2 Axes>"
            ]
          },
          "metadata": {
            "tags": []
          }
        }
      ]
    },
    {
      "cell_type": "code",
      "metadata": {
        "id": "igRiM5n5fTw1",
        "colab_type": "code",
        "colab": {
          "base_uri": "https://localhost:8080/",
          "height": 224
        },
        "outputId": "4c46486f-982f-412d-f56c-f86efdece4ba"
      },
      "source": [
        "ride_share = ride_data.iloc[:200000, :7]\n",
        "ride_share.head()\n"
      ],
      "execution_count": 28,
      "outputs": [
        {
          "output_type": "execute_result",
          "data": {
            "text/html": [
              "<div>\n",
              "<style scoped>\n",
              "    .dataframe tbody tr th:only-of-type {\n",
              "        vertical-align: middle;\n",
              "    }\n",
              "\n",
              "    .dataframe tbody tr th {\n",
              "        vertical-align: top;\n",
              "    }\n",
              "\n",
              "    .dataframe thead th {\n",
              "        text-align: right;\n",
              "    }\n",
              "</style>\n",
              "<table border=\"1\" class=\"dataframe\">\n",
              "  <thead>\n",
              "    <tr style=\"text-align: right;\">\n",
              "      <th></th>\n",
              "      <th>trip_start_timestamp</th>\n",
              "      <th>trip_end_timestamp</th>\n",
              "      <th>trip_seconds</th>\n",
              "      <th>trip_miles</th>\n",
              "      <th>pickup_community_area</th>\n",
              "      <th>dropoff_community_area</th>\n",
              "      <th>fare</th>\n",
              "    </tr>\n",
              "  </thead>\n",
              "  <tbody>\n",
              "    <tr>\n",
              "      <th>0</th>\n",
              "      <td>2019-02-05 21:15:00</td>\n",
              "      <td>2019-02-05 21:30:00</td>\n",
              "      <td>808.0</td>\n",
              "      <td>4.625240</td>\n",
              "      <td>4.0</td>\n",
              "      <td>6.0</td>\n",
              "      <td>10.0</td>\n",
              "    </tr>\n",
              "    <tr>\n",
              "      <th>1</th>\n",
              "      <td>2019-01-12 00:00:00</td>\n",
              "      <td>2019-01-12 00:15:00</td>\n",
              "      <td>590.0</td>\n",
              "      <td>2.215248</td>\n",
              "      <td>8.0</td>\n",
              "      <td>32.0</td>\n",
              "      <td>7.5</td>\n",
              "    </tr>\n",
              "    <tr>\n",
              "      <th>2</th>\n",
              "      <td>2019-02-08 21:45:00</td>\n",
              "      <td>2019-02-08 22:00:00</td>\n",
              "      <td>349.0</td>\n",
              "      <td>1.410022</td>\n",
              "      <td>24.0</td>\n",
              "      <td>24.0</td>\n",
              "      <td>5.0</td>\n",
              "    </tr>\n",
              "    <tr>\n",
              "      <th>3</th>\n",
              "      <td>2019-03-04 00:00:00</td>\n",
              "      <td>2019-03-04 00:15:00</td>\n",
              "      <td>1439.0</td>\n",
              "      <td>17.728125</td>\n",
              "      <td>76.0</td>\n",
              "      <td>8.0</td>\n",
              "      <td>25.0</td>\n",
              "    </tr>\n",
              "    <tr>\n",
              "      <th>4</th>\n",
              "      <td>2019-02-04 08:45:00</td>\n",
              "      <td>2019-02-04 08:45:00</td>\n",
              "      <td>268.0</td>\n",
              "      <td>1.132505</td>\n",
              "      <td>70.0</td>\n",
              "      <td>71.0</td>\n",
              "      <td>5.0</td>\n",
              "    </tr>\n",
              "  </tbody>\n",
              "</table>\n",
              "</div>"
            ],
            "text/plain": [
              "  trip_start_timestamp  trip_end_timestamp  ...  dropoff_community_area  fare\n",
              "0  2019-02-05 21:15:00 2019-02-05 21:30:00  ...                     6.0  10.0\n",
              "1  2019-01-12 00:00:00 2019-01-12 00:15:00  ...                    32.0   7.5\n",
              "2  2019-02-08 21:45:00 2019-02-08 22:00:00  ...                    24.0   5.0\n",
              "3  2019-03-04 00:00:00 2019-03-04 00:15:00  ...                     8.0  25.0\n",
              "4  2019-02-04 08:45:00 2019-02-04 08:45:00  ...                    71.0   5.0\n",
              "\n",
              "[5 rows x 7 columns]"
            ]
          },
          "metadata": {
            "tags": []
          },
          "execution_count": 28
        }
      ]
    },
    {
      "cell_type": "code",
      "metadata": {
        "id": "hceNRv39Mogy",
        "colab_type": "code",
        "colab": {
          "base_uri": "https://localhost:8080/",
          "height": 224
        },
        "outputId": "6e207f7b-b5cb-478b-db59-d5598440684a"
      },
      "source": [
        "ride_share['start_date'] = [d.date() for d in ride_share['trip_start_timestamp']]\n",
        "ride_share.head()"
      ],
      "execution_count": 29,
      "outputs": [
        {
          "output_type": "execute_result",
          "data": {
            "text/html": [
              "<div>\n",
              "<style scoped>\n",
              "    .dataframe tbody tr th:only-of-type {\n",
              "        vertical-align: middle;\n",
              "    }\n",
              "\n",
              "    .dataframe tbody tr th {\n",
              "        vertical-align: top;\n",
              "    }\n",
              "\n",
              "    .dataframe thead th {\n",
              "        text-align: right;\n",
              "    }\n",
              "</style>\n",
              "<table border=\"1\" class=\"dataframe\">\n",
              "  <thead>\n",
              "    <tr style=\"text-align: right;\">\n",
              "      <th></th>\n",
              "      <th>trip_start_timestamp</th>\n",
              "      <th>trip_end_timestamp</th>\n",
              "      <th>trip_seconds</th>\n",
              "      <th>trip_miles</th>\n",
              "      <th>pickup_community_area</th>\n",
              "      <th>dropoff_community_area</th>\n",
              "      <th>fare</th>\n",
              "      <th>start_date</th>\n",
              "    </tr>\n",
              "  </thead>\n",
              "  <tbody>\n",
              "    <tr>\n",
              "      <th>0</th>\n",
              "      <td>2019-02-05 21:15:00</td>\n",
              "      <td>2019-02-05 21:30:00</td>\n",
              "      <td>808.0</td>\n",
              "      <td>4.625240</td>\n",
              "      <td>4.0</td>\n",
              "      <td>6.0</td>\n",
              "      <td>10.0</td>\n",
              "      <td>2019-02-05</td>\n",
              "    </tr>\n",
              "    <tr>\n",
              "      <th>1</th>\n",
              "      <td>2019-01-12 00:00:00</td>\n",
              "      <td>2019-01-12 00:15:00</td>\n",
              "      <td>590.0</td>\n",
              "      <td>2.215248</td>\n",
              "      <td>8.0</td>\n",
              "      <td>32.0</td>\n",
              "      <td>7.5</td>\n",
              "      <td>2019-01-12</td>\n",
              "    </tr>\n",
              "    <tr>\n",
              "      <th>2</th>\n",
              "      <td>2019-02-08 21:45:00</td>\n",
              "      <td>2019-02-08 22:00:00</td>\n",
              "      <td>349.0</td>\n",
              "      <td>1.410022</td>\n",
              "      <td>24.0</td>\n",
              "      <td>24.0</td>\n",
              "      <td>5.0</td>\n",
              "      <td>2019-02-08</td>\n",
              "    </tr>\n",
              "    <tr>\n",
              "      <th>3</th>\n",
              "      <td>2019-03-04 00:00:00</td>\n",
              "      <td>2019-03-04 00:15:00</td>\n",
              "      <td>1439.0</td>\n",
              "      <td>17.728125</td>\n",
              "      <td>76.0</td>\n",
              "      <td>8.0</td>\n",
              "      <td>25.0</td>\n",
              "      <td>2019-03-04</td>\n",
              "    </tr>\n",
              "    <tr>\n",
              "      <th>4</th>\n",
              "      <td>2019-02-04 08:45:00</td>\n",
              "      <td>2019-02-04 08:45:00</td>\n",
              "      <td>268.0</td>\n",
              "      <td>1.132505</td>\n",
              "      <td>70.0</td>\n",
              "      <td>71.0</td>\n",
              "      <td>5.0</td>\n",
              "      <td>2019-02-04</td>\n",
              "    </tr>\n",
              "  </tbody>\n",
              "</table>\n",
              "</div>"
            ],
            "text/plain": [
              "  trip_start_timestamp  trip_end_timestamp  ...  fare  start_date\n",
              "0  2019-02-05 21:15:00 2019-02-05 21:30:00  ...  10.0  2019-02-05\n",
              "1  2019-01-12 00:00:00 2019-01-12 00:15:00  ...   7.5  2019-01-12\n",
              "2  2019-02-08 21:45:00 2019-02-08 22:00:00  ...   5.0  2019-02-08\n",
              "3  2019-03-04 00:00:00 2019-03-04 00:15:00  ...  25.0  2019-03-04\n",
              "4  2019-02-04 08:45:00 2019-02-04 08:45:00  ...   5.0  2019-02-04\n",
              "\n",
              "[5 rows x 8 columns]"
            ]
          },
          "metadata": {
            "tags": []
          },
          "execution_count": 29
        }
      ]
    },
    {
      "cell_type": "code",
      "metadata": {
        "id": "3UipygaDgcGV",
        "colab_type": "code",
        "colab": {
          "base_uri": "https://localhost:8080/",
          "height": 34
        },
        "outputId": "7af6e25a-919c-4479-83dc-5ff653fc714b"
      },
      "source": [
        "ride_share['start_date'].max()"
      ],
      "execution_count": 30,
      "outputs": [
        {
          "output_type": "execute_result",
          "data": {
            "text/plain": [
              "datetime.date(2019, 3, 31)"
            ]
          },
          "metadata": {
            "tags": []
          },
          "execution_count": 30
        }
      ]
    },
    {
      "cell_type": "code",
      "metadata": {
        "id": "g-0v2GH-oWHX",
        "colab_type": "code",
        "colab": {}
      },
      "source": [
        "# from google.colab import drive\n",
        "# drive.mount('drive')"
      ],
      "execution_count": 0,
      "outputs": []
    },
    {
      "cell_type": "code",
      "metadata": {
        "id": "1QQo-g0QoxK3",
        "colab_type": "code",
        "colab": {}
      },
      "source": [
        "# results_df.to_csv('ridedata.csv')\n",
        "# !cp ridedata.csv \"drive/My Drive/\""
      ],
      "execution_count": 0,
      "outputs": []
    },
    {
      "cell_type": "code",
      "metadata": {
        "id": "czjSJyOVyh7H",
        "colab_type": "code",
        "colab": {}
      },
      "source": [
        "# from google.colab import drive\n",
        "# drive.mount('/content/drive')"
      ],
      "execution_count": 0,
      "outputs": []
    },
    {
      "cell_type": "code",
      "metadata": {
        "id": "-E11erMQzNOf",
        "colab_type": "code",
        "colab": {}
      },
      "source": [
        "# results_df.to_csv('ridedata.csv')\n",
        "# !cp ridedata.csv \"content/drive/My Drive/\""
      ],
      "execution_count": 0,
      "outputs": []
    },
    {
      "cell_type": "code",
      "metadata": {
        "id": "1W3rr67hrhgn",
        "colab_type": "code",
        "colab": {
          "base_uri": "https://localhost:8080/",
          "height": 224
        },
        "outputId": "483ca3d0-821c-4ec4-9255-dd59aab0749c"
      },
      "source": [
        "ride_share['start_day'] = [d.weekday() for d in ride_share['trip_start_timestamp']]\n",
        "\n",
        "ride_share.head()"
      ],
      "execution_count": 31,
      "outputs": [
        {
          "output_type": "execute_result",
          "data": {
            "text/html": [
              "<div>\n",
              "<style scoped>\n",
              "    .dataframe tbody tr th:only-of-type {\n",
              "        vertical-align: middle;\n",
              "    }\n",
              "\n",
              "    .dataframe tbody tr th {\n",
              "        vertical-align: top;\n",
              "    }\n",
              "\n",
              "    .dataframe thead th {\n",
              "        text-align: right;\n",
              "    }\n",
              "</style>\n",
              "<table border=\"1\" class=\"dataframe\">\n",
              "  <thead>\n",
              "    <tr style=\"text-align: right;\">\n",
              "      <th></th>\n",
              "      <th>trip_start_timestamp</th>\n",
              "      <th>trip_end_timestamp</th>\n",
              "      <th>trip_seconds</th>\n",
              "      <th>trip_miles</th>\n",
              "      <th>pickup_community_area</th>\n",
              "      <th>dropoff_community_area</th>\n",
              "      <th>fare</th>\n",
              "      <th>start_date</th>\n",
              "      <th>start_day</th>\n",
              "    </tr>\n",
              "  </thead>\n",
              "  <tbody>\n",
              "    <tr>\n",
              "      <th>0</th>\n",
              "      <td>2019-02-05 21:15:00</td>\n",
              "      <td>2019-02-05 21:30:00</td>\n",
              "      <td>808.0</td>\n",
              "      <td>4.625240</td>\n",
              "      <td>4.0</td>\n",
              "      <td>6.0</td>\n",
              "      <td>10.0</td>\n",
              "      <td>2019-02-05</td>\n",
              "      <td>1</td>\n",
              "    </tr>\n",
              "    <tr>\n",
              "      <th>1</th>\n",
              "      <td>2019-01-12 00:00:00</td>\n",
              "      <td>2019-01-12 00:15:00</td>\n",
              "      <td>590.0</td>\n",
              "      <td>2.215248</td>\n",
              "      <td>8.0</td>\n",
              "      <td>32.0</td>\n",
              "      <td>7.5</td>\n",
              "      <td>2019-01-12</td>\n",
              "      <td>5</td>\n",
              "    </tr>\n",
              "    <tr>\n",
              "      <th>2</th>\n",
              "      <td>2019-02-08 21:45:00</td>\n",
              "      <td>2019-02-08 22:00:00</td>\n",
              "      <td>349.0</td>\n",
              "      <td>1.410022</td>\n",
              "      <td>24.0</td>\n",
              "      <td>24.0</td>\n",
              "      <td>5.0</td>\n",
              "      <td>2019-02-08</td>\n",
              "      <td>4</td>\n",
              "    </tr>\n",
              "    <tr>\n",
              "      <th>3</th>\n",
              "      <td>2019-03-04 00:00:00</td>\n",
              "      <td>2019-03-04 00:15:00</td>\n",
              "      <td>1439.0</td>\n",
              "      <td>17.728125</td>\n",
              "      <td>76.0</td>\n",
              "      <td>8.0</td>\n",
              "      <td>25.0</td>\n",
              "      <td>2019-03-04</td>\n",
              "      <td>0</td>\n",
              "    </tr>\n",
              "    <tr>\n",
              "      <th>4</th>\n",
              "      <td>2019-02-04 08:45:00</td>\n",
              "      <td>2019-02-04 08:45:00</td>\n",
              "      <td>268.0</td>\n",
              "      <td>1.132505</td>\n",
              "      <td>70.0</td>\n",
              "      <td>71.0</td>\n",
              "      <td>5.0</td>\n",
              "      <td>2019-02-04</td>\n",
              "      <td>0</td>\n",
              "    </tr>\n",
              "  </tbody>\n",
              "</table>\n",
              "</div>"
            ],
            "text/plain": [
              "  trip_start_timestamp  trip_end_timestamp  ...  start_date  start_day\n",
              "0  2019-02-05 21:15:00 2019-02-05 21:30:00  ...  2019-02-05          1\n",
              "1  2019-01-12 00:00:00 2019-01-12 00:15:00  ...  2019-01-12          5\n",
              "2  2019-02-08 21:45:00 2019-02-08 22:00:00  ...  2019-02-08          4\n",
              "3  2019-03-04 00:00:00 2019-03-04 00:15:00  ...  2019-03-04          0\n",
              "4  2019-02-04 08:45:00 2019-02-04 08:45:00  ...  2019-02-04          0\n",
              "\n",
              "[5 rows x 9 columns]"
            ]
          },
          "metadata": {
            "tags": []
          },
          "execution_count": 31
        }
      ]
    },
    {
      "cell_type": "code",
      "metadata": {
        "id": "1b6r-RzNuG5s",
        "colab_type": "code",
        "colab": {
          "base_uri": "https://localhost:8080/",
          "height": 272
        },
        "outputId": "c3b996fd-3d4a-4263-b20f-35fe352c4c8a"
      },
      "source": [
        "ride_share['start_time'] = [d.hour for d in ride_share['trip_start_timestamp']]\n",
        "ride_share.info()"
      ],
      "execution_count": 33,
      "outputs": [
        {
          "output_type": "stream",
          "text": [
            "<class 'pandas.core.frame.DataFrame'>\n",
            "RangeIndex: 200000 entries, 0 to 199999\n",
            "Data columns (total 10 columns):\n",
            "trip_start_timestamp      200000 non-null datetime64[ns]\n",
            "trip_end_timestamp        200000 non-null datetime64[ns]\n",
            "trip_seconds              199994 non-null float64\n",
            "trip_miles                200000 non-null float64\n",
            "pickup_community_area     200000 non-null float64\n",
            "dropoff_community_area    200000 non-null float64\n",
            "fare                      200000 non-null float64\n",
            "start_date                200000 non-null object\n",
            "start_day                 200000 non-null int64\n",
            "start_time                200000 non-null int64\n",
            "dtypes: datetime64[ns](2), float64(5), int64(2), object(1)\n",
            "memory usage: 15.3+ MB\n"
          ],
          "name": "stdout"
        }
      ]
    },
    {
      "cell_type": "code",
      "metadata": {
        "id": "_1YqIYkFwGBS",
        "colab_type": "code",
        "colab": {}
      },
      "source": [
        "ride_share['time_block'] = ride_share['start_time']//3"
      ],
      "execution_count": 0,
      "outputs": []
    },
    {
      "cell_type": "code",
      "metadata": {
        "id": "YiZ4gEmDwm3j",
        "colab_type": "code",
        "colab": {
          "base_uri": "https://localhost:8080/",
          "height": 224
        },
        "outputId": "2d0e6aca-ce58-4bb9-a8bc-5b027294e240"
      },
      "source": [
        "ride_share.head()"
      ],
      "execution_count": 35,
      "outputs": [
        {
          "output_type": "execute_result",
          "data": {
            "text/html": [
              "<div>\n",
              "<style scoped>\n",
              "    .dataframe tbody tr th:only-of-type {\n",
              "        vertical-align: middle;\n",
              "    }\n",
              "\n",
              "    .dataframe tbody tr th {\n",
              "        vertical-align: top;\n",
              "    }\n",
              "\n",
              "    .dataframe thead th {\n",
              "        text-align: right;\n",
              "    }\n",
              "</style>\n",
              "<table border=\"1\" class=\"dataframe\">\n",
              "  <thead>\n",
              "    <tr style=\"text-align: right;\">\n",
              "      <th></th>\n",
              "      <th>trip_start_timestamp</th>\n",
              "      <th>trip_end_timestamp</th>\n",
              "      <th>trip_seconds</th>\n",
              "      <th>trip_miles</th>\n",
              "      <th>pickup_community_area</th>\n",
              "      <th>dropoff_community_area</th>\n",
              "      <th>fare</th>\n",
              "      <th>start_date</th>\n",
              "      <th>start_day</th>\n",
              "      <th>start_time</th>\n",
              "      <th>time_block</th>\n",
              "    </tr>\n",
              "  </thead>\n",
              "  <tbody>\n",
              "    <tr>\n",
              "      <th>0</th>\n",
              "      <td>2019-02-05 21:15:00</td>\n",
              "      <td>2019-02-05 21:30:00</td>\n",
              "      <td>808.0</td>\n",
              "      <td>4.625240</td>\n",
              "      <td>4.0</td>\n",
              "      <td>6.0</td>\n",
              "      <td>10.0</td>\n",
              "      <td>2019-02-05</td>\n",
              "      <td>1</td>\n",
              "      <td>21</td>\n",
              "      <td>7</td>\n",
              "    </tr>\n",
              "    <tr>\n",
              "      <th>1</th>\n",
              "      <td>2019-01-12 00:00:00</td>\n",
              "      <td>2019-01-12 00:15:00</td>\n",
              "      <td>590.0</td>\n",
              "      <td>2.215248</td>\n",
              "      <td>8.0</td>\n",
              "      <td>32.0</td>\n",
              "      <td>7.5</td>\n",
              "      <td>2019-01-12</td>\n",
              "      <td>5</td>\n",
              "      <td>0</td>\n",
              "      <td>0</td>\n",
              "    </tr>\n",
              "    <tr>\n",
              "      <th>2</th>\n",
              "      <td>2019-02-08 21:45:00</td>\n",
              "      <td>2019-02-08 22:00:00</td>\n",
              "      <td>349.0</td>\n",
              "      <td>1.410022</td>\n",
              "      <td>24.0</td>\n",
              "      <td>24.0</td>\n",
              "      <td>5.0</td>\n",
              "      <td>2019-02-08</td>\n",
              "      <td>4</td>\n",
              "      <td>21</td>\n",
              "      <td>7</td>\n",
              "    </tr>\n",
              "    <tr>\n",
              "      <th>3</th>\n",
              "      <td>2019-03-04 00:00:00</td>\n",
              "      <td>2019-03-04 00:15:00</td>\n",
              "      <td>1439.0</td>\n",
              "      <td>17.728125</td>\n",
              "      <td>76.0</td>\n",
              "      <td>8.0</td>\n",
              "      <td>25.0</td>\n",
              "      <td>2019-03-04</td>\n",
              "      <td>0</td>\n",
              "      <td>0</td>\n",
              "      <td>0</td>\n",
              "    </tr>\n",
              "    <tr>\n",
              "      <th>4</th>\n",
              "      <td>2019-02-04 08:45:00</td>\n",
              "      <td>2019-02-04 08:45:00</td>\n",
              "      <td>268.0</td>\n",
              "      <td>1.132505</td>\n",
              "      <td>70.0</td>\n",
              "      <td>71.0</td>\n",
              "      <td>5.0</td>\n",
              "      <td>2019-02-04</td>\n",
              "      <td>0</td>\n",
              "      <td>8</td>\n",
              "      <td>2</td>\n",
              "    </tr>\n",
              "  </tbody>\n",
              "</table>\n",
              "</div>"
            ],
            "text/plain": [
              "  trip_start_timestamp  trip_end_timestamp  ...  start_time  time_block\n",
              "0  2019-02-05 21:15:00 2019-02-05 21:30:00  ...          21           7\n",
              "1  2019-01-12 00:00:00 2019-01-12 00:15:00  ...           0           0\n",
              "2  2019-02-08 21:45:00 2019-02-08 22:00:00  ...          21           7\n",
              "3  2019-03-04 00:00:00 2019-03-04 00:15:00  ...           0           0\n",
              "4  2019-02-04 08:45:00 2019-02-04 08:45:00  ...           8           2\n",
              "\n",
              "[5 rows x 11 columns]"
            ]
          },
          "metadata": {
            "tags": []
          },
          "execution_count": 35
        }
      ]
    },
    {
      "cell_type": "code",
      "metadata": {
        "id": "2Y9clJ31nzZh",
        "colab_type": "code",
        "colab": {
          "base_uri": "https://localhost:8080/",
          "height": 585
        },
        "outputId": "e7190372-a53f-4d1f-f236-61b1baefbfde"
      },
      "source": [
        "# set seaborn style with dark grid\n",
        "plt.style.use('seaborn-darkgrid')\n",
        "\n",
        "\"\"\"\n",
        "- combine the distplots in one figure, customize the size\n",
        "\n",
        "\"\"\"\n",
        "f = plt.subplots(2,2,figsize=(10,8))\n",
        "plt.subplot(1, 2, 1)\n",
        "sns.distplot(ride_share['trip_miles'], kde=True, color=\"g\", kde_kws={\"shade\": True}, label = 'trip-miles')\n",
        "plt.title('Distance distribution')\n",
        "\n",
        "plt.subplot(1, 2, 2)\n",
        "sns.distplot(ride_share['fare'], kde=True, color=\"b\", kde_kws={\"shade\": True}, label = 'fare-amount')\n",
        "plt.title('Fare amount distribution')\n",
        "\n",
        "plt.tight_layout()"
      ],
      "execution_count": 47,
      "outputs": [
        {
          "output_type": "display_data",
          "data": {
            "image/png": "[encoded data removed]",
            "text/plain": [
              "<Figure size 720x576 with 2 Axes>"
            ]
          },
          "metadata": {
            "tags": []
          }
        }
      ]
    },
    {
      "cell_type": "code",
      "metadata": {
        "id": "wo-jM4HepU8O",
        "colab_type": "code",
        "colab": {
          "base_uri": "https://localhost:8080/",
          "height": 471
        },
        "outputId": "eac9c75e-c148-4516-e195-94382266a3c6"
      },
      "source": [
        "\"\"\"\n",
        "- shuffle datframe, take the portion of 10000 rows\n",
        "- use .corr() method to compute Pearson r for two variables in entire dataframe\n",
        "\n",
        "\"\"\"\n",
        "\n",
        "#sample = shuffle(ride_share)[0:10000]\n",
        "# Create the plot object\n",
        "fig, ax = plt.subplots(figsize=(9,7))\n",
        "\n",
        "# Plot the data, set the size (s), color and transparency (alpha)\n",
        "# of the points\n",
        "sns.regplot(ride_share['trip_miles'], ride_share['fare'], color = 'b')\n",
        "\n",
        "\n",
        "# Label the axes and provide a title\n",
        "ax.set_title('Fare amount-distance scatter')\n",
        "ax.set_xlabel('trip-miles')\n",
        "ax.set_ylabel('fare-amount')\n",
        "#print 'Pearson correlation: + str(round(ride_share['fare'].corr(ride_share['trip_miles']),2))"
      ],
      "execution_count": 54,
      "outputs": [
        {
          "output_type": "execute_result",
          "data": {
            "text/plain": [
              "Text(0, 0.5, 'fare-amount')"
            ]
          },
          "metadata": {
            "tags": []
          },
          "execution_count": 54
        },
        {
          "output_type": "display_data",
          "data": {
            "image/png": "[encoded data removed]",
            "text/plain": [
              "<Figure size 648x504 with 1 Axes>"
            ]
          },
          "metadata": {
            "tags": []
          }
        }
      ]
    },
    {
      "cell_type": "code",
      "metadata": {
        "id": "XYkLOz94sE_R",
        "colab_type": "code",
        "colab": {
          "base_uri": "https://localhost:8080/",
          "height": 412
        },
        "outputId": "ed479b25-7a43-412b-dbb8-b89adcc5dca9"
      },
      "source": [
        "\"\"\"\n",
        "- groupby data by pickup day and estimate the mean \n",
        "\n",
        "\"\"\"\n",
        "fig, ax = plt.subplots(figsize=(8,6))\n",
        "ride_share.groupby('start_day')['fare'].mean().plot.bar()\n",
        "ax.set_title('Mean fare amount per weekday day')\n"
      ],
      "execution_count": 57,
      "outputs": [
        {
          "output_type": "execute_result",
          "data": {
            "text/plain": [
              "Text(0.5, 1.0, 'Mean fare amount per weekday day')"
            ]
          },
          "metadata": {
            "tags": []
          },
          "execution_count": 57
        },
        {
          "output_type": "display_data",
          "data": {
            "image/png": "[encoded data removed]",
            "text/plain": [
              "<Figure size 576x432 with 1 Axes>"
            ]
          },
          "metadata": {
            "tags": []
          }
        }
      ]
    },
    {
      "cell_type": "code",
      "metadata": {
        "id": "Z7rMZSNZstWT",
        "colab_type": "code",
        "colab": {
          "base_uri": "https://localhost:8080/",
          "height": 418
        },
        "outputId": "8b73150b-841e-45b9-dd36-a1e235871fd5"
      },
      "source": [
        "\"\"\"\n",
        "- groupby data by pickup time and estimate the mean \n",
        "\n",
        "\"\"\"\n",
        "fig, ax = plt.subplots(figsize=(8,6))\n",
        "ride_share.groupby('start_time')['fare'].mean().plot.bar()\n",
        "ax.set_title('Mean fare amount per day')"
      ],
      "execution_count": 58,
      "outputs": [
        {
          "output_type": "execute_result",
          "data": {
            "text/plain": [
              "Text(0.5, 1.0, 'Mean fare amount per day')"
            ]
          },
          "metadata": {
            "tags": []
          },
          "execution_count": 58
        },
        {
          "output_type": "display_data",
          "data": {
            "image/png": "[encoded data removed]",
            "text/plain": [
              "<Figure size 576x432 with 1 Axes>"
            ]
          },
          "metadata": {
            "tags": []
          }
        }
      ]
    },
    {
      "cell_type": "code",
      "metadata": {
        "id": "JljRItr5tMET",
        "colab_type": "code",
        "colab": {
          "base_uri": "https://localhost:8080/",
          "height": 412
        },
        "outputId": "38848b09-2893-442a-ce00-24c11d045da3"
      },
      "source": [
        "\"\"\"\n",
        "- groupby data by pickup time block and estimate the mean \n",
        "\n",
        "\"\"\"\n",
        "fig, ax = plt.subplots(figsize=(8,6))\n",
        "ride_share.groupby('time_block')['fare'].mean().plot.bar()\n",
        "ax.set_title('Mean fare amount time block')"
      ],
      "execution_count": 59,
      "outputs": [
        {
          "output_type": "execute_result",
          "data": {
            "text/plain": [
              "Text(0.5, 1.0, 'Mean fare amount time block')"
            ]
          },
          "metadata": {
            "tags": []
          },
          "execution_count": 59
        },
        {
          "output_type": "display_data",
          "data": {
            "image/png": "[encoded data removed]",
            "text/plain": [
              "<Figure size 576x432 with 1 Axes>"
            ]
          },
          "metadata": {
            "tags": []
          }
        }
      ]
    },
    {
      "cell_type": "code",
      "metadata": {
        "id": "9mppru4NtoQm",
        "colab_type": "code",
        "colab": {
          "base_uri": "https://localhost:8080/",
          "height": 744
        },
        "outputId": "cef4b1c3-e967-4e5b-e4ea-29aa1ec47d81"
      },
      "source": [
        "\"\"\"\n",
        "- groupby data by pickup time area and estimate the mean \n",
        "\n",
        "\"\"\"\n",
        "fig, ax = plt.subplots(figsize=(14,12))\n",
        "ride_share.groupby('pickup_community_area')['fare'].mean().plot.bar()\n",
        "ax.set_title('Mean fare amount pickup area')"
      ],
      "execution_count": 61,
      "outputs": [
        {
          "output_type": "execute_result",
          "data": {
            "text/plain": [
              "Text(0.5, 1.0, 'Mean fare amount pickup area')"
            ]
          },
          "metadata": {
            "tags": []
          },
          "execution_count": 61
        },
        {
          "output_type": "display_data",
          "data": {
            "image/png": "[encoded data removed]",
            "text/plain": [
              "<Figure size 1008x864 with 1 Axes>"
            ]
          },
          "metadata": {
            "tags": []
          }
        }
      ]
    },
    {
      "cell_type": "code",
      "metadata": {
        "id": "3P0-e3KQHmlM",
        "colab_type": "code",
        "colab": {
          "base_uri": "https://localhost:8080/",
          "height": 153
        },
        "outputId": "d1f1dc6d-98e1-48fd-f840-e30059753e35"
      },
      "source": [
        "ride_share['start_day'].value_counts()"
      ],
      "execution_count": 36,
      "outputs": [
        {
          "output_type": "execute_result",
          "data": {
            "text/plain": [
              "4    34879\n",
              "5    34176\n",
              "3    28978\n",
              "6    26602\n",
              "1    25913\n",
              "2    25721\n",
              "0    23731\n",
              "Name: start_day, dtype: int64"
            ]
          },
          "metadata": {
            "tags": []
          },
          "execution_count": 36
        }
      ]
    },
    {
      "cell_type": "code",
      "metadata": {
        "id": "2pxCYNYx_BTN",
        "colab_type": "code",
        "colab": {}
      },
      "source": [
        "ride_share['pickup_community_area'] = ride_share['pickup_community_area'].astype('int64')"
      ],
      "execution_count": 0,
      "outputs": []
    },
    {
      "cell_type": "code",
      "metadata": {
        "id": "gQzLX0EWjMtK",
        "colab_type": "code",
        "colab": {
          "base_uri": "https://localhost:8080/",
          "height": 289
        },
        "outputId": "cfe0ec33-ac3d-485a-a175-7cbc4cc3ee29"
      },
      "source": [
        "ride_share.info()"
      ],
      "execution_count": 38,
      "outputs": [
        {
          "output_type": "stream",
          "text": [
            "<class 'pandas.core.frame.DataFrame'>\n",
            "RangeIndex: 200000 entries, 0 to 199999\n",
            "Data columns (total 11 columns):\n",
            "trip_start_timestamp      200000 non-null datetime64[ns]\n",
            "trip_end_timestamp        200000 non-null datetime64[ns]\n",
            "trip_seconds              199994 non-null float64\n",
            "trip_miles                200000 non-null float64\n",
            "pickup_community_area     200000 non-null int64\n",
            "dropoff_community_area    200000 non-null float64\n",
            "fare                      200000 non-null float64\n",
            "start_date                200000 non-null object\n",
            "start_day                 200000 non-null int64\n",
            "start_time                200000 non-null int64\n",
            "time_block                200000 non-null int64\n",
            "dtypes: datetime64[ns](2), float64(4), int64(4), object(1)\n",
            "memory usage: 16.8+ MB\n"
          ],
          "name": "stdout"
        }
      ]
    },
    {
      "cell_type": "markdown",
      "metadata": {
        "id": "GYmgtTR61bAN",
        "colab_type": "text"
      },
      "source": [
        "**One Hot Encode the categorical variables**"
      ]
    },
    {
      "cell_type": "code",
      "metadata": {
        "id": "-ig7QzTzxvpu",
        "colab_type": "code",
        "colab": {
          "base_uri": "https://localhost:8080/",
          "height": 34
        },
        "outputId": "ccb8aa89-ed05-47ff-b8ad-881b295a1329"
      },
      "source": [
        "# assign the categorical variables to encode\n",
        "X = ride_share[[ 'start_day', 'time_block', 'pickup_community_area']]\n",
        "X.shape"
      ],
      "execution_count": 39,
      "outputs": [
        {
          "output_type": "execute_result",
          "data": {
            "text/plain": [
              "(200000, 3)"
            ]
          },
          "metadata": {
            "tags": []
          },
          "execution_count": 39
        }
      ]
    },
    {
      "cell_type": "code",
      "metadata": {
        "id": "__DIhUi_zv7e",
        "colab_type": "code",
        "colab": {}
      },
      "source": [
        "# One hot encoding \n",
        "from sklearn import preprocessing"
      ],
      "execution_count": 0,
      "outputs": []
    },
    {
      "cell_type": "code",
      "metadata": {
        "id": "m1EXfzC23GL2",
        "colab_type": "code",
        "colab": {}
      },
      "source": [
        "\n",
        "# Create One Hot Encoder Object\n",
        "\n",
        "# 1 Instantiate thh variables\n",
        "\n",
        "enc = preprocessing.OneHotEncoder()\n",
        "\n",
        "# 2 Fit\n",
        "\n",
        "enc.fit(X)\n",
        "\n",
        "# 3 Transform\n",
        "\n",
        "onehotlabels = enc.transform(X)\n",
        "\n",
        "columns = enc.get_feature_names(input_features=X.columns)\n",
        "\n",
        "\n",
        "X_df = pd.DataFrame(onehotlabels.todense(), columns=columns)\n"
      ],
      "execution_count": 0,
      "outputs": []
    },
    {
      "cell_type": "code",
      "metadata": {
        "id": "FT9DWOvP6Laz",
        "colab_type": "code",
        "colab": {}
      },
      "source": [
        "\n",
        "\n",
        "# X_df['trip_seconds'] = ride_df['trip_seconds']\n",
        "# X_df.head()\n"
      ],
      "execution_count": 0,
      "outputs": []
    },
    {
      "cell_type": "code",
      "metadata": {
        "id": "6meshgbzFPSK",
        "colab_type": "code",
        "colab": {}
      },
      "source": [
        "from sklearn.model_selection import train_test_split"
      ],
      "execution_count": 0,
      "outputs": []
    },
    {
      "cell_type": "code",
      "metadata": {
        "id": "SS0ZmTN2FfXp",
        "colab_type": "code",
        "colab": {}
      },
      "source": [
        "y = ride_share['fare']"
      ],
      "execution_count": 0,
      "outputs": []
    },
    {
      "cell_type": "code",
      "metadata": {
        "id": "gZff9jtoHAmC",
        "colab_type": "code",
        "colab": {}
      },
      "source": [
        "X_train , X_test, y_train, y_test = train_test_split(X_df, y, test_size=0.25, random_state=12)"
      ],
      "execution_count": 0,
      "outputs": []
    },
    {
      "cell_type": "code",
      "metadata": {
        "id": "dy4EXZQFfSDe",
        "colab_type": "code",
        "colab": {}
      },
      "source": [
        "import statsmodels.api as sm"
      ],
      "execution_count": 0,
      "outputs": []
    },
    {
      "cell_type": "code",
      "metadata": {
        "id": "IQjYIr1kIb3-",
        "colab_type": "code",
        "colab": {
          "base_uri": "https://localhost:8080/",
          "height": 1000
        },
        "outputId": "272ec5d0-9d74-4362-f3ca-c3e6e4e35ae3"
      },
      "source": [
        "X_df = sm.add_constant(X_df)\n",
        "est = sm.OLS(y, X_df).fit()\n",
        "#predictions = est.predict(X_df)\n",
        "est.summary()\n"
      ],
      "execution_count": 46,
      "outputs": [
        {
          "output_type": "stream",
          "text": [
            "/usr/local/lib/python3.6/dist-packages/numpy/core/fromnumeric.py:2495: FutureWarning: Method .ptp is deprecated and will be removed in a future version. Use numpy.ptp instead.\n",
            "  return ptp(axis=axis, out=out, **kwargs)\n"
          ],
          "name": "stderr"
        },
        {
          "output_type": "execute_result",
          "data": {
            "text/html": [
              "<table class=\"simpletable\">\n",
              "<caption>OLS Regression Results</caption>\n",
              "<tr>\n",
              "  <th>Dep. Variable:</th>          <td>fare</td>       <th>  R-squared:         </th>  <td>   0.220</td>  \n",
              "</tr>\n",
              "<tr>\n",
              "  <th>Model:</th>                   <td>OLS</td>       <th>  Adj. R-squared:    </th>  <td>   0.220</td>  \n",
              "</tr>\n",
              "<tr>\n",
              "  <th>Method:</th>             <td>Least Squares</td>  <th>  F-statistic:       </th>  <td>   626.8</td>  \n",
              "</tr>\n",
              "<tr>\n",
              "  <th>Date:</th>             <td>Wed, 22 Jan 2020</td> <th>  Prob (F-statistic):</th>   <td>  0.00</td>   \n",
              "</tr>\n",
              "<tr>\n",
              "  <th>Time:</th>                 <td>14:04:16</td>     <th>  Log-Likelihood:    </th> <td>-7.0101e+05</td>\n",
              "</tr>\n",
              "<tr>\n",
              "  <th>No. Observations:</th>      <td>200000</td>      <th>  AIC:               </th>  <td>1.402e+06</td> \n",
              "</tr>\n",
              "<tr>\n",
              "  <th>Df Residuals:</th>          <td>199909</td>      <th>  BIC:               </th>  <td>1.403e+06</td> \n",
              "</tr>\n",
              "<tr>\n",
              "  <th>Df Model:</th>              <td>    90</td>      <th>                     </th>      <td> </td>     \n",
              "</tr>\n",
              "<tr>\n",
              "  <th>Covariance Type:</th>      <td>nonrobust</td>    <th>                     </th>      <td> </td>     \n",
              "</tr>\n",
              "</table>\n",
              "<table class=\"simpletable\">\n",
              "<tr>\n",
              "              <td></td>                <th>coef</th>     <th>std err</th>      <th>t</th>      <th>P>|t|</th>  <th>[0.025</th>    <th>0.975]</th>  \n",
              "</tr>\n",
              "<tr>\n",
              "  <th>const</th>                    <td>    8.5166</td> <td>    0.034</td> <td>  253.286</td> <td> 0.000</td> <td>    8.451</td> <td>    8.583</td>\n",
              "</tr>\n",
              "<tr>\n",
              "  <th>start_day_0</th>              <td>    1.4180</td> <td>    0.048</td> <td>   29.371</td> <td> 0.000</td> <td>    1.323</td> <td>    1.513</td>\n",
              "</tr>\n",
              "<tr>\n",
              "  <th>start_day_1</th>              <td>    0.9238</td> <td>    0.046</td> <td>   19.901</td> <td> 0.000</td> <td>    0.833</td> <td>    1.015</td>\n",
              "</tr>\n",
              "<tr>\n",
              "  <th>start_day_2</th>              <td>    0.9558</td> <td>    0.047</td> <td>   20.479</td> <td> 0.000</td> <td>    0.864</td> <td>    1.047</td>\n",
              "</tr>\n",
              "<tr>\n",
              "  <th>start_day_3</th>              <td>    1.4343</td> <td>    0.044</td> <td>   32.343</td> <td> 0.000</td> <td>    1.347</td> <td>    1.521</td>\n",
              "</tr>\n",
              "<tr>\n",
              "  <th>start_day_4</th>              <td>    1.5283</td> <td>    0.041</td> <td>   37.283</td> <td> 0.000</td> <td>    1.448</td> <td>    1.609</td>\n",
              "</tr>\n",
              "<tr>\n",
              "  <th>start_day_5</th>              <td>    1.2435</td> <td>    0.042</td> <td>   29.855</td> <td> 0.000</td> <td>    1.162</td> <td>    1.325</td>\n",
              "</tr>\n",
              "<tr>\n",
              "  <th>start_day_6</th>              <td>    1.0129</td> <td>    0.047</td> <td>   21.778</td> <td> 0.000</td> <td>    0.922</td> <td>    1.104</td>\n",
              "</tr>\n",
              "<tr>\n",
              "  <th>time_block_0</th>             <td>    0.2736</td> <td>    0.063</td> <td>    4.323</td> <td> 0.000</td> <td>    0.150</td> <td>    0.398</td>\n",
              "</tr>\n",
              "<tr>\n",
              "  <th>time_block_1</th>             <td>    3.4175</td> <td>    0.084</td> <td>   40.650</td> <td> 0.000</td> <td>    3.253</td> <td>    3.582</td>\n",
              "</tr>\n",
              "<tr>\n",
              "  <th>time_block_2</th>             <td>    1.9096</td> <td>    0.051</td> <td>   37.656</td> <td> 0.000</td> <td>    1.810</td> <td>    2.009</td>\n",
              "</tr>\n",
              "<tr>\n",
              "  <th>time_block_3</th>             <td>    0.7503</td> <td>    0.048</td> <td>   15.712</td> <td> 0.000</td> <td>    0.657</td> <td>    0.844</td>\n",
              "</tr>\n",
              "<tr>\n",
              "  <th>time_block_4</th>             <td>    0.8154</td> <td>    0.047</td> <td>   17.213</td> <td> 0.000</td> <td>    0.723</td> <td>    0.908</td>\n",
              "</tr>\n",
              "<tr>\n",
              "  <th>time_block_5</th>             <td>    1.0981</td> <td>    0.043</td> <td>   25.529</td> <td> 0.000</td> <td>    1.014</td> <td>    1.182</td>\n",
              "</tr>\n",
              "<tr>\n",
              "  <th>time_block_6</th>             <td>    0.1030</td> <td>    0.041</td> <td>    2.507</td> <td> 0.012</td> <td>    0.022</td> <td>    0.184</td>\n",
              "</tr>\n",
              "<tr>\n",
              "  <th>time_block_7</th>             <td>    0.1491</td> <td>    0.046</td> <td>    3.265</td> <td> 0.001</td> <td>    0.060</td> <td>    0.239</td>\n",
              "</tr>\n",
              "<tr>\n",
              "  <th>pickup_community_area_0</th>  <td>   10.3010</td> <td>    0.085</td> <td>  120.833</td> <td> 0.000</td> <td>   10.134</td> <td>   10.468</td>\n",
              "</tr>\n",
              "<tr>\n",
              "  <th>pickup_community_area_1</th>  <td>   -0.2335</td> <td>    0.166</td> <td>   -1.406</td> <td> 0.160</td> <td>   -0.559</td> <td>    0.092</td>\n",
              "</tr>\n",
              "<tr>\n",
              "  <th>pickup_community_area_2</th>  <td>   -1.1025</td> <td>    0.195</td> <td>   -5.662</td> <td> 0.000</td> <td>   -1.484</td> <td>   -0.721</td>\n",
              "</tr>\n",
              "<tr>\n",
              "  <th>pickup_community_area_3</th>  <td>   -1.0262</td> <td>    0.128</td> <td>   -8.040</td> <td> 0.000</td> <td>   -1.276</td> <td>   -0.776</td>\n",
              "</tr>\n",
              "<tr>\n",
              "  <th>pickup_community_area_4</th>  <td>   -0.8367</td> <td>    0.175</td> <td>   -4.790</td> <td> 0.000</td> <td>   -1.179</td> <td>   -0.494</td>\n",
              "</tr>\n",
              "<tr>\n",
              "  <th>pickup_community_area_5</th>  <td>   -0.7269</td> <td>    0.164</td> <td>   -4.438</td> <td> 0.000</td> <td>   -1.048</td> <td>   -0.406</td>\n",
              "</tr>\n",
              "<tr>\n",
              "  <th>pickup_community_area_6</th>  <td>   -1.2190</td> <td>    0.081</td> <td>  -15.094</td> <td> 0.000</td> <td>   -1.377</td> <td>   -1.061</td>\n",
              "</tr>\n",
              "<tr>\n",
              "  <th>pickup_community_area_7</th>  <td>   -1.7474</td> <td>    0.087</td> <td>  -20.128</td> <td> 0.000</td> <td>   -1.918</td> <td>   -1.577</td>\n",
              "</tr>\n",
              "<tr>\n",
              "  <th>pickup_community_area_8</th>  <td>   -1.2481</td> <td>    0.061</td> <td>  -20.317</td> <td> 0.000</td> <td>   -1.369</td> <td>   -1.128</td>\n",
              "</tr>\n",
              "<tr>\n",
              "  <th>pickup_community_area_9</th>  <td>    0.7221</td> <td>    0.606</td> <td>    1.191</td> <td> 0.234</td> <td>   -0.466</td> <td>    1.910</td>\n",
              "</tr>\n",
              "<tr>\n",
              "  <th>pickup_community_area_10</th> <td>    0.2910</td> <td>    0.336</td> <td>    0.867</td> <td> 0.386</td> <td>   -0.367</td> <td>    0.949</td>\n",
              "</tr>\n",
              "<tr>\n",
              "  <th>pickup_community_area_11</th> <td>    0.4195</td> <td>    0.348</td> <td>    1.204</td> <td> 0.228</td> <td>   -0.263</td> <td>    1.102</td>\n",
              "</tr>\n",
              "<tr>\n",
              "  <th>pickup_community_area_12</th> <td>    1.4390</td> <td>    0.518</td> <td>    2.777</td> <td> 0.005</td> <td>    0.423</td> <td>    2.455</td>\n",
              "</tr>\n",
              "<tr>\n",
              "  <th>pickup_community_area_13</th> <td>   -0.2196</td> <td>    0.364</td> <td>   -0.603</td> <td> 0.546</td> <td>   -0.933</td> <td>    0.494</td>\n",
              "</tr>\n",
              "<tr>\n",
              "  <th>pickup_community_area_14</th> <td>   -0.5279</td> <td>    0.221</td> <td>   -2.390</td> <td> 0.017</td> <td>   -0.961</td> <td>   -0.095</td>\n",
              "</tr>\n",
              "<tr>\n",
              "  <th>pickup_community_area_15</th> <td>   -0.3006</td> <td>    0.225</td> <td>   -1.335</td> <td> 0.182</td> <td>   -0.742</td> <td>    0.141</td>\n",
              "</tr>\n",
              "<tr>\n",
              "  <th>pickup_community_area_16</th> <td>   -0.6181</td> <td>    0.179</td> <td>   -3.446</td> <td> 0.001</td> <td>   -0.970</td> <td>   -0.267</td>\n",
              "</tr>\n",
              "<tr>\n",
              "  <th>pickup_community_area_17</th> <td>    0.2679</td> <td>    0.356</td> <td>    0.753</td> <td> 0.452</td> <td>   -0.430</td> <td>    0.966</td>\n",
              "</tr>\n",
              "<tr>\n",
              "  <th>pickup_community_area_18</th> <td>    0.4304</td> <td>    0.552</td> <td>    0.780</td> <td> 0.435</td> <td>   -0.651</td> <td>    1.512</td>\n",
              "</tr>\n",
              "<tr>\n",
              "  <th>pickup_community_area_19</th> <td>   -1.3028</td> <td>    0.216</td> <td>   -6.033</td> <td> 0.000</td> <td>   -1.726</td> <td>   -0.880</td>\n",
              "</tr>\n",
              "<tr>\n",
              "  <th>pickup_community_area_20</th> <td>   -0.9847</td> <td>    0.347</td> <td>   -2.841</td> <td> 0.005</td> <td>   -1.664</td> <td>   -0.305</td>\n",
              "</tr>\n",
              "<tr>\n",
              "  <th>pickup_community_area_21</th> <td>   -1.4802</td> <td>    0.172</td> <td>   -8.629</td> <td> 0.000</td> <td>   -1.816</td> <td>   -1.144</td>\n",
              "</tr>\n",
              "<tr>\n",
              "  <th>pickup_community_area_22</th> <td>   -1.5863</td> <td>    0.099</td> <td>  -15.952</td> <td> 0.000</td> <td>   -1.781</td> <td>   -1.391</td>\n",
              "</tr>\n",
              "<tr>\n",
              "  <th>pickup_community_area_23</th> <td>   -1.3802</td> <td>    0.198</td> <td>   -6.961</td> <td> 0.000</td> <td>   -1.769</td> <td>   -0.992</td>\n",
              "</tr>\n",
              "<tr>\n",
              "  <th>pickup_community_area_24</th> <td>   -1.8971</td> <td>    0.082</td> <td>  -23.150</td> <td> 0.000</td> <td>   -2.058</td> <td>   -1.737</td>\n",
              "</tr>\n",
              "<tr>\n",
              "  <th>pickup_community_area_25</th> <td>   -0.5892</td> <td>    0.171</td> <td>   -3.446</td> <td> 0.001</td> <td>   -0.924</td> <td>   -0.254</td>\n",
              "</tr>\n",
              "<tr>\n",
              "  <th>pickup_community_area_26</th> <td>   -0.7991</td> <td>    0.340</td> <td>   -2.353</td> <td> 0.019</td> <td>   -1.465</td> <td>   -0.134</td>\n",
              "</tr>\n",
              "<tr>\n",
              "  <th>pickup_community_area_27</th> <td>   -1.5330</td> <td>    0.272</td> <td>   -5.631</td> <td> 0.000</td> <td>   -2.067</td> <td>   -0.999</td>\n",
              "</tr>\n",
              "<tr>\n",
              "  <th>pickup_community_area_28</th> <td>   -1.5131</td> <td>    0.073</td> <td>  -20.687</td> <td> 0.000</td> <td>   -1.656</td> <td>   -1.370</td>\n",
              "</tr>\n",
              "<tr>\n",
              "  <th>pickup_community_area_29</th> <td>   -1.1430</td> <td>    0.215</td> <td>   -5.324</td> <td> 0.000</td> <td>   -1.564</td> <td>   -0.722</td>\n",
              "</tr>\n",
              "<tr>\n",
              "  <th>pickup_community_area_30</th> <td>   -0.6078</td> <td>    0.230</td> <td>   -2.640</td> <td> 0.008</td> <td>   -1.059</td> <td>   -0.157</td>\n",
              "</tr>\n",
              "<tr>\n",
              "  <th>pickup_community_area_31</th> <td>   -1.5460</td> <td>    0.166</td> <td>   -9.340</td> <td> 0.000</td> <td>   -1.870</td> <td>   -1.222</td>\n",
              "</tr>\n",
              "<tr>\n",
              "  <th>pickup_community_area_32</th> <td>   -0.4313</td> <td>    0.074</td> <td>   -5.819</td> <td> 0.000</td> <td>   -0.577</td> <td>   -0.286</td>\n",
              "</tr>\n",
              "<tr>\n",
              "  <th>pickup_community_area_33</th> <td>   -0.3764</td> <td>    0.139</td> <td>   -2.703</td> <td> 0.007</td> <td>   -0.649</td> <td>   -0.103</td>\n",
              "</tr>\n",
              "<tr>\n",
              "  <th>pickup_community_area_34</th> <td>   -1.6833</td> <td>    0.277</td> <td>   -6.074</td> <td> 0.000</td> <td>   -2.226</td> <td>   -1.140</td>\n",
              "</tr>\n",
              "<tr>\n",
              "  <th>pickup_community_area_35</th> <td>   -1.6391</td> <td>    0.219</td> <td>   -7.486</td> <td> 0.000</td> <td>   -2.068</td> <td>   -1.210</td>\n",
              "</tr>\n",
              "<tr>\n",
              "  <th>pickup_community_area_36</th> <td>   -1.5755</td> <td>    0.474</td> <td>   -3.326</td> <td> 0.001</td> <td>   -2.504</td> <td>   -0.647</td>\n",
              "</tr>\n",
              "<tr>\n",
              "  <th>pickup_community_area_37</th> <td>   -0.8347</td> <td>    0.558</td> <td>   -1.495</td> <td> 0.135</td> <td>   -1.929</td> <td>    0.260</td>\n",
              "</tr>\n",
              "<tr>\n",
              "  <th>pickup_community_area_38</th> <td>   -0.9009</td> <td>    0.232</td> <td>   -3.882</td> <td> 0.000</td> <td>   -1.356</td> <td>   -0.446</td>\n",
              "</tr>\n",
              "<tr>\n",
              "  <th>pickup_community_area_39</th> <td>   -0.9155</td> <td>    0.258</td> <td>   -3.542</td> <td> 0.000</td> <td>   -1.422</td> <td>   -0.409</td>\n",
              "</tr>\n",
              "<tr>\n",
              "  <th>pickup_community_area_40</th> <td>   -1.8101</td> <td>    0.331</td> <td>   -5.462</td> <td> 0.000</td> <td>   -2.460</td> <td>   -1.161</td>\n",
              "</tr>\n",
              "<tr>\n",
              "  <th>pickup_community_area_41</th> <td>   -0.3172</td> <td>    0.152</td> <td>   -2.090</td> <td> 0.037</td> <td>   -0.615</td> <td>   -0.020</td>\n",
              "</tr>\n",
              "<tr>\n",
              "  <th>pickup_community_area_42</th> <td>   -0.5228</td> <td>    0.235</td> <td>   -2.224</td> <td> 0.026</td> <td>   -0.983</td> <td>   -0.062</td>\n",
              "</tr>\n",
              "<tr>\n",
              "  <th>pickup_community_area_43</th> <td>    0.2990</td> <td>    0.208</td> <td>    1.437</td> <td> 0.151</td> <td>   -0.109</td> <td>    0.707</td>\n",
              "</tr>\n",
              "<tr>\n",
              "  <th>pickup_community_area_44</th> <td>   -1.0385</td> <td>    0.235</td> <td>   -4.420</td> <td> 0.000</td> <td>   -1.499</td> <td>   -0.578</td>\n",
              "</tr>\n",
              "<tr>\n",
              "  <th>pickup_community_area_45</th> <td>   -0.2185</td> <td>    0.550</td> <td>   -0.397</td> <td> 0.691</td> <td>   -1.297</td> <td>    0.860</td>\n",
              "</tr>\n",
              "<tr>\n",
              "  <th>pickup_community_area_46</th> <td>    1.3449</td> <td>    0.355</td> <td>    3.789</td> <td> 0.000</td> <td>    0.649</td> <td>    2.041</td>\n",
              "</tr>\n",
              "<tr>\n",
              "  <th>pickup_community_area_47</th> <td>    0.3502</td> <td>    0.987</td> <td>    0.355</td> <td> 0.723</td> <td>   -1.585</td> <td>    2.285</td>\n",
              "</tr>\n",
              "<tr>\n",
              "  <th>pickup_community_area_48</th> <td>    0.8714</td> <td>    0.478</td> <td>    1.823</td> <td> 0.068</td> <td>   -0.065</td> <td>    1.808</td>\n",
              "</tr>\n",
              "<tr>\n",
              "  <th>pickup_community_area_49</th> <td>    0.0200</td> <td>    0.256</td> <td>    0.078</td> <td> 0.938</td> <td>   -0.482</td> <td>    0.522</td>\n",
              "</tr>\n",
              "<tr>\n",
              "  <th>pickup_community_area_50</th> <td>    0.0972</td> <td>    0.553</td> <td>    0.176</td> <td> 0.860</td> <td>   -0.987</td> <td>    1.181</td>\n",
              "</tr>\n",
              "<tr>\n",
              "  <th>pickup_community_area_51</th> <td>    0.8031</td> <td>    0.469</td> <td>    1.713</td> <td> 0.087</td> <td>   -0.116</td> <td>    1.722</td>\n",
              "</tr>\n",
              "<tr>\n",
              "  <th>pickup_community_area_52</th> <td>    2.3660</td> <td>    0.839</td> <td>    2.819</td> <td> 0.005</td> <td>    0.721</td> <td>    4.011</td>\n",
              "</tr>\n",
              "<tr>\n",
              "  <th>pickup_community_area_53</th> <td>    0.8480</td> <td>    0.384</td> <td>    2.211</td> <td> 0.027</td> <td>    0.096</td> <td>    1.600</td>\n",
              "</tr>\n",
              "<tr>\n",
              "  <th>pickup_community_area_54</th> <td>    2.9522</td> <td>    0.681</td> <td>    4.337</td> <td> 0.000</td> <td>    1.618</td> <td>    4.286</td>\n",
              "</tr>\n",
              "<tr>\n",
              "  <th>pickup_community_area_55</th> <td>    3.2372</td> <td>    0.965</td> <td>    3.354</td> <td> 0.001</td> <td>    1.345</td> <td>    5.129</td>\n",
              "</tr>\n",
              "<tr>\n",
              "  <th>pickup_community_area_56</th> <td>   11.4852</td> <td>    0.178</td> <td>   64.555</td> <td> 0.000</td> <td>   11.136</td> <td>   11.834</td>\n",
              "</tr>\n",
              "<tr>\n",
              "  <th>pickup_community_area_57</th> <td>   -0.9587</td> <td>    0.404</td> <td>   -2.374</td> <td> 0.018</td> <td>   -1.750</td> <td>   -0.167</td>\n",
              "</tr>\n",
              "<tr>\n",
              "  <th>pickup_community_area_58</th> <td>   -1.6157</td> <td>    0.279</td> <td>   -5.798</td> <td> 0.000</td> <td>   -2.162</td> <td>   -1.069</td>\n",
              "</tr>\n",
              "<tr>\n",
              "  <th>pickup_community_area_59</th> <td>   -1.8171</td> <td>    0.358</td> <td>   -5.070</td> <td> 0.000</td> <td>   -2.520</td> <td>   -1.115</td>\n",
              "</tr>\n",
              "<tr>\n",
              "  <th>pickup_community_area_60</th> <td>   -1.3514</td> <td>    0.236</td> <td>   -5.716</td> <td> 0.000</td> <td>   -1.815</td> <td>   -0.888</td>\n",
              "</tr>\n",
              "<tr>\n",
              "  <th>pickup_community_area_61</th> <td>   -1.6055</td> <td>    0.265</td> <td>   -6.067</td> <td> 0.000</td> <td>   -2.124</td> <td>   -1.087</td>\n",
              "</tr>\n",
              "<tr>\n",
              "  <th>pickup_community_area_62</th> <td>   -1.5152</td> <td>    0.511</td> <td>   -2.966</td> <td> 0.003</td> <td>   -2.516</td> <td>   -0.514</td>\n",
              "</tr>\n",
              "<tr>\n",
              "  <th>pickup_community_area_63</th> <td>   -1.2139</td> <td>    0.343</td> <td>   -3.543</td> <td> 0.000</td> <td>   -1.885</td> <td>   -0.542</td>\n",
              "</tr>\n",
              "<tr>\n",
              "  <th>pickup_community_area_64</th> <td>    0.9497</td> <td>    0.481</td> <td>    1.976</td> <td> 0.048</td> <td>    0.008</td> <td>    1.891</td>\n",
              "</tr>\n",
              "<tr>\n",
              "  <th>pickup_community_area_65</th> <td>   -0.4277</td> <td>    0.364</td> <td>   -1.175</td> <td> 0.240</td> <td>   -1.141</td> <td>    0.285</td>\n",
              "</tr>\n",
              "<tr>\n",
              "  <th>pickup_community_area_66</th> <td>   -0.5876</td> <td>    0.265</td> <td>   -2.221</td> <td> 0.026</td> <td>   -1.106</td> <td>   -0.069</td>\n",
              "</tr>\n",
              "<tr>\n",
              "  <th>pickup_community_area_67</th> <td>   -0.3935</td> <td>    0.299</td> <td>   -1.314</td> <td> 0.189</td> <td>   -0.980</td> <td>    0.194</td>\n",
              "</tr>\n",
              "<tr>\n",
              "  <th>pickup_community_area_68</th> <td>   -1.0465</td> <td>    0.269</td> <td>   -3.893</td> <td> 0.000</td> <td>   -1.573</td> <td>   -0.520</td>\n",
              "</tr>\n",
              "<tr>\n",
              "  <th>pickup_community_area_69</th> <td>   -1.1639</td> <td>    0.240</td> <td>   -4.847</td> <td> 0.000</td> <td>   -1.635</td> <td>   -0.693</td>\n",
              "</tr>\n",
              "<tr>\n",
              "  <th>pickup_community_area_70</th> <td>   -0.0917</td> <td>    0.354</td> <td>   -0.259</td> <td> 0.796</td> <td>   -0.786</td> <td>    0.603</td>\n",
              "</tr>\n",
              "<tr>\n",
              "  <th>pickup_community_area_71</th> <td>   -0.3294</td> <td>    0.248</td> <td>   -1.328</td> <td> 0.184</td> <td>   -0.816</td> <td>    0.157</td>\n",
              "</tr>\n",
              "<tr>\n",
              "  <th>pickup_community_area_72</th> <td>    2.4760</td> <td>    0.503</td> <td>    4.925</td> <td> 0.000</td> <td>    1.491</td> <td>    3.461</td>\n",
              "</tr>\n",
              "<tr>\n",
              "  <th>pickup_community_area_73</th> <td>    0.1850</td> <td>    0.347</td> <td>    0.533</td> <td> 0.594</td> <td>   -0.495</td> <td>    0.865</td>\n",
              "</tr>\n",
              "<tr>\n",
              "  <th>pickup_community_area_74</th> <td>    1.0732</td> <td>    0.630</td> <td>    1.703</td> <td> 0.089</td> <td>   -0.162</td> <td>    2.308</td>\n",
              "</tr>\n",
              "<tr>\n",
              "  <th>pickup_community_area_75</th> <td>    1.5216</td> <td>    0.430</td> <td>    3.542</td> <td> 0.000</td> <td>    0.680</td> <td>    2.364</td>\n",
              "</tr>\n",
              "<tr>\n",
              "  <th>pickup_community_area_76</th> <td>   16.8127</td> <td>    0.109</td> <td>  153.645</td> <td> 0.000</td> <td>   16.598</td> <td>   17.027</td>\n",
              "</tr>\n",
              "<tr>\n",
              "  <th>pickup_community_area_77</th> <td>   -0.4963</td> <td>    0.152</td> <td>   -3.262</td> <td> 0.001</td> <td>   -0.795</td> <td>   -0.198</td>\n",
              "</tr>\n",
              "</table>\n",
              "<table class=\"simpletable\">\n",
              "<tr>\n",
              "  <th>Omnibus:</th>       <td>201757.298</td> <th>  Durbin-Watson:     </th>   <td>   1.995</td>  \n",
              "</tr>\n",
              "<tr>\n",
              "  <th>Prob(Omnibus):</th>   <td> 0.000</td>   <th>  Jarque-Bera (JB):  </th> <td>62588086.248</td>\n",
              "</tr>\n",
              "<tr>\n",
              "  <th>Skew:</th>            <td> 4.390</td>   <th>  Prob(JB):          </th>   <td>    0.00</td>  \n",
              "</tr>\n",
              "<tr>\n",
              "  <th>Kurtosis:</th>        <td>89.218</td>   <th>  Cond. No.          </th>   <td>1.34e+16</td>  \n",
              "</tr>\n",
              "</table><br/><br/>Warnings:<br/>[1] Standard Errors assume that the covariance matrix of the errors is correctly specified.<br/>[2] The smallest eigenvalue is 1.5e-27. This might indicate that there are<br/>strong multicollinearity problems or that the design matrix is singular."
            ],
            "text/plain": [
              "<class 'statsmodels.iolib.summary.Summary'>\n",
              "\"\"\"\n",
              "                            OLS Regression Results                            \n",
              "==============================================================================\n",
              "Dep. Variable:                   fare   R-squared:                       0.220\n",
              "Model:                            OLS   Adj. R-squared:                  0.220\n",
              "Method:                 Least Squares   F-statistic:                     626.8\n",
              "Date:                Wed, 22 Jan 2020   Prob (F-statistic):               0.00\n",
              "Time:                        14:04:16   Log-Likelihood:            -7.0101e+05\n",
              "No. Observations:              200000   AIC:                         1.402e+06\n",
              "Df Residuals:                  199909   BIC:                         1.403e+06\n",
              "Df Model:                          90                                         \n",
              "Covariance Type:            nonrobust                                         \n",
              "============================================================================================\n",
              "                               coef    std err          t      P>|t|      [0.025      0.975]\n",
              "--------------------------------------------------------------------------------------------\n",
              "const                        8.5166      0.034    253.286      0.000       8.451       8.583\n",
              "start_day_0                  1.4180      0.048     29.371      0.000       1.323       1.513\n",
              "start_day_1                  0.9238      0.046     19.901      0.000       0.833       1.015\n",
              "start_day_2                  0.9558      0.047     20.479      0.000       0.864       1.047\n",
              "start_day_3                  1.4343      0.044     32.343      0.000       1.347       1.521\n",
              "start_day_4                  1.5283      0.041     37.283      0.000       1.448       1.609\n",
              "start_day_5                  1.2435      0.042     29.855      0.000       1.162       1.325\n",
              "start_day_6                  1.0129      0.047     21.778      0.000       0.922       1.104\n",
              "time_block_0                 0.2736      0.063      4.323      0.000       0.150       0.398\n",
              "time_block_1                 3.4175      0.084     40.650      0.000       3.253       3.582\n",
              "time_block_2                 1.9096      0.051     37.656      0.000       1.810       2.009\n",
              "time_block_3                 0.7503      0.048     15.712      0.000       0.657       0.844\n",
              "time_block_4                 0.8154      0.047     17.213      0.000       0.723       0.908\n",
              "time_block_5                 1.0981      0.043     25.529      0.000       1.014       1.182\n",
              "time_block_6                 0.1030      0.041      2.507      0.012       0.022       0.184\n",
              "time_block_7                 0.1491      0.046      3.265      0.001       0.060       0.239\n",
              "pickup_community_area_0     10.3010      0.085    120.833      0.000      10.134      10.468\n",
              "pickup_community_area_1     -0.2335      0.166     -1.406      0.160      -0.559       0.092\n",
              "pickup_community_area_2     -1.1025      0.195     -5.662      0.000      -1.484      -0.721\n",
              "pickup_community_area_3     -1.0262      0.128     -8.040      0.000      -1.276      -0.776\n",
              "pickup_community_area_4     -0.8367      0.175     -4.790      0.000      -1.179      -0.494\n",
              "pickup_community_area_5     -0.7269      0.164     -4.438      0.000      -1.048      -0.406\n",
              "pickup_community_area_6     -1.2190      0.081    -15.094      0.000      -1.377      -1.061\n",
              "pickup_community_area_7     -1.7474      0.087    -20.128      0.000      -1.918      -1.577\n",
              "pickup_community_area_8     -1.2481      0.061    -20.317      0.000      -1.369      -1.128\n",
              "pickup_community_area_9      0.7221      0.606      1.191      0.234      -0.466       1.910\n",
              "pickup_community_area_10     0.2910      0.336      0.867      0.386      -0.367       0.949\n",
              "pickup_community_area_11     0.4195      0.348      1.204      0.228      -0.263       1.102\n",
              "pickup_community_area_12     1.4390      0.518      2.777      0.005       0.423       2.455\n",
              "pickup_community_area_13    -0.2196      0.364     -0.603      0.546      -0.933       0.494\n",
              "pickup_community_area_14    -0.5279      0.221     -2.390      0.017      -0.961      -0.095\n",
              "pickup_community_area_15    -0.3006      0.225     -1.335      0.182      -0.742       0.141\n",
              "pickup_community_area_16    -0.6181      0.179     -3.446      0.001      -0.970      -0.267\n",
              "pickup_community_area_17     0.2679      0.356      0.753      0.452      -0.430       0.966\n",
              "pickup_community_area_18     0.4304      0.552      0.780      0.435      -0.651       1.512\n",
              "pickup_community_area_19    -1.3028      0.216     -6.033      0.000      -1.726      -0.880\n",
              "pickup_community_area_20    -0.9847      0.347     -2.841      0.005      -1.664      -0.305\n",
              "pickup_community_area_21    -1.4802      0.172     -8.629      0.000      -1.816      -1.144\n",
              "pickup_community_area_22    -1.5863      0.099    -15.952      0.000      -1.781      -1.391\n",
              "pickup_community_area_23    -1.3802      0.198     -6.961      0.000      -1.769      -0.992\n",
              "pickup_community_area_24    -1.8971      0.082    -23.150      0.000      -2.058      -1.737\n",
              "pickup_community_area_25    -0.5892      0.171     -3.446      0.001      -0.924      -0.254\n",
              "pickup_community_area_26    -0.7991      0.340     -2.353      0.019      -1.465      -0.134\n",
              "pickup_community_area_27    -1.5330      0.272     -5.631      0.000      -2.067      -0.999\n",
              "pickup_community_area_28    -1.5131      0.073    -20.687      0.000      -1.656      -1.370\n",
              "pickup_community_area_29    -1.1430      0.215     -5.324      0.000      -1.564      -0.722\n",
              "pickup_community_area_30    -0.6078      0.230     -2.640      0.008      -1.059      -0.157\n",
              "pickup_community_area_31    -1.5460      0.166     -9.340      0.000      -1.870      -1.222\n",
              "pickup_community_area_32    -0.4313      0.074     -5.819      0.000      -0.577      -0.286\n",
              "pickup_community_area_33    -0.3764      0.139     -2.703      0.007      -0.649      -0.103\n",
              "pickup_community_area_34    -1.6833      0.277     -6.074      0.000      -2.226      -1.140\n",
              "pickup_community_area_35    -1.6391      0.219     -7.486      0.000      -2.068      -1.210\n",
              "pickup_community_area_36    -1.5755      0.474     -3.326      0.001      -2.504      -0.647\n",
              "pickup_community_area_37    -0.8347      0.558     -1.495      0.135      -1.929       0.260\n",
              "pickup_community_area_38    -0.9009      0.232     -3.882      0.000      -1.356      -0.446\n",
              "pickup_community_area_39    -0.9155      0.258     -3.542      0.000      -1.422      -0.409\n",
              "pickup_community_area_40    -1.8101      0.331     -5.462      0.000      -2.460      -1.161\n",
              "pickup_community_area_41    -0.3172      0.152     -2.090      0.037      -0.615      -0.020\n",
              "pickup_community_area_42    -0.5228      0.235     -2.224      0.026      -0.983      -0.062\n",
              "pickup_community_area_43     0.2990      0.208      1.437      0.151      -0.109       0.707\n",
              "pickup_community_area_44    -1.0385      0.235     -4.420      0.000      -1.499      -0.578\n",
              "pickup_community_area_45    -0.2185      0.550     -0.397      0.691      -1.297       0.860\n",
              "pickup_community_area_46     1.3449      0.355      3.789      0.000       0.649       2.041\n",
              "pickup_community_area_47     0.3502      0.987      0.355      0.723      -1.585       2.285\n",
              "pickup_community_area_48     0.8714      0.478      1.823      0.068      -0.065       1.808\n",
              "pickup_community_area_49     0.0200      0.256      0.078      0.938      -0.482       0.522\n",
              "pickup_community_area_50     0.0972      0.553      0.176      0.860      -0.987       1.181\n",
              "pickup_community_area_51     0.8031      0.469      1.713      0.087      -0.116       1.722\n",
              "pickup_community_area_52     2.3660      0.839      2.819      0.005       0.721       4.011\n",
              "pickup_community_area_53     0.8480      0.384      2.211      0.027       0.096       1.600\n",
              "pickup_community_area_54     2.9522      0.681      4.337      0.000       1.618       4.286\n",
              "pickup_community_area_55     3.2372      0.965      3.354      0.001       1.345       5.129\n",
              "pickup_community_area_56    11.4852      0.178     64.555      0.000      11.136      11.834\n",
              "pickup_community_area_57    -0.9587      0.404     -2.374      0.018      -1.750      -0.167\n",
              "pickup_community_area_58    -1.6157      0.279     -5.798      0.000      -2.162      -1.069\n",
              "pickup_community_area_59    -1.8171      0.358     -5.070      0.000      -2.520      -1.115\n",
              "pickup_community_area_60    -1.3514      0.236     -5.716      0.000      -1.815      -0.888\n",
              "pickup_community_area_61    -1.6055      0.265     -6.067      0.000      -2.124      -1.087\n",
              "pickup_community_area_62    -1.5152      0.511     -2.966      0.003      -2.516      -0.514\n",
              "pickup_community_area_63    -1.2139      0.343     -3.543      0.000      -1.885      -0.542\n",
              "pickup_community_area_64     0.9497      0.481      1.976      0.048       0.008       1.891\n",
              "pickup_community_area_65    -0.4277      0.364     -1.175      0.240      -1.141       0.285\n",
              "pickup_community_area_66    -0.5876      0.265     -2.221      0.026      -1.106      -0.069\n",
              "pickup_community_area_67    -0.3935      0.299     -1.314      0.189      -0.980       0.194\n",
              "pickup_community_area_68    -1.0465      0.269     -3.893      0.000      -1.573      -0.520\n",
              "pickup_community_area_69    -1.1639      0.240     -4.847      0.000      -1.635      -0.693\n",
              "pickup_community_area_70    -0.0917      0.354     -0.259      0.796      -0.786       0.603\n",
              "pickup_community_area_71    -0.3294      0.248     -1.328      0.184      -0.816       0.157\n",
              "pickup_community_area_72     2.4760      0.503      4.925      0.000       1.491       3.461\n",
              "pickup_community_area_73     0.1850      0.347      0.533      0.594      -0.495       0.865\n",
              "pickup_community_area_74     1.0732      0.630      1.703      0.089      -0.162       2.308\n",
              "pickup_community_area_75     1.5216      0.430      3.542      0.000       0.680       2.364\n",
              "pickup_community_area_76    16.8127      0.109    153.645      0.000      16.598      17.027\n",
              "pickup_community_area_77    -0.4963      0.152     -3.262      0.001      -0.795      -0.198\n",
              "==============================================================================\n",
              "Omnibus:                   201757.298   Durbin-Watson:                   1.995\n",
              "Prob(Omnibus):                  0.000   Jarque-Bera (JB):         62588086.248\n",
              "Skew:                           4.390   Prob(JB):                         0.00\n",
              "Kurtosis:                      89.218   Cond. No.                     1.34e+16\n",
              "==============================================================================\n",
              "\n",
              "Warnings:\n",
              "[1] Standard Errors assume that the covariance matrix of the errors is correctly specified.\n",
              "[2] The smallest eigenvalue is 1.5e-27. This might indicate that there are\n",
              "strong multicollinearity problems or that the design matrix is singular.\n",
              "\"\"\""
            ]
          },
          "metadata": {
            "tags": []
          },
          "execution_count": 46
        }
      ]
    },
    {
      "cell_type": "code",
      "metadata": {
        "id": "JknsioyIJ-yE",
        "colab_type": "code",
        "colab": {}
      },
      "source": [
        ""
      ],
      "execution_count": 0,
      "outputs": []
    }
  ]
}