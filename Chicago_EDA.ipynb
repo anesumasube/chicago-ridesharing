{
  "nbformat": 4,
  "nbformat_minor": 0,
  "metadata": {
    "colab": {
      "name": "Chicago EDA.ipynb",
      "provenance": [],
      "machine_shape": "hm",
      "authorship_tag": "ABX9TyOzAeqXEcGpFlo9MHuAI/gg",
      "include_colab_link": true
    },
    "kernelspec": {
      "name": "python3",
      "display_name": "Python 3"
    },
    "accelerator": "GPU"
  },
  "cells": [
    {
      "cell_type": "markdown",
      "metadata": {
        "id": "view-in-github",
        "colab_type": "text"
      },
      "source": [
        "<a href=\"https://colab.research.google.com/github/muoyo/chicago-ridesharing/blob/anesu/Chicago_EDA.ipynb\" target=\"_parent\"><img src=\"https://colab.research.google.com/assets/colab-badge.svg\" alt=\"Open In Colab\"/></a>"
      ]
    },
    {
      "cell_type": "code",
      "metadata": {
        "id": "g_eRDrPTaWTC",
        "colab_type": "code",
        "outputId": "030ece31-8f4f-45bf-9f3f-ee03ae4adb56",
        "colab": {
          "base_uri": "https://localhost:8080/",
          "height": 190
        }
      },
      "source": [
        "!pip install sodapy"
      ],
      "execution_count": 2,
      "outputs": [
        {
          "output_type": "stream",
          "text": [
            "Collecting sodapy\n",
            "  Downloading https://files.pythonhosted.org/packages/64/06/6144b36a4b4470bef1fb17d7b98b82a202b5e918f7e0a2c123004f73ca07/sodapy-2.0.0-py2.py3-none-any.whl\n",
            "Requirement already satisfied: requests>=2.20.0 in /usr/local/lib/python3.6/dist-packages (from sodapy) (2.21.0)\n",
            "Requirement already satisfied: chardet<3.1.0,>=3.0.2 in /usr/local/lib/python3.6/dist-packages (from requests>=2.20.0->sodapy) (3.0.4)\n",
            "Requirement already satisfied: urllib3<1.25,>=1.21.1 in /usr/local/lib/python3.6/dist-packages (from requests>=2.20.0->sodapy) (1.24.3)\n",
            "Requirement already satisfied: idna<2.9,>=2.5 in /usr/local/lib/python3.6/dist-packages (from requests>=2.20.0->sodapy) (2.8)\n",
            "Requirement already satisfied: certifi>=2017.4.17 in /usr/local/lib/python3.6/dist-packages (from requests>=2.20.0->sodapy) (2019.11.28)\n",
            "Installing collected packages: sodapy\n",
            "Successfully installed sodapy-2.0.0\n"
          ],
          "name": "stdout"
        }
      ]
    },
    {
      "cell_type": "code",
      "metadata": {
        "id": "vTK53gnVZ6zr",
        "colab_type": "code",
        "colab": {}
      },
      "source": [
        "#!/usr/bin/env python\n",
        "\n",
        "# make sure to install these packages before running:\n",
        "# pip install pandas\n",
        "# pip install sodapy\n",
        "\n",
        "import pandas as pd\n",
        "from sodapy import Socrata\n",
        "\n",
        "# Unauthenticated client only works with public data sets. Note 'None'\n",
        "# in place of application token, and no username or password:\n",
        "#client = Socrata(\"data.cityofchicago.org\", None, timeout=100)\n",
        "\n",
        "#Example authenticated client (needed for non-public datasets):\n",
        "client = Socrata(\"data.cityofchicago.org\",\n",
        "                 \"N0amD6E3UkUmVTl5nFWXbIyl4\",\n",
        "                 username=\"anesumasube@gmail.com\",\n",
        "                 password=\"Marywandi11!\", timeout=1000)\n",
        "\n",
        "# First 2000 results, returned as JSON from API / converted to Python list of\n",
        "# dictionaries by sodapy.\n",
        "results = client.get(\"m6dm-c72p\",limit=1000000, select='trip_id, trip_start_timestamp, trip_end_timestamp, trip_seconds, trip_miles, pickup_community_area, dropoff_community_area, fare, tip, additional_charges, trip_total ')\n",
        "# Convert to pandas DataFrame\n",
        "results_df = pd.DataFrame.from_records(results)"
      ],
      "execution_count": 0,
      "outputs": []
    },
    {
      "cell_type": "code",
      "metadata": {
        "id": "rJw7lk_qaVym",
        "colab_type": "code",
        "outputId": "4a92d964-0c9e-49eb-e1fd-ff3124acc401",
        "colab": {
          "base_uri": "https://localhost:8080/",
          "height": 289
        }
      },
      "source": [
        "results_df.info()"
      ],
      "execution_count": 4,
      "outputs": [
        {
          "output_type": "stream",
          "text": [
            "<class 'pandas.core.frame.DataFrame'>\n",
            "RangeIndex: 1000000 entries, 0 to 999999\n",
            "Data columns (total 11 columns):\n",
            "trip_id                   1000000 non-null object\n",
            "trip_start_timestamp      1000000 non-null object\n",
            "trip_end_timestamp        1000000 non-null object\n",
            "trip_seconds              999955 non-null object\n",
            "trip_miles                1000000 non-null object\n",
            "pickup_community_area     942705 non-null object\n",
            "dropoff_community_area    935811 non-null object\n",
            "fare                      999999 non-null object\n",
            "tip                       999999 non-null object\n",
            "additional_charges        999999 non-null object\n",
            "trip_total                999999 non-null object\n",
            "dtypes: object(11)\n",
            "memory usage: 83.9+ MB\n"
          ],
          "name": "stdout"
        }
      ]
    },
    {
      "cell_type": "code",
      "metadata": {
        "id": "cz6DNbpkaEzP",
        "colab_type": "code",
        "outputId": "e795f7eb-caa2-4a47-b835-ef3208b11151",
        "colab": {
          "base_uri": "https://localhost:8080/",
          "height": 289
        }
      },
      "source": [
        "results_df.info()"
      ],
      "execution_count": 5,
      "outputs": [
        {
          "output_type": "stream",
          "text": [
            "<class 'pandas.core.frame.DataFrame'>\n",
            "RangeIndex: 1000000 entries, 0 to 999999\n",
            "Data columns (total 11 columns):\n",
            "trip_id                   1000000 non-null object\n",
            "trip_start_timestamp      1000000 non-null object\n",
            "trip_end_timestamp        1000000 non-null object\n",
            "trip_seconds              999955 non-null object\n",
            "trip_miles                1000000 non-null object\n",
            "pickup_community_area     942705 non-null object\n",
            "dropoff_community_area    935811 non-null object\n",
            "fare                      999999 non-null object\n",
            "tip                       999999 non-null object\n",
            "additional_charges        999999 non-null object\n",
            "trip_total                999999 non-null object\n",
            "dtypes: object(11)\n",
            "memory usage: 83.9+ MB\n"
          ],
          "name": "stdout"
        }
      ]
    },
    {
      "cell_type": "code",
      "metadata": {
        "id": "TjaWkVxukRFR",
        "colab_type": "code",
        "colab": {}
      },
      "source": [
        "import numpy as np\n",
        "import pandas as pd\n",
        "import matplotlib.pyplot as plt\n",
        "%matplotlib inline\n",
        "import datetime "
      ],
      "execution_count": 0,
      "outputs": []
    },
    {
      "cell_type": "code",
      "metadata": {
        "id": "eYpnRbQ5fX5L",
        "colab_type": "code",
        "colab": {}
      },
      "source": [
        "results_df['trip_start_timestamp']= pd.to_datetime(results_df['trip_start_timestamp'])\n",
        "results_df['trip_end_timestamp']= pd.to_datetime(results_df['trip_end_timestamp'])\n",
        "\n",
        "\n",
        "for col in ['trip_miles','fare','tip','trip_total']:\n",
        "    results_df[col]= results_df[col].astype(float)"
      ],
      "execution_count": 0,
      "outputs": []
    },
    {
      "cell_type": "code",
      "metadata": {
        "id": "Un4YXbzkhzcv",
        "colab_type": "code",
        "outputId": "6d512b48-88b1-41f7-9a91-e90123c96dac",
        "colab": {
          "base_uri": "https://localhost:8080/",
          "height": 224
        }
      },
      "source": [
        "\n",
        "results_df.head()"
      ],
      "execution_count": 8,
      "outputs": [
        {
          "output_type": "execute_result",
          "data": {
            "text/html": [
              "<div>\n",
              "<style scoped>\n",
              "    .dataframe tbody tr th:only-of-type {\n",
              "        vertical-align: middle;\n",
              "    }\n",
              "\n",
              "    .dataframe tbody tr th {\n",
              "        vertical-align: top;\n",
              "    }\n",
              "\n",
              "    .dataframe thead th {\n",
              "        text-align: right;\n",
              "    }\n",
              "</style>\n",
              "<table border=\"1\" class=\"dataframe\">\n",
              "  <thead>\n",
              "    <tr style=\"text-align: right;\">\n",
              "      <th></th>\n",
              "      <th>trip_id</th>\n",
              "      <th>trip_start_timestamp</th>\n",
              "      <th>trip_end_timestamp</th>\n",
              "      <th>trip_seconds</th>\n",
              "      <th>trip_miles</th>\n",
              "      <th>pickup_community_area</th>\n",
              "      <th>dropoff_community_area</th>\n",
              "      <th>fare</th>\n",
              "      <th>tip</th>\n",
              "      <th>additional_charges</th>\n",
              "      <th>trip_total</th>\n",
              "    </tr>\n",
              "  </thead>\n",
              "  <tbody>\n",
              "    <tr>\n",
              "      <th>0</th>\n",
              "      <td>ee4ccea11cb1c96513bc1a156b30124e7f7d43e7</td>\n",
              "      <td>2019-01-16 07:00:00</td>\n",
              "      <td>2019-01-16 07:30:00</td>\n",
              "      <td>1776</td>\n",
              "      <td>7.670978</td>\n",
              "      <td>22</td>\n",
              "      <td>33</td>\n",
              "      <td>17.5</td>\n",
              "      <td>1.0</td>\n",
              "      <td>2.55</td>\n",
              "      <td>21.05</td>\n",
              "    </tr>\n",
              "    <tr>\n",
              "      <th>1</th>\n",
              "      <td>ee4ccff207cf1cdad77336c57bb1743073818ae0</td>\n",
              "      <td>2019-01-10 09:00:00</td>\n",
              "      <td>2019-01-10 09:00:00</td>\n",
              "      <td>554</td>\n",
              "      <td>1.738818</td>\n",
              "      <td>7</td>\n",
              "      <td>8</td>\n",
              "      <td>5.0</td>\n",
              "      <td>2.0</td>\n",
              "      <td>2.55</td>\n",
              "      <td>9.55</td>\n",
              "    </tr>\n",
              "    <tr>\n",
              "      <th>2</th>\n",
              "      <td>ee4cd01da4fdba25482ef9217a129430aab251f1</td>\n",
              "      <td>2019-03-15 14:30:00</td>\n",
              "      <td>2019-03-15 15:45:00</td>\n",
              "      <td>4534</td>\n",
              "      <td>40.223803</td>\n",
              "      <td>39</td>\n",
              "      <td>76</td>\n",
              "      <td>55.0</td>\n",
              "      <td>0.0</td>\n",
              "      <td>9.35</td>\n",
              "      <td>64.35</td>\n",
              "    </tr>\n",
              "    <tr>\n",
              "      <th>3</th>\n",
              "      <td>ee4cd03f9ac14523ffbf91ae68fd1536a33108d1</td>\n",
              "      <td>2019-03-15 19:30:00</td>\n",
              "      <td>2019-03-15 20:00:00</td>\n",
              "      <td>1944</td>\n",
              "      <td>17.329789</td>\n",
              "      <td>76</td>\n",
              "      <td>8</td>\n",
              "      <td>25.0</td>\n",
              "      <td>0.0</td>\n",
              "      <td>0</td>\n",
              "      <td>25.00</td>\n",
              "    </tr>\n",
              "    <tr>\n",
              "      <th>4</th>\n",
              "      <td>ee4cd1143fb053674d8c714ff015a6dc967210a1</td>\n",
              "      <td>2018-11-27 20:45:00</td>\n",
              "      <td>2018-11-27 20:45:00</td>\n",
              "      <td>229</td>\n",
              "      <td>0.663065</td>\n",
              "      <td>7</td>\n",
              "      <td>7</td>\n",
              "      <td>2.5</td>\n",
              "      <td>0.0</td>\n",
              "      <td>2.5</td>\n",
              "      <td>5.00</td>\n",
              "    </tr>\n",
              "  </tbody>\n",
              "</table>\n",
              "</div>"
            ],
            "text/plain": [
              "                                    trip_id  ... trip_total\n",
              "0  ee4ccea11cb1c96513bc1a156b30124e7f7d43e7  ...      21.05\n",
              "1  ee4ccff207cf1cdad77336c57bb1743073818ae0  ...       9.55\n",
              "2  ee4cd01da4fdba25482ef9217a129430aab251f1  ...      64.35\n",
              "3  ee4cd03f9ac14523ffbf91ae68fd1536a33108d1  ...      25.00\n",
              "4  ee4cd1143fb053674d8c714ff015a6dc967210a1  ...       5.00\n",
              "\n",
              "[5 rows x 11 columns]"
            ]
          },
          "metadata": {
            "tags": []
          },
          "execution_count": 8
        }
      ]
    },
    {
      "cell_type": "code",
      "metadata": {
        "id": "8L0MHmypMj7X",
        "colab_type": "code",
        "colab": {}
      },
      "source": [
        "results_df['pickup_community_area'] = results_df['pickup_community_area'].fillna(0)"
      ],
      "execution_count": 0,
      "outputs": []
    },
    {
      "cell_type": "code",
      "metadata": {
        "id": "q9cvTCHnM2yR",
        "colab_type": "code",
        "colab": {}
      },
      "source": [
        "results_df['dropoff_community_area'] = results_df['dropoff_community_area'].fillna(0)"
      ],
      "execution_count": 0,
      "outputs": []
    },
    {
      "cell_type": "code",
      "metadata": {
        "id": "L1fIwtP7ku3U",
        "colab_type": "code",
        "colab": {}
      },
      "source": [
        "\n",
        "for col in ['pickup_community_area','dropoff_community_area','trip_seconds']:\n",
        "    results_df[col]= results_df[col].astype(float)\n",
        "\n"
      ],
      "execution_count": 0,
      "outputs": []
    },
    {
      "cell_type": "code",
      "metadata": {
        "id": "1nzqfTg3DoBK",
        "colab_type": "code",
        "colab": {
          "base_uri": "https://localhost:8080/",
          "height": 289
        },
        "outputId": "f1c2f6dc-dd7f-4cea-ebb3-979e464221db"
      },
      "source": [
        "results_df.info()"
      ],
      "execution_count": 12,
      "outputs": [
        {
          "output_type": "stream",
          "text": [
            "<class 'pandas.core.frame.DataFrame'>\n",
            "RangeIndex: 1000000 entries, 0 to 999999\n",
            "Data columns (total 11 columns):\n",
            "trip_id                   1000000 non-null object\n",
            "trip_start_timestamp      1000000 non-null datetime64[ns]\n",
            "trip_end_timestamp        1000000 non-null datetime64[ns]\n",
            "trip_seconds              999955 non-null float64\n",
            "trip_miles                1000000 non-null float64\n",
            "pickup_community_area     1000000 non-null float64\n",
            "dropoff_community_area    1000000 non-null float64\n",
            "fare                      999999 non-null float64\n",
            "tip                       999999 non-null float64\n",
            "additional_charges        999999 non-null object\n",
            "trip_total                999999 non-null float64\n",
            "dtypes: datetime64[ns](2), float64(7), object(2)\n",
            "memory usage: 83.9+ MB\n"
          ],
          "name": "stdout"
        }
      ]
    },
    {
      "cell_type": "code",
      "metadata": {
        "id": "B2x92v8yD02e",
        "colab_type": "code",
        "colab": {}
      },
      "source": [
        "import seaborn as sns"
      ],
      "execution_count": 0,
      "outputs": []
    },
    {
      "cell_type": "code",
      "metadata": {
        "id": "1vPxsGPYEUl6",
        "colab_type": "code",
        "colab": {
          "base_uri": "https://localhost:8080/",
          "height": 224
        },
        "outputId": "8b2891ca-7b17-455a-ea2c-9b339d42c670"
      },
      "source": [
        "results_df = results_df.drop(columns='trip_id')\n",
        "results_df.head()"
      ],
      "execution_count": 14,
      "outputs": [
        {
          "output_type": "execute_result",
          "data": {
            "text/html": [
              "<div>\n",
              "<style scoped>\n",
              "    .dataframe tbody tr th:only-of-type {\n",
              "        vertical-align: middle;\n",
              "    }\n",
              "\n",
              "    .dataframe tbody tr th {\n",
              "        vertical-align: top;\n",
              "    }\n",
              "\n",
              "    .dataframe thead th {\n",
              "        text-align: right;\n",
              "    }\n",
              "</style>\n",
              "<table border=\"1\" class=\"dataframe\">\n",
              "  <thead>\n",
              "    <tr style=\"text-align: right;\">\n",
              "      <th></th>\n",
              "      <th>trip_start_timestamp</th>\n",
              "      <th>trip_end_timestamp</th>\n",
              "      <th>trip_seconds</th>\n",
              "      <th>trip_miles</th>\n",
              "      <th>pickup_community_area</th>\n",
              "      <th>dropoff_community_area</th>\n",
              "      <th>fare</th>\n",
              "      <th>tip</th>\n",
              "      <th>additional_charges</th>\n",
              "      <th>trip_total</th>\n",
              "    </tr>\n",
              "  </thead>\n",
              "  <tbody>\n",
              "    <tr>\n",
              "      <th>0</th>\n",
              "      <td>2019-01-16 07:00:00</td>\n",
              "      <td>2019-01-16 07:30:00</td>\n",
              "      <td>1776.0</td>\n",
              "      <td>7.670978</td>\n",
              "      <td>22.0</td>\n",
              "      <td>33.0</td>\n",
              "      <td>17.5</td>\n",
              "      <td>1.0</td>\n",
              "      <td>2.55</td>\n",
              "      <td>21.05</td>\n",
              "    </tr>\n",
              "    <tr>\n",
              "      <th>1</th>\n",
              "      <td>2019-01-10 09:00:00</td>\n",
              "      <td>2019-01-10 09:00:00</td>\n",
              "      <td>554.0</td>\n",
              "      <td>1.738818</td>\n",
              "      <td>7.0</td>\n",
              "      <td>8.0</td>\n",
              "      <td>5.0</td>\n",
              "      <td>2.0</td>\n",
              "      <td>2.55</td>\n",
              "      <td>9.55</td>\n",
              "    </tr>\n",
              "    <tr>\n",
              "      <th>2</th>\n",
              "      <td>2019-03-15 14:30:00</td>\n",
              "      <td>2019-03-15 15:45:00</td>\n",
              "      <td>4534.0</td>\n",
              "      <td>40.223803</td>\n",
              "      <td>39.0</td>\n",
              "      <td>76.0</td>\n",
              "      <td>55.0</td>\n",
              "      <td>0.0</td>\n",
              "      <td>9.35</td>\n",
              "      <td>64.35</td>\n",
              "    </tr>\n",
              "    <tr>\n",
              "      <th>3</th>\n",
              "      <td>2019-03-15 19:30:00</td>\n",
              "      <td>2019-03-15 20:00:00</td>\n",
              "      <td>1944.0</td>\n",
              "      <td>17.329789</td>\n",
              "      <td>76.0</td>\n",
              "      <td>8.0</td>\n",
              "      <td>25.0</td>\n",
              "      <td>0.0</td>\n",
              "      <td>0</td>\n",
              "      <td>25.00</td>\n",
              "    </tr>\n",
              "    <tr>\n",
              "      <th>4</th>\n",
              "      <td>2018-11-27 20:45:00</td>\n",
              "      <td>2018-11-27 20:45:00</td>\n",
              "      <td>229.0</td>\n",
              "      <td>0.663065</td>\n",
              "      <td>7.0</td>\n",
              "      <td>7.0</td>\n",
              "      <td>2.5</td>\n",
              "      <td>0.0</td>\n",
              "      <td>2.5</td>\n",
              "      <td>5.00</td>\n",
              "    </tr>\n",
              "  </tbody>\n",
              "</table>\n",
              "</div>"
            ],
            "text/plain": [
              "  trip_start_timestamp  trip_end_timestamp  ...  additional_charges  trip_total\n",
              "0  2019-01-16 07:00:00 2019-01-16 07:30:00  ...                2.55       21.05\n",
              "1  2019-01-10 09:00:00 2019-01-10 09:00:00  ...                2.55        9.55\n",
              "2  2019-03-15 14:30:00 2019-03-15 15:45:00  ...                9.35       64.35\n",
              "3  2019-03-15 19:30:00 2019-03-15 20:00:00  ...                   0       25.00\n",
              "4  2018-11-27 20:45:00 2018-11-27 20:45:00  ...                 2.5        5.00\n",
              "\n",
              "[5 rows x 10 columns]"
            ]
          },
          "metadata": {
            "tags": []
          },
          "execution_count": 14
        }
      ]
    },
    {
      "cell_type": "code",
      "metadata": {
        "id": "lB4pnRhIH7-n",
        "colab_type": "code",
        "colab": {
          "base_uri": "https://localhost:8080/",
          "height": 224
        },
        "outputId": "0e1c9d1d-665b-4c23-8bd7-0b309320427e"
      },
      "source": [
        "results_df.head()"
      ],
      "execution_count": 15,
      "outputs": [
        {
          "output_type": "execute_result",
          "data": {
            "text/html": [
              "<div>\n",
              "<style scoped>\n",
              "    .dataframe tbody tr th:only-of-type {\n",
              "        vertical-align: middle;\n",
              "    }\n",
              "\n",
              "    .dataframe tbody tr th {\n",
              "        vertical-align: top;\n",
              "    }\n",
              "\n",
              "    .dataframe thead th {\n",
              "        text-align: right;\n",
              "    }\n",
              "</style>\n",
              "<table border=\"1\" class=\"dataframe\">\n",
              "  <thead>\n",
              "    <tr style=\"text-align: right;\">\n",
              "      <th></th>\n",
              "      <th>trip_start_timestamp</th>\n",
              "      <th>trip_end_timestamp</th>\n",
              "      <th>trip_seconds</th>\n",
              "      <th>trip_miles</th>\n",
              "      <th>pickup_community_area</th>\n",
              "      <th>dropoff_community_area</th>\n",
              "      <th>fare</th>\n",
              "      <th>tip</th>\n",
              "      <th>additional_charges</th>\n",
              "      <th>trip_total</th>\n",
              "    </tr>\n",
              "  </thead>\n",
              "  <tbody>\n",
              "    <tr>\n",
              "      <th>0</th>\n",
              "      <td>2019-01-16 07:00:00</td>\n",
              "      <td>2019-01-16 07:30:00</td>\n",
              "      <td>1776.0</td>\n",
              "      <td>7.670978</td>\n",
              "      <td>22.0</td>\n",
              "      <td>33.0</td>\n",
              "      <td>17.5</td>\n",
              "      <td>1.0</td>\n",
              "      <td>2.55</td>\n",
              "      <td>21.05</td>\n",
              "    </tr>\n",
              "    <tr>\n",
              "      <th>1</th>\n",
              "      <td>2019-01-10 09:00:00</td>\n",
              "      <td>2019-01-10 09:00:00</td>\n",
              "      <td>554.0</td>\n",
              "      <td>1.738818</td>\n",
              "      <td>7.0</td>\n",
              "      <td>8.0</td>\n",
              "      <td>5.0</td>\n",
              "      <td>2.0</td>\n",
              "      <td>2.55</td>\n",
              "      <td>9.55</td>\n",
              "    </tr>\n",
              "    <tr>\n",
              "      <th>2</th>\n",
              "      <td>2019-03-15 14:30:00</td>\n",
              "      <td>2019-03-15 15:45:00</td>\n",
              "      <td>4534.0</td>\n",
              "      <td>40.223803</td>\n",
              "      <td>39.0</td>\n",
              "      <td>76.0</td>\n",
              "      <td>55.0</td>\n",
              "      <td>0.0</td>\n",
              "      <td>9.35</td>\n",
              "      <td>64.35</td>\n",
              "    </tr>\n",
              "    <tr>\n",
              "      <th>3</th>\n",
              "      <td>2019-03-15 19:30:00</td>\n",
              "      <td>2019-03-15 20:00:00</td>\n",
              "      <td>1944.0</td>\n",
              "      <td>17.329789</td>\n",
              "      <td>76.0</td>\n",
              "      <td>8.0</td>\n",
              "      <td>25.0</td>\n",
              "      <td>0.0</td>\n",
              "      <td>0</td>\n",
              "      <td>25.00</td>\n",
              "    </tr>\n",
              "    <tr>\n",
              "      <th>4</th>\n",
              "      <td>2018-11-27 20:45:00</td>\n",
              "      <td>2018-11-27 20:45:00</td>\n",
              "      <td>229.0</td>\n",
              "      <td>0.663065</td>\n",
              "      <td>7.0</td>\n",
              "      <td>7.0</td>\n",
              "      <td>2.5</td>\n",
              "      <td>0.0</td>\n",
              "      <td>2.5</td>\n",
              "      <td>5.00</td>\n",
              "    </tr>\n",
              "  </tbody>\n",
              "</table>\n",
              "</div>"
            ],
            "text/plain": [
              "  trip_start_timestamp  trip_end_timestamp  ...  additional_charges  trip_total\n",
              "0  2019-01-16 07:00:00 2019-01-16 07:30:00  ...                2.55       21.05\n",
              "1  2019-01-10 09:00:00 2019-01-10 09:00:00  ...                2.55        9.55\n",
              "2  2019-03-15 14:30:00 2019-03-15 15:45:00  ...                9.35       64.35\n",
              "3  2019-03-15 19:30:00 2019-03-15 20:00:00  ...                   0       25.00\n",
              "4  2018-11-27 20:45:00 2018-11-27 20:45:00  ...                 2.5        5.00\n",
              "\n",
              "[5 rows x 10 columns]"
            ]
          },
          "metadata": {
            "tags": []
          },
          "execution_count": 15
        }
      ]
    },
    {
      "cell_type": "code",
      "metadata": {
        "id": "Rdw7nwPHPSBq",
        "colab_type": "code",
        "colab": {}
      },
      "source": [
        "results_df=results_df.drop(columns='additional_charges')"
      ],
      "execution_count": 0,
      "outputs": []
    },
    {
      "cell_type": "code",
      "metadata": {
        "id": "lINeAYztQCqi",
        "colab_type": "code",
        "colab": {}
      },
      "source": [
        "# results_df= results_df.drop(columns='tip')\n",
        "# results_df.head()"
      ],
      "execution_count": 0,
      "outputs": []
    },
    {
      "cell_type": "code",
      "metadata": {
        "id": "YxDpbsyXXxdO",
        "colab_type": "code",
        "colab": {
          "base_uri": "https://localhost:8080/",
          "height": 122
        },
        "outputId": "4978ee16-3343-4ca5-969e-9cd03a7b43b3"
      },
      "source": [
        "from google.colab import drive\n",
        "drive.mount('/content/drive')"
      ],
      "execution_count": 18,
      "outputs": [
        {
          "output_type": "stream",
          "text": [
            "Go to this URL in a browser: https://accounts.google.com/o/oauth2/auth?client_id=947318989803-6bn6qk8qdgf4n4g3pfee6491hc0brc4i.apps.googleusercontent.com&redirect_uri=urn%3aietf%3awg%3aoauth%3a2.0%3aoob&response_type=code&scope=email%20https%3a%2f%2fwww.googleapis.com%2fauth%2fdocs.test%20https%3a%2f%2fwww.googleapis.com%2fauth%2fdrive%20https%3a%2f%2fwww.googleapis.com%2fauth%2fdrive.photos.readonly%20https%3a%2f%2fwww.googleapis.com%2fauth%2fpeopleapi.readonly\n",
            "\n",
            "Enter your authorization code:\n",
            "··········\n",
            "Mounted at /content/drive\n"
          ],
          "name": "stdout"
        }
      ]
    },
    {
      "cell_type": "code",
      "metadata": {
        "id": "Q0d9nIc4Ihlx",
        "colab_type": "code",
        "colab": {}
      },
      "source": [
        "results_df.to_csv('rideshare3.csv', index=False)"
      ],
      "execution_count": 0,
      "outputs": []
    },
    {
      "cell_type": "code",
      "metadata": {
        "id": "ONEtWJUeJpHm",
        "colab_type": "code",
        "colab": {
          "base_uri": "https://localhost:8080/",
          "height": 255
        },
        "outputId": "9b33b128-80a7-4901-eb41-88d02dbf466a"
      },
      "source": [
        "ride_data = pd.read_csv('rideshare3.csv')\n",
        "ride_data.info()"
      ],
      "execution_count": 20,
      "outputs": [
        {
          "output_type": "stream",
          "text": [
            "<class 'pandas.core.frame.DataFrame'>\n",
            "RangeIndex: 1000000 entries, 0 to 999999\n",
            "Data columns (total 9 columns):\n",
            "trip_start_timestamp      1000000 non-null object\n",
            "trip_end_timestamp        1000000 non-null object\n",
            "trip_seconds              999955 non-null float64\n",
            "trip_miles                1000000 non-null float64\n",
            "pickup_community_area     1000000 non-null float64\n",
            "dropoff_community_area    1000000 non-null float64\n",
            "fare                      999999 non-null float64\n",
            "tip                       999999 non-null float64\n",
            "trip_total                999999 non-null float64\n",
            "dtypes: float64(7), object(2)\n",
            "memory usage: 68.7+ MB\n"
          ],
          "name": "stdout"
        }
      ]
    },
    {
      "cell_type": "code",
      "metadata": {
        "id": "5uF4cxpwKITk",
        "colab_type": "code",
        "colab": {}
      },
      "source": [
        "ride_data['trip_start_timestamp']= pd.to_datetime(ride_data['trip_start_timestamp'])\n",
        "ride_data['trip_end_timestamp']= pd.to_datetime(ride_data['trip_end_timestamp'])"
      ],
      "execution_count": 0,
      "outputs": []
    },
    {
      "cell_type": "code",
      "metadata": {
        "id": "Em2cOi1raZis",
        "colab_type": "code",
        "colab": {}
      },
      "source": [
        "ride_variables= ride_data[['trip_miles','trip_seconds','pickup_community_area','dropoff_community_area']]"
      ],
      "execution_count": 0,
      "outputs": []
    },
    {
      "cell_type": "code",
      "metadata": {
        "id": "HuaaLJwJbpXp",
        "colab_type": "code",
        "colab": {
          "base_uri": "https://localhost:8080/",
          "height": 204
        },
        "outputId": "1b93411e-9856-4cd9-ba50-8a664985d431"
      },
      "source": [
        "ride_variables.head()"
      ],
      "execution_count": 23,
      "outputs": [
        {
          "output_type": "execute_result",
          "data": {
            "text/html": [
              "<div>\n",
              "<style scoped>\n",
              "    .dataframe tbody tr th:only-of-type {\n",
              "        vertical-align: middle;\n",
              "    }\n",
              "\n",
              "    .dataframe tbody tr th {\n",
              "        vertical-align: top;\n",
              "    }\n",
              "\n",
              "    .dataframe thead th {\n",
              "        text-align: right;\n",
              "    }\n",
              "</style>\n",
              "<table border=\"1\" class=\"dataframe\">\n",
              "  <thead>\n",
              "    <tr style=\"text-align: right;\">\n",
              "      <th></th>\n",
              "      <th>trip_miles</th>\n",
              "      <th>trip_seconds</th>\n",
              "      <th>pickup_community_area</th>\n",
              "      <th>dropoff_community_area</th>\n",
              "    </tr>\n",
              "  </thead>\n",
              "  <tbody>\n",
              "    <tr>\n",
              "      <th>0</th>\n",
              "      <td>7.670978</td>\n",
              "      <td>1776.0</td>\n",
              "      <td>22.0</td>\n",
              "      <td>33.0</td>\n",
              "    </tr>\n",
              "    <tr>\n",
              "      <th>1</th>\n",
              "      <td>1.738818</td>\n",
              "      <td>554.0</td>\n",
              "      <td>7.0</td>\n",
              "      <td>8.0</td>\n",
              "    </tr>\n",
              "    <tr>\n",
              "      <th>2</th>\n",
              "      <td>40.223803</td>\n",
              "      <td>4534.0</td>\n",
              "      <td>39.0</td>\n",
              "      <td>76.0</td>\n",
              "    </tr>\n",
              "    <tr>\n",
              "      <th>3</th>\n",
              "      <td>17.329789</td>\n",
              "      <td>1944.0</td>\n",
              "      <td>76.0</td>\n",
              "      <td>8.0</td>\n",
              "    </tr>\n",
              "    <tr>\n",
              "      <th>4</th>\n",
              "      <td>0.663065</td>\n",
              "      <td>229.0</td>\n",
              "      <td>7.0</td>\n",
              "      <td>7.0</td>\n",
              "    </tr>\n",
              "  </tbody>\n",
              "</table>\n",
              "</div>"
            ],
            "text/plain": [
              "   trip_miles  trip_seconds  pickup_community_area  dropoff_community_area\n",
              "0    7.670978        1776.0                   22.0                    33.0\n",
              "1    1.738818         554.0                    7.0                     8.0\n",
              "2   40.223803        4534.0                   39.0                    76.0\n",
              "3   17.329789        1944.0                   76.0                     8.0\n",
              "4    0.663065         229.0                    7.0                     7.0"
            ]
          },
          "metadata": {
            "tags": []
          },
          "execution_count": 23
        }
      ]
    },
    {
      "cell_type": "code",
      "metadata": {
        "id": "3LBPERwKbb12",
        "colab_type": "code",
        "colab": {
          "base_uri": "https://localhost:8080/",
          "height": 831
        },
        "outputId": "47cad3f1-98ee-451b-afa2-3b5a32026140"
      },
      "source": [
        "sns.pairplot(ride_variables)"
      ],
      "execution_count": 24,
      "outputs": [
        {
          "output_type": "stream",
          "text": [
            "/usr/local/lib/python3.6/dist-packages/numpy/lib/histograms.py:839: RuntimeWarning: invalid value encountered in greater_equal\n",
            "  keep = (tmp_a >= first_edge)\n",
            "/usr/local/lib/python3.6/dist-packages/numpy/lib/histograms.py:840: RuntimeWarning: invalid value encountered in less_equal\n",
            "  keep &= (tmp_a <= last_edge)\n"
          ],
          "name": "stderr"
        },
        {
          "output_type": "execute_result",
          "data": {
            "text/plain": [
              "<seaborn.axisgrid.PairGrid at 0x7f607987a7f0>"
            ]
          },
          "metadata": {
            "tags": []
          },
          "execution_count": 24
        },
        {
          "output_type": "display_data",
          "data": {
            "image/png": "[encoded data removed]",
            "text/plain": [
              "<Figure size 720x720 with 20 Axes>"
            ]
          },
          "metadata": {
            "tags": []
          }
        }
      ]
    },
    {
      "cell_type": "code",
      "metadata": {
        "id": "-r5MUHJhKy1-",
        "colab_type": "code",
        "colab": {
          "base_uri": "https://localhost:8080/",
          "height": 173
        },
        "outputId": "776d1073-0d2a-45ef-f3d9-96cdf42f209d"
      },
      "source": [
        "ride_variables.corr()"
      ],
      "execution_count": 25,
      "outputs": [
        {
          "output_type": "execute_result",
          "data": {
            "text/html": [
              "<div>\n",
              "<style scoped>\n",
              "    .dataframe tbody tr th:only-of-type {\n",
              "        vertical-align: middle;\n",
              "    }\n",
              "\n",
              "    .dataframe tbody tr th {\n",
              "        vertical-align: top;\n",
              "    }\n",
              "\n",
              "    .dataframe thead th {\n",
              "        text-align: right;\n",
              "    }\n",
              "</style>\n",
              "<table border=\"1\" class=\"dataframe\">\n",
              "  <thead>\n",
              "    <tr style=\"text-align: right;\">\n",
              "      <th></th>\n",
              "      <th>trip_miles</th>\n",
              "      <th>trip_seconds</th>\n",
              "      <th>pickup_community_area</th>\n",
              "      <th>dropoff_community_area</th>\n",
              "    </tr>\n",
              "  </thead>\n",
              "  <tbody>\n",
              "    <tr>\n",
              "      <th>trip_miles</th>\n",
              "      <td>1.000000</td>\n",
              "      <td>0.806761</td>\n",
              "      <td>0.144162</td>\n",
              "      <td>0.137874</td>\n",
              "    </tr>\n",
              "    <tr>\n",
              "      <th>trip_seconds</th>\n",
              "      <td>0.806761</td>\n",
              "      <td>1.000000</td>\n",
              "      <td>0.094207</td>\n",
              "      <td>0.104509</td>\n",
              "    </tr>\n",
              "    <tr>\n",
              "      <th>pickup_community_area</th>\n",
              "      <td>0.144162</td>\n",
              "      <td>0.094207</td>\n",
              "      <td>1.000000</td>\n",
              "      <td>0.145266</td>\n",
              "    </tr>\n",
              "    <tr>\n",
              "      <th>dropoff_community_area</th>\n",
              "      <td>0.137874</td>\n",
              "      <td>0.104509</td>\n",
              "      <td>0.145266</td>\n",
              "      <td>1.000000</td>\n",
              "    </tr>\n",
              "  </tbody>\n",
              "</table>\n",
              "</div>"
            ],
            "text/plain": [
              "                        trip_miles  ...  dropoff_community_area\n",
              "trip_miles                1.000000  ...                0.137874\n",
              "trip_seconds              0.806761  ...                0.104509\n",
              "pickup_community_area     0.144162  ...                0.145266\n",
              "dropoff_community_area    0.137874  ...                1.000000\n",
              "\n",
              "[4 rows x 4 columns]"
            ]
          },
          "metadata": {
            "tags": []
          },
          "execution_count": 25
        }
      ]
    },
    {
      "cell_type": "code",
      "metadata": {
        "id": "BIOArn2HMLkH",
        "colab_type": "code",
        "colab": {
          "base_uri": "https://localhost:8080/",
          "height": 401
        },
        "outputId": "2b427fad-8874-43bb-afaa-4ae2bfa9e07e"
      },
      "source": [
        "\n",
        "sns.heatmap(ride_variables.corr(), center=0)"
      ],
      "execution_count": 26,
      "outputs": [
        {
          "output_type": "execute_result",
          "data": {
            "text/plain": [
              "<matplotlib.axes._subplots.AxesSubplot at 0x7f606e03c710>"
            ]
          },
          "metadata": {
            "tags": []
          },
          "execution_count": 26
        },
        {
          "output_type": "display_data",
          "data": {
            "image/png": "[encoded data removed]",
            "text/plain": [
              "<Figure size 432x288 with 2 Axes>"
            ]
          },
          "metadata": {
            "tags": []
          }
        }
      ]
    },
    {
      "cell_type": "code",
      "metadata": {
        "id": "igRiM5n5fTw1",
        "colab_type": "code",
        "colab": {
          "base_uri": "https://localhost:8080/",
          "height": 224
        },
        "outputId": "f0c92ff6-fb61-42bf-b24f-e22610e5afeb"
      },
      "source": [
        "ride_share = ride_data.iloc[:200000, :8]\n",
        "ride_share.head()\n"
      ],
      "execution_count": 27,
      "outputs": [
        {
          "output_type": "execute_result",
          "data": {
            "text/html": [
              "<div>\n",
              "<style scoped>\n",
              "    .dataframe tbody tr th:only-of-type {\n",
              "        vertical-align: middle;\n",
              "    }\n",
              "\n",
              "    .dataframe tbody tr th {\n",
              "        vertical-align: top;\n",
              "    }\n",
              "\n",
              "    .dataframe thead th {\n",
              "        text-align: right;\n",
              "    }\n",
              "</style>\n",
              "<table border=\"1\" class=\"dataframe\">\n",
              "  <thead>\n",
              "    <tr style=\"text-align: right;\">\n",
              "      <th></th>\n",
              "      <th>trip_start_timestamp</th>\n",
              "      <th>trip_end_timestamp</th>\n",
              "      <th>trip_seconds</th>\n",
              "      <th>trip_miles</th>\n",
              "      <th>pickup_community_area</th>\n",
              "      <th>dropoff_community_area</th>\n",
              "      <th>fare</th>\n",
              "      <th>tip</th>\n",
              "    </tr>\n",
              "  </thead>\n",
              "  <tbody>\n",
              "    <tr>\n",
              "      <th>0</th>\n",
              "      <td>2019-01-16 07:00:00</td>\n",
              "      <td>2019-01-16 07:30:00</td>\n",
              "      <td>1776.0</td>\n",
              "      <td>7.670978</td>\n",
              "      <td>22.0</td>\n",
              "      <td>33.0</td>\n",
              "      <td>17.5</td>\n",
              "      <td>1.0</td>\n",
              "    </tr>\n",
              "    <tr>\n",
              "      <th>1</th>\n",
              "      <td>2019-01-10 09:00:00</td>\n",
              "      <td>2019-01-10 09:00:00</td>\n",
              "      <td>554.0</td>\n",
              "      <td>1.738818</td>\n",
              "      <td>7.0</td>\n",
              "      <td>8.0</td>\n",
              "      <td>5.0</td>\n",
              "      <td>2.0</td>\n",
              "    </tr>\n",
              "    <tr>\n",
              "      <th>2</th>\n",
              "      <td>2019-03-15 14:30:00</td>\n",
              "      <td>2019-03-15 15:45:00</td>\n",
              "      <td>4534.0</td>\n",
              "      <td>40.223803</td>\n",
              "      <td>39.0</td>\n",
              "      <td>76.0</td>\n",
              "      <td>55.0</td>\n",
              "      <td>0.0</td>\n",
              "    </tr>\n",
              "    <tr>\n",
              "      <th>3</th>\n",
              "      <td>2019-03-15 19:30:00</td>\n",
              "      <td>2019-03-15 20:00:00</td>\n",
              "      <td>1944.0</td>\n",
              "      <td>17.329789</td>\n",
              "      <td>76.0</td>\n",
              "      <td>8.0</td>\n",
              "      <td>25.0</td>\n",
              "      <td>0.0</td>\n",
              "    </tr>\n",
              "    <tr>\n",
              "      <th>4</th>\n",
              "      <td>2018-11-27 20:45:00</td>\n",
              "      <td>2018-11-27 20:45:00</td>\n",
              "      <td>229.0</td>\n",
              "      <td>0.663065</td>\n",
              "      <td>7.0</td>\n",
              "      <td>7.0</td>\n",
              "      <td>2.5</td>\n",
              "      <td>0.0</td>\n",
              "    </tr>\n",
              "  </tbody>\n",
              "</table>\n",
              "</div>"
            ],
            "text/plain": [
              "  trip_start_timestamp  trip_end_timestamp  ...  fare  tip\n",
              "0  2019-01-16 07:00:00 2019-01-16 07:30:00  ...  17.5  1.0\n",
              "1  2019-01-10 09:00:00 2019-01-10 09:00:00  ...   5.0  2.0\n",
              "2  2019-03-15 14:30:00 2019-03-15 15:45:00  ...  55.0  0.0\n",
              "3  2019-03-15 19:30:00 2019-03-15 20:00:00  ...  25.0  0.0\n",
              "4  2018-11-27 20:45:00 2018-11-27 20:45:00  ...   2.5  0.0\n",
              "\n",
              "[5 rows x 8 columns]"
            ]
          },
          "metadata": {
            "tags": []
          },
          "execution_count": 27
        }
      ]
    },
    {
      "cell_type": "code",
      "metadata": {
        "id": "hceNRv39Mogy",
        "colab_type": "code",
        "colab": {
          "base_uri": "https://localhost:8080/",
          "height": 224
        },
        "outputId": "3a337ed2-cc5a-46af-863a-2d1b0d608297"
      },
      "source": [
        "ride_share['start_date'] = [d.date() for d in ride_share['trip_start_timestamp']]\n",
        "ride_share.head()"
      ],
      "execution_count": 28,
      "outputs": [
        {
          "output_type": "execute_result",
          "data": {
            "text/html": [
              "<div>\n",
              "<style scoped>\n",
              "    .dataframe tbody tr th:only-of-type {\n",
              "        vertical-align: middle;\n",
              "    }\n",
              "\n",
              "    .dataframe tbody tr th {\n",
              "        vertical-align: top;\n",
              "    }\n",
              "\n",
              "    .dataframe thead th {\n",
              "        text-align: right;\n",
              "    }\n",
              "</style>\n",
              "<table border=\"1\" class=\"dataframe\">\n",
              "  <thead>\n",
              "    <tr style=\"text-align: right;\">\n",
              "      <th></th>\n",
              "      <th>trip_start_timestamp</th>\n",
              "      <th>trip_end_timestamp</th>\n",
              "      <th>trip_seconds</th>\n",
              "      <th>trip_miles</th>\n",
              "      <th>pickup_community_area</th>\n",
              "      <th>dropoff_community_area</th>\n",
              "      <th>fare</th>\n",
              "      <th>tip</th>\n",
              "      <th>start_date</th>\n",
              "    </tr>\n",
              "  </thead>\n",
              "  <tbody>\n",
              "    <tr>\n",
              "      <th>0</th>\n",
              "      <td>2019-01-16 07:00:00</td>\n",
              "      <td>2019-01-16 07:30:00</td>\n",
              "      <td>1776.0</td>\n",
              "      <td>7.670978</td>\n",
              "      <td>22.0</td>\n",
              "      <td>33.0</td>\n",
              "      <td>17.5</td>\n",
              "      <td>1.0</td>\n",
              "      <td>2019-01-16</td>\n",
              "    </tr>\n",
              "    <tr>\n",
              "      <th>1</th>\n",
              "      <td>2019-01-10 09:00:00</td>\n",
              "      <td>2019-01-10 09:00:00</td>\n",
              "      <td>554.0</td>\n",
              "      <td>1.738818</td>\n",
              "      <td>7.0</td>\n",
              "      <td>8.0</td>\n",
              "      <td>5.0</td>\n",
              "      <td>2.0</td>\n",
              "      <td>2019-01-10</td>\n",
              "    </tr>\n",
              "    <tr>\n",
              "      <th>2</th>\n",
              "      <td>2019-03-15 14:30:00</td>\n",
              "      <td>2019-03-15 15:45:00</td>\n",
              "      <td>4534.0</td>\n",
              "      <td>40.223803</td>\n",
              "      <td>39.0</td>\n",
              "      <td>76.0</td>\n",
              "      <td>55.0</td>\n",
              "      <td>0.0</td>\n",
              "      <td>2019-03-15</td>\n",
              "    </tr>\n",
              "    <tr>\n",
              "      <th>3</th>\n",
              "      <td>2019-03-15 19:30:00</td>\n",
              "      <td>2019-03-15 20:00:00</td>\n",
              "      <td>1944.0</td>\n",
              "      <td>17.329789</td>\n",
              "      <td>76.0</td>\n",
              "      <td>8.0</td>\n",
              "      <td>25.0</td>\n",
              "      <td>0.0</td>\n",
              "      <td>2019-03-15</td>\n",
              "    </tr>\n",
              "    <tr>\n",
              "      <th>4</th>\n",
              "      <td>2018-11-27 20:45:00</td>\n",
              "      <td>2018-11-27 20:45:00</td>\n",
              "      <td>229.0</td>\n",
              "      <td>0.663065</td>\n",
              "      <td>7.0</td>\n",
              "      <td>7.0</td>\n",
              "      <td>2.5</td>\n",
              "      <td>0.0</td>\n",
              "      <td>2018-11-27</td>\n",
              "    </tr>\n",
              "  </tbody>\n",
              "</table>\n",
              "</div>"
            ],
            "text/plain": [
              "  trip_start_timestamp  trip_end_timestamp  trip_seconds  ...  fare  tip  start_date\n",
              "0  2019-01-16 07:00:00 2019-01-16 07:30:00        1776.0  ...  17.5  1.0  2019-01-16\n",
              "1  2019-01-10 09:00:00 2019-01-10 09:00:00         554.0  ...   5.0  2.0  2019-01-10\n",
              "2  2019-03-15 14:30:00 2019-03-15 15:45:00        4534.0  ...  55.0  0.0  2019-03-15\n",
              "3  2019-03-15 19:30:00 2019-03-15 20:00:00        1944.0  ...  25.0  0.0  2019-03-15\n",
              "4  2018-11-27 20:45:00 2018-11-27 20:45:00         229.0  ...   2.5  0.0  2018-11-27\n",
              "\n",
              "[5 rows x 9 columns]"
            ]
          },
          "metadata": {
            "tags": []
          },
          "execution_count": 28
        }
      ]
    },
    {
      "cell_type": "code",
      "metadata": {
        "id": "3UipygaDgcGV",
        "colab_type": "code",
        "colab": {
          "base_uri": "https://localhost:8080/",
          "height": 34
        },
        "outputId": "6bf79fcb-e735-4367-c88b-9fe6eedf9f58"
      },
      "source": [
        "ride_share['start_date'].max()"
      ],
      "execution_count": 29,
      "outputs": [
        {
          "output_type": "execute_result",
          "data": {
            "text/plain": [
              "datetime.date(2019, 3, 31)"
            ]
          },
          "metadata": {
            "tags": []
          },
          "execution_count": 29
        }
      ]
    },
    {
      "cell_type": "code",
      "metadata": {
        "id": "g-0v2GH-oWHX",
        "colab_type": "code",
        "colab": {}
      },
      "source": [
        "# from google.colab import drive\n",
        "# drive.mount('drive')"
      ],
      "execution_count": 0,
      "outputs": []
    },
    {
      "cell_type": "code",
      "metadata": {
        "id": "1QQo-g0QoxK3",
        "colab_type": "code",
        "colab": {}
      },
      "source": [
        "# results_df.to_csv('ridedata.csv')\n",
        "# !cp ridedata.csv \"drive/My Drive/\""
      ],
      "execution_count": 0,
      "outputs": []
    },
    {
      "cell_type": "code",
      "metadata": {
        "id": "czjSJyOVyh7H",
        "colab_type": "code",
        "colab": {}
      },
      "source": [
        "# from google.colab import drive\n",
        "# drive.mount('/content/drive')"
      ],
      "execution_count": 0,
      "outputs": []
    },
    {
      "cell_type": "code",
      "metadata": {
        "id": "-E11erMQzNOf",
        "colab_type": "code",
        "colab": {}
      },
      "source": [
        "# results_df.to_csv('ridedata.csv')\n",
        "# !cp ridedata.csv \"content/drive/My Drive/\""
      ],
      "execution_count": 0,
      "outputs": []
    },
    {
      "cell_type": "code",
      "metadata": {
        "id": "1W3rr67hrhgn",
        "colab_type": "code",
        "colab": {
          "base_uri": "https://localhost:8080/",
          "height": 224
        },
        "outputId": "6009fa20-1fcd-4e33-c306-14c280eb4837"
      },
      "source": [
        "ride_share['start_day'] = [d.weekday() for d in ride_share['trip_start_timestamp']]\n",
        "\n",
        "ride_share.head()"
      ],
      "execution_count": 34,
      "outputs": [
        {
          "output_type": "execute_result",
          "data": {
            "text/html": [
              "<div>\n",
              "<style scoped>\n",
              "    .dataframe tbody tr th:only-of-type {\n",
              "        vertical-align: middle;\n",
              "    }\n",
              "\n",
              "    .dataframe tbody tr th {\n",
              "        vertical-align: top;\n",
              "    }\n",
              "\n",
              "    .dataframe thead th {\n",
              "        text-align: right;\n",
              "    }\n",
              "</style>\n",
              "<table border=\"1\" class=\"dataframe\">\n",
              "  <thead>\n",
              "    <tr style=\"text-align: right;\">\n",
              "      <th></th>\n",
              "      <th>trip_start_timestamp</th>\n",
              "      <th>trip_end_timestamp</th>\n",
              "      <th>trip_seconds</th>\n",
              "      <th>trip_miles</th>\n",
              "      <th>pickup_community_area</th>\n",
              "      <th>dropoff_community_area</th>\n",
              "      <th>fare</th>\n",
              "      <th>tip</th>\n",
              "      <th>start_date</th>\n",
              "      <th>start_day</th>\n",
              "    </tr>\n",
              "  </thead>\n",
              "  <tbody>\n",
              "    <tr>\n",
              "      <th>0</th>\n",
              "      <td>2019-01-16 07:00:00</td>\n",
              "      <td>2019-01-16 07:30:00</td>\n",
              "      <td>1776.0</td>\n",
              "      <td>7.670978</td>\n",
              "      <td>22.0</td>\n",
              "      <td>33.0</td>\n",
              "      <td>17.5</td>\n",
              "      <td>1.0</td>\n",
              "      <td>2019-01-16</td>\n",
              "      <td>2</td>\n",
              "    </tr>\n",
              "    <tr>\n",
              "      <th>1</th>\n",
              "      <td>2019-01-10 09:00:00</td>\n",
              "      <td>2019-01-10 09:00:00</td>\n",
              "      <td>554.0</td>\n",
              "      <td>1.738818</td>\n",
              "      <td>7.0</td>\n",
              "      <td>8.0</td>\n",
              "      <td>5.0</td>\n",
              "      <td>2.0</td>\n",
              "      <td>2019-01-10</td>\n",
              "      <td>3</td>\n",
              "    </tr>\n",
              "    <tr>\n",
              "      <th>2</th>\n",
              "      <td>2019-03-15 14:30:00</td>\n",
              "      <td>2019-03-15 15:45:00</td>\n",
              "      <td>4534.0</td>\n",
              "      <td>40.223803</td>\n",
              "      <td>39.0</td>\n",
              "      <td>76.0</td>\n",
              "      <td>55.0</td>\n",
              "      <td>0.0</td>\n",
              "      <td>2019-03-15</td>\n",
              "      <td>4</td>\n",
              "    </tr>\n",
              "    <tr>\n",
              "      <th>3</th>\n",
              "      <td>2019-03-15 19:30:00</td>\n",
              "      <td>2019-03-15 20:00:00</td>\n",
              "      <td>1944.0</td>\n",
              "      <td>17.329789</td>\n",
              "      <td>76.0</td>\n",
              "      <td>8.0</td>\n",
              "      <td>25.0</td>\n",
              "      <td>0.0</td>\n",
              "      <td>2019-03-15</td>\n",
              "      <td>4</td>\n",
              "    </tr>\n",
              "    <tr>\n",
              "      <th>4</th>\n",
              "      <td>2018-11-27 20:45:00</td>\n",
              "      <td>2018-11-27 20:45:00</td>\n",
              "      <td>229.0</td>\n",
              "      <td>0.663065</td>\n",
              "      <td>7.0</td>\n",
              "      <td>7.0</td>\n",
              "      <td>2.5</td>\n",
              "      <td>0.0</td>\n",
              "      <td>2018-11-27</td>\n",
              "      <td>1</td>\n",
              "    </tr>\n",
              "  </tbody>\n",
              "</table>\n",
              "</div>"
            ],
            "text/plain": [
              "  trip_start_timestamp  trip_end_timestamp  ...  start_date  start_day\n",
              "0  2019-01-16 07:00:00 2019-01-16 07:30:00  ...  2019-01-16          2\n",
              "1  2019-01-10 09:00:00 2019-01-10 09:00:00  ...  2019-01-10          3\n",
              "2  2019-03-15 14:30:00 2019-03-15 15:45:00  ...  2019-03-15          4\n",
              "3  2019-03-15 19:30:00 2019-03-15 20:00:00  ...  2019-03-15          4\n",
              "4  2018-11-27 20:45:00 2018-11-27 20:45:00  ...  2018-11-27          1\n",
              "\n",
              "[5 rows x 10 columns]"
            ]
          },
          "metadata": {
            "tags": []
          },
          "execution_count": 34
        }
      ]
    },
    {
      "cell_type": "code",
      "metadata": {
        "id": "1b6r-RzNuG5s",
        "colab_type": "code",
        "colab": {
          "base_uri": "https://localhost:8080/",
          "height": 289
        },
        "outputId": "4db54368-d36d-4ad6-cc01-96a5d851ad29"
      },
      "source": [
        "ride_share['start_time'] = [d.hour for d in ride_share['trip_start_timestamp']]\n",
        "ride_share.info()"
      ],
      "execution_count": 35,
      "outputs": [
        {
          "output_type": "stream",
          "text": [
            "<class 'pandas.core.frame.DataFrame'>\n",
            "RangeIndex: 200000 entries, 0 to 199999\n",
            "Data columns (total 11 columns):\n",
            "trip_start_timestamp      200000 non-null datetime64[ns]\n",
            "trip_end_timestamp        200000 non-null datetime64[ns]\n",
            "trip_seconds              199993 non-null float64\n",
            "trip_miles                200000 non-null float64\n",
            "pickup_community_area     200000 non-null float64\n",
            "dropoff_community_area    200000 non-null float64\n",
            "fare                      200000 non-null float64\n",
            "tip                       200000 non-null float64\n",
            "start_date                200000 non-null object\n",
            "start_day                 200000 non-null int64\n",
            "start_time                200000 non-null int64\n",
            "dtypes: datetime64[ns](2), float64(6), int64(2), object(1)\n",
            "memory usage: 16.8+ MB\n"
          ],
          "name": "stdout"
        }
      ]
    },
    {
      "cell_type": "code",
      "metadata": {
        "id": "_1YqIYkFwGBS",
        "colab_type": "code",
        "colab": {}
      },
      "source": [
        "ride_share['time_block'] = ride_share['start_time']//3"
      ],
      "execution_count": 0,
      "outputs": []
    },
    {
      "cell_type": "code",
      "metadata": {
        "id": "YiZ4gEmDwm3j",
        "colab_type": "code",
        "colab": {
          "base_uri": "https://localhost:8080/",
          "height": 224
        },
        "outputId": "e2e50cf1-a2cb-403c-83eb-bcf51156dcfc"
      },
      "source": [
        "ride_share.head()"
      ],
      "execution_count": 37,
      "outputs": [
        {
          "output_type": "execute_result",
          "data": {
            "text/html": [
              "<div>\n",
              "<style scoped>\n",
              "    .dataframe tbody tr th:only-of-type {\n",
              "        vertical-align: middle;\n",
              "    }\n",
              "\n",
              "    .dataframe tbody tr th {\n",
              "        vertical-align: top;\n",
              "    }\n",
              "\n",
              "    .dataframe thead th {\n",
              "        text-align: right;\n",
              "    }\n",
              "</style>\n",
              "<table border=\"1\" class=\"dataframe\">\n",
              "  <thead>\n",
              "    <tr style=\"text-align: right;\">\n",
              "      <th></th>\n",
              "      <th>trip_start_timestamp</th>\n",
              "      <th>trip_end_timestamp</th>\n",
              "      <th>trip_seconds</th>\n",
              "      <th>trip_miles</th>\n",
              "      <th>pickup_community_area</th>\n",
              "      <th>dropoff_community_area</th>\n",
              "      <th>fare</th>\n",
              "      <th>tip</th>\n",
              "      <th>start_date</th>\n",
              "      <th>start_day</th>\n",
              "      <th>start_time</th>\n",
              "      <th>time_block</th>\n",
              "    </tr>\n",
              "  </thead>\n",
              "  <tbody>\n",
              "    <tr>\n",
              "      <th>0</th>\n",
              "      <td>2019-01-16 07:00:00</td>\n",
              "      <td>2019-01-16 07:30:00</td>\n",
              "      <td>1776.0</td>\n",
              "      <td>7.670978</td>\n",
              "      <td>22.0</td>\n",
              "      <td>33.0</td>\n",
              "      <td>17.5</td>\n",
              "      <td>1.0</td>\n",
              "      <td>2019-01-16</td>\n",
              "      <td>2</td>\n",
              "      <td>7</td>\n",
              "      <td>2</td>\n",
              "    </tr>\n",
              "    <tr>\n",
              "      <th>1</th>\n",
              "      <td>2019-01-10 09:00:00</td>\n",
              "      <td>2019-01-10 09:00:00</td>\n",
              "      <td>554.0</td>\n",
              "      <td>1.738818</td>\n",
              "      <td>7.0</td>\n",
              "      <td>8.0</td>\n",
              "      <td>5.0</td>\n",
              "      <td>2.0</td>\n",
              "      <td>2019-01-10</td>\n",
              "      <td>3</td>\n",
              "      <td>9</td>\n",
              "      <td>3</td>\n",
              "    </tr>\n",
              "    <tr>\n",
              "      <th>2</th>\n",
              "      <td>2019-03-15 14:30:00</td>\n",
              "      <td>2019-03-15 15:45:00</td>\n",
              "      <td>4534.0</td>\n",
              "      <td>40.223803</td>\n",
              "      <td>39.0</td>\n",
              "      <td>76.0</td>\n",
              "      <td>55.0</td>\n",
              "      <td>0.0</td>\n",
              "      <td>2019-03-15</td>\n",
              "      <td>4</td>\n",
              "      <td>14</td>\n",
              "      <td>4</td>\n",
              "    </tr>\n",
              "    <tr>\n",
              "      <th>3</th>\n",
              "      <td>2019-03-15 19:30:00</td>\n",
              "      <td>2019-03-15 20:00:00</td>\n",
              "      <td>1944.0</td>\n",
              "      <td>17.329789</td>\n",
              "      <td>76.0</td>\n",
              "      <td>8.0</td>\n",
              "      <td>25.0</td>\n",
              "      <td>0.0</td>\n",
              "      <td>2019-03-15</td>\n",
              "      <td>4</td>\n",
              "      <td>19</td>\n",
              "      <td>6</td>\n",
              "    </tr>\n",
              "    <tr>\n",
              "      <th>4</th>\n",
              "      <td>2018-11-27 20:45:00</td>\n",
              "      <td>2018-11-27 20:45:00</td>\n",
              "      <td>229.0</td>\n",
              "      <td>0.663065</td>\n",
              "      <td>7.0</td>\n",
              "      <td>7.0</td>\n",
              "      <td>2.5</td>\n",
              "      <td>0.0</td>\n",
              "      <td>2018-11-27</td>\n",
              "      <td>1</td>\n",
              "      <td>20</td>\n",
              "      <td>6</td>\n",
              "    </tr>\n",
              "  </tbody>\n",
              "</table>\n",
              "</div>"
            ],
            "text/plain": [
              "  trip_start_timestamp  trip_end_timestamp  ...  start_time  time_block\n",
              "0  2019-01-16 07:00:00 2019-01-16 07:30:00  ...           7           2\n",
              "1  2019-01-10 09:00:00 2019-01-10 09:00:00  ...           9           3\n",
              "2  2019-03-15 14:30:00 2019-03-15 15:45:00  ...          14           4\n",
              "3  2019-03-15 19:30:00 2019-03-15 20:00:00  ...          19           6\n",
              "4  2018-11-27 20:45:00 2018-11-27 20:45:00  ...          20           6\n",
              "\n",
              "[5 rows x 12 columns]"
            ]
          },
          "metadata": {
            "tags": []
          },
          "execution_count": 37
        }
      ]
    },
    {
      "cell_type": "code",
      "metadata": {
        "id": "2Y9clJ31nzZh",
        "colab_type": "code",
        "colab": {
          "base_uri": "https://localhost:8080/",
          "height": 585
        },
        "outputId": "b79515d6-54a5-4d98-a42d-5481d7b0fbc8"
      },
      "source": [
        "# set seaborn style with dark grid\n",
        "plt.style.use('seaborn-darkgrid')\n",
        "\n",
        "\"\"\"\n",
        "- combine the distplots in one figure, customize the size\n",
        "\n",
        "\"\"\"\n",
        "f = plt.subplots(2,2,figsize=(10,8))\n",
        "plt.subplot(1, 2, 1)\n",
        "sns.distplot(ride_share['trip_miles'], kde=True, color=\"g\", kde_kws={\"shade\": True}, label = 'trip-miles')\n",
        "plt.title('Distance distribution')\n",
        "\n",
        "plt.subplot(1, 2, 2)\n",
        "sns.distplot(ride_share['fare'], kde=True, color=\"b\", kde_kws={\"shade\": True}, label = 'fare-amount')\n",
        "plt.title('Fare amount distribution')\n",
        "\n",
        "plt.tight_layout()"
      ],
      "execution_count": 38,
      "outputs": [
        {
          "output_type": "display_data",
          "data": {
            "image/png": "[encoded data removed]",
            "text/plain": [
              "<Figure size 720x576 with 2 Axes>"
            ]
          },
          "metadata": {
            "tags": []
          }
        }
      ]
    },
    {
      "cell_type": "code",
      "metadata": {
        "id": "wo-jM4HepU8O",
        "colab_type": "code",
        "colab": {
          "base_uri": "https://localhost:8080/",
          "height": 471
        },
        "outputId": "0cb3d7e6-a30a-4043-b6a5-36d0618d2d91"
      },
      "source": [
        "\"\"\"\n",
        "- shuffle datframe, take the portion of 10000 rows\n",
        "- use .corr() method to compute Pearson r for two variables in entire dataframe\n",
        "\n",
        "\"\"\"\n",
        "\n",
        "#sample = shuffle(ride_share)[0:10000]\n",
        "# Create the plot object\n",
        "fig, ax = plt.subplots(figsize=(9,7))\n",
        "\n",
        "# Plot the data, set the size (s), color and transparency (alpha)\n",
        "# of the points\n",
        "sns.regplot(ride_share['trip_miles'], ride_share['fare'], color = 'b')\n",
        "\n",
        "\n",
        "# Label the axes and provide a title\n",
        "ax.set_title('Fare amount-distance scatter')\n",
        "ax.set_xlabel('trip-miles')\n",
        "ax.set_ylabel('fare-amount')\n",
        "#print 'Pearson correlation: + str(round(ride_share['fare'].corr(ride_share['trip_miles']),2))"
      ],
      "execution_count": 39,
      "outputs": [
        {
          "output_type": "execute_result",
          "data": {
            "text/plain": [
              "Text(0, 0.5, 'fare-amount')"
            ]
          },
          "metadata": {
            "tags": []
          },
          "execution_count": 39
        },
        {
          "output_type": "display_data",
          "data": {
            "image/png": "[encoded data removed]",
            "text/plain": [
              "<Figure size 648x504 with 1 Axes>"
            ]
          },
          "metadata": {
            "tags": []
          }
        }
      ]
    },
    {
      "cell_type": "code",
      "metadata": {
        "id": "XYkLOz94sE_R",
        "colab_type": "code",
        "colab": {
          "base_uri": "https://localhost:8080/",
          "height": 521
        },
        "outputId": "bd3dc820-811c-4a90-e807-18e061344498"
      },
      "source": [
        "\"\"\"\n",
        "- groupby data by pickup day and estimate the mean \n",
        "\n",
        "\"\"\"\n",
        "fig, ax = plt.subplots(figsize=(10,8))\n",
        "ride_share.groupby('start_day')['fare'].mean().plot.bar()\n",
        "ax.set_title('Mean fare amount per weekday day')\n"
      ],
      "execution_count": 61,
      "outputs": [
        {
          "output_type": "execute_result",
          "data": {
            "text/plain": [
              "Text(0.5, 1.0, 'Mean fare amount per weekday day')"
            ]
          },
          "metadata": {
            "tags": []
          },
          "execution_count": 61
        },
        {
          "output_type": "display_data",
          "data": {
            "image/png": "[encoded data removed]",
            "text/plain": [
              "<Figure size 720x576 with 1 Axes>"
            ]
          },
          "metadata": {
            "tags": []
          }
        }
      ]
    },
    {
      "cell_type": "code",
      "metadata": {
        "id": "Z7rMZSNZstWT",
        "colab_type": "code",
        "colab": {
          "base_uri": "https://localhost:8080/",
          "height": 527
        },
        "outputId": "683e7b9b-f977-421b-f0ac-e3d70431657d"
      },
      "source": [
        "\"\"\"\n",
        "- groupby data by pickup time and estimate the mean \n",
        "\n",
        "\"\"\"\n",
        "fig, ax = plt.subplots(figsize=(10,8))\n",
        "ride_share.groupby('start_time')['fare'].mean().plot.bar()\n",
        "ax.set_title('Mean fare amount per day')"
      ],
      "execution_count": 60,
      "outputs": [
        {
          "output_type": "execute_result",
          "data": {
            "text/plain": [
              "Text(0.5, 1.0, 'Mean fare amount per day')"
            ]
          },
          "metadata": {
            "tags": []
          },
          "execution_count": 60
        },
        {
          "output_type": "display_data",
          "data": {
            "image/png": "[encoded data removed]",
            "text/plain": [
              "<Figure size 720x576 with 1 Axes>"
            ]
          },
          "metadata": {
            "tags": []
          }
        }
      ]
    },
    {
      "cell_type": "code",
      "metadata": {
        "id": "rrvWVs1daIwJ",
        "colab_type": "code",
        "colab": {}
      },
      "source": [
        "ride_share['tip'] = ride_share['tip'].astype('int64')"
      ],
      "execution_count": 0,
      "outputs": []
    },
    {
      "cell_type": "code",
      "metadata": {
        "id": "IcYUN3pYabGu",
        "colab_type": "code",
        "colab": {
          "base_uri": "https://localhost:8080/",
          "height": 527
        },
        "outputId": "930e10ed-31ba-4d0f-c669-4052b8040dc7"
      },
      "source": [
        "\"\"\"\n",
        "- groupby data by tip and estimate the mean \n",
        "\n",
        "\"\"\"\n",
        "fig, ax = plt.subplots(figsize=(10,8))\n",
        "ride_share.groupby('start_time')['tip'].mean().plot.bar()\n",
        "ax.set_title('Mean fare amount per day')"
      ],
      "execution_count": 59,
      "outputs": [
        {
          "output_type": "execute_result",
          "data": {
            "text/plain": [
              "Text(0.5, 1.0, 'Mean fare amount per day')"
            ]
          },
          "metadata": {
            "tags": []
          },
          "execution_count": 59
        },
        {
          "output_type": "display_data",
          "data": {
            "image/png": "[encoded data removed]",
            "text/plain": [
              "<Figure size 720x576 with 1 Axes>"
            ]
          },
          "metadata": {
            "tags": []
          }
        }
      ]
    },
    {
      "cell_type": "code",
      "metadata": {
        "id": "PKfdjrmbat2o",
        "colab_type": "code",
        "colab": {
          "base_uri": "https://localhost:8080/",
          "height": 521
        },
        "outputId": "9ce30764-1ebd-499a-812f-3c023f3a318c"
      },
      "source": [
        "\"\"\"\n",
        "- groupby data by tip and estimate the mean \n",
        "\n",
        "\"\"\"\n",
        "fig, ax = plt.subplots(figsize=(10,8))\n",
        "ride_share.groupby('start_day')['tip'].mean().plot.bar()\n",
        "ax.set_title('Mean fare amount per day')"
      ],
      "execution_count": 58,
      "outputs": [
        {
          "output_type": "execute_result",
          "data": {
            "text/plain": [
              "Text(0.5, 1.0, 'Mean fare amount per day')"
            ]
          },
          "metadata": {
            "tags": []
          },
          "execution_count": 58
        },
        {
          "output_type": "display_data",
          "data": {
            "image/png": "[encoded data removed]",
            "text/plain": [
              "<Figure size 720x576 with 1 Axes>"
            ]
          },
          "metadata": {
            "tags": []
          }
        }
      ]
    },
    {
      "cell_type": "code",
      "metadata": {
        "id": "JljRItr5tMET",
        "colab_type": "code",
        "colab": {
          "base_uri": "https://localhost:8080/",
          "height": 412
        },
        "outputId": "9de87cd8-0e01-4858-e3b6-f0712e7ff4c6"
      },
      "source": [
        "\"\"\"\n",
        "- groupby data by pickup time block and estimate the mean \n",
        "\n",
        "\"\"\"\n",
        "fig, ax = plt.subplots(figsize=(8,6))\n",
        "ride_share.groupby('time_block')['fare'].mean().plot.bar()\n",
        "ax.set_title('Mean fare amount time block')"
      ],
      "execution_count": 42,
      "outputs": [
        {
          "output_type": "execute_result",
          "data": {
            "text/plain": [
              "Text(0.5, 1.0, 'Mean fare amount time block')"
            ]
          },
          "metadata": {
            "tags": []
          },
          "execution_count": 42
        },
        {
          "output_type": "display_data",
          "data": {
            "image/png": "[encoded data removed]",
            "text/plain": [
              "<Figure size 576x432 with 1 Axes>"
            ]
          },
          "metadata": {
            "tags": []
          }
        }
      ]
    },
    {
      "cell_type": "code",
      "metadata": {
        "id": "9mppru4NtoQm",
        "colab_type": "code",
        "colab": {
          "base_uri": "https://localhost:8080/",
          "height": 752
        },
        "outputId": "fe9c8477-13a0-4e8f-e2bd-7271b514828d"
      },
      "source": [
        "\"\"\"\n",
        "- groupby data by pickup time area and estimate the mean \n",
        "\n",
        "\"\"\"\n",
        "fig, ax = plt.subplots(figsize=(14,12))\n",
        "ride_share.groupby('pickup_community_area')['fare'].mean().plot.bar()\n",
        "ax.set_title('Mean fare amount pickup area')"
      ],
      "execution_count": 43,
      "outputs": [
        {
          "output_type": "execute_result",
          "data": {
            "text/plain": [
              "Text(0.5, 1.0, 'Mean fare amount pickup area')"
            ]
          },
          "metadata": {
            "tags": []
          },
          "execution_count": 43
        },
        {
          "output_type": "display_data",
          "data": {
            "image/png": "[encoded data removed]",
            "text/plain": [
              "<Figure size 1008x864 with 1 Axes>"
            ]
          },
          "metadata": {
            "tags": []
          }
        }
      ]
    },
    {
      "cell_type": "code",
      "metadata": {
        "id": "3P0-e3KQHmlM",
        "colab_type": "code",
        "colab": {
          "base_uri": "https://localhost:8080/",
          "height": 153
        },
        "outputId": "fea9c422-6f84-4e76-b01d-8e0579b34df6"
      },
      "source": [
        "ride_share['start_day'].value_counts()"
      ],
      "execution_count": 44,
      "outputs": [
        {
          "output_type": "execute_result",
          "data": {
            "text/plain": [
              "4    35208\n",
              "5    34497\n",
              "3    28939\n",
              "6    26377\n",
              "2    25766\n",
              "1    25745\n",
              "0    23468\n",
              "Name: start_day, dtype: int64"
            ]
          },
          "metadata": {
            "tags": []
          },
          "execution_count": 44
        }
      ]
    },
    {
      "cell_type": "code",
      "metadata": {
        "id": "2pxCYNYx_BTN",
        "colab_type": "code",
        "colab": {}
      },
      "source": [
        "ride_share['pickup_community_area'] = ride_share['pickup_community_area'].astype('int64')"
      ],
      "execution_count": 0,
      "outputs": []
    },
    {
      "cell_type": "code",
      "metadata": {
        "id": "gQzLX0EWjMtK",
        "colab_type": "code",
        "colab": {
          "base_uri": "https://localhost:8080/",
          "height": 306
        },
        "outputId": "8734b380-6e87-463b-9dfe-9167a058d032"
      },
      "source": [
        "ride_share.info()"
      ],
      "execution_count": 46,
      "outputs": [
        {
          "output_type": "stream",
          "text": [
            "<class 'pandas.core.frame.DataFrame'>\n",
            "RangeIndex: 200000 entries, 0 to 199999\n",
            "Data columns (total 12 columns):\n",
            "trip_start_timestamp      200000 non-null datetime64[ns]\n",
            "trip_end_timestamp        200000 non-null datetime64[ns]\n",
            "trip_seconds              199993 non-null float64\n",
            "trip_miles                200000 non-null float64\n",
            "pickup_community_area     200000 non-null int64\n",
            "dropoff_community_area    200000 non-null float64\n",
            "fare                      200000 non-null float64\n",
            "tip                       200000 non-null float64\n",
            "start_date                200000 non-null object\n",
            "start_day                 200000 non-null int64\n",
            "start_time                200000 non-null int64\n",
            "time_block                200000 non-null int64\n",
            "dtypes: datetime64[ns](2), float64(5), int64(4), object(1)\n",
            "memory usage: 18.3+ MB\n"
          ],
          "name": "stdout"
        }
      ]
    },
    {
      "cell_type": "markdown",
      "metadata": {
        "id": "GYmgtTR61bAN",
        "colab_type": "text"
      },
      "source": [
        "**One Hot Encode the categorical variables**"
      ]
    },
    {
      "cell_type": "code",
      "metadata": {
        "id": "-ig7QzTzxvpu",
        "colab_type": "code",
        "colab": {
          "base_uri": "https://localhost:8080/",
          "height": 34
        },
        "outputId": "f20d9100-468e-4427-ede2-4965d2440da3"
      },
      "source": [
        "# assign the categorical variables to encode\n",
        "X = ride_share[[ 'start_day', 'time_block', 'pickup_community_area']]\n",
        "X.shape"
      ],
      "execution_count": 47,
      "outputs": [
        {
          "output_type": "execute_result",
          "data": {
            "text/plain": [
              "(200000, 3)"
            ]
          },
          "metadata": {
            "tags": []
          },
          "execution_count": 47
        }
      ]
    },
    {
      "cell_type": "code",
      "metadata": {
        "id": "__DIhUi_zv7e",
        "colab_type": "code",
        "colab": {}
      },
      "source": [
        "# One hot encoding \n",
        "from sklearn import preprocessing"
      ],
      "execution_count": 0,
      "outputs": []
    },
    {
      "cell_type": "code",
      "metadata": {
        "id": "m1EXfzC23GL2",
        "colab_type": "code",
        "colab": {}
      },
      "source": [
        "\n",
        "# Create One Hot Encoder Object\n",
        "\n",
        "# 1 Instantiate thh variables\n",
        "\n",
        "enc = preprocessing.OneHotEncoder()\n",
        "\n",
        "# 2 Fit\n",
        "\n",
        "enc.fit(X)\n",
        "\n",
        "# 3 Transform\n",
        "\n",
        "onehotlabels = enc.transform(X)\n",
        "\n",
        "columns = enc.get_feature_names(input_features=X.columns)\n",
        "\n",
        "\n",
        "X_df = pd.DataFrame(onehotlabels.todense(), columns=columns)\n"
      ],
      "execution_count": 0,
      "outputs": []
    },
    {
      "cell_type": "code",
      "metadata": {
        "id": "FT9DWOvP6Laz",
        "colab_type": "code",
        "colab": {}
      },
      "source": [
        "\n",
        "\n",
        "# X_df['trip_seconds'] = ride_df['trip_seconds']\n",
        "# X_df.head()\n"
      ],
      "execution_count": 0,
      "outputs": []
    },
    {
      "cell_type": "code",
      "metadata": {
        "id": "6meshgbzFPSK",
        "colab_type": "code",
        "colab": {}
      },
      "source": [
        "from sklearn.model_selection import train_test_split"
      ],
      "execution_count": 0,
      "outputs": []
    },
    {
      "cell_type": "code",
      "metadata": {
        "id": "SS0ZmTN2FfXp",
        "colab_type": "code",
        "colab": {}
      },
      "source": [
        "y = ride_share['fare']"
      ],
      "execution_count": 0,
      "outputs": []
    },
    {
      "cell_type": "code",
      "metadata": {
        "id": "gZff9jtoHAmC",
        "colab_type": "code",
        "colab": {}
      },
      "source": [
        "X_train , X_test, y_train, y_test = train_test_split(X_df, y, test_size=0.25, random_state=12)"
      ],
      "execution_count": 0,
      "outputs": []
    },
    {
      "cell_type": "code",
      "metadata": {
        "id": "dy4EXZQFfSDe",
        "colab_type": "code",
        "colab": {}
      },
      "source": [
        "import statsmodels.api as sm"
      ],
      "execution_count": 0,
      "outputs": []
    },
    {
      "cell_type": "code",
      "metadata": {
        "id": "IQjYIr1kIb3-",
        "colab_type": "code",
        "colab": {
          "base_uri": "https://localhost:8080/",
          "height": 1000
        },
        "outputId": "d784d9dc-915f-48d3-c9cc-fca2ef2fa450"
      },
      "source": [
        "X_df = sm.add_constant(X_df)\n",
        "est = sm.OLS(y, X_df).fit()\n",
        "#predictions = est.predict(X_df)\n",
        "est.summary()\n"
      ],
      "execution_count": 54,
      "outputs": [
        {
          "output_type": "stream",
          "text": [
            "/usr/local/lib/python3.6/dist-packages/numpy/core/fromnumeric.py:2495: FutureWarning: Method .ptp is deprecated and will be removed in a future version. Use numpy.ptp instead.\n",
            "  return ptp(axis=axis, out=out, **kwargs)\n"
          ],
          "name": "stderr"
        },
        {
          "output_type": "execute_result",
          "data": {
            "text/html": [
              "<table class=\"simpletable\">\n",
              "<caption>OLS Regression Results</caption>\n",
              "<tr>\n",
              "  <th>Dep. Variable:</th>          <td>fare</td>       <th>  R-squared:         </th>  <td>   0.217</td>  \n",
              "</tr>\n",
              "<tr>\n",
              "  <th>Model:</th>                   <td>OLS</td>       <th>  Adj. R-squared:    </th>  <td>   0.217</td>  \n",
              "</tr>\n",
              "<tr>\n",
              "  <th>Method:</th>             <td>Least Squares</td>  <th>  F-statistic:       </th>  <td>   616.9</td>  \n",
              "</tr>\n",
              "<tr>\n",
              "  <th>Date:</th>             <td>Wed, 22 Jan 2020</td> <th>  Prob (F-statistic):</th>   <td>  0.00</td>   \n",
              "</tr>\n",
              "<tr>\n",
              "  <th>Time:</th>                 <td>17:56:38</td>     <th>  Log-Likelihood:    </th> <td>-6.9976e+05</td>\n",
              "</tr>\n",
              "<tr>\n",
              "  <th>No. Observations:</th>      <td>200000</td>      <th>  AIC:               </th>  <td>1.400e+06</td> \n",
              "</tr>\n",
              "<tr>\n",
              "  <th>Df Residuals:</th>          <td>199909</td>      <th>  BIC:               </th>  <td>1.401e+06</td> \n",
              "</tr>\n",
              "<tr>\n",
              "  <th>Df Model:</th>              <td>    90</td>      <th>                     </th>      <td> </td>     \n",
              "</tr>\n",
              "<tr>\n",
              "  <th>Covariance Type:</th>      <td>nonrobust</td>    <th>                     </th>      <td> </td>     \n",
              "</tr>\n",
              "</table>\n",
              "<table class=\"simpletable\">\n",
              "<tr>\n",
              "              <td></td>                <th>coef</th>     <th>std err</th>      <th>t</th>      <th>P>|t|</th>  <th>[0.025</th>    <th>0.975]</th>  \n",
              "</tr>\n",
              "<tr>\n",
              "  <th>const</th>                    <td>    8.4965</td> <td>    0.033</td> <td>  255.471</td> <td> 0.000</td> <td>    8.431</td> <td>    8.562</td>\n",
              "</tr>\n",
              "<tr>\n",
              "  <th>start_day_0</th>              <td>    1.3508</td> <td>    0.048</td> <td>   27.996</td> <td> 0.000</td> <td>    1.256</td> <td>    1.445</td>\n",
              "</tr>\n",
              "<tr>\n",
              "  <th>start_day_1</th>              <td>    0.9900</td> <td>    0.046</td> <td>   21.404</td> <td> 0.000</td> <td>    0.899</td> <td>    1.081</td>\n",
              "</tr>\n",
              "<tr>\n",
              "  <th>start_day_2</th>              <td>    0.9743</td> <td>    0.046</td> <td>   21.024</td> <td> 0.000</td> <td>    0.883</td> <td>    1.065</td>\n",
              "</tr>\n",
              "<tr>\n",
              "  <th>start_day_3</th>              <td>    1.4615</td> <td>    0.044</td> <td>   33.170</td> <td> 0.000</td> <td>    1.375</td> <td>    1.548</td>\n",
              "</tr>\n",
              "<tr>\n",
              "  <th>start_day_4</th>              <td>    1.4899</td> <td>    0.041</td> <td>   36.716</td> <td> 0.000</td> <td>    1.410</td> <td>    1.569</td>\n",
              "</tr>\n",
              "<tr>\n",
              "  <th>start_day_5</th>              <td>    1.2032</td> <td>    0.041</td> <td>   29.184</td> <td> 0.000</td> <td>    1.122</td> <td>    1.284</td>\n",
              "</tr>\n",
              "<tr>\n",
              "  <th>start_day_6</th>              <td>    1.0270</td> <td>    0.046</td> <td>   22.131</td> <td> 0.000</td> <td>    0.936</td> <td>    1.118</td>\n",
              "</tr>\n",
              "<tr>\n",
              "  <th>time_block_0</th>             <td>    0.2301</td> <td>    0.063</td> <td>    3.664</td> <td> 0.000</td> <td>    0.107</td> <td>    0.353</td>\n",
              "</tr>\n",
              "<tr>\n",
              "  <th>time_block_1</th>             <td>    3.4152</td> <td>    0.083</td> <td>   41.157</td> <td> 0.000</td> <td>    3.253</td> <td>    3.578</td>\n",
              "</tr>\n",
              "<tr>\n",
              "  <th>time_block_2</th>             <td>    1.8850</td> <td>    0.050</td> <td>   37.606</td> <td> 0.000</td> <td>    1.787</td> <td>    1.983</td>\n",
              "</tr>\n",
              "<tr>\n",
              "  <th>time_block_3</th>             <td>    0.7088</td> <td>    0.047</td> <td>   14.975</td> <td> 0.000</td> <td>    0.616</td> <td>    0.802</td>\n",
              "</tr>\n",
              "<tr>\n",
              "  <th>time_block_4</th>             <td>    0.8879</td> <td>    0.047</td> <td>   18.842</td> <td> 0.000</td> <td>    0.796</td> <td>    0.980</td>\n",
              "</tr>\n",
              "<tr>\n",
              "  <th>time_block_5</th>             <td>    1.1185</td> <td>    0.043</td> <td>   26.185</td> <td> 0.000</td> <td>    1.035</td> <td>    1.202</td>\n",
              "</tr>\n",
              "<tr>\n",
              "  <th>time_block_6</th>             <td>    0.0944</td> <td>    0.041</td> <td>    2.307</td> <td> 0.021</td> <td>    0.014</td> <td>    0.175</td>\n",
              "</tr>\n",
              "<tr>\n",
              "  <th>time_block_7</th>             <td>    0.1567</td> <td>    0.045</td> <td>    3.446</td> <td> 0.001</td> <td>    0.068</td> <td>    0.246</td>\n",
              "</tr>\n",
              "<tr>\n",
              "  <th>pickup_community_area_0</th>  <td>   10.0545</td> <td>    0.085</td> <td>  118.480</td> <td> 0.000</td> <td>    9.888</td> <td>   10.221</td>\n",
              "</tr>\n",
              "<tr>\n",
              "  <th>pickup_community_area_1</th>  <td>   -0.1603</td> <td>    0.166</td> <td>   -0.965</td> <td> 0.335</td> <td>   -0.486</td> <td>    0.165</td>\n",
              "</tr>\n",
              "<tr>\n",
              "  <th>pickup_community_area_2</th>  <td>   -1.4522</td> <td>    0.197</td> <td>   -7.362</td> <td> 0.000</td> <td>   -1.839</td> <td>   -1.066</td>\n",
              "</tr>\n",
              "<tr>\n",
              "  <th>pickup_community_area_3</th>  <td>   -0.9655</td> <td>    0.129</td> <td>   -7.499</td> <td> 0.000</td> <td>   -1.218</td> <td>   -0.713</td>\n",
              "</tr>\n",
              "<tr>\n",
              "  <th>pickup_community_area_4</th>  <td>   -0.5406</td> <td>    0.175</td> <td>   -3.098</td> <td> 0.002</td> <td>   -0.883</td> <td>   -0.199</td>\n",
              "</tr>\n",
              "<tr>\n",
              "  <th>pickup_community_area_5</th>  <td>   -0.9084</td> <td>    0.161</td> <td>   -5.639</td> <td> 0.000</td> <td>   -1.224</td> <td>   -0.593</td>\n",
              "</tr>\n",
              "<tr>\n",
              "  <th>pickup_community_area_6</th>  <td>   -1.1452</td> <td>    0.080</td> <td>  -14.331</td> <td> 0.000</td> <td>   -1.302</td> <td>   -0.989</td>\n",
              "</tr>\n",
              "<tr>\n",
              "  <th>pickup_community_area_7</th>  <td>   -1.5302</td> <td>    0.086</td> <td>  -17.727</td> <td> 0.000</td> <td>   -1.699</td> <td>   -1.361</td>\n",
              "</tr>\n",
              "<tr>\n",
              "  <th>pickup_community_area_8</th>  <td>   -1.2504</td> <td>    0.061</td> <td>  -20.625</td> <td> 0.000</td> <td>   -1.369</td> <td>   -1.132</td>\n",
              "</tr>\n",
              "<tr>\n",
              "  <th>pickup_community_area_9</th>  <td>    1.8269</td> <td>    0.622</td> <td>    2.935</td> <td> 0.003</td> <td>    0.607</td> <td>    3.047</td>\n",
              "</tr>\n",
              "<tr>\n",
              "  <th>pickup_community_area_10</th> <td>    0.2315</td> <td>    0.321</td> <td>    0.722</td> <td> 0.471</td> <td>   -0.397</td> <td>    0.860</td>\n",
              "</tr>\n",
              "<tr>\n",
              "  <th>pickup_community_area_11</th> <td>    0.1757</td> <td>    0.337</td> <td>    0.521</td> <td> 0.603</td> <td>   -0.486</td> <td>    0.837</td>\n",
              "</tr>\n",
              "<tr>\n",
              "  <th>pickup_community_area_12</th> <td>    1.8701</td> <td>    0.497</td> <td>    3.766</td> <td> 0.000</td> <td>    0.897</td> <td>    2.844</td>\n",
              "</tr>\n",
              "<tr>\n",
              "  <th>pickup_community_area_13</th> <td>   -0.2990</td> <td>    0.360</td> <td>   -0.831</td> <td> 0.406</td> <td>   -1.004</td> <td>    0.406</td>\n",
              "</tr>\n",
              "<tr>\n",
              "  <th>pickup_community_area_14</th> <td>   -0.4653</td> <td>    0.220</td> <td>   -2.118</td> <td> 0.034</td> <td>   -0.896</td> <td>   -0.035</td>\n",
              "</tr>\n",
              "<tr>\n",
              "  <th>pickup_community_area_15</th> <td>   -0.0155</td> <td>    0.226</td> <td>   -0.069</td> <td> 0.945</td> <td>   -0.458</td> <td>    0.427</td>\n",
              "</tr>\n",
              "<tr>\n",
              "  <th>pickup_community_area_16</th> <td>   -0.7499</td> <td>    0.179</td> <td>   -4.184</td> <td> 0.000</td> <td>   -1.101</td> <td>   -0.399</td>\n",
              "</tr>\n",
              "<tr>\n",
              "  <th>pickup_community_area_17</th> <td>    0.0748</td> <td>    0.353</td> <td>    0.212</td> <td> 0.832</td> <td>   -0.617</td> <td>    0.766</td>\n",
              "</tr>\n",
              "<tr>\n",
              "  <th>pickup_community_area_18</th> <td>    0.0240</td> <td>    0.562</td> <td>    0.043</td> <td> 0.966</td> <td>   -1.077</td> <td>    1.125</td>\n",
              "</tr>\n",
              "<tr>\n",
              "  <th>pickup_community_area_19</th> <td>   -1.3044</td> <td>    0.213</td> <td>   -6.129</td> <td> 0.000</td> <td>   -1.721</td> <td>   -0.887</td>\n",
              "</tr>\n",
              "<tr>\n",
              "  <th>pickup_community_area_20</th> <td>   -0.9239</td> <td>    0.351</td> <td>   -2.632</td> <td> 0.008</td> <td>   -1.612</td> <td>   -0.236</td>\n",
              "</tr>\n",
              "<tr>\n",
              "  <th>pickup_community_area_21</th> <td>   -1.4531</td> <td>    0.172</td> <td>   -8.463</td> <td> 0.000</td> <td>   -1.790</td> <td>   -1.117</td>\n",
              "</tr>\n",
              "<tr>\n",
              "  <th>pickup_community_area_22</th> <td>   -1.5889</td> <td>    0.099</td> <td>  -16.129</td> <td> 0.000</td> <td>   -1.782</td> <td>   -1.396</td>\n",
              "</tr>\n",
              "<tr>\n",
              "  <th>pickup_community_area_23</th> <td>   -1.5386</td> <td>    0.196</td> <td>   -7.863</td> <td> 0.000</td> <td>   -1.922</td> <td>   -1.155</td>\n",
              "</tr>\n",
              "<tr>\n",
              "  <th>pickup_community_area_24</th> <td>   -1.8444</td> <td>    0.082</td> <td>  -22.626</td> <td> 0.000</td> <td>   -2.004</td> <td>   -1.685</td>\n",
              "</tr>\n",
              "<tr>\n",
              "  <th>pickup_community_area_25</th> <td>   -0.6239</td> <td>    0.170</td> <td>   -3.679</td> <td> 0.000</td> <td>   -0.956</td> <td>   -0.291</td>\n",
              "</tr>\n",
              "<tr>\n",
              "  <th>pickup_community_area_26</th> <td>   -0.8688</td> <td>    0.343</td> <td>   -2.532</td> <td> 0.011</td> <td>   -1.542</td> <td>   -0.196</td>\n",
              "</tr>\n",
              "<tr>\n",
              "  <th>pickup_community_area_27</th> <td>   -1.4003</td> <td>    0.269</td> <td>   -5.209</td> <td> 0.000</td> <td>   -1.927</td> <td>   -0.873</td>\n",
              "</tr>\n",
              "<tr>\n",
              "  <th>pickup_community_area_28</th> <td>   -1.4810</td> <td>    0.073</td> <td>  -20.344</td> <td> 0.000</td> <td>   -1.624</td> <td>   -1.338</td>\n",
              "</tr>\n",
              "<tr>\n",
              "  <th>pickup_community_area_29</th> <td>   -1.1815</td> <td>    0.214</td> <td>   -5.531</td> <td> 0.000</td> <td>   -1.600</td> <td>   -0.763</td>\n",
              "</tr>\n",
              "<tr>\n",
              "  <th>pickup_community_area_30</th> <td>   -0.9168</td> <td>    0.232</td> <td>   -3.948</td> <td> 0.000</td> <td>   -1.372</td> <td>   -0.462</td>\n",
              "</tr>\n",
              "<tr>\n",
              "  <th>pickup_community_area_31</th> <td>   -1.4150</td> <td>    0.163</td> <td>   -8.671</td> <td> 0.000</td> <td>   -1.735</td> <td>   -1.095</td>\n",
              "</tr>\n",
              "<tr>\n",
              "  <th>pickup_community_area_32</th> <td>   -0.5092</td> <td>    0.074</td> <td>   -6.876</td> <td> 0.000</td> <td>   -0.654</td> <td>   -0.364</td>\n",
              "</tr>\n",
              "<tr>\n",
              "  <th>pickup_community_area_33</th> <td>   -0.2569</td> <td>    0.139</td> <td>   -1.848</td> <td> 0.065</td> <td>   -0.529</td> <td>    0.016</td>\n",
              "</tr>\n",
              "<tr>\n",
              "  <th>pickup_community_area_34</th> <td>   -1.3509</td> <td>    0.268</td> <td>   -5.038</td> <td> 0.000</td> <td>   -1.877</td> <td>   -0.825</td>\n",
              "</tr>\n",
              "<tr>\n",
              "  <th>pickup_community_area_35</th> <td>   -1.3633</td> <td>    0.221</td> <td>   -6.173</td> <td> 0.000</td> <td>   -1.796</td> <td>   -0.930</td>\n",
              "</tr>\n",
              "<tr>\n",
              "  <th>pickup_community_area_36</th> <td>   -0.8938</td> <td>    0.475</td> <td>   -1.882</td> <td> 0.060</td> <td>   -1.825</td> <td>    0.037</td>\n",
              "</tr>\n",
              "<tr>\n",
              "  <th>pickup_community_area_37</th> <td>   -2.5651</td> <td>    0.594</td> <td>   -4.320</td> <td> 0.000</td> <td>   -3.729</td> <td>   -1.401</td>\n",
              "</tr>\n",
              "<tr>\n",
              "  <th>pickup_community_area_38</th> <td>   -1.1720</td> <td>    0.234</td> <td>   -5.018</td> <td> 0.000</td> <td>   -1.630</td> <td>   -0.714</td>\n",
              "</tr>\n",
              "<tr>\n",
              "  <th>pickup_community_area_39</th> <td>   -0.1161</td> <td>    0.252</td> <td>   -0.460</td> <td> 0.645</td> <td>   -0.610</td> <td>    0.378</td>\n",
              "</tr>\n",
              "<tr>\n",
              "  <th>pickup_community_area_40</th> <td>   -1.2943</td> <td>    0.326</td> <td>   -3.966</td> <td> 0.000</td> <td>   -1.934</td> <td>   -0.655</td>\n",
              "</tr>\n",
              "<tr>\n",
              "  <th>pickup_community_area_41</th> <td>   -0.1158</td> <td>    0.151</td> <td>   -0.767</td> <td> 0.443</td> <td>   -0.412</td> <td>    0.180</td>\n",
              "</tr>\n",
              "<tr>\n",
              "  <th>pickup_community_area_42</th> <td>   -0.9518</td> <td>    0.235</td> <td>   -4.052</td> <td> 0.000</td> <td>   -1.412</td> <td>   -0.491</td>\n",
              "</tr>\n",
              "<tr>\n",
              "  <th>pickup_community_area_43</th> <td>    0.0849</td> <td>    0.203</td> <td>    0.419</td> <td> 0.675</td> <td>   -0.312</td> <td>    0.482</td>\n",
              "</tr>\n",
              "<tr>\n",
              "  <th>pickup_community_area_44</th> <td>   -1.2679</td> <td>    0.229</td> <td>   -5.541</td> <td> 0.000</td> <td>   -1.716</td> <td>   -0.819</td>\n",
              "</tr>\n",
              "<tr>\n",
              "  <th>pickup_community_area_45</th> <td>   -0.4406</td> <td>    0.519</td> <td>   -0.848</td> <td> 0.396</td> <td>   -1.459</td> <td>    0.577</td>\n",
              "</tr>\n",
              "<tr>\n",
              "  <th>pickup_community_area_46</th> <td>    0.2537</td> <td>    0.360</td> <td>    0.705</td> <td> 0.481</td> <td>   -0.451</td> <td>    0.959</td>\n",
              "</tr>\n",
              "<tr>\n",
              "  <th>pickup_community_area_47</th> <td>   -0.2912</td> <td>    0.863</td> <td>   -0.337</td> <td> 0.736</td> <td>   -1.983</td> <td>    1.401</td>\n",
              "</tr>\n",
              "<tr>\n",
              "  <th>pickup_community_area_48</th> <td>   -0.1840</td> <td>    0.505</td> <td>   -0.365</td> <td> 0.715</td> <td>   -1.173</td> <td>    0.805</td>\n",
              "</tr>\n",
              "<tr>\n",
              "  <th>pickup_community_area_49</th> <td>    0.0043</td> <td>    0.253</td> <td>    0.017</td> <td> 0.987</td> <td>   -0.491</td> <td>    0.500</td>\n",
              "</tr>\n",
              "<tr>\n",
              "  <th>pickup_community_area_50</th> <td>    0.1182</td> <td>    0.551</td> <td>    0.215</td> <td> 0.830</td> <td>   -0.962</td> <td>    1.198</td>\n",
              "</tr>\n",
              "<tr>\n",
              "  <th>pickup_community_area_51</th> <td>    1.8533</td> <td>    0.506</td> <td>    3.666</td> <td> 0.000</td> <td>    0.862</td> <td>    2.844</td>\n",
              "</tr>\n",
              "<tr>\n",
              "  <th>pickup_community_area_52</th> <td>    2.5576</td> <td>    0.848</td> <td>    3.015</td> <td> 0.003</td> <td>    0.895</td> <td>    4.220</td>\n",
              "</tr>\n",
              "<tr>\n",
              "  <th>pickup_community_area_53</th> <td>    1.0845</td> <td>    0.391</td> <td>    2.777</td> <td> 0.005</td> <td>    0.319</td> <td>    1.850</td>\n",
              "</tr>\n",
              "<tr>\n",
              "  <th>pickup_community_area_54</th> <td>    3.7524</td> <td>    0.660</td> <td>    5.686</td> <td> 0.000</td> <td>    2.459</td> <td>    5.046</td>\n",
              "</tr>\n",
              "<tr>\n",
              "  <th>pickup_community_area_55</th> <td>    2.6179</td> <td>    0.974</td> <td>    2.689</td> <td> 0.007</td> <td>    0.710</td> <td>    4.526</td>\n",
              "</tr>\n",
              "<tr>\n",
              "  <th>pickup_community_area_56</th> <td>   11.5220</td> <td>    0.176</td> <td>   65.650</td> <td> 0.000</td> <td>   11.178</td> <td>   11.866</td>\n",
              "</tr>\n",
              "<tr>\n",
              "  <th>pickup_community_area_57</th> <td>   -0.4587</td> <td>    0.432</td> <td>   -1.061</td> <td> 0.289</td> <td>   -1.306</td> <td>    0.389</td>\n",
              "</tr>\n",
              "<tr>\n",
              "  <th>pickup_community_area_58</th> <td>   -1.8880</td> <td>    0.283</td> <td>   -6.676</td> <td> 0.000</td> <td>   -2.442</td> <td>   -1.334</td>\n",
              "</tr>\n",
              "<tr>\n",
              "  <th>pickup_community_area_59</th> <td>   -1.7489</td> <td>    0.356</td> <td>   -4.915</td> <td> 0.000</td> <td>   -2.446</td> <td>   -1.052</td>\n",
              "</tr>\n",
              "<tr>\n",
              "  <th>pickup_community_area_60</th> <td>   -1.2350</td> <td>    0.231</td> <td>   -5.335</td> <td> 0.000</td> <td>   -1.689</td> <td>   -0.781</td>\n",
              "</tr>\n",
              "<tr>\n",
              "  <th>pickup_community_area_61</th> <td>   -1.2543</td> <td>    0.264</td> <td>   -4.757</td> <td> 0.000</td> <td>   -1.771</td> <td>   -0.738</td>\n",
              "</tr>\n",
              "<tr>\n",
              "  <th>pickup_community_area_62</th> <td>   -0.8537</td> <td>    0.471</td> <td>   -1.813</td> <td> 0.070</td> <td>   -1.776</td> <td>    0.069</td>\n",
              "</tr>\n",
              "<tr>\n",
              "  <th>pickup_community_area_63</th> <td>   -1.4326</td> <td>    0.343</td> <td>   -4.182</td> <td> 0.000</td> <td>   -2.104</td> <td>   -0.761</td>\n",
              "</tr>\n",
              "<tr>\n",
              "  <th>pickup_community_area_64</th> <td>    0.6556</td> <td>    0.499</td> <td>    1.315</td> <td> 0.189</td> <td>   -0.322</td> <td>    1.633</td>\n",
              "</tr>\n",
              "<tr>\n",
              "  <th>pickup_community_area_65</th> <td>   -0.2253</td> <td>    0.374</td> <td>   -0.603</td> <td> 0.546</td> <td>   -0.958</td> <td>    0.507</td>\n",
              "</tr>\n",
              "<tr>\n",
              "  <th>pickup_community_area_66</th> <td>   -0.1807</td> <td>    0.264</td> <td>   -0.686</td> <td> 0.493</td> <td>   -0.697</td> <td>    0.336</td>\n",
              "</tr>\n",
              "<tr>\n",
              "  <th>pickup_community_area_67</th> <td>   -0.8458</td> <td>    0.291</td> <td>   -2.903</td> <td> 0.004</td> <td>   -1.417</td> <td>   -0.275</td>\n",
              "</tr>\n",
              "<tr>\n",
              "  <th>pickup_community_area_68</th> <td>   -1.2270</td> <td>    0.265</td> <td>   -4.634</td> <td> 0.000</td> <td>   -1.746</td> <td>   -0.708</td>\n",
              "</tr>\n",
              "<tr>\n",
              "  <th>pickup_community_area_69</th> <td>   -1.1069</td> <td>    0.243</td> <td>   -4.557</td> <td> 0.000</td> <td>   -1.583</td> <td>   -0.631</td>\n",
              "</tr>\n",
              "<tr>\n",
              "  <th>pickup_community_area_70</th> <td>    0.8032</td> <td>    0.355</td> <td>    2.259</td> <td> 0.024</td> <td>    0.106</td> <td>    1.500</td>\n",
              "</tr>\n",
              "<tr>\n",
              "  <th>pickup_community_area_71</th> <td>   -0.3925</td> <td>    0.241</td> <td>   -1.628</td> <td> 0.104</td> <td>   -0.865</td> <td>    0.080</td>\n",
              "</tr>\n",
              "<tr>\n",
              "  <th>pickup_community_area_72</th> <td>    1.8098</td> <td>    0.485</td> <td>    3.735</td> <td> 0.000</td> <td>    0.860</td> <td>    2.759</td>\n",
              "</tr>\n",
              "<tr>\n",
              "  <th>pickup_community_area_73</th> <td>   -0.1013</td> <td>    0.349</td> <td>   -0.291</td> <td> 0.771</td> <td>   -0.785</td> <td>    0.582</td>\n",
              "</tr>\n",
              "<tr>\n",
              "  <th>pickup_community_area_74</th> <td>    1.2860</td> <td>    0.621</td> <td>    2.072</td> <td> 0.038</td> <td>    0.070</td> <td>    2.502</td>\n",
              "</tr>\n",
              "<tr>\n",
              "  <th>pickup_community_area_75</th> <td>    1.1347</td> <td>    0.421</td> <td>    2.692</td> <td> 0.007</td> <td>    0.309</td> <td>    1.961</td>\n",
              "</tr>\n",
              "<tr>\n",
              "  <th>pickup_community_area_76</th> <td>   16.6213</td> <td>    0.108</td> <td>  153.404</td> <td> 0.000</td> <td>   16.409</td> <td>   16.834</td>\n",
              "</tr>\n",
              "<tr>\n",
              "  <th>pickup_community_area_77</th> <td>   -0.1735</td> <td>    0.150</td> <td>   -1.153</td> <td> 0.249</td> <td>   -0.468</td> <td>    0.121</td>\n",
              "</tr>\n",
              "</table>\n",
              "<table class=\"simpletable\">\n",
              "<tr>\n",
              "  <th>Omnibus:</th>       <td>166422.868</td> <th>  Durbin-Watson:     </th>   <td>   2.003</td>  \n",
              "</tr>\n",
              "<tr>\n",
              "  <th>Prob(Omnibus):</th>   <td> 0.000</td>   <th>  Jarque-Bera (JB):  </th> <td>13133957.054</td>\n",
              "</tr>\n",
              "<tr>\n",
              "  <th>Skew:</th>            <td> 3.538</td>   <th>  Prob(JB):          </th>   <td>    0.00</td>  \n",
              "</tr>\n",
              "<tr>\n",
              "  <th>Kurtosis:</th>        <td>42.064</td>   <th>  Cond. No.          </th>   <td>1.40e+16</td>  \n",
              "</tr>\n",
              "</table><br/><br/>Warnings:<br/>[1] Standard Errors assume that the covariance matrix of the errors is correctly specified.<br/>[2] The smallest eigenvalue is 1.38e-27. This might indicate that there are<br/>strong multicollinearity problems or that the design matrix is singular."
            ],
            "text/plain": [
              "<class 'statsmodels.iolib.summary.Summary'>\n",
              "\"\"\"\n",
              "                            OLS Regression Results                            \n",
              "==============================================================================\n",
              "Dep. Variable:                   fare   R-squared:                       0.217\n",
              "Model:                            OLS   Adj. R-squared:                  0.217\n",
              "Method:                 Least Squares   F-statistic:                     616.9\n",
              "Date:                Wed, 22 Jan 2020   Prob (F-statistic):               0.00\n",
              "Time:                        17:56:38   Log-Likelihood:            -6.9976e+05\n",
              "No. Observations:              200000   AIC:                         1.400e+06\n",
              "Df Residuals:                  199909   BIC:                         1.401e+06\n",
              "Df Model:                          90                                         \n",
              "Covariance Type:            nonrobust                                         \n",
              "============================================================================================\n",
              "                               coef    std err          t      P>|t|      [0.025      0.975]\n",
              "--------------------------------------------------------------------------------------------\n",
              "const                        8.4965      0.033    255.471      0.000       8.431       8.562\n",
              "start_day_0                  1.3508      0.048     27.996      0.000       1.256       1.445\n",
              "start_day_1                  0.9900      0.046     21.404      0.000       0.899       1.081\n",
              "start_day_2                  0.9743      0.046     21.024      0.000       0.883       1.065\n",
              "start_day_3                  1.4615      0.044     33.170      0.000       1.375       1.548\n",
              "start_day_4                  1.4899      0.041     36.716      0.000       1.410       1.569\n",
              "start_day_5                  1.2032      0.041     29.184      0.000       1.122       1.284\n",
              "start_day_6                  1.0270      0.046     22.131      0.000       0.936       1.118\n",
              "time_block_0                 0.2301      0.063      3.664      0.000       0.107       0.353\n",
              "time_block_1                 3.4152      0.083     41.157      0.000       3.253       3.578\n",
              "time_block_2                 1.8850      0.050     37.606      0.000       1.787       1.983\n",
              "time_block_3                 0.7088      0.047     14.975      0.000       0.616       0.802\n",
              "time_block_4                 0.8879      0.047     18.842      0.000       0.796       0.980\n",
              "time_block_5                 1.1185      0.043     26.185      0.000       1.035       1.202\n",
              "time_block_6                 0.0944      0.041      2.307      0.021       0.014       0.175\n",
              "time_block_7                 0.1567      0.045      3.446      0.001       0.068       0.246\n",
              "pickup_community_area_0     10.0545      0.085    118.480      0.000       9.888      10.221\n",
              "pickup_community_area_1     -0.1603      0.166     -0.965      0.335      -0.486       0.165\n",
              "pickup_community_area_2     -1.4522      0.197     -7.362      0.000      -1.839      -1.066\n",
              "pickup_community_area_3     -0.9655      0.129     -7.499      0.000      -1.218      -0.713\n",
              "pickup_community_area_4     -0.5406      0.175     -3.098      0.002      -0.883      -0.199\n",
              "pickup_community_area_5     -0.9084      0.161     -5.639      0.000      -1.224      -0.593\n",
              "pickup_community_area_6     -1.1452      0.080    -14.331      0.000      -1.302      -0.989\n",
              "pickup_community_area_7     -1.5302      0.086    -17.727      0.000      -1.699      -1.361\n",
              "pickup_community_area_8     -1.2504      0.061    -20.625      0.000      -1.369      -1.132\n",
              "pickup_community_area_9      1.8269      0.622      2.935      0.003       0.607       3.047\n",
              "pickup_community_area_10     0.2315      0.321      0.722      0.471      -0.397       0.860\n",
              "pickup_community_area_11     0.1757      0.337      0.521      0.603      -0.486       0.837\n",
              "pickup_community_area_12     1.8701      0.497      3.766      0.000       0.897       2.844\n",
              "pickup_community_area_13    -0.2990      0.360     -0.831      0.406      -1.004       0.406\n",
              "pickup_community_area_14    -0.4653      0.220     -2.118      0.034      -0.896      -0.035\n",
              "pickup_community_area_15    -0.0155      0.226     -0.069      0.945      -0.458       0.427\n",
              "pickup_community_area_16    -0.7499      0.179     -4.184      0.000      -1.101      -0.399\n",
              "pickup_community_area_17     0.0748      0.353      0.212      0.832      -0.617       0.766\n",
              "pickup_community_area_18     0.0240      0.562      0.043      0.966      -1.077       1.125\n",
              "pickup_community_area_19    -1.3044      0.213     -6.129      0.000      -1.721      -0.887\n",
              "pickup_community_area_20    -0.9239      0.351     -2.632      0.008      -1.612      -0.236\n",
              "pickup_community_area_21    -1.4531      0.172     -8.463      0.000      -1.790      -1.117\n",
              "pickup_community_area_22    -1.5889      0.099    -16.129      0.000      -1.782      -1.396\n",
              "pickup_community_area_23    -1.5386      0.196     -7.863      0.000      -1.922      -1.155\n",
              "pickup_community_area_24    -1.8444      0.082    -22.626      0.000      -2.004      -1.685\n",
              "pickup_community_area_25    -0.6239      0.170     -3.679      0.000      -0.956      -0.291\n",
              "pickup_community_area_26    -0.8688      0.343     -2.532      0.011      -1.542      -0.196\n",
              "pickup_community_area_27    -1.4003      0.269     -5.209      0.000      -1.927      -0.873\n",
              "pickup_community_area_28    -1.4810      0.073    -20.344      0.000      -1.624      -1.338\n",
              "pickup_community_area_29    -1.1815      0.214     -5.531      0.000      -1.600      -0.763\n",
              "pickup_community_area_30    -0.9168      0.232     -3.948      0.000      -1.372      -0.462\n",
              "pickup_community_area_31    -1.4150      0.163     -8.671      0.000      -1.735      -1.095\n",
              "pickup_community_area_32    -0.5092      0.074     -6.876      0.000      -0.654      -0.364\n",
              "pickup_community_area_33    -0.2569      0.139     -1.848      0.065      -0.529       0.016\n",
              "pickup_community_area_34    -1.3509      0.268     -5.038      0.000      -1.877      -0.825\n",
              "pickup_community_area_35    -1.3633      0.221     -6.173      0.000      -1.796      -0.930\n",
              "pickup_community_area_36    -0.8938      0.475     -1.882      0.060      -1.825       0.037\n",
              "pickup_community_area_37    -2.5651      0.594     -4.320      0.000      -3.729      -1.401\n",
              "pickup_community_area_38    -1.1720      0.234     -5.018      0.000      -1.630      -0.714\n",
              "pickup_community_area_39    -0.1161      0.252     -0.460      0.645      -0.610       0.378\n",
              "pickup_community_area_40    -1.2943      0.326     -3.966      0.000      -1.934      -0.655\n",
              "pickup_community_area_41    -0.1158      0.151     -0.767      0.443      -0.412       0.180\n",
              "pickup_community_area_42    -0.9518      0.235     -4.052      0.000      -1.412      -0.491\n",
              "pickup_community_area_43     0.0849      0.203      0.419      0.675      -0.312       0.482\n",
              "pickup_community_area_44    -1.2679      0.229     -5.541      0.000      -1.716      -0.819\n",
              "pickup_community_area_45    -0.4406      0.519     -0.848      0.396      -1.459       0.577\n",
              "pickup_community_area_46     0.2537      0.360      0.705      0.481      -0.451       0.959\n",
              "pickup_community_area_47    -0.2912      0.863     -0.337      0.736      -1.983       1.401\n",
              "pickup_community_area_48    -0.1840      0.505     -0.365      0.715      -1.173       0.805\n",
              "pickup_community_area_49     0.0043      0.253      0.017      0.987      -0.491       0.500\n",
              "pickup_community_area_50     0.1182      0.551      0.215      0.830      -0.962       1.198\n",
              "pickup_community_area_51     1.8533      0.506      3.666      0.000       0.862       2.844\n",
              "pickup_community_area_52     2.5576      0.848      3.015      0.003       0.895       4.220\n",
              "pickup_community_area_53     1.0845      0.391      2.777      0.005       0.319       1.850\n",
              "pickup_community_area_54     3.7524      0.660      5.686      0.000       2.459       5.046\n",
              "pickup_community_area_55     2.6179      0.974      2.689      0.007       0.710       4.526\n",
              "pickup_community_area_56    11.5220      0.176     65.650      0.000      11.178      11.866\n",
              "pickup_community_area_57    -0.4587      0.432     -1.061      0.289      -1.306       0.389\n",
              "pickup_community_area_58    -1.8880      0.283     -6.676      0.000      -2.442      -1.334\n",
              "pickup_community_area_59    -1.7489      0.356     -4.915      0.000      -2.446      -1.052\n",
              "pickup_community_area_60    -1.2350      0.231     -5.335      0.000      -1.689      -0.781\n",
              "pickup_community_area_61    -1.2543      0.264     -4.757      0.000      -1.771      -0.738\n",
              "pickup_community_area_62    -0.8537      0.471     -1.813      0.070      -1.776       0.069\n",
              "pickup_community_area_63    -1.4326      0.343     -4.182      0.000      -2.104      -0.761\n",
              "pickup_community_area_64     0.6556      0.499      1.315      0.189      -0.322       1.633\n",
              "pickup_community_area_65    -0.2253      0.374     -0.603      0.546      -0.958       0.507\n",
              "pickup_community_area_66    -0.1807      0.264     -0.686      0.493      -0.697       0.336\n",
              "pickup_community_area_67    -0.8458      0.291     -2.903      0.004      -1.417      -0.275\n",
              "pickup_community_area_68    -1.2270      0.265     -4.634      0.000      -1.746      -0.708\n",
              "pickup_community_area_69    -1.1069      0.243     -4.557      0.000      -1.583      -0.631\n",
              "pickup_community_area_70     0.8032      0.355      2.259      0.024       0.106       1.500\n",
              "pickup_community_area_71    -0.3925      0.241     -1.628      0.104      -0.865       0.080\n",
              "pickup_community_area_72     1.8098      0.485      3.735      0.000       0.860       2.759\n",
              "pickup_community_area_73    -0.1013      0.349     -0.291      0.771      -0.785       0.582\n",
              "pickup_community_area_74     1.2860      0.621      2.072      0.038       0.070       2.502\n",
              "pickup_community_area_75     1.1347      0.421      2.692      0.007       0.309       1.961\n",
              "pickup_community_area_76    16.6213      0.108    153.404      0.000      16.409      16.834\n",
              "pickup_community_area_77    -0.1735      0.150     -1.153      0.249      -0.468       0.121\n",
              "==============================================================================\n",
              "Omnibus:                   166422.868   Durbin-Watson:                   2.003\n",
              "Prob(Omnibus):                  0.000   Jarque-Bera (JB):         13133957.054\n",
              "Skew:                           3.538   Prob(JB):                         0.00\n",
              "Kurtosis:                      42.064   Cond. No.                     1.40e+16\n",
              "==============================================================================\n",
              "\n",
              "Warnings:\n",
              "[1] Standard Errors assume that the covariance matrix of the errors is correctly specified.\n",
              "[2] The smallest eigenvalue is 1.38e-27. This might indicate that there are\n",
              "strong multicollinearity problems or that the design matrix is singular.\n",
              "\"\"\""
            ]
          },
          "metadata": {
            "tags": []
          },
          "execution_count": 54
        }
      ]
    },
    {
      "cell_type": "code",
      "metadata": {
        "id": "JknsioyIJ-yE",
        "colab_type": "code",
        "colab": {}
      },
      "source": [
        ""
      ],
      "execution_count": 0,
      "outputs": []
    }
  ]
}