{
  "nbformat": 4,
  "nbformat_minor": 0,
  "metadata": {
    "colab": {
      "name": "Chicago EDA.ipynb",
      "provenance": [],
      "authorship_tag": "ABX9TyPe3LWkW4Q5MfL9QcgJGVxT",
      "include_colab_link": true
    },
    "kernelspec": {
      "name": "python3",
      "display_name": "Python 3"
    }
  },
  "cells": [
    {
      "cell_type": "markdown",
      "metadata": {
        "id": "view-in-github",
        "colab_type": "text"
      },
      "source": [
        "<a href=\"https://colab.research.google.com/github/muoyo/chicago-ridesharing/blob/anesu/Chicago_EDA.ipynb\" target=\"_parent\"><img src=\"https://colab.research.google.com/assets/colab-badge.svg\" alt=\"Open In Colab\"/></a>"
      ]
    },
    {
      "cell_type": "code",
      "metadata": {
        "id": "g_eRDrPTaWTC",
        "colab_type": "code",
        "colab": {
          "base_uri": "https://localhost:8080/",
          "height": 170
        },
        "outputId": "33f52148-32e6-44c7-a94f-1f3fe23575bf"
      },
      "source": [
        "!pip install sodapy"
      ],
      "execution_count": 2,
      "outputs": [
        {
          "output_type": "stream",
          "text": [
            "Collecting sodapy\n",
            "  Downloading https://files.pythonhosted.org/packages/64/06/6144b36a4b4470bef1fb17d7b98b82a202b5e918f7e0a2c123004f73ca07/sodapy-2.0.0-py2.py3-none-any.whl\n",
            "Requirement already satisfied: requests>=2.20.0 in /usr/local/lib/python3.6/dist-packages (from sodapy) (2.21.0)\n",
            "Requirement already satisfied: chardet<3.1.0,>=3.0.2 in /usr/local/lib/python3.6/dist-packages (from requests>=2.20.0->sodapy) (3.0.4)\n",
            "Requirement already satisfied: certifi>=2017.4.17 in /usr/local/lib/python3.6/dist-packages (from requests>=2.20.0->sodapy) (2019.11.28)\n",
            "Requirement already satisfied: idna<2.9,>=2.5 in /usr/local/lib/python3.6/dist-packages (from requests>=2.20.0->sodapy) (2.8)\n",
            "Requirement already satisfied: urllib3<1.25,>=1.21.1 in /usr/local/lib/python3.6/dist-packages (from requests>=2.20.0->sodapy) (1.24.3)\n",
            "Installing collected packages: sodapy\n",
            "Successfully installed sodapy-2.0.0\n"
          ],
          "name": "stdout"
        }
      ]
    },
    {
      "cell_type": "code",
      "metadata": {
        "id": "vTK53gnVZ6zr",
        "colab_type": "code",
        "colab": {}
      },
      "source": [
        "#!/usr/bin/env python\n",
        "\n",
        "# make sure to install these packages before running:\n",
        "# pip install pandas\n",
        "# pip install sodapy\n",
        "\n",
        "import pandas as pd\n",
        "from sodapy import Socrata\n",
        "\n",
        "# Unauthenticated client only works with public data sets. Note 'None'\n",
        "# in place of application token, and no username or password:\n",
        "#client = Socrata(\"data.cityofchicago.org\", None, timeout=100)\n",
        "\n",
        "#Example authenticated client (needed for non-public datasets):\n",
        "client = Socrata(\"data.cityofchicago.org\",\n",
        "                 \"N0amD6E3UkUmVTl5nFWXbIyl4\",\n",
        "                 username=\"anesumasube@gmail.com\",\n",
        "                 password=\"Marywandi11!\", timeout=1000)\n",
        "\n",
        "# First 2000 results, returned as JSON from API / converted to Python list of\n",
        "# dictionaries by sodapy.\n",
        "results = client.get(\"m6dm-c72p\", limit=100000)\n",
        "\n",
        "# Convert to pandas DataFrame\n",
        "results_df = pd.DataFrame.from_records(results)"
      ],
      "execution_count": 0,
      "outputs": []
    },
    {
      "cell_type": "code",
      "metadata": {
        "id": "rJw7lk_qaVym",
        "colab_type": "code",
        "colab": {
          "base_uri": "https://localhost:8080/",
          "height": 309
        },
        "outputId": "a095f21c-8385-4096-af2f-d5cd4ce0e957"
      },
      "source": [
        "results_df.head()"
      ],
      "execution_count": 5,
      "outputs": [
        {
          "output_type": "execute_result",
          "data": {
            "text/html": [
              "<div>\n",
              "<style scoped>\n",
              "    .dataframe tbody tr th:only-of-type {\n",
              "        vertical-align: middle;\n",
              "    }\n",
              "\n",
              "    .dataframe tbody tr th {\n",
              "        vertical-align: top;\n",
              "    }\n",
              "\n",
              "    .dataframe thead th {\n",
              "        text-align: right;\n",
              "    }\n",
              "</style>\n",
              "<table border=\"1\" class=\"dataframe\">\n",
              "  <thead>\n",
              "    <tr style=\"text-align: right;\">\n",
              "      <th></th>\n",
              "      <th>trip_id</th>\n",
              "      <th>trip_start_timestamp</th>\n",
              "      <th>trip_end_timestamp</th>\n",
              "      <th>trip_seconds</th>\n",
              "      <th>trip_miles</th>\n",
              "      <th>pickup_community_area</th>\n",
              "      <th>fare</th>\n",
              "      <th>tip</th>\n",
              "      <th>additional_charges</th>\n",
              "      <th>trip_total</th>\n",
              "      <th>shared_trip_authorized</th>\n",
              "      <th>trips_pooled</th>\n",
              "      <th>pickup_centroid_latitude</th>\n",
              "      <th>pickup_centroid_longitude</th>\n",
              "      <th>pickup_centroid_location</th>\n",
              "      <th>dropoff_community_area</th>\n",
              "      <th>dropoff_centroid_latitude</th>\n",
              "      <th>dropoff_centroid_longitude</th>\n",
              "      <th>dropoff_centroid_location</th>\n",
              "      <th>pickup_census_tract</th>\n",
              "      <th>dropoff_census_tract</th>\n",
              "    </tr>\n",
              "  </thead>\n",
              "  <tbody>\n",
              "    <tr>\n",
              "      <th>0</th>\n",
              "      <td>6dfd51beafe891dd76e864b0d905b4adea014eae</td>\n",
              "      <td>2019-09-30T23:45:00.000</td>\n",
              "      <td>2019-10-01T00:00:00.000</td>\n",
              "      <td>208</td>\n",
              "      <td>1.088089</td>\n",
              "      <td>17</td>\n",
              "      <td>2.5</td>\n",
              "      <td>0</td>\n",
              "      <td>2.55</td>\n",
              "      <td>5.05</td>\n",
              "      <td>False</td>\n",
              "      <td>1</td>\n",
              "      <td>41.9465114202</td>\n",
              "      <td>-87.8060200025</td>\n",
              "      <td>{'type': 'Point', 'coordinates': [-87.80602000...</td>\n",
              "      <td>NaN</td>\n",
              "      <td>NaN</td>\n",
              "      <td>NaN</td>\n",
              "      <td>NaN</td>\n",
              "      <td>NaN</td>\n",
              "      <td>NaN</td>\n",
              "    </tr>\n",
              "    <tr>\n",
              "      <th>1</th>\n",
              "      <td>6e1ac3053a319258bd69be1c859e2792dc971be8</td>\n",
              "      <td>2019-09-30T23:45:00.000</td>\n",
              "      <td>2019-10-01T00:00:00.000</td>\n",
              "      <td>462</td>\n",
              "      <td>1.793458</td>\n",
              "      <td>32</td>\n",
              "      <td>5</td>\n",
              "      <td>0</td>\n",
              "      <td>7.55</td>\n",
              "      <td>12.55</td>\n",
              "      <td>False</td>\n",
              "      <td>1</td>\n",
              "      <td>41.8788655841</td>\n",
              "      <td>-87.6251921424</td>\n",
              "      <td>{'type': 'Point', 'coordinates': [-87.62519214...</td>\n",
              "      <td>33</td>\n",
              "      <td>41.8571838585</td>\n",
              "      <td>-87.6203346241</td>\n",
              "      <td>{'type': 'Point', 'coordinates': [-87.62033462...</td>\n",
              "      <td>NaN</td>\n",
              "      <td>NaN</td>\n",
              "    </tr>\n",
              "    <tr>\n",
              "      <th>2</th>\n",
              "      <td>46984399eaeb02fde9cb365e34a410248f52ef94</td>\n",
              "      <td>2019-09-30T23:45:00.000</td>\n",
              "      <td>2019-09-30T23:45:00.000</td>\n",
              "      <td>294</td>\n",
              "      <td>1.310566</td>\n",
              "      <td>3</td>\n",
              "      <td>5</td>\n",
              "      <td>0</td>\n",
              "      <td>2.55</td>\n",
              "      <td>7.55</td>\n",
              "      <td>False</td>\n",
              "      <td>1</td>\n",
              "      <td>41.96581197</td>\n",
              "      <td>-87.6558787862</td>\n",
              "      <td>{'type': 'Point', 'coordinates': [-87.65587878...</td>\n",
              "      <td>5</td>\n",
              "      <td>41.9477915865</td>\n",
              "      <td>-87.6838349425</td>\n",
              "      <td>{'type': 'Point', 'coordinates': [-87.68383494...</td>\n",
              "      <td>NaN</td>\n",
              "      <td>NaN</td>\n",
              "    </tr>\n",
              "    <tr>\n",
              "      <th>3</th>\n",
              "      <td>ee73ea18ba69c013914ac26a45ee65ba212e466a</td>\n",
              "      <td>2019-09-30T23:45:00.000</td>\n",
              "      <td>2019-09-30T23:45:00.000</td>\n",
              "      <td>593</td>\n",
              "      <td>3.039345</td>\n",
              "      <td>41</td>\n",
              "      <td>7.5</td>\n",
              "      <td>0</td>\n",
              "      <td>2.55</td>\n",
              "      <td>10.05</td>\n",
              "      <td>False</td>\n",
              "      <td>1</td>\n",
              "      <td>41.794090253</td>\n",
              "      <td>-87.592310855</td>\n",
              "      <td>{'type': 'Point', 'coordinates': [-87.59231085...</td>\n",
              "      <td>43</td>\n",
              "      <td>41.7615779081</td>\n",
              "      <td>-87.5727819867</td>\n",
              "      <td>{'type': 'Point', 'coordinates': [-87.57278198...</td>\n",
              "      <td>NaN</td>\n",
              "      <td>NaN</td>\n",
              "    </tr>\n",
              "    <tr>\n",
              "      <th>4</th>\n",
              "      <td>f4abc3960e8f1f56dbfca581c36fed0e21205f1e</td>\n",
              "      <td>2019-09-30T23:45:00.000</td>\n",
              "      <td>2019-09-30T23:45:00.000</td>\n",
              "      <td>183</td>\n",
              "      <td>0.859962</td>\n",
              "      <td>63</td>\n",
              "      <td>0</td>\n",
              "      <td>0</td>\n",
              "      <td>2.55</td>\n",
              "      <td>2.55</td>\n",
              "      <td>True</td>\n",
              "      <td>2</td>\n",
              "      <td>41.795430631</td>\n",
              "      <td>-87.6964352325</td>\n",
              "      <td>{'type': 'Point', 'coordinates': [-87.69643523...</td>\n",
              "      <td>63</td>\n",
              "      <td>41.795430631</td>\n",
              "      <td>-87.6964352325</td>\n",
              "      <td>{'type': 'Point', 'coordinates': [-87.69643523...</td>\n",
              "      <td>NaN</td>\n",
              "      <td>NaN</td>\n",
              "    </tr>\n",
              "  </tbody>\n",
              "</table>\n",
              "</div>"
            ],
            "text/plain": [
              "                                    trip_id  ... dropoff_census_tract\n",
              "0  6dfd51beafe891dd76e864b0d905b4adea014eae  ...                  NaN\n",
              "1  6e1ac3053a319258bd69be1c859e2792dc971be8  ...                  NaN\n",
              "2  46984399eaeb02fde9cb365e34a410248f52ef94  ...                  NaN\n",
              "3  ee73ea18ba69c013914ac26a45ee65ba212e466a  ...                  NaN\n",
              "4  f4abc3960e8f1f56dbfca581c36fed0e21205f1e  ...                  NaN\n",
              "\n",
              "[5 rows x 21 columns]"
            ]
          },
          "metadata": {
            "tags": []
          },
          "execution_count": 5
        }
      ]
    },
    {
      "cell_type": "code",
      "metadata": {
        "id": "cz6DNbpkaEzP",
        "colab_type": "code",
        "colab": {}
      },
      "source": [
        ""
      ],
      "execution_count": 0,
      "outputs": []
    }
  ]
}