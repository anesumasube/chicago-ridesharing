{
 "cells": [
  {
   "cell_type": "markdown",
   "metadata": {},
   "source": [
    "<a id='top'></a>\n",
    "# Chicago Ridesharing\n",
    "\n",
    "#### Contributors: Muoyo Okome, Anesu Masube"
   ]
  },
  {
   "cell_type": "markdown",
   "metadata": {},
   "source": [
    "<a id='toc'></a>\n",
    "### Table of Contents\n",
    "1. [Problem Statement](#problemstatement)\n",
    "2. [Data Sources](#datasources)\n",
    "3. [Data Cleaning](#datacleaning)\n",
    "4. [Linear Regression](#regression)  \n",
    "5. [Findings](#findings)\n",
    "6. [Next Steps](#nextsteps)"
   ]
  },
  {
   "cell_type": "code",
   "execution_count": 5,
   "metadata": {},
   "outputs": [],
   "source": [
    "# Import necessary libraries\n",
    "import warnings\n",
    "import pandas as pd\n",
    "warnings.filterwarnings('ignore')"
   ]
  },
  {
   "cell_type": "markdown",
   "metadata": {},
   "source": [
    "<a id='problemstatement'></a>\n",
    "### Problem Statement"
   ]
  },
  {
   "cell_type": "markdown",
   "metadata": {},
   "source": [
    "**Can data help ridesharing drivers earn more?**\n",
    "\n",
    "The key question we look to answer is whether knowing where a ridesharing ride was initiated and what time it was initiated can help us to predict the fare for that ride.\n",
    "\n",
    "Our goal is to eventually provide these insights to ridesharing drivers as a service to help them choose the best driving schedules and waiting positions to optimize their earnings.\n",
    "\n",
    "[Back to Top ↑](#top)"
   ]
  },
  {
   "cell_type": "markdown",
   "metadata": {},
   "source": [
    "<a id='datasources'></a>\n",
    "### Data Sources"
   ]
  },
  {
   "cell_type": "markdown",
   "metadata": {},
   "source": [
    "#### **[City of Chicago Data Portal](https://data.cityofchicago.org/Transportation/Transportation-Network-Providers-Trips/m6dm-c72p)**\n",
    "\n",
    "- All trips, starting November 2018, reported by Transportation Network Providers (sometimes called rideshare companies) to the City of Chicago as part of routine reporting required by ordinance.\n",
    "\n",
    "- Census Tracts are suppressed in some cases, and times are rounded to the nearest 15 minutes. Fares are rounded to the nearest `$`2.50 and tips are rounded to the nearest `$`1.00. \n",
    "\n",
    "- 101 million rows of data!\n",
    "\n",
    "#### **[Dark Sky Weather API](https://darksky.net/dev/docs#time-machine-request)**\n",
    "\n",
    "The Dark Sky API allows you to look up the weather anywhere on the globe, returning (where available):\n",
    "\n",
    "- Current weather conditions\n",
    "- Minute-by-minute forecasts out to one hour\n",
    "- Hour-by-hour and day-by-day forecasts out to seven days\n",
    "- Hour-by-hour and day-by-day observations going back decades\n",
    "- Severe weather alerts in the US, Canada, European Union member nations, and Israel\n"
   ]
  },
  {
   "cell_type": "markdown",
   "metadata": {},
   "source": [
    "<br> \n",
    "\n",
    "[Back to Top ↑](#top)"
   ]
  },
  {
   "cell_type": "code",
   "execution_count": 12,
   "metadata": {},
   "outputs": [],
   "source": [
    "# Import utility functions\n",
    "%run ../python_files/utils"
   ]
  },
  {
   "cell_type": "code",
   "execution_count": 14,
   "metadata": {},
   "outputs": [],
   "source": [
    "# Read in original data: 1 million records\n",
    "df = get_trip_records(limit=1000000)"
   ]
  },
  {
   "cell_type": "markdown",
   "metadata": {},
   "source": [
    "<a id='datacleaning'></a>\n",
    "### Data Cleaning"
   ]
  },
  {
   "cell_type": "markdown",
   "metadata": {},
   "source": [
    "Before beginning our analysis, we performed a number of operations to get the data ready to work with, including, but not limited to: \n",
    "\n",
    "- Limiting trip data to the columns we were most interested in: **'trip_id', 'trip_start_timestamp', 'trip_end_timestamp', 'trip_seconds', 'trip_miles', 'pickup_community_area', 'fare', 'tip', 'additional_charges', 'trip_total'**\n",
    "\n",
    "- Convert numeric & timestamp data from strings to the appropriate datatypes\n",
    "\n",
    "- Imputing missing values with the median, 0, or \"missing\" depending on what made the most sense for each particular variable\n",
    "\n",
    "We then created columns for the weekday, hour, and time block when the trip was initiated (There are 8 three hour time blocks in each 24 hour day, with block 0 starting at 12AM) and also combined this information into the **start_date_plus hour** column which we then used to merge trip data with weather data at the hourly level. We've pulled in 425 days of hourly weather data from Chicago, obtained via the Dark Sky API and our WeatherGetter class, which you can see at work in **weather.ipynb** and then saved it to a CSV.\n",
    "\n",
    "To make the project more modular and easier to follow & build upon, we created separate .py files to handle the heavy lifting for tasks such as data extraction & cleaning, visualizations, and linear regressions. We also created a function called **get_random_samples()** (located in **utils.py**), which allows us to draw random samples of trip data from the Socrata API. Please note that random sampling takes significantly longer than the alternative, due to the fact that we are running many queries instead of one, and there is a certain amount of overhead for each query irrespective of record size."
   ]
  },
  {
   "cell_type": "code",
   "execution_count": 15,
   "metadata": {},
   "outputs": [],
   "source": [
    "# Clean data & load into final dataframe\n",
    "%run ../python_files/data_cleaning"
   ]
  },
  {
   "cell_type": "code",
   "execution_count": 16,
   "metadata": {},
   "outputs": [],
   "source": [
    "df = clean_data(df)"
   ]
  },
  {
   "cell_type": "markdown",
   "metadata": {},
   "source": [
    "\n",
    "\n",
    "[Back to Top ↑](#top)"
   ]
  },
  {
   "cell_type": "code",
   "execution_count": 17,
   "metadata": {},
   "outputs": [],
   "source": [
    "# Import python files we've created to help\n",
    "%run ../python_files/regression\n",
    "%run ../python_files/visualizations"
   ]
  },
  {
   "cell_type": "markdown",
   "metadata": {},
   "source": [
    "<a id='regression'></a>\n",
    "### Linear Regression"
   ]
  },
  {
   "cell_type": "markdown",
   "metadata": {},
   "source": [
    "For our predictive analysis we leveraged the tool of linear regression using the following parameters:\n",
    "\n",
    "- **Dependent variable:** \n",
    "**'trip_total'** (OR in some cases we instead looked at **'fare'**)<p>\n",
    "\n",
    "- **Independendent variables:**\n",
    "    - **'apparentTemperature'**\n",
    "    - **'start_weekday'**\n",
    "    - **'start_hour'** (OR in some cases we instead looked at **'start_time_block'**)\n",
    "    - **'pickup_community_area'** (Chicago is divided into 77 community areas, each of which belongs to one of nine \"sides\")\n",
    "\n",
    "\n",
    "Before performing the actual regression, we pre-processed the data using the following steps:\n",
    "\n",
    "- Splitting out continuous (temperature) & categorical variables (the rest of the independent variables) to be dealt with separately.\n",
    "\n",
    "- Splitting data into training and test sets. We reserved 25% of our data for testing purposes, meaning that we do not work with it until after our model is finalized, to avoid data leakage.\n",
    "\n",
    "- Performing one hot encoding on our categorical variables to make usable for linear regression\n",
    "\n",
    "- Combining our categorical and continuous features back into a final dataframe\n"
   ]
  },
  {
   "cell_type": "code",
   "execution_count": 18,
   "metadata": {},
   "outputs": [],
   "source": [
    "X_train, X_test, y_train, y_test = get_train_test_split(df, test_size=.25)"
   ]
  },
  {
   "cell_type": "markdown",
   "metadata": {},
   "source": [
    "### Ordinary Least Squares via statsmodels\n",
    "\n",
    "With our preprocessing complete (we conduct it within the **get_train_test_split()** function, as seen above), we are ready to run our series of regression. \n",
    "\n",
    "First, we run an OLS regression using statsmodels and learn that our model explains 26-30% of the variance of our independent variable **trip_total**, depending on the specific set of data we are working with."
   ]
  },
  {
   "cell_type": "code",
   "execution_count": 19,
   "metadata": {},
   "outputs": [
    {
     "data": {
      "text/html": [
       "<table class=\"simpletable\">\n",
       "<caption>OLS Regression Results</caption>\n",
       "<tr>\n",
       "  <th>Dep. Variable:</th>       <td>trip_total</td>    <th>  R-squared:         </th>  <td>   0.266</td>  \n",
       "</tr>\n",
       "<tr>\n",
       "  <th>Model:</th>                   <td>OLS</td>       <th>  Adj. R-squared:    </th>  <td>   0.266</td>  \n",
       "</tr>\n",
       "<tr>\n",
       "  <th>Method:</th>             <td>Least Squares</td>  <th>  F-statistic:       </th>  <td>   2991.</td>  \n",
       "</tr>\n",
       "<tr>\n",
       "  <th>Date:</th>             <td>Thu, 23 Jan 2020</td> <th>  Prob (F-statistic):</th>   <td>  0.00</td>   \n",
       "</tr>\n",
       "<tr>\n",
       "  <th>Time:</th>                 <td>14:53:11</td>     <th>  Log-Likelihood:    </th> <td>-2.7381e+06</td>\n",
       "</tr>\n",
       "<tr>\n",
       "  <th>No. Observations:</th>      <td>750000</td>      <th>  AIC:               </th>  <td>5.476e+06</td> \n",
       "</tr>\n",
       "<tr>\n",
       "  <th>Df Residuals:</th>          <td>749908</td>      <th>  BIC:               </th>  <td>5.477e+06</td> \n",
       "</tr>\n",
       "<tr>\n",
       "  <th>Df Model:</th>              <td>    91</td>      <th>                     </th>      <td> </td>     \n",
       "</tr>\n",
       "<tr>\n",
       "  <th>Covariance Type:</th>      <td>nonrobust</td>    <th>                     </th>      <td> </td>     \n",
       "</tr>\n",
       "</table>\n",
       "<table class=\"simpletable\">\n",
       "<tr>\n",
       "               <td></td>                 <th>coef</th>     <th>std err</th>      <th>t</th>      <th>P>|t|</th>  <th>[0.025</th>    <th>0.975]</th>  \n",
       "</tr>\n",
       "<tr>\n",
       "  <th>apparentTemperature</th>        <td>    0.0120</td> <td>    0.001</td> <td>   16.438</td> <td> 0.000</td> <td>    0.011</td> <td>    0.013</td>\n",
       "</tr>\n",
       "<tr>\n",
       "  <th>start_weekday_0.0</th>          <td>    7.1338</td> <td>    0.032</td> <td>  220.040</td> <td> 0.000</td> <td>    7.070</td> <td>    7.197</td>\n",
       "</tr>\n",
       "<tr>\n",
       "  <th>start_weekday_1.0</th>          <td>    6.6222</td> <td>    0.031</td> <td>  211.549</td> <td> 0.000</td> <td>    6.561</td> <td>    6.684</td>\n",
       "</tr>\n",
       "<tr>\n",
       "  <th>start_weekday_2.0</th>          <td>    6.6222</td> <td>    0.032</td> <td>  208.079</td> <td> 0.000</td> <td>    6.560</td> <td>    6.685</td>\n",
       "</tr>\n",
       "<tr>\n",
       "  <th>start_weekday_3.0</th>          <td>    7.2006</td> <td>    0.031</td> <td>  233.001</td> <td> 0.000</td> <td>    7.140</td> <td>    7.261</td>\n",
       "</tr>\n",
       "<tr>\n",
       "  <th>start_weekday_4.0</th>          <td>    7.1891</td> <td>    0.028</td> <td>  255.579</td> <td> 0.000</td> <td>    7.134</td> <td>    7.244</td>\n",
       "</tr>\n",
       "<tr>\n",
       "  <th>start_weekday_5.0</th>          <td>    6.8984</td> <td>    0.029</td> <td>  237.822</td> <td> 0.000</td> <td>    6.841</td> <td>    6.955</td>\n",
       "</tr>\n",
       "<tr>\n",
       "  <th>start_weekday_6.0</th>          <td>    6.5908</td> <td>    0.031</td> <td>  209.304</td> <td> 0.000</td> <td>    6.529</td> <td>    6.653</td>\n",
       "</tr>\n",
       "<tr>\n",
       "  <th>start_time_block_0.0</th>       <td>    4.9302</td> <td>    0.040</td> <td>  122.651</td> <td> 0.000</td> <td>    4.851</td> <td>    5.009</td>\n",
       "</tr>\n",
       "<tr>\n",
       "  <th>start_time_block_1.0</th>       <td>    9.2542</td> <td>    0.053</td> <td>  174.951</td> <td> 0.000</td> <td>    9.151</td> <td>    9.358</td>\n",
       "</tr>\n",
       "<tr>\n",
       "  <th>start_time_block_2.0</th>       <td>    7.0419</td> <td>    0.032</td> <td>  220.470</td> <td> 0.000</td> <td>    6.979</td> <td>    7.105</td>\n",
       "</tr>\n",
       "<tr>\n",
       "  <th>start_time_block_3.0</th>       <td>    5.6091</td> <td>    0.031</td> <td>  182.175</td> <td> 0.000</td> <td>    5.549</td> <td>    5.669</td>\n",
       "</tr>\n",
       "<tr>\n",
       "  <th>start_time_block_4.0</th>       <td>    5.8803</td> <td>    0.031</td> <td>  188.658</td> <td> 0.000</td> <td>    5.819</td> <td>    5.941</td>\n",
       "</tr>\n",
       "<tr>\n",
       "  <th>start_time_block_5.0</th>       <td>    5.9901</td> <td>    0.029</td> <td>  208.494</td> <td> 0.000</td> <td>    5.934</td> <td>    6.046</td>\n",
       "</tr>\n",
       "<tr>\n",
       "  <th>start_time_block_6.0</th>       <td>    4.7626</td> <td>    0.027</td> <td>  173.672</td> <td> 0.000</td> <td>    4.709</td> <td>    4.816</td>\n",
       "</tr>\n",
       "<tr>\n",
       "  <th>start_time_block_7.0</th>       <td>    4.7887</td> <td>    0.030</td> <td>  160.748</td> <td> 0.000</td> <td>    4.730</td> <td>    4.847</td>\n",
       "</tr>\n",
       "<tr>\n",
       "  <th>pickup_community_area_0.0</th>  <td>   13.1265</td> <td>    0.051</td> <td>  259.278</td> <td> 0.000</td> <td>   13.027</td> <td>   13.226</td>\n",
       "</tr>\n",
       "<tr>\n",
       "  <th>pickup_community_area_1.0</th>  <td>    0.1665</td> <td>    0.099</td> <td>    1.684</td> <td> 0.092</td> <td>   -0.027</td> <td>    0.360</td>\n",
       "</tr>\n",
       "<tr>\n",
       "  <th>pickup_community_area_2.0</th>  <td>   -0.7417</td> <td>    0.118</td> <td>   -6.282</td> <td> 0.000</td> <td>   -0.973</td> <td>   -0.510</td>\n",
       "</tr>\n",
       "<tr>\n",
       "  <th>pickup_community_area_3.0</th>  <td>   -0.3734</td> <td>    0.077</td> <td>   -4.879</td> <td> 0.000</td> <td>   -0.523</td> <td>   -0.223</td>\n",
       "</tr>\n",
       "<tr>\n",
       "  <th>pickup_community_area_4.0</th>  <td>    0.2771</td> <td>    0.103</td> <td>    2.692</td> <td> 0.007</td> <td>    0.075</td> <td>    0.479</td>\n",
       "</tr>\n",
       "<tr>\n",
       "  <th>pickup_community_area_5.0</th>  <td>   -0.0439</td> <td>    0.097</td> <td>   -0.453</td> <td> 0.650</td> <td>   -0.234</td> <td>    0.146</td>\n",
       "</tr>\n",
       "<tr>\n",
       "  <th>pickup_community_area_6.0</th>  <td>   -0.5922</td> <td>    0.048</td> <td>  -12.397</td> <td> 0.000</td> <td>   -0.686</td> <td>   -0.499</td>\n",
       "</tr>\n",
       "<tr>\n",
       "  <th>pickup_community_area_7.0</th>  <td>   -1.0672</td> <td>    0.052</td> <td>  -20.644</td> <td> 0.000</td> <td>   -1.169</td> <td>   -0.966</td>\n",
       "</tr>\n",
       "<tr>\n",
       "  <th>pickup_community_area_8.0</th>  <td>   -0.4363</td> <td>    0.036</td> <td>  -12.118</td> <td> 0.000</td> <td>   -0.507</td> <td>   -0.366</td>\n",
       "</tr>\n",
       "<tr>\n",
       "  <th>pickup_community_area_9.0</th>  <td>    1.9792</td> <td>    0.352</td> <td>    5.615</td> <td> 0.000</td> <td>    1.288</td> <td>    2.670</td>\n",
       "</tr>\n",
       "<tr>\n",
       "  <th>pickup_community_area_10.0</th> <td>    1.1331</td> <td>    0.198</td> <td>    5.722</td> <td> 0.000</td> <td>    0.745</td> <td>    1.521</td>\n",
       "</tr>\n",
       "<tr>\n",
       "  <th>pickup_community_area_11.0</th> <td>    0.6306</td> <td>    0.209</td> <td>    3.017</td> <td> 0.003</td> <td>    0.221</td> <td>    1.040</td>\n",
       "</tr>\n",
       "<tr>\n",
       "  <th>pickup_community_area_12.0</th> <td>    2.6826</td> <td>    0.305</td> <td>    8.800</td> <td> 0.000</td> <td>    2.085</td> <td>    3.280</td>\n",
       "</tr>\n",
       "<tr>\n",
       "  <th>pickup_community_area_13.0</th> <td>   -0.0981</td> <td>    0.215</td> <td>   -0.456</td> <td> 0.648</td> <td>   -0.520</td> <td>    0.323</td>\n",
       "</tr>\n",
       "<tr>\n",
       "  <th>pickup_community_area_14.0</th> <td>    0.1476</td> <td>    0.133</td> <td>    1.114</td> <td> 0.265</td> <td>   -0.112</td> <td>    0.407</td>\n",
       "</tr>\n",
       "<tr>\n",
       "  <th>pickup_community_area_15.0</th> <td>    0.3833</td> <td>    0.134</td> <td>    2.853</td> <td> 0.004</td> <td>    0.120</td> <td>    0.647</td>\n",
       "</tr>\n",
       "<tr>\n",
       "  <th>pickup_community_area_16.0</th> <td>    0.0077</td> <td>    0.108</td> <td>    0.071</td> <td> 0.943</td> <td>   -0.205</td> <td>    0.220</td>\n",
       "</tr>\n",
       "<tr>\n",
       "  <th>pickup_community_area_17.0</th> <td>    0.9097</td> <td>    0.213</td> <td>    4.274</td> <td> 0.000</td> <td>    0.492</td> <td>    1.327</td>\n",
       "</tr>\n",
       "<tr>\n",
       "  <th>pickup_community_area_18.0</th> <td>    0.2276</td> <td>    0.335</td> <td>    0.680</td> <td> 0.496</td> <td>   -0.428</td> <td>    0.884</td>\n",
       "</tr>\n",
       "<tr>\n",
       "  <th>pickup_community_area_19.0</th> <td>   -0.8786</td> <td>    0.128</td> <td>   -6.856</td> <td> 0.000</td> <td>   -1.130</td> <td>   -0.627</td>\n",
       "</tr>\n",
       "<tr>\n",
       "  <th>pickup_community_area_20.0</th> <td>   -1.1173</td> <td>    0.204</td> <td>   -5.474</td> <td> 0.000</td> <td>   -1.517</td> <td>   -0.717</td>\n",
       "</tr>\n",
       "<tr>\n",
       "  <th>pickup_community_area_21.0</th> <td>   -0.7918</td> <td>    0.103</td> <td>   -7.723</td> <td> 0.000</td> <td>   -0.993</td> <td>   -0.591</td>\n",
       "</tr>\n",
       "<tr>\n",
       "  <th>pickup_community_area_22.0</th> <td>   -1.0341</td> <td>    0.059</td> <td>  -17.498</td> <td> 0.000</td> <td>   -1.150</td> <td>   -0.918</td>\n",
       "</tr>\n",
       "<tr>\n",
       "  <th>pickup_community_area_23.0</th> <td>   -1.4124</td> <td>    0.116</td> <td>  -12.138</td> <td> 0.000</td> <td>   -1.640</td> <td>   -1.184</td>\n",
       "</tr>\n",
       "<tr>\n",
       "  <th>pickup_community_area_24.0</th> <td>   -1.4569</td> <td>    0.049</td> <td>  -30.026</td> <td> 0.000</td> <td>   -1.552</td> <td>   -1.362</td>\n",
       "</tr>\n",
       "<tr>\n",
       "  <th>pickup_community_area_25.0</th> <td>   -0.4624</td> <td>    0.102</td> <td>   -4.512</td> <td> 0.000</td> <td>   -0.663</td> <td>   -0.262</td>\n",
       "</tr>\n",
       "<tr>\n",
       "  <th>pickup_community_area_26.0</th> <td>   -1.3859</td> <td>    0.202</td> <td>   -6.862</td> <td> 0.000</td> <td>   -1.782</td> <td>   -0.990</td>\n",
       "</tr>\n",
       "<tr>\n",
       "  <th>pickup_community_area_27.0</th> <td>   -1.6522</td> <td>    0.161</td> <td>  -10.251</td> <td> 0.000</td> <td>   -1.968</td> <td>   -1.336</td>\n",
       "</tr>\n",
       "<tr>\n",
       "  <th>pickup_community_area_28.0</th> <td>   -0.9386</td> <td>    0.043</td> <td>  -21.667</td> <td> 0.000</td> <td>   -1.023</td> <td>   -0.854</td>\n",
       "</tr>\n",
       "<tr>\n",
       "  <th>pickup_community_area_29.0</th> <td>   -1.4068</td> <td>    0.130</td> <td>  -10.803</td> <td> 0.000</td> <td>   -1.662</td> <td>   -1.152</td>\n",
       "</tr>\n",
       "<tr>\n",
       "  <th>pickup_community_area_30.0</th> <td>   -0.8879</td> <td>    0.139</td> <td>   -6.388</td> <td> 0.000</td> <td>   -1.160</td> <td>   -0.615</td>\n",
       "</tr>\n",
       "<tr>\n",
       "  <th>pickup_community_area_31.0</th> <td>   -1.3633</td> <td>    0.098</td> <td>  -13.952</td> <td> 0.000</td> <td>   -1.555</td> <td>   -1.172</td>\n",
       "</tr>\n",
       "<tr>\n",
       "  <th>pickup_community_area_32.0</th> <td>    0.4555</td> <td>    0.044</td> <td>   10.375</td> <td> 0.000</td> <td>    0.369</td> <td>    0.542</td>\n",
       "</tr>\n",
       "<tr>\n",
       "  <th>pickup_community_area_33.0</th> <td>    1.0710</td> <td>    0.083</td> <td>   12.832</td> <td> 0.000</td> <td>    0.907</td> <td>    1.235</td>\n",
       "</tr>\n",
       "<tr>\n",
       "  <th>pickup_community_area_34.0</th> <td>   -0.9503</td> <td>    0.160</td> <td>   -5.945</td> <td> 0.000</td> <td>   -1.264</td> <td>   -0.637</td>\n",
       "</tr>\n",
       "<tr>\n",
       "  <th>pickup_community_area_35.0</th> <td>   -1.5155</td> <td>    0.133</td> <td>  -11.422</td> <td> 0.000</td> <td>   -1.776</td> <td>   -1.255</td>\n",
       "</tr>\n",
       "<tr>\n",
       "  <th>pickup_community_area_36.0</th> <td>   -1.2425</td> <td>    0.293</td> <td>   -4.236</td> <td> 0.000</td> <td>   -1.817</td> <td>   -0.668</td>\n",
       "</tr>\n",
       "<tr>\n",
       "  <th>pickup_community_area_37.0</th> <td>   -2.7209</td> <td>    0.349</td> <td>   -7.804</td> <td> 0.000</td> <td>   -3.404</td> <td>   -2.038</td>\n",
       "</tr>\n",
       "<tr>\n",
       "  <th>pickup_community_area_38.0</th> <td>   -1.4241</td> <td>    0.138</td> <td>  -10.334</td> <td> 0.000</td> <td>   -1.694</td> <td>   -1.154</td>\n",
       "</tr>\n",
       "<tr>\n",
       "  <th>pickup_community_area_39.0</th> <td>   -0.3725</td> <td>    0.156</td> <td>   -2.384</td> <td> 0.017</td> <td>   -0.679</td> <td>   -0.066</td>\n",
       "</tr>\n",
       "<tr>\n",
       "  <th>pickup_community_area_40.0</th> <td>   -1.7745</td> <td>    0.195</td> <td>   -9.121</td> <td> 0.000</td> <td>   -2.156</td> <td>   -1.393</td>\n",
       "</tr>\n",
       "<tr>\n",
       "  <th>pickup_community_area_41.0</th> <td>    0.2740</td> <td>    0.090</td> <td>    3.051</td> <td> 0.002</td> <td>    0.098</td> <td>    0.450</td>\n",
       "</tr>\n",
       "<tr>\n",
       "  <th>pickup_community_area_42.0</th> <td>   -0.7114</td> <td>    0.140</td> <td>   -5.077</td> <td> 0.000</td> <td>   -0.986</td> <td>   -0.437</td>\n",
       "</tr>\n",
       "<tr>\n",
       "  <th>pickup_community_area_43.0</th> <td>    0.2642</td> <td>    0.122</td> <td>    2.163</td> <td> 0.031</td> <td>    0.025</td> <td>    0.504</td>\n",
       "</tr>\n",
       "<tr>\n",
       "  <th>pickup_community_area_44.0</th> <td>   -0.9116</td> <td>    0.139</td> <td>   -6.582</td> <td> 0.000</td> <td>   -1.183</td> <td>   -0.640</td>\n",
       "</tr>\n",
       "<tr>\n",
       "  <th>pickup_community_area_45.0</th> <td>   -0.1427</td> <td>    0.311</td> <td>   -0.458</td> <td> 0.647</td> <td>   -0.753</td> <td>    0.468</td>\n",
       "</tr>\n",
       "<tr>\n",
       "  <th>pickup_community_area_46.0</th> <td>    0.8104</td> <td>    0.209</td> <td>    3.884</td> <td> 0.000</td> <td>    0.401</td> <td>    1.219</td>\n",
       "</tr>\n",
       "<tr>\n",
       "  <th>pickup_community_area_47.0</th> <td>    0.1887</td> <td>    0.545</td> <td>    0.346</td> <td> 0.729</td> <td>   -0.879</td> <td>    1.256</td>\n",
       "</tr>\n",
       "<tr>\n",
       "  <th>pickup_community_area_48.0</th> <td>    1.0960</td> <td>    0.297</td> <td>    3.688</td> <td> 0.000</td> <td>    0.513</td> <td>    1.679</td>\n",
       "</tr>\n",
       "<tr>\n",
       "  <th>pickup_community_area_49.0</th> <td>    0.5094</td> <td>    0.154</td> <td>    3.315</td> <td> 0.001</td> <td>    0.208</td> <td>    0.811</td>\n",
       "</tr>\n",
       "<tr>\n",
       "  <th>pickup_community_area_50.0</th> <td>    0.5050</td> <td>    0.322</td> <td>    1.570</td> <td> 0.116</td> <td>   -0.126</td> <td>    1.136</td>\n",
       "</tr>\n",
       "<tr>\n",
       "  <th>pickup_community_area_51.0</th> <td>    1.5348</td> <td>    0.303</td> <td>    5.059</td> <td> 0.000</td> <td>    0.940</td> <td>    2.129</td>\n",
       "</tr>\n",
       "<tr>\n",
       "  <th>pickup_community_area_52.0</th> <td>    3.3614</td> <td>    0.487</td> <td>    6.903</td> <td> 0.000</td> <td>    2.407</td> <td>    4.316</td>\n",
       "</tr>\n",
       "<tr>\n",
       "  <th>pickup_community_area_53.0</th> <td>    1.0277</td> <td>    0.236</td> <td>    4.346</td> <td> 0.000</td> <td>    0.564</td> <td>    1.491</td>\n",
       "</tr>\n",
       "<tr>\n",
       "  <th>pickup_community_area_54.0</th> <td>    2.9160</td> <td>    0.426</td> <td>    6.851</td> <td> 0.000</td> <td>    2.082</td> <td>    3.750</td>\n",
       "</tr>\n",
       "<tr>\n",
       "  <th>pickup_community_area_55.0</th> <td>    4.0749</td> <td>    0.607</td> <td>    6.710</td> <td> 0.000</td> <td>    2.885</td> <td>    5.265</td>\n",
       "</tr>\n",
       "<tr>\n",
       "  <th>pickup_community_area_56.0</th> <td>   17.5431</td> <td>    0.106</td> <td>  165.686</td> <td> 0.000</td> <td>   17.336</td> <td>   17.751</td>\n",
       "</tr>\n",
       "<tr>\n",
       "  <th>pickup_community_area_57.0</th> <td>   -0.5488</td> <td>    0.251</td> <td>   -2.183</td> <td> 0.029</td> <td>   -1.042</td> <td>   -0.056</td>\n",
       "</tr>\n",
       "<tr>\n",
       "  <th>pickup_community_area_58.0</th> <td>   -1.7236</td> <td>    0.167</td> <td>  -10.294</td> <td> 0.000</td> <td>   -2.052</td> <td>   -1.395</td>\n",
       "</tr>\n",
       "<tr>\n",
       "  <th>pickup_community_area_59.0</th> <td>   -1.0701</td> <td>    0.216</td> <td>   -4.946</td> <td> 0.000</td> <td>   -1.494</td> <td>   -0.646</td>\n",
       "</tr>\n",
       "<tr>\n",
       "  <th>pickup_community_area_60.0</th> <td>   -0.8863</td> <td>    0.140</td> <td>   -6.343</td> <td> 0.000</td> <td>   -1.160</td> <td>   -0.612</td>\n",
       "</tr>\n",
       "<tr>\n",
       "  <th>pickup_community_area_61.0</th> <td>   -1.2786</td> <td>    0.158</td> <td>   -8.096</td> <td> 0.000</td> <td>   -1.588</td> <td>   -0.969</td>\n",
       "</tr>\n",
       "<tr>\n",
       "  <th>pickup_community_area_62.0</th> <td>   -1.1132</td> <td>    0.287</td> <td>   -3.880</td> <td> 0.000</td> <td>   -1.676</td> <td>   -0.551</td>\n",
       "</tr>\n",
       "<tr>\n",
       "  <th>pickup_community_area_63.0</th> <td>   -1.1634</td> <td>    0.198</td> <td>   -5.870</td> <td> 0.000</td> <td>   -1.552</td> <td>   -0.775</td>\n",
       "</tr>\n",
       "<tr>\n",
       "  <th>pickup_community_area_64.0</th> <td>    1.0437</td> <td>    0.291</td> <td>    3.592</td> <td> 0.000</td> <td>    0.474</td> <td>    1.613</td>\n",
       "</tr>\n",
       "<tr>\n",
       "  <th>pickup_community_area_65.0</th> <td>   -0.2273</td> <td>    0.218</td> <td>   -1.043</td> <td> 0.297</td> <td>   -0.654</td> <td>    0.200</td>\n",
       "</tr>\n",
       "<tr>\n",
       "  <th>pickup_community_area_66.0</th> <td>   -0.2869</td> <td>    0.158</td> <td>   -1.812</td> <td> 0.070</td> <td>   -0.597</td> <td>    0.023</td>\n",
       "</tr>\n",
       "<tr>\n",
       "  <th>pickup_community_area_67.0</th> <td>   -0.9321</td> <td>    0.175</td> <td>   -5.338</td> <td> 0.000</td> <td>   -1.274</td> <td>   -0.590</td>\n",
       "</tr>\n",
       "<tr>\n",
       "  <th>pickup_community_area_68.0</th> <td>   -1.3634</td> <td>    0.163</td> <td>   -8.387</td> <td> 0.000</td> <td>   -1.682</td> <td>   -1.045</td>\n",
       "</tr>\n",
       "<tr>\n",
       "  <th>pickup_community_area_69.0</th> <td>   -1.3629</td> <td>    0.143</td> <td>   -9.515</td> <td> 0.000</td> <td>   -1.644</td> <td>   -1.082</td>\n",
       "</tr>\n",
       "<tr>\n",
       "  <th>pickup_community_area_70.0</th> <td>    0.8549</td> <td>    0.209</td> <td>    4.091</td> <td> 0.000</td> <td>    0.445</td> <td>    1.264</td>\n",
       "</tr>\n",
       "<tr>\n",
       "  <th>pickup_community_area_71.0</th> <td>   -0.1470</td> <td>    0.145</td> <td>   -1.011</td> <td> 0.312</td> <td>   -0.432</td> <td>    0.138</td>\n",
       "</tr>\n",
       "<tr>\n",
       "  <th>pickup_community_area_72.0</th> <td>    3.1207</td> <td>    0.291</td> <td>   10.719</td> <td> 0.000</td> <td>    2.550</td> <td>    3.691</td>\n",
       "</tr>\n",
       "<tr>\n",
       "  <th>pickup_community_area_73.0</th> <td>    0.6433</td> <td>    0.208</td> <td>    3.088</td> <td> 0.002</td> <td>    0.235</td> <td>    1.052</td>\n",
       "</tr>\n",
       "<tr>\n",
       "  <th>pickup_community_area_74.0</th> <td>    1.9477</td> <td>    0.398</td> <td>    4.900</td> <td> 0.000</td> <td>    1.169</td> <td>    2.727</td>\n",
       "</tr>\n",
       "<tr>\n",
       "  <th>pickup_community_area_75.0</th> <td>    0.7878</td> <td>    0.251</td> <td>    3.143</td> <td> 0.002</td> <td>    0.296</td> <td>    1.279</td>\n",
       "</tr>\n",
       "<tr>\n",
       "  <th>pickup_community_area_76.0</th> <td>   24.1217</td> <td>    0.065</td> <td>  370.844</td> <td> 0.000</td> <td>   23.994</td> <td>   24.249</td>\n",
       "</tr>\n",
       "<tr>\n",
       "  <th>pickup_community_area_77.0</th> <td>    0.4445</td> <td>    0.091</td> <td>    4.906</td> <td> 0.000</td> <td>    0.267</td> <td>    0.622</td>\n",
       "</tr>\n",
       "</table>\n",
       "<table class=\"simpletable\">\n",
       "<tr>\n",
       "  <th>Omnibus:</th>       <td>901996.767</td> <th>  Durbin-Watson:     </th>    <td>   1.997</td>   \n",
       "</tr>\n",
       "<tr>\n",
       "  <th>Prob(Omnibus):</th>   <td> 0.000</td>   <th>  Jarque-Bera (JB):  </th> <td>1678411012.714</td>\n",
       "</tr>\n",
       "<tr>\n",
       "  <th>Skew:</th>            <td> 5.486</td>   <th>  Prob(JB):          </th>    <td>    0.00</td>   \n",
       "</tr>\n",
       "<tr>\n",
       "  <th>Kurtosis:</th>        <td>234.493</td>  <th>  Cond. No.          </th>    <td>1.00e+16</td>   \n",
       "</tr>\n",
       "</table><br/><br/>Warnings:<br/>[1] Standard Errors assume that the covariance matrix of the errors is correctly specified.<br/>[2] The smallest eigenvalue is 4.99e-24. This might indicate that there are<br/>strong multicollinearity problems or that the design matrix is singular."
      ],
      "text/plain": [
       "<class 'statsmodels.iolib.summary.Summary'>\n",
       "\"\"\"\n",
       "                            OLS Regression Results                            \n",
       "==============================================================================\n",
       "Dep. Variable:             trip_total   R-squared:                       0.266\n",
       "Model:                            OLS   Adj. R-squared:                  0.266\n",
       "Method:                 Least Squares   F-statistic:                     2991.\n",
       "Date:                Thu, 23 Jan 2020   Prob (F-statistic):               0.00\n",
       "Time:                        14:53:11   Log-Likelihood:            -2.7381e+06\n",
       "No. Observations:              750000   AIC:                         5.476e+06\n",
       "Df Residuals:                  749908   BIC:                         5.477e+06\n",
       "Df Model:                          91                                         \n",
       "Covariance Type:            nonrobust                                         \n",
       "==============================================================================================\n",
       "                                 coef    std err          t      P>|t|      [0.025      0.975]\n",
       "----------------------------------------------------------------------------------------------\n",
       "apparentTemperature            0.0120      0.001     16.438      0.000       0.011       0.013\n",
       "start_weekday_0.0              7.1338      0.032    220.040      0.000       7.070       7.197\n",
       "start_weekday_1.0              6.6222      0.031    211.549      0.000       6.561       6.684\n",
       "start_weekday_2.0              6.6222      0.032    208.079      0.000       6.560       6.685\n",
       "start_weekday_3.0              7.2006      0.031    233.001      0.000       7.140       7.261\n",
       "start_weekday_4.0              7.1891      0.028    255.579      0.000       7.134       7.244\n",
       "start_weekday_5.0              6.8984      0.029    237.822      0.000       6.841       6.955\n",
       "start_weekday_6.0              6.5908      0.031    209.304      0.000       6.529       6.653\n",
       "start_time_block_0.0           4.9302      0.040    122.651      0.000       4.851       5.009\n",
       "start_time_block_1.0           9.2542      0.053    174.951      0.000       9.151       9.358\n",
       "start_time_block_2.0           7.0419      0.032    220.470      0.000       6.979       7.105\n",
       "start_time_block_3.0           5.6091      0.031    182.175      0.000       5.549       5.669\n",
       "start_time_block_4.0           5.8803      0.031    188.658      0.000       5.819       5.941\n",
       "start_time_block_5.0           5.9901      0.029    208.494      0.000       5.934       6.046\n",
       "start_time_block_6.0           4.7626      0.027    173.672      0.000       4.709       4.816\n",
       "start_time_block_7.0           4.7887      0.030    160.748      0.000       4.730       4.847\n",
       "pickup_community_area_0.0     13.1265      0.051    259.278      0.000      13.027      13.226\n",
       "pickup_community_area_1.0      0.1665      0.099      1.684      0.092      -0.027       0.360\n",
       "pickup_community_area_2.0     -0.7417      0.118     -6.282      0.000      -0.973      -0.510\n",
       "pickup_community_area_3.0     -0.3734      0.077     -4.879      0.000      -0.523      -0.223\n",
       "pickup_community_area_4.0      0.2771      0.103      2.692      0.007       0.075       0.479\n",
       "pickup_community_area_5.0     -0.0439      0.097     -0.453      0.650      -0.234       0.146\n",
       "pickup_community_area_6.0     -0.5922      0.048    -12.397      0.000      -0.686      -0.499\n",
       "pickup_community_area_7.0     -1.0672      0.052    -20.644      0.000      -1.169      -0.966\n",
       "pickup_community_area_8.0     -0.4363      0.036    -12.118      0.000      -0.507      -0.366\n",
       "pickup_community_area_9.0      1.9792      0.352      5.615      0.000       1.288       2.670\n",
       "pickup_community_area_10.0     1.1331      0.198      5.722      0.000       0.745       1.521\n",
       "pickup_community_area_11.0     0.6306      0.209      3.017      0.003       0.221       1.040\n",
       "pickup_community_area_12.0     2.6826      0.305      8.800      0.000       2.085       3.280\n",
       "pickup_community_area_13.0    -0.0981      0.215     -0.456      0.648      -0.520       0.323\n",
       "pickup_community_area_14.0     0.1476      0.133      1.114      0.265      -0.112       0.407\n",
       "pickup_community_area_15.0     0.3833      0.134      2.853      0.004       0.120       0.647\n",
       "pickup_community_area_16.0     0.0077      0.108      0.071      0.943      -0.205       0.220\n",
       "pickup_community_area_17.0     0.9097      0.213      4.274      0.000       0.492       1.327\n",
       "pickup_community_area_18.0     0.2276      0.335      0.680      0.496      -0.428       0.884\n",
       "pickup_community_area_19.0    -0.8786      0.128     -6.856      0.000      -1.130      -0.627\n",
       "pickup_community_area_20.0    -1.1173      0.204     -5.474      0.000      -1.517      -0.717\n",
       "pickup_community_area_21.0    -0.7918      0.103     -7.723      0.000      -0.993      -0.591\n",
       "pickup_community_area_22.0    -1.0341      0.059    -17.498      0.000      -1.150      -0.918\n",
       "pickup_community_area_23.0    -1.4124      0.116    -12.138      0.000      -1.640      -1.184\n",
       "pickup_community_area_24.0    -1.4569      0.049    -30.026      0.000      -1.552      -1.362\n",
       "pickup_community_area_25.0    -0.4624      0.102     -4.512      0.000      -0.663      -0.262\n",
       "pickup_community_area_26.0    -1.3859      0.202     -6.862      0.000      -1.782      -0.990\n",
       "pickup_community_area_27.0    -1.6522      0.161    -10.251      0.000      -1.968      -1.336\n",
       "pickup_community_area_28.0    -0.9386      0.043    -21.667      0.000      -1.023      -0.854\n",
       "pickup_community_area_29.0    -1.4068      0.130    -10.803      0.000      -1.662      -1.152\n",
       "pickup_community_area_30.0    -0.8879      0.139     -6.388      0.000      -1.160      -0.615\n",
       "pickup_community_area_31.0    -1.3633      0.098    -13.952      0.000      -1.555      -1.172\n",
       "pickup_community_area_32.0     0.4555      0.044     10.375      0.000       0.369       0.542\n",
       "pickup_community_area_33.0     1.0710      0.083     12.832      0.000       0.907       1.235\n",
       "pickup_community_area_34.0    -0.9503      0.160     -5.945      0.000      -1.264      -0.637\n",
       "pickup_community_area_35.0    -1.5155      0.133    -11.422      0.000      -1.776      -1.255\n",
       "pickup_community_area_36.0    -1.2425      0.293     -4.236      0.000      -1.817      -0.668\n",
       "pickup_community_area_37.0    -2.7209      0.349     -7.804      0.000      -3.404      -2.038\n",
       "pickup_community_area_38.0    -1.4241      0.138    -10.334      0.000      -1.694      -1.154\n",
       "pickup_community_area_39.0    -0.3725      0.156     -2.384      0.017      -0.679      -0.066\n",
       "pickup_community_area_40.0    -1.7745      0.195     -9.121      0.000      -2.156      -1.393\n",
       "pickup_community_area_41.0     0.2740      0.090      3.051      0.002       0.098       0.450\n",
       "pickup_community_area_42.0    -0.7114      0.140     -5.077      0.000      -0.986      -0.437\n",
       "pickup_community_area_43.0     0.2642      0.122      2.163      0.031       0.025       0.504\n",
       "pickup_community_area_44.0    -0.9116      0.139     -6.582      0.000      -1.183      -0.640\n",
       "pickup_community_area_45.0    -0.1427      0.311     -0.458      0.647      -0.753       0.468\n",
       "pickup_community_area_46.0     0.8104      0.209      3.884      0.000       0.401       1.219\n",
       "pickup_community_area_47.0     0.1887      0.545      0.346      0.729      -0.879       1.256\n",
       "pickup_community_area_48.0     1.0960      0.297      3.688      0.000       0.513       1.679\n",
       "pickup_community_area_49.0     0.5094      0.154      3.315      0.001       0.208       0.811\n",
       "pickup_community_area_50.0     0.5050      0.322      1.570      0.116      -0.126       1.136\n",
       "pickup_community_area_51.0     1.5348      0.303      5.059      0.000       0.940       2.129\n",
       "pickup_community_area_52.0     3.3614      0.487      6.903      0.000       2.407       4.316\n",
       "pickup_community_area_53.0     1.0277      0.236      4.346      0.000       0.564       1.491\n",
       "pickup_community_area_54.0     2.9160      0.426      6.851      0.000       2.082       3.750\n",
       "pickup_community_area_55.0     4.0749      0.607      6.710      0.000       2.885       5.265\n",
       "pickup_community_area_56.0    17.5431      0.106    165.686      0.000      17.336      17.751\n",
       "pickup_community_area_57.0    -0.5488      0.251     -2.183      0.029      -1.042      -0.056\n",
       "pickup_community_area_58.0    -1.7236      0.167    -10.294      0.000      -2.052      -1.395\n",
       "pickup_community_area_59.0    -1.0701      0.216     -4.946      0.000      -1.494      -0.646\n",
       "pickup_community_area_60.0    -0.8863      0.140     -6.343      0.000      -1.160      -0.612\n",
       "pickup_community_area_61.0    -1.2786      0.158     -8.096      0.000      -1.588      -0.969\n",
       "pickup_community_area_62.0    -1.1132      0.287     -3.880      0.000      -1.676      -0.551\n",
       "pickup_community_area_63.0    -1.1634      0.198     -5.870      0.000      -1.552      -0.775\n",
       "pickup_community_area_64.0     1.0437      0.291      3.592      0.000       0.474       1.613\n",
       "pickup_community_area_65.0    -0.2273      0.218     -1.043      0.297      -0.654       0.200\n",
       "pickup_community_area_66.0    -0.2869      0.158     -1.812      0.070      -0.597       0.023\n",
       "pickup_community_area_67.0    -0.9321      0.175     -5.338      0.000      -1.274      -0.590\n",
       "pickup_community_area_68.0    -1.3634      0.163     -8.387      0.000      -1.682      -1.045\n",
       "pickup_community_area_69.0    -1.3629      0.143     -9.515      0.000      -1.644      -1.082\n",
       "pickup_community_area_70.0     0.8549      0.209      4.091      0.000       0.445       1.264\n",
       "pickup_community_area_71.0    -0.1470      0.145     -1.011      0.312      -0.432       0.138\n",
       "pickup_community_area_72.0     3.1207      0.291     10.719      0.000       2.550       3.691\n",
       "pickup_community_area_73.0     0.6433      0.208      3.088      0.002       0.235       1.052\n",
       "pickup_community_area_74.0     1.9477      0.398      4.900      0.000       1.169       2.727\n",
       "pickup_community_area_75.0     0.7878      0.251      3.143      0.002       0.296       1.279\n",
       "pickup_community_area_76.0    24.1217      0.065    370.844      0.000      23.994      24.249\n",
       "pickup_community_area_77.0     0.4445      0.091      4.906      0.000       0.267       0.622\n",
       "==============================================================================\n",
       "Omnibus:                   901996.767   Durbin-Watson:                   1.997\n",
       "Prob(Omnibus):                  0.000   Jarque-Bera (JB):       1678411012.714\n",
       "Skew:                           5.486   Prob(JB):                         0.00\n",
       "Kurtosis:                     234.493   Cond. No.                     1.00e+16\n",
       "==============================================================================\n",
       "\n",
       "Warnings:\n",
       "[1] Standard Errors assume that the covariance matrix of the errors is correctly specified.\n",
       "[2] The smallest eigenvalue is 4.99e-24. This might indicate that there are\n",
       "strong multicollinearity problems or that the design matrix is singular.\n",
       "\"\"\""
      ]
     },
     "execution_count": 19,
     "metadata": {},
     "output_type": "execute_result"
    }
   ],
   "source": [
    "OLS(y_train, X)"
   ]
  },
  {
   "cell_type": "markdown",
   "metadata": {},
   "source": [
    "### LinearRegression via scikit-learn\n",
    "\n",
    "Next, we run linear regression with scikit-learn using the same data. It's comforting to see that the results agree with our findings from statsmodels."
   ]
  },
  {
   "cell_type": "code",
   "execution_count": 20,
   "metadata": {},
   "outputs": [
    {
     "name": "stdout",
     "output_type": "stream",
     "text": [
      "Training r^2: 0.2663164490958597\n",
      "Training MSE: 86.79853712187625\n"
     ]
    },
    {
     "data": {
      "text/plain": [
       "LinearRegression(copy_X=True, fit_intercept=True, n_jobs=None, normalize=False)"
      ]
     },
     "execution_count": 20,
     "metadata": {},
     "output_type": "execute_result"
    }
   ],
   "source": [
    "LinearRegression(X_train, y_train)"
   ]
  },
  {
   "cell_type": "markdown",
   "metadata": {},
   "source": [
    "### Ridge & Lasso\n",
    "\n",
    "We attempted to see whether we could get any improvement in predictive by using Ridge or Lasso to reduce model variance. Unfortunately, neither one helped us, no matter the value of lambda/alpha with Lasso canceling every single variable, yielding an R-squared of 0 and Ridge making little to no changes to our model coefficients."
   ]
  },
  {
   "cell_type": "code",
   "execution_count": 21,
   "metadata": {},
   "outputs": [
    {
     "name": "stdout",
     "output_type": "stream",
     "text": [
      "Training r^2: 0.00020689758405956216\n",
      "Training MSE: 118.28066556392537\n"
     ]
    },
    {
     "data": {
      "text/plain": [
       "array([ 0.00688409,  0.        , -0.        , -0.        ,  0.        ,\n",
       "        0.        , -0.        , -0.        , -0.        ,  0.        ,\n",
       "        0.        , -0.        ,  0.        ,  0.        , -0.        ,\n",
       "       -0.        ,  0.        , -0.        , -0.        , -0.        ,\n",
       "       -0.        , -0.        , -0.        , -0.        , -0.        ,\n",
       "        0.        ,  0.        , -0.        ,  0.        , -0.        ,\n",
       "       -0.        , -0.        , -0.        , -0.        , -0.        ,\n",
       "       -0.        , -0.        , -0.        , -0.        , -0.        ,\n",
       "       -0.        , -0.        , -0.        , -0.        , -0.        ,\n",
       "       -0.        , -0.        , -0.        , -0.        , -0.        ,\n",
       "       -0.        , -0.        , -0.        , -0.        , -0.        ,\n",
       "       -0.        , -0.        , -0.        , -0.        , -0.        ,\n",
       "       -0.        , -0.        , -0.        , -0.        ,  0.        ,\n",
       "       -0.        , -0.        ,  0.        ,  0.        , -0.        ,\n",
       "        0.        ,  0.        ,  0.        , -0.        , -0.        ,\n",
       "       -0.        , -0.        , -0.        , -0.        , -0.        ,\n",
       "        0.        , -0.        , -0.        , -0.        , -0.        ,\n",
       "       -0.        , -0.        , -0.        ,  0.        , -0.        ,\n",
       "        0.        , -0.        ,  0.        , -0.        ])"
      ]
     },
     "execution_count": 21,
     "metadata": {},
     "output_type": "execute_result"
    }
   ],
   "source": [
    "lasso = Lasso(X_train, y_train)\n",
    "lasso.coef_"
   ]
  },
  {
   "cell_type": "code",
   "execution_count": 22,
   "metadata": {},
   "outputs": [
    {
     "name": "stdout",
     "output_type": "stream",
     "text": [
      "Training r^2: 0.2663162105131872\n",
      "Training MSE: 86.79856534743334\n"
     ]
    },
    {
     "data": {
      "text/plain": [
       "array([ 1.19813400e-02,  2.40127698e-01, -2.71657422e-01, -2.71589687e-01,\n",
       "        3.06759860e-01,  2.95096734e-01,  4.21314442e-03, -3.02950328e-01,\n",
       "       -1.10156137e+00,  3.22091956e+00,  1.00939697e+00, -4.22991443e-01,\n",
       "       -1.51614061e-01, -4.19439871e-02, -1.26921156e+00, -1.24299411e+00,\n",
       "        1.25069057e+01, -4.49767942e-01, -1.35629806e+00, -9.89495900e-01,\n",
       "       -3.39305232e-01, -6.59998141e-01, -1.20873458e+00, -1.68353368e+00,\n",
       "       -1.05301950e+00,  1.34281281e+00,  5.14070831e-01,  1.37896101e-02,\n",
       "        2.04361837e+00, -7.11012806e-01, -4.68126457e-01, -2.32887865e-01,\n",
       "       -6.08206931e-01,  2.91434588e-01, -3.84007586e-01, -1.49245514e+00,\n",
       "       -1.72560475e+00, -1.40693643e+00, -1.65028466e+00, -2.02599982e+00,\n",
       "       -2.07321346e+00, -1.07782819e+00, -1.99312801e+00, -2.26212999e+00,\n",
       "       -1.55514931e+00, -2.01960101e+00, -1.50126683e+00, -1.97794290e+00,\n",
       "       -1.61315522e-01,  4.53947145e-01, -1.56253178e+00, -2.12797816e+00,\n",
       "       -1.84055310e+00, -3.29063169e+00, -2.03641949e+00, -9.86411738e-01,\n",
       "       -2.38077660e+00, -3.42473317e-01, -1.32515774e+00, -3.51902984e-01,\n",
       "       -1.52503285e+00, -7.50851737e-01,  1.92704437e-01, -4.13614473e-01,\n",
       "        4.74398858e-01, -1.07061335e-01, -1.10422932e-01,  9.08315276e-01,\n",
       "        2.67014030e+00,  4.08304377e-01,  2.25133984e+00,  3.31423355e+00,\n",
       "        1.69050792e+01, -1.15696529e+00, -2.33275267e+00, -1.67763698e+00,\n",
       "       -1.49966088e+00, -1.88984588e+00, -1.71331761e+00, -1.77201914e+00,\n",
       "        4.22844984e-01, -8.39347774e-01, -9.00983187e-01, -1.54335112e+00,\n",
       "       -1.97410272e+00, -1.97495355e+00,  2.36975640e-01, -7.61849331e-01,\n",
       "        2.47929399e+00,  2.65454288e-02,  1.30668057e+00,  1.69827211e-01,\n",
       "        2.34947237e+01, -1.72129545e-01])"
      ]
     },
     "execution_count": 22,
     "metadata": {},
     "output_type": "execute_result"
    }
   ],
   "source": [
    "ridge = Ridge(X_train, y_train)\n",
    "ridge.coef_"
   ]
  },
  {
   "cell_type": "code",
   "execution_count": null,
   "metadata": {},
   "outputs": [],
   "source": []
  },
  {
   "cell_type": "code",
   "execution_count": null,
   "metadata": {},
   "outputs": [],
   "source": []
  },
  {
   "cell_type": "code",
   "execution_count": null,
   "metadata": {},
   "outputs": [],
   "source": []
  },
  {
   "cell_type": "markdown",
   "metadata": {},
   "source": [
    "[Back to Top ↑](#top)"
   ]
  },
  {
   "cell_type": "markdown",
   "metadata": {},
   "source": [
    "<a id='test2'></a>\n",
    "### Test 2\n",
    "\n",
    "... Insert Narrative ..."
   ]
  },
  {
   "cell_type": "code",
   "execution_count": 8,
   "metadata": {},
   "outputs": [],
   "source": [
    "# Test 2"
   ]
  },
  {
   "cell_type": "code",
   "execution_count": null,
   "metadata": {},
   "outputs": [],
   "source": []
  },
  {
   "cell_type": "markdown",
   "metadata": {},
   "source": [
    "### Test 2 Results\n",
    "\n",
    "... Insert Narrative ..."
   ]
  },
  {
   "cell_type": "code",
   "execution_count": 3,
   "metadata": {},
   "outputs": [],
   "source": [
    "# Visualization"
   ]
  },
  {
   "cell_type": "markdown",
   "metadata": {},
   "source": [
    "[Back to Top ↑](#top)"
   ]
  },
  {
   "cell_type": "markdown",
   "metadata": {},
   "source": [
    "<a id='findings'></a>\n",
    "### Findings"
   ]
  },
  {
   "cell_type": "markdown",
   "metadata": {},
   "source": [
    "1. Drivers can earn the most at 5 am. Peak fares occur between 4-6am on a daily basis.\n",
    "\n",
    "2. Airport pickups lead to higher earnings.\n",
    "\n",
    "3. Strong relationship between temperature and trip fare.\n",
    "\n",
    "\n",
    "[Back to Top ↑](#top)"
   ]
  },
  {
   "cell_type": "markdown",
   "metadata": {},
   "source": [
    "<a id='nextsteps'></a>\n",
    "### Next Steps"
   ]
  },
  {
   "cell_type": "markdown",
   "metadata": {},
   "source": [
    "1. Further refine the model to provide recommendations of ideal pickup location given time & weather (deliver to drivers via app?)\n",
    "\n",
    "2. Finding the correct independent variables to increase model’s predictive power (events/occasions)\n",
    "\n",
    "3. How can we extend our model to help different groups such as riders & competing rideshare companies?\n",
    "\n",
    "\n",
    "[Back to Top ↑](#top)"
   ]
  },
  {
   "cell_type": "code",
   "execution_count": null,
   "metadata": {},
   "outputs": [],
   "source": []
  }
 ],
 "metadata": {
  "kernelspec": {
   "display_name": "Python 3",
   "language": "python",
   "name": "python3"
  },
  "language_info": {
   "codemirror_mode": {
    "name": "ipython",
    "version": 3
   },
   "file_extension": ".py",
   "mimetype": "text/x-python",
   "name": "python",
   "nbconvert_exporter": "python",
   "pygments_lexer": "ipython3",
   "version": "3.7.4"
  }
 },
 "nbformat": 4,
 "nbformat_minor": 4
}
