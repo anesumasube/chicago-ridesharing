{
 "cells": [
  {
   "cell_type": "markdown",
   "metadata": {},
   "source": [
    "<a id='top'></a>\n",
    "# Chicago Ridesharing\n",
    "\n",
    "#### Contributors: Muoyo Okome, Anesu Masube"
   ]
  },
  {
   "cell_type": "markdown",
   "metadata": {},
   "source": [
    "<a id='toc'></a>\n",
    "### Table of Contents\n",
    "1. [Problem Statement](#problemstatement)\n",
    "2. [Data Sources](#datasources)\n",
    "3. [Data Cleaning](#datacleaning)\n",
    "4. [Linear Regression](#regression)  \n",
    "5. [Findings](#findings)\n",
    "6. [Next Steps](#nextsteps)"
   ]
  },
  {
   "cell_type": "code",
   "execution_count": 1,
   "metadata": {},
   "outputs": [],
   "source": [
    "# Import necessary libraries\n",
    "import warnings\n",
    "import pandas as pd\n",
    "import seaborn as sns\n",
    "import matplotlib.pyplot as plt\n",
    "warnings.filterwarnings('ignore')\n",
    "%matplotlib inline"
   ]
  },
  {
   "cell_type": "markdown",
   "metadata": {},
   "source": [
    "<a id='problemstatement'></a>\n",
    "### Problem Statement"
   ]
  },
  {
   "cell_type": "markdown",
   "metadata": {},
   "source": [
    "**Can data help ridesharing drivers earn more?**\n",
    "\n",
    "The key question we look to answer is whether knowing where a ridesharing ride was initiated and what time it was initiated can help us to predict the fare for that ride.\n",
    "\n",
    "Our goal is to eventually provide these insights to ridesharing drivers as a service to help them choose the best driving schedules and waiting positions to optimize their earnings.\n",
    "\n",
    "[Back to Top ↑](#top)"
   ]
  },
  {
   "cell_type": "markdown",
   "metadata": {},
   "source": [
    "<a id='datasources'></a>\n",
    "### Data Sources"
   ]
  },
  {
   "cell_type": "markdown",
   "metadata": {},
   "source": [
    "#### **[City of Chicago Data Portal](https://data.cityofchicago.org/Transportation/Transportation-Network-Providers-Trips/m6dm-c72p)**\n",
    "\n",
    "- All trips, starting November 2018, reported by Transportation Network Providers (sometimes called rideshare companies) to the City of Chicago as part of routine reporting required by ordinance.\n",
    "\n",
    "- Census Tracts are suppressed in some cases, and times are rounded to the nearest 15 minutes. Fares are rounded to the nearest `$`2.50 and tips are rounded to the nearest `$`1.00. \n",
    "\n",
    "- 101 million rows of data!\n",
    "\n",
    "#### **[Dark Sky Weather API](https://darksky.net/dev/docs#time-machine-request)**\n",
    "\n",
    "The Dark Sky API allows you to look up the weather anywhere on the globe, returning (where available):\n",
    "\n",
    "- Current weather conditions\n",
    "- Minute-by-minute forecasts out to one hour\n",
    "- Hour-by-hour and day-by-day forecasts out to seven days\n",
    "- Hour-by-hour and day-by-day observations going back decades\n",
    "- Severe weather alerts in the US, Canada, European Union member nations, and Israel\n"
   ]
  },
  {
   "cell_type": "markdown",
   "metadata": {},
   "source": [
    "<br> \n",
    "\n",
    "[Back to Top ↑](#top)"
   ]
  },
  {
   "cell_type": "code",
   "execution_count": 2,
   "metadata": {},
   "outputs": [],
   "source": [
    "# Import utility functions\n",
    "%run ../python_files/utils"
   ]
  },
  {
   "cell_type": "code",
   "execution_count": 3,
   "metadata": {},
   "outputs": [],
   "source": [
    "# Read in original data: 1 million records\n",
    "df = get_trip_records(limit=200000)"
   ]
  },
  {
   "cell_type": "markdown",
   "metadata": {},
   "source": [
    "<a id='datacleaning'></a>\n",
    "### Data Cleaning"
   ]
  },
  {
   "cell_type": "markdown",
   "metadata": {},
   "source": [
    "Before beginning our analysis, we performed a number of operations to get the data ready to work with, including, but not limited to: \n",
    "\n",
    "- Limiting trip data to the columns we were most interested in: **'trip_id', 'trip_start_timestamp', 'trip_end_timestamp', 'trip_seconds', 'trip_miles', 'pickup_community_area', 'fare', 'tip', 'additional_charges', 'trip_total'**\n",
    "\n",
    "- Converting numeric & timestamp data from strings to the appropriate datatypes\n",
    "\n",
    "- Imputing missing values with the median, 0, or \"missing\" depending on what made the most sense for each particular variable\n",
    "\n",
    "We then created columns for the weekday, hour, and time block when the trip was initiated (There are 8 three hour time blocks in each 24 hour day, with block 0 starting at 12AM) and also combined this information into the **start_date_plus hour** column which we then used to merge trip data with weather data at the hourly level. We've pulled in 425 days of hourly weather data from Chicago, obtained via the Dark Sky API and our WeatherGetter class, which you can see at work in **weather.ipynb** and then saved it to a CSV.\n",
    "\n",
    "To make the project more modular and easier to follow & build upon, we created separate .py files to handle the heavy lifting for tasks such as data extraction & cleaning, visualizations, and linear regressions. We also created a function called **get_random_samples()** (located in **utils.py**), which allows us to draw random samples of trip data from the Socrata API. Please note that random sampling takes significantly longer than the alternative, due to the fact that we are running many queries instead of one, and there is a certain amount of overhead for each query irrespective of record size."
   ]
  },
  {
   "cell_type": "code",
   "execution_count": 4,
   "metadata": {},
   "outputs": [],
   "source": [
    "# Clean data & load into final dataframe\n",
    "%run ../python_files/data_cleaning"
   ]
  },
  {
   "cell_type": "code",
   "execution_count": 5,
   "metadata": {},
   "outputs": [],
   "source": [
    "df = clean_data(df)"
   ]
  },
  {
   "cell_type": "markdown",
   "metadata": {},
   "source": [
    "\n",
    "\n",
    "[Back to Top ↑](#top)"
   ]
  },
  {
   "cell_type": "markdown",
   "metadata": {},
   "source": [
    "### Multicollinearity of Features\n",
    "\n",
    "Prior to regression, we want to be aware of any linear relationships between independent variables that could affect our results. As one might expect, **trip_seconds** and **trip_miles** are strongly correlated. Ultimately, we won't be using either for our final analysis, as that information would not be available to our stakeholders, the drivers. However it is interesting to know. The rest of our variables do not appear to suffer from multicollinearity, as we can deduce from the visualizations below."
   ]
  },
  {
   "cell_type": "code",
   "execution_count": null,
   "metadata": {},
   "outputs": [],
   "source": [
    "df_corr = df[['trip_seconds', 'trip_miles', 'pickup_community_area', 'start_hour', 'start_weekday']]\n",
    "pd.plotting.scatter_matrix(df_corr, figsize=(15,15));\n",
    "plt.show()"
   ]
  },
  {
   "cell_type": "code",
   "execution_count": 8,
   "metadata": {},
   "outputs": [
    {
     "data": {
      "text/html": [
       "<div>\n",
       "<style scoped>\n",
       "    .dataframe tbody tr th:only-of-type {\n",
       "        vertical-align: middle;\n",
       "    }\n",
       "\n",
       "    .dataframe tbody tr th {\n",
       "        vertical-align: top;\n",
       "    }\n",
       "\n",
       "    .dataframe thead th {\n",
       "        text-align: right;\n",
       "    }\n",
       "</style>\n",
       "<table border=\"1\" class=\"dataframe\">\n",
       "  <thead>\n",
       "    <tr style=\"text-align: right;\">\n",
       "      <th></th>\n",
       "      <th>trip_seconds</th>\n",
       "      <th>trip_miles</th>\n",
       "      <th>pickup_community_area</th>\n",
       "      <th>start_hour</th>\n",
       "      <th>start_weekday</th>\n",
       "    </tr>\n",
       "  </thead>\n",
       "  <tbody>\n",
       "    <tr>\n",
       "      <td>trip_seconds</td>\n",
       "      <td>1.000000</td>\n",
       "      <td>0.794870</td>\n",
       "      <td>0.092626</td>\n",
       "      <td>-0.018930</td>\n",
       "      <td>-0.051789</td>\n",
       "    </tr>\n",
       "    <tr>\n",
       "      <td>trip_miles</td>\n",
       "      <td>0.794870</td>\n",
       "      <td>1.000000</td>\n",
       "      <td>0.139956</td>\n",
       "      <td>-0.051771</td>\n",
       "      <td>-0.025658</td>\n",
       "    </tr>\n",
       "    <tr>\n",
       "      <td>pickup_community_area</td>\n",
       "      <td>0.092626</td>\n",
       "      <td>0.139956</td>\n",
       "      <td>1.000000</td>\n",
       "      <td>0.015125</td>\n",
       "      <td>-0.052350</td>\n",
       "    </tr>\n",
       "    <tr>\n",
       "      <td>start_hour</td>\n",
       "      <td>-0.018930</td>\n",
       "      <td>-0.051771</td>\n",
       "      <td>0.015125</td>\n",
       "      <td>1.000000</td>\n",
       "      <td>-0.017926</td>\n",
       "    </tr>\n",
       "    <tr>\n",
       "      <td>start_weekday</td>\n",
       "      <td>-0.051789</td>\n",
       "      <td>-0.025658</td>\n",
       "      <td>-0.052350</td>\n",
       "      <td>-0.017926</td>\n",
       "      <td>1.000000</td>\n",
       "    </tr>\n",
       "  </tbody>\n",
       "</table>\n",
       "</div>"
      ],
      "text/plain": [
       "                       trip_seconds  trip_miles  pickup_community_area  \\\n",
       "trip_seconds               1.000000    0.794870               0.092626   \n",
       "trip_miles                 0.794870    1.000000               0.139956   \n",
       "pickup_community_area      0.092626    0.139956               1.000000   \n",
       "start_hour                -0.018930   -0.051771               0.015125   \n",
       "start_weekday             -0.051789   -0.025658              -0.052350   \n",
       "\n",
       "                       start_hour  start_weekday  \n",
       "trip_seconds            -0.018930      -0.051789  \n",
       "trip_miles              -0.051771      -0.025658  \n",
       "pickup_community_area    0.015125      -0.052350  \n",
       "start_hour               1.000000      -0.017926  \n",
       "start_weekday           -0.017926       1.000000  "
      ]
     },
     "execution_count": 8,
     "metadata": {},
     "output_type": "execute_result"
    }
   ],
   "source": [
    "df_corr.corr()"
   ]
  },
  {
   "cell_type": "code",
   "execution_count": 9,
   "metadata": {},
   "outputs": [
    {
     "data": {
      "text/html": [
       "<div>\n",
       "<style scoped>\n",
       "    .dataframe tbody tr th:only-of-type {\n",
       "        vertical-align: middle;\n",
       "    }\n",
       "\n",
       "    .dataframe tbody tr th {\n",
       "        vertical-align: top;\n",
       "    }\n",
       "\n",
       "    .dataframe thead th {\n",
       "        text-align: right;\n",
       "    }\n",
       "</style>\n",
       "<table border=\"1\" class=\"dataframe\">\n",
       "  <thead>\n",
       "    <tr style=\"text-align: right;\">\n",
       "      <th></th>\n",
       "      <th>trip_seconds</th>\n",
       "      <th>trip_miles</th>\n",
       "      <th>pickup_community_area</th>\n",
       "      <th>start_hour</th>\n",
       "      <th>start_weekday</th>\n",
       "    </tr>\n",
       "  </thead>\n",
       "  <tbody>\n",
       "    <tr>\n",
       "      <td>trip_seconds</td>\n",
       "      <td>True</td>\n",
       "      <td>True</td>\n",
       "      <td>False</td>\n",
       "      <td>False</td>\n",
       "      <td>False</td>\n",
       "    </tr>\n",
       "    <tr>\n",
       "      <td>trip_miles</td>\n",
       "      <td>True</td>\n",
       "      <td>True</td>\n",
       "      <td>False</td>\n",
       "      <td>False</td>\n",
       "      <td>False</td>\n",
       "    </tr>\n",
       "    <tr>\n",
       "      <td>pickup_community_area</td>\n",
       "      <td>False</td>\n",
       "      <td>False</td>\n",
       "      <td>True</td>\n",
       "      <td>False</td>\n",
       "      <td>False</td>\n",
       "    </tr>\n",
       "    <tr>\n",
       "      <td>start_hour</td>\n",
       "      <td>False</td>\n",
       "      <td>False</td>\n",
       "      <td>False</td>\n",
       "      <td>True</td>\n",
       "      <td>False</td>\n",
       "    </tr>\n",
       "    <tr>\n",
       "      <td>start_weekday</td>\n",
       "      <td>False</td>\n",
       "      <td>False</td>\n",
       "      <td>False</td>\n",
       "      <td>False</td>\n",
       "      <td>True</td>\n",
       "    </tr>\n",
       "  </tbody>\n",
       "</table>\n",
       "</div>"
      ],
      "text/plain": [
       "                       trip_seconds  trip_miles  pickup_community_area  \\\n",
       "trip_seconds                   True        True                  False   \n",
       "trip_miles                     True        True                  False   \n",
       "pickup_community_area         False       False                   True   \n",
       "start_hour                    False       False                  False   \n",
       "start_weekday                 False       False                  False   \n",
       "\n",
       "                       start_hour  start_weekday  \n",
       "trip_seconds                False          False  \n",
       "trip_miles                  False          False  \n",
       "pickup_community_area       False          False  \n",
       "start_hour                   True          False  \n",
       "start_weekday               False           True  "
      ]
     },
     "execution_count": 9,
     "metadata": {},
     "output_type": "execute_result"
    }
   ],
   "source": [
    "abs(df_corr.corr()) > 0.75"
   ]
  },
  {
   "cell_type": "code",
   "execution_count": 11,
   "metadata": {},
   "outputs": [
    {
     "data": {
      "image/png": "[encoded data removed]",
      "text/plain": [
       "<Figure size 432x288 with 2 Axes>"
      ]
     },
     "metadata": {
      "needs_background": "light"
     },
     "output_type": "display_data"
    }
   ],
   "source": [
    "sns.heatmap(df_corr.corr(), center=0);"
   ]
  },
  {
   "cell_type": "markdown",
   "metadata": {},
   "source": [
    "\n",
    "\n",
    "[Back to Top ↑](#top)"
   ]
  },
  {
   "cell_type": "code",
   "execution_count": null,
   "metadata": {},
   "outputs": [],
   "source": [
    "# Import python files we've created to help\n",
    "%run ../python_files/regression\n",
    "%run ../python_files/visualizations"
   ]
  },
  {
   "cell_type": "markdown",
   "metadata": {},
   "source": [
    "<a id='regression'></a>\n",
    "### Linear Regression"
   ]
  },
  {
   "cell_type": "markdown",
   "metadata": {},
   "source": [
    "For our predictive analysis we leveraged the tool of linear regression using the following parameters:\n",
    "\n",
    "- **Dependent variable:** **'trip_total'** (OR in some cases we instead looked at **'fare'**)<p>\n",
    "\n",
    "- **Independendent variables:**\n",
    "    - **'apparentTemperature'**\n",
    "    - **'start_weekday'**\n",
    "    - **'start_hour'** (OR in some cases we instead looked at **'start_time_block'**)\n",
    "    - **'pickup_community_area'** (Chicago is divided into 77 community areas, each of which belongs to one of nine \"sides\")\n",
    "\n",
    "\n",
    "We assume that our predictor variables have a linear relation with our dependent variable, that the residuals of our model follow a normal distribution, and that the dependent variable's variance is equal across all values of the independent variable.\n",
    "\n",
    "Before performing the regression, we preprocessed the data using the following steps:\n",
    "\n",
    "- Splitting out continuous (temperature) & categorical variables (the rest of the independent variables) to be dealt with separately.\n",
    "\n",
    "- Splitting data into training and test sets. We reserved 25% of our data for testing purposes, meaning that we do not work with it until after our model is finalized, to avoid data leakage.\n",
    "\n",
    "- Performing one hot encoding on our categorical variables to make usable for linear regression.\n",
    "\n",
    "- Combining our categorical and continuous features back into a final dataframe.\n"
   ]
  },
  {
   "cell_type": "code",
   "execution_count": null,
   "metadata": {},
   "outputs": [],
   "source": [
    "X_train, X_test, y_train, y_test = get_train_test_split(df, test_size=.25)"
   ]
  },
  {
   "cell_type": "markdown",
   "metadata": {},
   "source": [
    "### Ordinary Least Squares via statsmodels\n",
    "\n",
    "With our preprocessing complete (we conduct it within the **get_train_test_split()** function, as seen above), we are ready to run our series of regression. \n",
    "\n",
    "First, we run an OLS regression using statsmodels and learn that our model explains 26-30% of the variance of our independent variable **trip_total**, depending on the specific set of data we are working with.\n",
    "\n",
    "Aside"
   ]
  },
  {
   "cell_type": "code",
   "execution_count": null,
   "metadata": {},
   "outputs": [],
   "source": [
    "OLS(y_train, X_train)"
   ]
  },
  {
   "cell_type": "markdown",
   "metadata": {},
   "source": [
    "Looking at the p-values for the coefficients, we can see that most of the variables are significant. \n",
    "\n",
    "However, our model does suffer from issues with the Jarque-Bera test, as well as the F-statistic, indicating that errors are not likely to be normally distributed, and the homoscedasticity assumption is likely to be violated. We need to focus on addressing these issues in our future analysis, perhaps using log transformations as a starting point."
   ]
  },
  {
   "cell_type": "markdown",
   "metadata": {},
   "source": [
    "### LinearRegression via scikit-learn\n",
    "\n",
    "Next, we run linear regression with scikit-learn using the same data. It's comforting to see that the R-sqaured results agree with our findings from statsmodels. Onward we continue!"
   ]
  },
  {
   "cell_type": "code",
   "execution_count": null,
   "metadata": {},
   "outputs": [],
   "source": [
    "LinearRegression(X_train, y_train)"
   ]
  },
  {
   "cell_type": "markdown",
   "metadata": {},
   "source": [
    "### Ridge & Lasso\n",
    "\n",
    "We attempted to see whether we could get any improvement in predictive by using Ridge or Lasso to reduce model variance. Unfortunately, neither one helped us, no matter the value of lambda/alpha with Lasso canceling every single variable, yielding an R-squared of 0 and Ridge making little to no changes to our model coefficients."
   ]
  },
  {
   "cell_type": "code",
   "execution_count": null,
   "metadata": {},
   "outputs": [],
   "source": [
    "lasso = Lasso(X_train, y_train)\n",
    "lasso.coef_"
   ]
  },
  {
   "cell_type": "code",
   "execution_count": null,
   "metadata": {},
   "outputs": [],
   "source": [
    "ridge = Ridge(X_train, y_train)\n",
    "ridge.coef_"
   ]
  },
  {
   "cell_type": "code",
   "execution_count": null,
   "metadata": {},
   "outputs": [],
   "source": []
  },
  {
   "cell_type": "code",
   "execution_count": null,
   "metadata": {},
   "outputs": [],
   "source": []
  },
  {
   "cell_type": "code",
   "execution_count": null,
   "metadata": {},
   "outputs": [],
   "source": []
  },
  {
   "cell_type": "markdown",
   "metadata": {
    "jupyter": {
     "source_hidden": true
    }
   },
   "source": [
    "[Back to Top ↑](#top)"
   ]
  },
  {
   "cell_type": "markdown",
   "metadata": {},
   "source": [
    "<a id='findings'></a>\n",
    "### Findings"
   ]
  },
  {
   "cell_type": "markdown",
   "metadata": {},
   "source": [
    "1. Drivers can earn the most at 5 am. Peak fares occur between 4-6am on a daily basis.\n",
    "\n",
    "2. Airport pickups lead to higher earnings.\n",
    "\n",
    "3. Strong relationship between temperature and trip fare.\n",
    "\n",
    "\n",
    "[Back to Top ↑](#top)"
   ]
  },
  {
   "cell_type": "markdown",
   "metadata": {},
   "source": [
    "<a id='nextsteps'></a>\n",
    "### Next Steps"
   ]
  },
  {
   "cell_type": "markdown",
   "metadata": {},
   "source": [
    "1. Further refine the model to provide recommendations of ideal pickup location given time & weather (deliver to drivers via app?)\n",
    "\n",
    "2. Finding the correct independent variables to increase model’s predictive power (events/occasions)\n",
    "\n",
    "3. How can we extend our model to help different groups such as riders & competing rideshare companies?\n",
    "\n",
    "\n",
    "[Back to Top ↑](#top)"
   ]
  },
  {
   "cell_type": "code",
   "execution_count": null,
   "metadata": {},
   "outputs": [],
   "source": []
  }
 ],
 "metadata": {
  "kernelspec": {
   "display_name": "Python 3",
   "language": "python",
   "name": "python3"
  },
  "language_info": {
   "codemirror_mode": {
    "name": "ipython",
    "version": 3
   },
   "file_extension": ".py",
   "mimetype": "text/x-python",
   "name": "python",
   "nbconvert_exporter": "python",
   "pygments_lexer": "ipython3",
   "version": "3.7.4"
  }
 },
 "nbformat": 4,
 "nbformat_minor": 4
}
